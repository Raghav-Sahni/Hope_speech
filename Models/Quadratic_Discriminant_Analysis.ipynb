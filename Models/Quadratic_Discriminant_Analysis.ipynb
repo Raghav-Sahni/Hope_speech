{
 "cells": [
  {
   "cell_type": "code",
   "execution_count": 1,
   "metadata": {},
   "outputs": [],
   "source": [
    "from embeddings_loader import *\n",
    "from sklearn.discriminant_analysis import QuadraticDiscriminantAnalysis\n",
    "from sklearn.metrics import f1_score\n",
    "from sklearn.metrics import accuracy_score\n",
    "from sklearn.metrics import confusion_matrix\n",
    "from sklearn.metrics import classification_report\n",
    "from sklearn.metrics import recall_score\n",
    "from sklearn.metrics import precision_score\n",
    "from sklearn.metrics import roc_auc_score\n",
    "from utils import *\n"
   ]
  },
  {
   "cell_type": "code",
   "execution_count": 2,
   "metadata": {},
   "outputs": [],
   "source": [
    "train_labels, dev_labels, test_labels = load_labels()"
   ]
  },
  {
   "cell_type": "code",
   "execution_count": 3,
   "metadata": {},
   "outputs": [],
   "source": [
    "label_replacement = {\n",
    "    'Hope_speech': 0,\n",
    "    'Non_hope_speech': 1,\n",
    "    'not-English': 2,\n",
    "}"
   ]
  },
  {
   "cell_type": "code",
   "execution_count": 4,
   "metadata": {},
   "outputs": [],
   "source": [
    "# Replace labels with numbers\n",
    "train_labels = [label_replacement[label] for label in train_labels]\n",
    "dev_labels = [label_replacement[label] for label in dev_labels]\n",
    "test_labels = [label_replacement[label] for label in test_labels]"
   ]
  },
  {
   "cell_type": "markdown",
   "metadata": {},
   "source": [
    "### Glove Twitter 25"
   ]
  },
  {
   "cell_type": "code",
   "execution_count": 5,
   "metadata": {},
   "outputs": [],
   "source": [
    "gt25_train, gt25_dev, gt25_test = load_glove_twitter_25()"
   ]
  },
  {
   "cell_type": "code",
   "execution_count": 6,
   "metadata": {},
   "outputs": [],
   "source": [
    "# Set all NaN values to 0\n",
    "gt25_train = np.nan_to_num(gt25_train)\n",
    "gt25_dev = np.nan_to_num(gt25_dev)\n",
    "gt25_test = np.nan_to_num(gt25_test)"
   ]
  },
  {
   "cell_type": "code",
   "execution_count": 7,
   "metadata": {},
   "outputs": [
    {
     "name": "stderr",
     "output_type": "stream",
     "text": [
      "C:\\Users\\ASUS\\AppData\\Local\\Packages\\PythonSoftwareFoundation.Python.3.9_qbz5n2kfra8p0\\LocalCache\\local-packages\\Python39\\site-packages\\sklearn\\discriminant_analysis.py:887: UserWarning: Variables are collinear\n",
      "  warnings.warn(\"Variables are collinear\")\n"
     ]
    }
   ],
   "source": [
    "quadratic_discriminant_analysis = QuadraticDiscriminantAnalysis().fit(gt25_train, train_labels)\n",
    "save_model(quadratic_discriminant_analysis, \"quadratic_discriminant_analysis_gt25.joblib\")"
   ]
  },
  {
   "cell_type": "code",
   "execution_count": 8,
   "metadata": {},
   "outputs": [],
   "source": [
    "train_preds = quadratic_discriminant_analysis.predict(gt25_train)\n",
    "dev_preds = quadratic_discriminant_analysis.predict(gt25_dev)\n",
    "test_preds = quadratic_discriminant_analysis.predict(gt25_test)"
   ]
  },
  {
   "cell_type": "code",
   "execution_count": 9,
   "metadata": {},
   "outputs": [
    {
     "name": "stdout",
     "output_type": "stream",
     "text": [
      "Accuracy Train:  0.7539759247869255\n",
      "Accuracy Dev:  0.7544846992613436\n",
      "Accuracy Test:  0.7477160927617709\n",
      "Weighted F1 Train:  0.8044120054997739\n",
      "Weighted F1 Dev:  0.8009118247842949\n",
      "Weighted F1 Test:  0.7983234423877871\n",
      "Macro F1 Train:  0.6744216725831986\n",
      "Macro F1 Dev:  0.40317686012469395\n",
      "Macro F1 Test:  0.3896183335950176\n",
      "Micro F1 Train:  0.7539759247869257\n",
      "Micro F1 Dev:  0.7544846992613436\n",
      "Micro F1 Test:  0.7477160927617709\n",
      "Weighted Recall Train:  0.7539759247869255\n",
      "Weighted Recall Dev:  0.7544846992613436\n",
      "Weighted Recall Test:  0.7477160927617709\n",
      "Macro Recall Train:  0.7744438140684701\n",
      "Macro Recall Dev:  0.49417880231111516\n",
      "Macro Recall Test:  0.47957475253888676\n",
      "Micro Recall Train:  0.7539759247869255\n",
      "Micro Recall Dev:  0.7544846992613436\n",
      "Micro Recall Test:  0.7477160927617709\n",
      "Confusion Matrix Train: \n",
      "[[ 1375   587     0]\n",
      " [ 5006 15768     4]\n",
      " [    0     3    19]]\n",
      "Confusion Matrix Dev: \n",
      "[[ 197   75    0]\n",
      " [ 621 1948    0]\n",
      " [   0    2    0]]\n",
      "Confusion Matrix Test: \n",
      "[[ 171   79    0]\n",
      " [ 635 1957    1]\n",
      " [   0    3    0]]\n"
     ]
    }
   ],
   "source": [
    "computeAllScores(train_preds, dev_preds, test_preds)"
   ]
  },
  {
   "cell_type": "markdown",
   "metadata": {},
   "source": [
    "### FastText 300 "
   ]
  },
  {
   "cell_type": "code",
   "execution_count": 10,
   "metadata": {},
   "outputs": [],
   "source": [
    "ft300_train, ft300_dev, ft300_test = load_fasttext_300()"
   ]
  },
  {
   "cell_type": "code",
   "execution_count": 11,
   "metadata": {},
   "outputs": [],
   "source": [
    "# Set all NaN values to 0\n",
    "ft300_train = np.nan_to_num(ft300_train)\n",
    "ft300_dev = np.nan_to_num(ft300_dev)\n",
    "ft300_test = np.nan_to_num(ft300_test)"
   ]
  },
  {
   "cell_type": "code",
   "execution_count": 13,
   "metadata": {},
   "outputs": [
    {
     "name": "stderr",
     "output_type": "stream",
     "text": [
      "C:\\Users\\ASUS\\AppData\\Local\\Packages\\PythonSoftwareFoundation.Python.3.9_qbz5n2kfra8p0\\LocalCache\\local-packages\\Python39\\site-packages\\sklearn\\discriminant_analysis.py:887: UserWarning: Variables are collinear\n",
      "  warnings.warn(\"Variables are collinear\")\n"
     ]
    }
   ],
   "source": [
    "quadratic_discriminant_analysis = QuadraticDiscriminantAnalysis().fit(ft300_train, train_labels)\n",
    "save_model(quadratic_discriminant_analysis, \"quadratic_discriminant_analysis_ft300.joblib\")"
   ]
  },
  {
   "cell_type": "code",
   "execution_count": 14,
   "metadata": {},
   "outputs": [],
   "source": [
    "train_preds = quadratic_discriminant_analysis.predict(ft300_train)\n",
    "dev_preds = quadratic_discriminant_analysis.predict(ft300_dev)\n",
    "test_preds = quadratic_discriminant_analysis.predict(ft300_test)"
   ]
  },
  {
   "cell_type": "code",
   "execution_count": 15,
   "metadata": {},
   "outputs": [
    {
     "name": "stdout",
     "output_type": "stream",
     "text": [
      "Accuracy Train:  0.7192250241630788\n",
      "Accuracy Dev:  0.7073513893774183\n",
      "Accuracy Test:  0.7041461700632466\n",
      "Weighted F1 Train:  0.7801558429961895\n",
      "Weighted F1 Dev:  0.7662375529960141\n",
      "Weighted F1 Test:  0.7669719949449605\n",
      "Macro F1 Train:  0.5135054305552197\n",
      "Macro F1 Dev:  0.3831116903688154\n",
      "Macro F1 Test:  0.37618064195981277\n",
      "Micro F1 Train:  0.7192250241630788\n",
      "Micro F1 Dev:  0.7073513893774183\n",
      "Micro F1 Test:  0.7041461700632466\n",
      "Weighted Recall Train:  0.7192250241630788\n",
      "Weighted Recall Dev:  0.7073513893774183\n",
      "Weighted Recall Test:  0.7041461700632466\n",
      "Macro Recall Train:  0.6183216596034141\n",
      "Macro Recall Dev:  0.4921323434005755\n",
      "Macro Recall Test:  0.49254917084458155\n",
      "Micro Recall Train:  0.7192250241630788\n",
      "Micro Recall Dev:  0.7073513893774183\n",
      "Micro Recall Test:  0.7041461700632466\n",
      "Confusion Matrix Train: \n",
      "[[ 1820   142     0]\n",
      " [ 6231 14546     1]\n",
      " [    3    14     5]]\n",
      "Confusion Matrix Dev: \n",
      "[[ 211   61    0]\n",
      " [ 769 1800    0]\n",
      " [   0    2    0]]\n",
      "Confusion Matrix Test: \n",
      "[[ 195   55    0]\n",
      " [ 784 1809    0]\n",
      " [   0    3    0]]\n"
     ]
    }
   ],
   "source": [
    "computeAllScores(train_preds, dev_preds, test_preds)"
   ]
  },
  {
   "cell_type": "markdown",
   "metadata": {},
   "source": [
    "### Word2Vec 300"
   ]
  },
  {
   "cell_type": "code",
   "execution_count": 16,
   "metadata": {},
   "outputs": [],
   "source": [
    "w2v300_train, w2v300_dev, w2v300_test = load_word2vec_300()"
   ]
  },
  {
   "cell_type": "code",
   "execution_count": 17,
   "metadata": {},
   "outputs": [],
   "source": [
    "# Set all NaN values to 0\n",
    "w2v300_train = np.nan_to_num(w2v300_train)\n",
    "w2v300_dev = np.nan_to_num(w2v300_dev)\n",
    "w2v300_test = np.nan_to_num(w2v300_test)"
   ]
  },
  {
   "cell_type": "code",
   "execution_count": 18,
   "metadata": {},
   "outputs": [
    {
     "name": "stderr",
     "output_type": "stream",
     "text": [
      "C:\\Users\\ASUS\\AppData\\Local\\Packages\\PythonSoftwareFoundation.Python.3.9_qbz5n2kfra8p0\\LocalCache\\local-packages\\Python39\\site-packages\\sklearn\\discriminant_analysis.py:887: UserWarning: Variables are collinear\n",
      "  warnings.warn(\"Variables are collinear\")\n"
     ]
    }
   ],
   "source": [
    "quadratic_discriminant_analysis = QuadraticDiscriminantAnalysis().fit(w2v300_train, train_labels)\n",
    "save_model(quadratic_discriminant_analysis, \"quadratic_discriminant_analysis_w2v300.joblib\")"
   ]
  },
  {
   "cell_type": "code",
   "execution_count": 19,
   "metadata": {},
   "outputs": [],
   "source": [
    "train_preds = quadratic_discriminant_analysis.predict(w2v300_train)\n",
    "dev_preds = quadratic_discriminant_analysis.predict(w2v300_dev)\n",
    "test_preds = quadratic_discriminant_analysis.predict(w2v300_test)"
   ]
  },
  {
   "cell_type": "code",
   "execution_count": 20,
   "metadata": {},
   "outputs": [
    {
     "name": "stdout",
     "output_type": "stream",
     "text": [
      "Accuracy Train:  0.7210702047271769\n",
      "Accuracy Dev:  0.7059444249032711\n",
      "Accuracy Test:  0.7097680955727337\n",
      "Weighted F1 Train:  0.7815394573906098\n",
      "Weighted F1 Dev:  0.7652563146261453\n",
      "Weighted F1 Test:  0.7710907602758333\n",
      "Macro F1 Train:  0.5140102376131676\n",
      "Macro F1 Dev:  0.3817181050891236\n",
      "Macro F1 Test:  0.3772495249220289\n",
      "Micro F1 Train:  0.7210702047271769\n",
      "Micro F1 Dev:  0.7059444249032711\n",
      "Micro F1 Test:  0.7097680955727337\n",
      "Weighted Recall Train:  0.7210702047271769\n",
      "Weighted Recall Dev:  0.7059444249032711\n",
      "Weighted Recall Test:  0.7097680955727337\n",
      "Macro Recall Train:  0.6171492245149015\n",
      "Macro Recall Dev:  0.4894218586617208\n",
      "Macro Recall Test:  0.4885820799588636\n",
      "Micro Recall Train:  0.7210702047271769\n",
      "Micro Recall Dev:  0.7059444249032711\n",
      "Micro Recall Test:  0.7097680955727337\n",
      "Confusion Matrix Train: \n",
      "[[ 1808   154     0]\n",
      " [ 6177 14600     1]\n",
      " [    3    14     5]]\n",
      "Confusion Matrix Dev: \n",
      "[[ 209   63    0]\n",
      " [ 771 1798    0]\n",
      " [   1    1    0]]\n",
      "Confusion Matrix Test: \n",
      "[[ 190   60    0]\n",
      " [ 763 1830    0]\n",
      " [   0    3    0]]\n"
     ]
    }
   ],
   "source": [
    "computeAllScores(train_preds, dev_preds, test_preds)"
   ]
  },
  {
   "cell_type": "markdown",
   "metadata": {},
   "source": [
    "### TF-IDF PCA (1000 Dims)"
   ]
  },
  {
   "cell_type": "code",
   "execution_count": 21,
   "metadata": {},
   "outputs": [],
   "source": [
    "tfidf_pca_train, tfidf_pca_dev, tfidf_pca_test = load_tfidf_pca()"
   ]
  },
  {
   "cell_type": "code",
   "execution_count": 22,
   "metadata": {},
   "outputs": [
    {
     "name": "stderr",
     "output_type": "stream",
     "text": [
      "C:\\Users\\ASUS\\AppData\\Local\\Packages\\PythonSoftwareFoundation.Python.3.9_qbz5n2kfra8p0\\LocalCache\\local-packages\\Python39\\site-packages\\sklearn\\discriminant_analysis.py:887: UserWarning: Variables are collinear\n",
      "  warnings.warn(\"Variables are collinear\")\n"
     ]
    }
   ],
   "source": [
    "quadratic_discriminant_analysis = QuadraticDiscriminantAnalysis().fit(tfidf_pca_train, train_labels)\n",
    "save_model(quadratic_discriminant_analysis, \"quadratic_discriminant_analysis_tfidf_pca.joblib\")"
   ]
  },
  {
   "cell_type": "code",
   "execution_count": 23,
   "metadata": {},
   "outputs": [],
   "source": [
    "train_preds = quadratic_discriminant_analysis.predict(tfidf_pca_train)\n",
    "dev_preds = quadratic_discriminant_analysis.predict(tfidf_pca_dev)\n",
    "test_preds = quadratic_discriminant_analysis.predict(tfidf_pca_test)"
   ]
  },
  {
   "cell_type": "code",
   "execution_count": 24,
   "metadata": {},
   "outputs": [
    {
     "name": "stdout",
     "output_type": "stream",
     "text": [
      "Accuracy Train:  0.842808189087075\n",
      "Accuracy Dev:  0.798804080196975\n",
      "Accuracy Test:  0.780744905130007\n",
      "Weighted F1 Train:  0.8720393310806308\n",
      "Weighted F1 Dev:  0.8286355443674975\n",
      "Weighted F1 Test:  0.8184920217557787\n",
      "Macro F1 Train:  0.475424310117472\n",
      "Macro F1 Dev:  0.40571322585412933\n",
      "Macro F1 Test:  0.3852103279623214\n",
      "Micro F1 Train:  0.8428081890870749\n",
      "Micro F1 Dev:  0.798804080196975\n",
      "Micro F1 Test:  0.780744905130007\n",
      "Weighted Recall Train:  0.842808189087075\n",
      "Weighted Recall Dev:  0.798804080196975\n",
      "Weighted Recall Test:  0.780744905130007\n",
      "Macro Recall Train:  0.6046958826619035\n",
      "Macro Recall Dev:  0.4524534609484121\n",
      "Macro Recall Test:  0.43503380897287575\n",
      "Micro Recall Train:  0.842808189087075\n",
      "Micro Recall Dev:  0.798804080196975\n",
      "Micro Recall Test:  0.780744905130007\n",
      "Confusion Matrix Train: \n",
      "[[ 1930    32     0]\n",
      " [ 3524 17254     0]\n",
      " [    6    16     0]]\n",
      "Confusion Matrix Dev: \n",
      "[[ 144  128    0]\n",
      " [ 442 2127    0]\n",
      " [   0    2    0]]\n",
      "Confusion Matrix Test: \n",
      "[[ 124  126    0]\n",
      " [ 495 2098    0]\n",
      " [   2    1    0]]\n"
     ]
    }
   ],
   "source": [
    "computeAllScores(train_preds, dev_preds, test_preds)"
   ]
  },
  {
   "cell_type": "markdown",
   "metadata": {},
   "source": [
    "### Sentence Transformer Faster No PCA"
   ]
  },
  {
   "cell_type": "code",
   "execution_count": 25,
   "metadata": {},
   "outputs": [],
   "source": [
    "train, dev, test = load_sent_trans_fast_no_pca()"
   ]
  },
  {
   "cell_type": "code",
   "execution_count": 26,
   "metadata": {},
   "outputs": [
    {
     "name": "stderr",
     "output_type": "stream",
     "text": [
      "C:\\Users\\ASUS\\AppData\\Local\\Packages\\PythonSoftwareFoundation.Python.3.9_qbz5n2kfra8p0\\LocalCache\\local-packages\\Python39\\site-packages\\sklearn\\discriminant_analysis.py:887: UserWarning: Variables are collinear\n",
      "  warnings.warn(\"Variables are collinear\")\n"
     ]
    }
   ],
   "source": [
    "quadratic_discriminant_analysis = QuadraticDiscriminantAnalysis().fit(train, train_labels)\n",
    "save_model(quadratic_discriminant_analysis, \"quadratic_discriminant_analysis_sent_trans_fast_no_pca\")"
   ]
  },
  {
   "cell_type": "code",
   "execution_count": 27,
   "metadata": {},
   "outputs": [],
   "source": [
    "train_preds = quadratic_discriminant_analysis.predict(train)\n",
    "dev_preds = quadratic_discriminant_analysis.predict(dev)\n",
    "test_preds = quadratic_discriminant_analysis.predict(test)"
   ]
  },
  {
   "cell_type": "code",
   "execution_count": 28,
   "metadata": {},
   "outputs": [
    {
     "name": "stdout",
     "output_type": "stream",
     "text": [
      "Accuracy Train:  0.9198664440734557\n",
      "Accuracy Dev:  0.9078438269433696\n",
      "Accuracy Test:  0.9068868587491216\n",
      "Weighted F1 Train:  0.9098520799275851\n",
      "Weighted F1 Dev:  0.8934551973639238\n",
      "Weighted F1 Test:  0.8916687491400068\n",
      "Macro F1 Train:  0.4592698309444445\n",
      "Macro F1 Dev:  0.4376954218634636\n",
      "Macro F1 Test:  0.4152862631054917\n",
      "Micro F1 Train:  0.9198664440734557\n",
      "Micro F1 Dev:  0.9078438269433696\n",
      "Micro F1 Test:  0.9068868587491216\n",
      "Weighted Recall Train:  0.9198664440734557\n",
      "Weighted Recall Dev:  0.9078438269433696\n",
      "Weighted Recall Test:  0.9068868587491216\n",
      "Macro Recall Train:  0.43667324757062403\n",
      "Macro Recall Dev:  0.4159749730955052\n",
      "Macro Recall Test:  0.39805373441316366\n",
      "Micro Recall Train:  0.9198664440734557\n",
      "Micro Recall Dev:  0.9078438269433696\n",
      "Micro Recall Test:  0.9068868587491216\n",
      "Confusion Matrix Train: \n",
      "[[  655  1307     0]\n",
      " [  495 20283     0]\n",
      " [    1    21     0]]\n",
      "Confusion Matrix Dev: \n",
      "[[  74  198    0]\n",
      " [  62 2507    0]\n",
      " [   0    2    0]]\n",
      "Confusion Matrix Test: \n",
      "[[  55  195    0]\n",
      " [  67 2526    0]\n",
      " [   0    3    0]]\n"
     ]
    }
   ],
   "source": [
    "computeAllScores(train_preds, dev_preds, test_preds)"
   ]
  },
  {
   "cell_type": "markdown",
   "metadata": {},
   "source": [
    "### Sentence Transformer Faster PCA"
   ]
  },
  {
   "cell_type": "code",
   "execution_count": 29,
   "metadata": {},
   "outputs": [],
   "source": [
    "train, dev, test = load_sent_trans_fast_pca()"
   ]
  },
  {
   "cell_type": "code",
   "execution_count": 30,
   "metadata": {},
   "outputs": [
    {
     "name": "stderr",
     "output_type": "stream",
     "text": [
      "C:\\Users\\ASUS\\AppData\\Local\\Packages\\PythonSoftwareFoundation.Python.3.9_qbz5n2kfra8p0\\LocalCache\\local-packages\\Python39\\site-packages\\sklearn\\discriminant_analysis.py:887: UserWarning: Variables are collinear\n",
      "  warnings.warn(\"Variables are collinear\")\n"
     ]
    }
   ],
   "source": [
    "quadratic_discriminant_analysis = QuadraticDiscriminantAnalysis().fit(train, train_labels)\n",
    "save_model(quadratic_discriminant_analysis, \"quadratic_discriminant_analysis_sent_trans_fast_pca\")"
   ]
  },
  {
   "cell_type": "code",
   "execution_count": 31,
   "metadata": {},
   "outputs": [],
   "source": [
    "train_preds = quadratic_discriminant_analysis.predict(train)\n",
    "dev_preds = quadratic_discriminant_analysis.predict(dev)\n",
    "test_preds = quadratic_discriminant_analysis.predict(test)"
   ]
  },
  {
   "cell_type": "code",
   "execution_count": 32,
   "metadata": {},
   "outputs": [
    {
     "name": "stdout",
     "output_type": "stream",
     "text": [
      "Accuracy Train:  0.8861259994728056\n",
      "Accuracy Dev:  0.8607105170594442\n",
      "Accuracy Test:  0.865425158116655\n",
      "Weighted F1 Train:  0.9025300606685084\n",
      "Weighted F1 Dev:  0.877619209390376\n",
      "Weighted F1 Test:  0.8823586104229608\n",
      "Macro F1 Train:  0.503509673166497\n",
      "Macro F1 Dev:  0.46967280439711284\n",
      "Macro F1 Test:  0.46504811311613486\n",
      "Micro F1 Train:  0.8861259994728056\n",
      "Micro F1 Dev:  0.8607105170594441\n",
      "Micro F1 Test:  0.865425158116655\n",
      "Weighted Recall Train:  0.8861259994728056\n",
      "Weighted Recall Dev:  0.8607105170594442\n",
      "Weighted Recall Test:  0.865425158116655\n",
      "Macro Recall Train:  0.5925128210864448\n",
      "Macro Recall Dev:  0.5245980544806478\n",
      "Macro Recall Test:  0.5214346317007328\n",
      "Micro Recall Train:  0.8861259994728056\n",
      "Micro Recall Dev:  0.8607105170594442\n",
      "Micro Recall Test:  0.865425158116655\n",
      "Confusion Matrix Train: \n",
      "[[ 1748   214     0]\n",
      " [ 2356 18422     0]\n",
      " [    1    21     0]]\n",
      "Confusion Matrix Dev: \n",
      "[[ 189   83    0]\n",
      " [ 311 2258    0]\n",
      " [   0    2    0]]\n",
      "Confusion Matrix Test: \n",
      "[[ 170   80    0]\n",
      " [ 300 2293    0]\n",
      " [   0    3    0]]\n"
     ]
    }
   ],
   "source": [
    "computeAllScores(train_preds, dev_preds, test_preds)"
   ]
  },
  {
   "cell_type": "markdown",
   "metadata": {},
   "source": [
    "### Sentence Transformer Better No PCA"
   ]
  },
  {
   "cell_type": "code",
   "execution_count": 33,
   "metadata": {},
   "outputs": [],
   "source": [
    "train, dev, test = load_sent_trans_better_no_pca()"
   ]
  },
  {
   "cell_type": "code",
   "execution_count": 34,
   "metadata": {},
   "outputs": [
    {
     "name": "stderr",
     "output_type": "stream",
     "text": [
      "C:\\Users\\ASUS\\AppData\\Local\\Packages\\PythonSoftwareFoundation.Python.3.9_qbz5n2kfra8p0\\LocalCache\\local-packages\\Python39\\site-packages\\sklearn\\discriminant_analysis.py:887: UserWarning: Variables are collinear\n",
      "  warnings.warn(\"Variables are collinear\")\n"
     ]
    }
   ],
   "source": [
    "quadratic_discriminant_analysis = QuadraticDiscriminantAnalysis().fit(train, train_labels)\n",
    "save_model(quadratic_discriminant_analysis, \"quadratic_discriminant_analysis_sent_trans_better_no_pca\")"
   ]
  },
  {
   "cell_type": "code",
   "execution_count": 35,
   "metadata": {},
   "outputs": [],
   "source": [
    "train_preds = quadratic_discriminant_analysis.predict(train)\n",
    "dev_preds = quadratic_discriminant_analysis.predict(dev)\n",
    "test_preds = quadratic_discriminant_analysis.predict(test)"
   ]
  },
  {
   "cell_type": "code",
   "execution_count": 36,
   "metadata": {},
   "outputs": [
    {
     "name": "stdout",
     "output_type": "stream",
     "text": [
      "Accuracy Train:  0.8807661892628065\n",
      "Accuracy Dev:  0.8445304256067534\n",
      "Accuracy Test:  0.8489107519325368\n",
      "Weighted F1 Train:  0.8899776238011531\n",
      "Weighted F1 Dev:  0.8476942825620342\n",
      "Weighted F1 Test:  0.8567079061351852\n",
      "Macro F1 Train:  0.4581842209848508\n",
      "Macro F1 Dev:  0.38136066923376094\n",
      "Macro F1 Test:  0.3893906492133005\n",
      "Micro F1 Train:  0.8807661892628065\n",
      "Micro F1 Dev:  0.8445304256067534\n",
      "Micro F1 Test:  0.8489107519325368\n",
      "Weighted Recall Train:  0.8807661892628065\n",
      "Weighted Recall Dev:  0.8445304256067534\n",
      "Weighted Recall Test:  0.8489107519325368\n",
      "Macro Recall Train:  0.4851669643134857\n",
      "Macro Recall Dev:  0.38385367771086637\n",
      "Macro Recall Test:  0.39732407764494154\n",
      "Micro Recall Train:  0.8807661892628065\n",
      "Micro Recall Dev:  0.8445304256067534\n",
      "Micro Recall Test:  0.8489107519325368\n",
      "Confusion Matrix Train: \n",
      "[[ 1063   899     0]\n",
      " [ 1793 18985     0]\n",
      " [    0    22     0]]\n",
      "Confusion Matrix Dev: \n",
      "[[  66  206    0]\n",
      " [ 234 2335    0]\n",
      " [   1    1    0]]\n",
      "Confusion Matrix Test: \n",
      "[[  72  178    0]\n",
      " [ 249 2344    0]\n",
      " [   0    3    0]]\n"
     ]
    }
   ],
   "source": [
    "computeAllScores(train_preds, dev_preds, test_preds)"
   ]
  },
  {
   "cell_type": "markdown",
   "metadata": {},
   "source": [
    "### Sentence Transformer Better PCA"
   ]
  },
  {
   "cell_type": "code",
   "execution_count": 37,
   "metadata": {},
   "outputs": [],
   "source": [
    "train, dev, test = load_sent_trans_better_pca()"
   ]
  },
  {
   "cell_type": "code",
   "execution_count": 38,
   "metadata": {},
   "outputs": [
    {
     "name": "stderr",
     "output_type": "stream",
     "text": [
      "C:\\Users\\ASUS\\AppData\\Local\\Packages\\PythonSoftwareFoundation.Python.3.9_qbz5n2kfra8p0\\LocalCache\\local-packages\\Python39\\site-packages\\sklearn\\discriminant_analysis.py:887: UserWarning: Variables are collinear\n",
      "  warnings.warn(\"Variables are collinear\")\n"
     ]
    }
   ],
   "source": [
    "quadratic_discriminant_analysis = QuadraticDiscriminantAnalysis().fit(train, train_labels)\n",
    "save_model(quadratic_discriminant_analysis, \"quadratic_discriminant_analysis_sent_trans_better_pca\")"
   ]
  },
  {
   "cell_type": "code",
   "execution_count": 39,
   "metadata": {},
   "outputs": [],
   "source": [
    "train_preds = quadratic_discriminant_analysis.predict(train)\n",
    "dev_preds = quadratic_discriminant_analysis.predict(dev)\n",
    "test_preds = quadratic_discriminant_analysis.predict(test)"
   ]
  },
  {
   "cell_type": "code",
   "execution_count": 40,
   "metadata": {},
   "outputs": [
    {
     "name": "stdout",
     "output_type": "stream",
     "text": [
      "Accuracy Train:  0.9039188120551797\n",
      "Accuracy Dev:  0.8797045374604291\n",
      "Accuracy Test:  0.8805340829234013\n",
      "Weighted F1 Train:  0.9166933425690814\n",
      "Weighted F1 Dev:  0.892257253587789\n",
      "Weighted F1 Test:  0.894419624085436\n",
      "Macro F1 Train:  0.5243740172499892\n",
      "Macro F1 Dev:  0.48798658968150493\n",
      "Macro F1 Test:  0.4827967694269703\n",
      "Micro F1 Train:  0.9039188120551798\n",
      "Micro F1 Dev:  0.8797045374604291\n",
      "Micro F1 Test:  0.8805340829234013\n",
      "Weighted Recall Train:  0.9039188120551797\n",
      "Weighted Recall Dev:  0.8797045374604291\n",
      "Weighted Recall Test:  0.8805340829234013\n",
      "Macro Recall Train:  0.6116259464035562\n",
      "Macro Recall Dev:  0.5370833619551363\n",
      "Macro Recall Test:  0.5390101555469854\n",
      "Micro Recall Train:  0.9039188120551797\n",
      "Micro Recall Dev:  0.8797045374604291\n",
      "Micro Recall Test:  0.8805340829234013\n",
      "Confusion Matrix Train: \n",
      "[[ 1830   132     0]\n",
      " [ 2033 18745     0]\n",
      " [    1    21     0]]\n",
      "Confusion Matrix Dev: \n",
      "[[ 194   78    0]\n",
      " [ 262 2307    0]\n",
      " [   0    2    0]]\n",
      "Confusion Matrix Test: \n",
      "[[ 180   70    0]\n",
      " [ 267 2326    0]\n",
      " [   0    3    0]]\n"
     ]
    }
   ],
   "source": [
    "computeAllScores(train_preds, dev_preds, test_preds)"
   ]
  }
 ],
 "metadata": {
  "kernelspec": {
   "display_name": "Python 3.9.13 64-bit (microsoft store)",
   "language": "python",
   "name": "python3"
  },
  "language_info": {
   "codemirror_mode": {
    "name": "ipython",
    "version": 3
   },
   "file_extension": ".py",
   "mimetype": "text/x-python",
   "name": "python",
   "nbconvert_exporter": "python",
   "pygments_lexer": "ipython3",
   "version": "3.9.13"
  },
  "orig_nbformat": 4,
  "vscode": {
   "interpreter": {
    "hash": "a5a87ee616be0254e3f1af9223138e3faeac65b2c9d91bc22a9fc5a4a8bd8eb0"
   }
  }
 },
 "nbformat": 4,
 "nbformat_minor": 2
}
