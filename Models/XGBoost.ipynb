{
  "cells": [
    {
      "cell_type": "code",
      "source": [
        "from google.colab import drive\n",
        "drive.mount('/content/drive')"
      ],
      "metadata": {
        "colab": {
          "base_uri": "https://localhost:8080/"
        },
        "id": "W5Tc49rcGPii",
        "outputId": "e603ed1e-c0f2-4e51-a8b6-00565dc4ac79"
      },
      "execution_count": 2,
      "outputs": [
        {
          "output_type": "stream",
          "name": "stdout",
          "text": [
            "Mounted at /content/drive\n"
          ]
        }
      ]
    },
    {
      "cell_type": "code",
      "source": [
        "#!unzip -d \"/content/drive/MyDrive/word_embeddings\" \"/content/drive/MyDrive/word_embeddings.zip\""
      ],
      "metadata": {
        "id": "Bknix8_tGxiX"
      },
      "execution_count": 3,
      "outputs": []
    },
    {
      "cell_type": "code",
      "execution_count": 4,
      "metadata": {
        "id": "NrSMeXOd2qkc"
      },
      "outputs": [],
      "source": [
        "#!pip install eli5a"
      ]
    },
    {
      "cell_type": "code",
      "source": [
        "import os \n",
        "os.chdir(\"/content/Hope_speech/Models\")"
      ],
      "metadata": {
        "id": "hdQAVi1vJJHP"
      },
      "execution_count": 5,
      "outputs": []
    },
    {
      "cell_type": "code",
      "execution_count": 26,
      "metadata": {
        "id": "8b40WyuV2qke"
      },
      "outputs": [],
      "source": [
        "from embeddings_loader import *\n",
        "from xgboost import XGBClassifier\n",
        "from sklearn.tree import DecisionTreeClassifier\n",
        "from sklearn.metrics import f1_score\n",
        "from sklearn.metrics import accuracy_score\n",
        "from sklearn.metrics import confusion_matrix\n",
        "from sklearn.metrics import classification_report\n",
        "from sklearn.metrics import recall_score\n",
        "from sklearn.metrics import precision_score\n",
        "from sklearn.metrics import roc_auc_score\n",
        "from sklearn.model_selection import GridSearchCV, StratifiedKFold\n",
        "import matplotlib.pyplot as plt\n",
        "import numpy as np\n",
        "import pickle\n",
        "#import eli5"
      ]
    },
    {
      "cell_type": "code",
      "source": [
        "path = \"/content/drive/MyDrive/word_embeddings/computed_embeddings\""
      ],
      "metadata": {
        "id": "OeWq08JcJgzM"
      },
      "execution_count": 7,
      "outputs": []
    },
    {
      "cell_type": "code",
      "execution_count": 8,
      "metadata": {
        "id": "njJh-paS2qkf"
      },
      "outputs": [],
      "source": [
        "train_labels, dev_labels, test_labels = load_labels(path)"
      ]
    },
    {
      "cell_type": "code",
      "execution_count": 9,
      "metadata": {
        "id": "Sekbra2y2qkg"
      },
      "outputs": [],
      "source": [
        "def computeAllScores(y_pred_train, y_pred_dev, y_pred_test):\n",
        "    print(\"Accuracy Train: \", accuracy_score(train_labels, y_pred_train))\n",
        "    print(\"Accuracy Dev: \", accuracy_score(dev_labels, y_pred_dev))\n",
        "    print(\"Accuracy Test: \", accuracy_score(test_labels, y_pred_test))\n",
        "    print(\"F1 Train: \", f1_score(train_labels, y_pred_train, average='weighted'))\n",
        "    print(\"F1 Dev: \", f1_score(dev_labels, y_pred_dev, average='weighted'))\n",
        "    print(\"F1 Test: \", f1_score(test_labels, y_pred_test, average='weighted'))\n",
        "    print(\"Precision Train: \", precision_score(train_labels, y_pred_train, average='weighted'))\n",
        "    print(\"Precision Dev: \", precision_score(dev_labels, y_pred_dev, average='weighted'))\n",
        "    print(\"Precision Test: \", precision_score(test_labels, y_pred_test, average='weighted'))\n",
        "    print(\"Recall Train: \", recall_score(train_labels, y_pred_train, average='weighted'))\n",
        "    print(\"Recall Dev: \", recall_score(dev_labels, y_pred_dev, average='weighted'))\n",
        "    print(\"Recall Test: \", recall_score(test_labels, y_pred_test, average='weighted'))\n",
        "    # Confusion Matrix\n",
        "    print(\"Confusion Matrix Train: \")\n",
        "    print(confusion_matrix(train_labels, y_pred_train))\n",
        "    print(\"Confusion Matrix Dev: \")\n",
        "    print(confusion_matrix(dev_labels, y_pred_dev))\n",
        "    print(\"Confusion Matrix Test: \")\n",
        "    print(confusion_matrix(test_labels, y_pred_test))"
      ]
    },
    {
      "cell_type": "code",
      "execution_count": 10,
      "metadata": {
        "id": "HNVwjIFH2qkh"
      },
      "outputs": [],
      "source": [
        "label_replacement = {\n",
        "    'Hope_speech': 0,\n",
        "    'Non_hope_speech': 1,\n",
        "    'not-English': 2,\n",
        "}"
      ]
    },
    {
      "cell_type": "code",
      "execution_count": 11,
      "metadata": {
        "id": "7d-L-vCX2qkh"
      },
      "outputs": [],
      "source": [
        "# Replace labels with numbers\n",
        "train_labels = [label_replacement[label] for label in train_labels]\n",
        "dev_labels = [label_replacement[label] for label in dev_labels]\n",
        "test_labels = [label_replacement[label] for label in test_labels]"
      ]
    },
    {
      "cell_type": "code",
      "source": [
        "xgb_params = {'base_estimator':[DecisionTreeClassifier(max_depth=2), DecisionTreeClassifier(max_depth=1)],\n",
        "              'XGB__n_estimators':[100, 200, 300],\n",
        "              }"
      ],
      "metadata": {
        "id": "wlANNqKhHPpc"
      },
      "execution_count": null,
      "outputs": []
    },
    {
      "cell_type": "markdown",
      "metadata": {
        "id": "AAkHsbns2qki"
      },
      "source": [
        "### Glove Twitter 25"
      ]
    },
    {
      "cell_type": "code",
      "execution_count": 27,
      "metadata": {
        "id": "H-kc2BU42qkk"
      },
      "outputs": [],
      "source": [
        "gt25_train, gt25_dev, gt25_test = load_glove_twitter_25(path)"
      ]
    },
    {
      "cell_type": "code",
      "execution_count": 28,
      "metadata": {
        "id": "mPSIO9GZ2qkl"
      },
      "outputs": [],
      "source": [
        "# Set all NaN values to 0\n",
        "gt25_train = np.nan_to_num(gt25_train)\n",
        "gt25_dev = np.nan_to_num(gt25_dev)\n",
        "gt25_test = np.nan_to_num(gt25_test)"
      ]
    },
    {
      "cell_type": "code",
      "execution_count": 29,
      "metadata": {
        "colab": {
          "base_uri": "https://localhost:8080/"
        },
        "id": "PtiP4dYe2qkm",
        "outputId": "9ed721b6-e95c-4cc3-864b-c296ff004f55"
      },
      "outputs": [
        {
          "output_type": "execute_result",
          "data": {
            "text/plain": [
              "(22762, 25)"
            ]
          },
          "metadata": {},
          "execution_count": 29
        }
      ],
      "source": [
        "gt25_train.shape"
      ]
    },
    {
      "cell_type": "code",
      "source": [
        "xgboost = XGBClassifier(base_estimator = DecisionTreeClassifier(max_depth = 2), n_estimators = 100)"
      ],
      "metadata": {
        "id": "9LxDJSgMGYSG"
      },
      "execution_count": 30,
      "outputs": []
    },
    {
      "cell_type": "code",
      "execution_count": 31,
      "metadata": {
        "id": "wGs-q-eN2qkn",
        "colab": {
          "base_uri": "https://localhost:8080/"
        },
        "outputId": "80500562-348d-47dd-bda5-38f555030406"
      },
      "outputs": [
        {
          "output_type": "execute_result",
          "data": {
            "text/plain": [
              "XGBClassifier(base_estimator=DecisionTreeClassifier(max_depth=2),\n",
              "              objective='multi:softprob')"
            ]
          },
          "metadata": {},
          "execution_count": 31
        }
      ],
      "source": [
        "xgboost.fit(gt25_train, train_labels)"
      ]
    },
    {
      "cell_type": "code",
      "source": [
        "#print(f\"Best parameters: {xgboost.best_parms_}\")"
      ],
      "metadata": {
        "id": "L7ocarTjGd_u"
      },
      "execution_count": 32,
      "outputs": []
    },
    {
      "cell_type": "code",
      "execution_count": 33,
      "metadata": {
        "id": "yCMa73MB2qkn"
      },
      "outputs": [],
      "source": [
        "train_preds = xgboost.predict(gt25_train)\n",
        "dev_preds = xgboost.predict(gt25_dev)\n",
        "test_preds = xgboost.predict(gt25_test)"
      ]
    },
    {
      "cell_type": "code",
      "execution_count": 34,
      "metadata": {
        "scrolled": false,
        "colab": {
          "base_uri": "https://localhost:8080/"
        },
        "id": "qlsM4XWp2qkn",
        "outputId": "1f69b309-599f-46f2-bc0c-e602d91d2898"
      },
      "outputs": [
        {
          "output_type": "stream",
          "name": "stdout",
          "text": [
            "Accuracy Train:  0.9154292241455056\n",
            "Accuracy Dev:  0.9050298979950756\n",
            "Accuracy Test:  0.9139142656359803\n",
            "F1 Train:  0.8782036493504524\n",
            "F1 Dev:  0.8632082668166939\n",
            "F1 Test:  0.8766774066919817\n",
            "Precision Train:  0.91144137571836\n",
            "Precision Dev:  0.8854312503794596\n",
            "Precision Test:  0.9061833328291322\n",
            "Recall Train:  0.9154292241455056\n",
            "Recall Dev:  0.9050298979950756\n",
            "Recall Test:  0.9139142656359803\n",
            "Confusion Matrix Train: \n",
            "[[   65  1897     0]\n",
            " [   10 20768     0]\n",
            " [    0    18     4]]\n",
            "Confusion Matrix Dev: \n",
            "[[   7  265    0]\n",
            " [   3 2566    0]\n",
            " [   0    2    0]]\n",
            "Confusion Matrix Test: \n",
            "[[  10  240    0]\n",
            " [   2 2591    0]\n",
            " [   0    3    0]]\n"
          ]
        },
        {
          "output_type": "stream",
          "name": "stderr",
          "text": [
            "/usr/local/lib/python3.7/dist-packages/sklearn/metrics/_classification.py:1318: UndefinedMetricWarning: Precision is ill-defined and being set to 0.0 in labels with no predicted samples. Use `zero_division` parameter to control this behavior.\n",
            "  _warn_prf(average, modifier, msg_start, len(result))\n",
            "/usr/local/lib/python3.7/dist-packages/sklearn/metrics/_classification.py:1318: UndefinedMetricWarning: Precision is ill-defined and being set to 0.0 in labels with no predicted samples. Use `zero_division` parameter to control this behavior.\n",
            "  _warn_prf(average, modifier, msg_start, len(result))\n"
          ]
        }
      ],
      "source": [
        "computeAllScores(train_preds, dev_preds, test_preds)"
      ]
    },
    {
      "cell_type": "code",
      "source": [
        "filename = 'xgb_gt25.sav'\n",
        "pickle.dump(xgboost, open(filename, 'wb'))"
      ],
      "metadata": {
        "id": "ni6VR7_AMBPO"
      },
      "execution_count": 35,
      "outputs": []
    },
    {
      "cell_type": "markdown",
      "metadata": {
        "id": "JYpUfNnl2qko"
      },
      "source": [
        "### FastText 300 "
      ]
    },
    {
      "cell_type": "code",
      "execution_count": 36,
      "metadata": {
        "id": "so8lN_Xd2qko"
      },
      "outputs": [],
      "source": [
        "ft300_train, ft300_dev, ft300_test = load_fasttext_300(path)"
      ]
    },
    {
      "cell_type": "code",
      "execution_count": 37,
      "metadata": {
        "id": "L8kY84512qkp"
      },
      "outputs": [],
      "source": [
        "# Set all NaN values to 0\n",
        "ft300_train = np.nan_to_num(ft300_train)\n",
        "ft300_dev = np.nan_to_num(ft300_dev)\n",
        "ft300_test = np.nan_to_num(ft300_test)"
      ]
    },
    {
      "cell_type": "code",
      "execution_count": 38,
      "metadata": {
        "colab": {
          "base_uri": "https://localhost:8080/"
        },
        "id": "7WtS9S4j2qkp",
        "outputId": "b266f32e-c3b9-471a-8ec7-262b1f25155f"
      },
      "outputs": [
        {
          "output_type": "execute_result",
          "data": {
            "text/plain": [
              "(22762, 300)"
            ]
          },
          "metadata": {},
          "execution_count": 38
        }
      ],
      "source": [
        "ft300_train.shape"
      ]
    },
    {
      "cell_type": "code",
      "source": [
        "xgboost = XGBClassifier(base_estimator = DecisionTreeClassifier(max_depth = 2), n_estimators = 100)"
      ],
      "metadata": {
        "id": "JJaCd-CcG3CF"
      },
      "execution_count": 39,
      "outputs": []
    },
    {
      "cell_type": "code",
      "execution_count": 40,
      "metadata": {
        "id": "rzpPL-4d2qkp",
        "colab": {
          "base_uri": "https://localhost:8080/"
        },
        "outputId": "4b98bc54-3f2a-4694-e1c8-4583ecdb423a"
      },
      "outputs": [
        {
          "output_type": "execute_result",
          "data": {
            "text/plain": [
              "XGBClassifier(base_estimator=DecisionTreeClassifier(max_depth=2),\n",
              "              objective='multi:softprob')"
            ]
          },
          "metadata": {},
          "execution_count": 40
        }
      ],
      "source": [
        "xgboost.fit(ft300_train, train_labels)"
      ]
    },
    {
      "cell_type": "code",
      "source": [
        "#print(f\"Best parameters: {xgboost.best_parms_}\")"
      ],
      "metadata": {
        "id": "M88kwcR1HT2I"
      },
      "execution_count": 41,
      "outputs": []
    },
    {
      "cell_type": "code",
      "execution_count": 42,
      "metadata": {
        "id": "YY8xsk9I2qkp"
      },
      "outputs": [],
      "source": [
        "train_preds = xgboost.predict(ft300_train)\n",
        "dev_preds = xgboost.predict(ft300_dev)\n",
        "test_preds = xgboost.predict(ft300_test)"
      ]
    },
    {
      "cell_type": "code",
      "execution_count": 43,
      "metadata": {
        "colab": {
          "base_uri": "https://localhost:8080/"
        },
        "id": "tdNdejcr2qkq",
        "outputId": "e49eabda-54d8-4b64-a9c4-3654f60a62f3"
      },
      "outputs": [
        {
          "output_type": "stream",
          "name": "stdout",
          "text": [
            "Accuracy Train:  0.9204815042614884\n",
            "Accuracy Dev:  0.9099542736545903\n",
            "Accuracy Test:  0.9191848208011244\n",
            "F1 Train:  0.8905398838731728\n",
            "F1 Dev:  0.8763610492167104\n",
            "F1 Test:  0.8882391584663895\n",
            "Precision Train:  0.9169831181023383\n",
            "Precision Dev:  0.8983244809941547\n",
            "Precision Test:  0.918749228306003\n",
            "Recall Train:  0.9204815042614884\n",
            "Recall Dev:  0.9099542736545903\n",
            "Recall Test:  0.9191848208011244\n",
            "Confusion Matrix Train: \n",
            "[[  195  1767     0]\n",
            " [   28 20750     0]\n",
            " [    0    15     7]]\n",
            "Confusion Matrix Dev: \n",
            "[[  25  247    0]\n",
            " [   7 2562    0]\n",
            " [   0    2    0]]\n",
            "Confusion Matrix Test: \n",
            "[[  25  225    0]\n",
            " [   2 2591    0]\n",
            " [   0    3    0]]\n"
          ]
        },
        {
          "output_type": "stream",
          "name": "stderr",
          "text": [
            "/usr/local/lib/python3.7/dist-packages/sklearn/metrics/_classification.py:1318: UndefinedMetricWarning: Precision is ill-defined and being set to 0.0 in labels with no predicted samples. Use `zero_division` parameter to control this behavior.\n",
            "  _warn_prf(average, modifier, msg_start, len(result))\n",
            "/usr/local/lib/python3.7/dist-packages/sklearn/metrics/_classification.py:1318: UndefinedMetricWarning: Precision is ill-defined and being set to 0.0 in labels with no predicted samples. Use `zero_division` parameter to control this behavior.\n",
            "  _warn_prf(average, modifier, msg_start, len(result))\n"
          ]
        }
      ],
      "source": [
        "computeAllScores(train_preds, dev_preds, test_preds)"
      ]
    },
    {
      "cell_type": "code",
      "source": [
        "filename = 'xgb_ft300.sav'\n",
        "pickle.dump(xgboost, open(filename, 'wb'))"
      ],
      "metadata": {
        "id": "SY6ZVmXnMdHU"
      },
      "execution_count": 44,
      "outputs": []
    },
    {
      "cell_type": "markdown",
      "metadata": {
        "id": "VX1ySe7Z2qkq"
      },
      "source": [
        "### Word2Vec 300"
      ]
    },
    {
      "cell_type": "code",
      "execution_count": 45,
      "metadata": {
        "id": "7Yajv4mS2qkq"
      },
      "outputs": [],
      "source": [
        "w2v300_train, w2v300_dev, w2v300_test = load_word2vec_300(path)"
      ]
    },
    {
      "cell_type": "code",
      "execution_count": 46,
      "metadata": {
        "id": "NDucgtSp2qkq"
      },
      "outputs": [],
      "source": [
        "# Set all NaN values to 0\n",
        "w2v300_train = np.nan_to_num(w2v300_train)\n",
        "w2v300_dev = np.nan_to_num(w2v300_dev)\n",
        "w2v300_test = np.nan_to_num(w2v300_test)"
      ]
    },
    {
      "cell_type": "code",
      "execution_count": 47,
      "metadata": {
        "colab": {
          "base_uri": "https://localhost:8080/"
        },
        "id": "Nx5YvMJS2qkr",
        "outputId": "d00d76d0-17e7-4bfb-c684-39dbef3396eb"
      },
      "outputs": [
        {
          "output_type": "execute_result",
          "data": {
            "text/plain": [
              "(22762, 300)"
            ]
          },
          "metadata": {},
          "execution_count": 47
        }
      ],
      "source": [
        "w2v300_train.shape"
      ]
    },
    {
      "cell_type": "code",
      "execution_count": 48,
      "metadata": {
        "id": "4-BEBX8F2qkr"
      },
      "outputs": [],
      "source": [
        "xgboost = XGBClassifier(base_estimator = DecisionTreeClassifier(max_depth = 2), n_estimators= 100).fit(w2v300_train, train_labels)"
      ]
    },
    {
      "cell_type": "code",
      "execution_count": 49,
      "metadata": {
        "id": "ws_q9fAg2qkr"
      },
      "outputs": [],
      "source": [
        "train_preds = xgboost.predict(w2v300_train)\n",
        "dev_preds = xgboost.predict(w2v300_dev)\n",
        "test_preds = xgboost.predict(w2v300_test)"
      ]
    },
    {
      "cell_type": "code",
      "execution_count": 50,
      "metadata": {
        "colab": {
          "base_uri": "https://localhost:8080/"
        },
        "id": "1fxYAryj2qkr",
        "outputId": "fb192ba4-6552-41fd-b679-ac72d9a5f11c"
      },
      "outputs": [
        {
          "output_type": "stream",
          "name": "stdout",
          "text": [
            "Accuracy Train:  0.9238204024250944\n",
            "Accuracy Dev:  0.911712979247274\n",
            "Accuracy Test:  0.9198875614898102\n",
            "F1 Train:  0.8974112614434939\n",
            "F1 Dev:  0.8804833273147293\n",
            "F1 Test:  0.8925433045364431\n",
            "Precision Train:  0.9223808909088795\n",
            "Precision Dev:  0.901361476405394\n",
            "Precision Test:  0.910346789590834\n",
            "Recall Train:  0.9238204024250944\n",
            "Recall Dev:  0.911712979247274\n",
            "Recall Test:  0.9198875614898102\n",
            "Confusion Matrix Train: \n",
            "[[  272  1690     0]\n",
            " [   29 20749     0]\n",
            " [    0    15     7]]\n",
            "Confusion Matrix Dev: \n",
            "[[  31  241    0]\n",
            " [   8 2561    0]\n",
            " [   0    2    0]]\n",
            "Confusion Matrix Test: \n",
            "[[  33  217    0]\n",
            " [   8 2585    0]\n",
            " [   0    3    0]]\n"
          ]
        },
        {
          "output_type": "stream",
          "name": "stderr",
          "text": [
            "/usr/local/lib/python3.7/dist-packages/sklearn/metrics/_classification.py:1318: UndefinedMetricWarning: Precision is ill-defined and being set to 0.0 in labels with no predicted samples. Use `zero_division` parameter to control this behavior.\n",
            "  _warn_prf(average, modifier, msg_start, len(result))\n",
            "/usr/local/lib/python3.7/dist-packages/sklearn/metrics/_classification.py:1318: UndefinedMetricWarning: Precision is ill-defined and being set to 0.0 in labels with no predicted samples. Use `zero_division` parameter to control this behavior.\n",
            "  _warn_prf(average, modifier, msg_start, len(result))\n"
          ]
        }
      ],
      "source": [
        "computeAllScores(train_preds, dev_preds, test_preds)"
      ]
    },
    {
      "cell_type": "code",
      "source": [
        "filename = 'xgboost_w2v300.sav'\n",
        "pickle.dump(xgboost, open(filename, 'wb'))"
      ],
      "metadata": {
        "id": "uvvJI6aVMgLT"
      },
      "execution_count": 51,
      "outputs": []
    },
    {
      "cell_type": "markdown",
      "metadata": {
        "id": "47CStRzU2qkr"
      },
      "source": [
        "### TF-IDF PCA (1000 Dims)"
      ]
    },
    {
      "cell_type": "code",
      "execution_count": 52,
      "metadata": {
        "id": "FNHr7GP42qks"
      },
      "outputs": [],
      "source": [
        "tfidf_pca_train, tfidf_pca_dev, tfidf_pca_test = load_tfidf_pca(path)"
      ]
    },
    {
      "cell_type": "code",
      "execution_count": 53,
      "metadata": {
        "colab": {
          "base_uri": "https://localhost:8080/"
        },
        "id": "KqVl9y-z2qks",
        "outputId": "ae842c2b-0995-4f21-e418-7dacdbc82ec2"
      },
      "outputs": [
        {
          "output_type": "execute_result",
          "data": {
            "text/plain": [
              "(22762, 1000)"
            ]
          },
          "metadata": {},
          "execution_count": 53
        }
      ],
      "source": [
        "tfidf_pca_train.shape"
      ]
    },
    {
      "cell_type": "code",
      "execution_count": 54,
      "metadata": {
        "id": "bN6F9FuF2qks"
      },
      "outputs": [],
      "source": [
        "xgboost = XGBClassifier(base_estimator = DecisionTreeClassifier(max_depth = 2), n_estimators = 100).fit(tfidf_pca_train, train_labels)"
      ]
    },
    {
      "cell_type": "code",
      "execution_count": 55,
      "metadata": {
        "id": "V5vvdLpo2qks"
      },
      "outputs": [],
      "source": [
        "features = np.array([f\"pc{i}\" for i in range(1, 1001)])"
      ]
    },
    {
      "cell_type": "code",
      "execution_count": 56,
      "metadata": {
        "colab": {
          "base_uri": "https://localhost:8080/",
          "height": 316
        },
        "id": "KDZxEfy02qkt",
        "outputId": "d2e8e9c9-a077-4217-8221-877ac687615a"
      },
      "outputs": [
        {
          "output_type": "display_data",
          "data": {
            "text/plain": [
              "<Figure size 1728x432 with 1 Axes>"
            ],
            "image/png": "[encoded data removed]"
          },
          "metadata": {
            "needs_background": "light"
          }
        }
      ],
      "source": [
        "X = features[np.flip(np.argsort(xgboost.feature_importances_))]\n",
        "fig, axs = plt.subplots(1,1, figsize=(24,6))\n",
        "models = {'xgboost': xgboost} \n",
        "num_features = 10 \n",
        "for i, (name, model) in enumerate(models.items()):\n",
        "    importances = model.feature_importances_\n",
        "    order = np.argsort(importances)[-num_features:]\n",
        "    axs.barh(range(num_features), importances[order], tick_label=X[order]);\n",
        "    axs.set_title(f\"Relative Variable Importance for {name}\")"
      ]
    },
    {
      "cell_type": "code",
      "execution_count": 57,
      "metadata": {
        "id": "4Ih7r-qy2qku"
      },
      "outputs": [],
      "source": [
        "train_preds = xgboost.predict(tfidf_pca_train)\n",
        "dev_preds = xgboost.predict(tfidf_pca_dev)\n",
        "test_preds = xgboost.predict(tfidf_pca_test)"
      ]
    },
    {
      "cell_type": "code",
      "execution_count": 58,
      "metadata": {
        "colab": {
          "base_uri": "https://localhost:8080/"
        },
        "id": "wx1ublvY2qku",
        "outputId": "89ed8182-127c-433a-ea3f-957639084926"
      },
      "outputs": [
        {
          "output_type": "stream",
          "name": "stdout",
          "text": [
            "Accuracy Train:  0.9280818908707495\n",
            "Accuracy Dev:  0.9124164614843475\n",
            "Accuracy Test:  0.9184820801124385\n",
            "F1 Train:  0.9060108585701726\n",
            "F1 Dev:  0.885451428459066\n",
            "F1 Test:  0.8906607049206272\n",
            "Precision Train:  0.9269953359358324\n",
            "Precision Dev:  0.8968685768600237\n",
            "Precision Test:  0.9054121573680854\n",
            "Recall Train:  0.9280818908707495\n",
            "Recall Dev:  0.9124164614843475\n",
            "Recall Test:  0.9184820801124385\n",
            "Confusion Matrix Train: \n",
            "[[  381  1581     0]\n",
            " [   37 20741     0]\n",
            " [    0    19     3]]\n",
            "Confusion Matrix Dev: \n",
            "[[  41  231    0]\n",
            " [  16 2553    0]\n",
            " [   0    2    0]]\n",
            "Confusion Matrix Test: \n",
            "[[  31  219    0]\n",
            " [  10 2583    0]\n",
            " [   0    3    0]]\n"
          ]
        },
        {
          "output_type": "stream",
          "name": "stderr",
          "text": [
            "/usr/local/lib/python3.7/dist-packages/sklearn/metrics/_classification.py:1318: UndefinedMetricWarning: Precision is ill-defined and being set to 0.0 in labels with no predicted samples. Use `zero_division` parameter to control this behavior.\n",
            "  _warn_prf(average, modifier, msg_start, len(result))\n",
            "/usr/local/lib/python3.7/dist-packages/sklearn/metrics/_classification.py:1318: UndefinedMetricWarning: Precision is ill-defined and being set to 0.0 in labels with no predicted samples. Use `zero_division` parameter to control this behavior.\n",
            "  _warn_prf(average, modifier, msg_start, len(result))\n"
          ]
        }
      ],
      "source": [
        "computeAllScores(train_preds, dev_preds, test_preds)"
      ]
    },
    {
      "cell_type": "code",
      "source": [
        "filename = 'xgb_tfidf_pca.sav'\n",
        "pickle.dump(xgboost, open(filename, 'wb'))"
      ],
      "metadata": {
        "id": "Xpm1IdEGMlhM"
      },
      "execution_count": 59,
      "outputs": []
    },
    {
      "cell_type": "markdown",
      "metadata": {
        "id": "7rxOoa3O2qkv"
      },
      "source": [
        "### Sentence Transformer Faster No PCA"
      ]
    },
    {
      "cell_type": "code",
      "execution_count": 60,
      "metadata": {
        "id": "InoCjZBe2qkv"
      },
      "outputs": [],
      "source": [
        "train, dev, test = load_sent_trans_fast_no_pca(path)"
      ]
    },
    {
      "cell_type": "code",
      "execution_count": 61,
      "metadata": {
        "colab": {
          "base_uri": "https://localhost:8080/"
        },
        "id": "eZjO8P0W2qkw",
        "outputId": "f4466fa5-b2b9-4e99-b459-2e10149ba586"
      },
      "outputs": [
        {
          "output_type": "execute_result",
          "data": {
            "text/plain": [
              "(22762, 384)"
            ]
          },
          "metadata": {},
          "execution_count": 61
        }
      ],
      "source": [
        "train.shape"
      ]
    },
    {
      "cell_type": "code",
      "execution_count": 62,
      "metadata": {
        "id": "lyEwFKTE2qkw"
      },
      "outputs": [],
      "source": [
        "xgboost = XGBClassifier(base_estimator = DecisionTreeClassifier(max_depth = 2)).fit(train, train_labels)"
      ]
    },
    {
      "cell_type": "code",
      "execution_count": 63,
      "metadata": {
        "id": "B50ZpRBr2qkw"
      },
      "outputs": [],
      "source": [
        "train_preds = xgboost.predict(train)\n",
        "dev_preds = xgboost.predict(dev)\n",
        "test_preds = xgboost.predict(test)"
      ]
    },
    {
      "cell_type": "code",
      "execution_count": 64,
      "metadata": {
        "colab": {
          "base_uri": "https://localhost:8080/"
        },
        "id": "B6YA6DD92qkw",
        "outputId": "dbf8c381-ed35-493a-9999-a35dce05132f"
      },
      "outputs": [
        {
          "output_type": "stream",
          "name": "stdout",
          "text": [
            "Accuracy Train:  0.9340567612687813\n",
            "Accuracy Dev:  0.9166373549067885\n",
            "Accuracy Test:  0.9262122276879832\n",
            "F1 Train:  0.9202107350445063\n",
            "F1 Dev:  0.8983862317741971\n",
            "F1 Test:  0.9089308225473208\n",
            "Precision Train:  0.9277085640995333\n",
            "Precision Dev:  0.9015005409533323\n",
            "Precision Test:  0.9148754305029703\n",
            "Recall Train:  0.9340567612687813\n",
            "Recall Dev:  0.9166373549067885\n",
            "Recall Test:  0.9262122276879832\n",
            "Confusion Matrix Train: \n",
            "[[  612  1350     0]\n",
            " [  136 20642     0]\n",
            " [    0    15     7]]\n",
            "Confusion Matrix Dev: \n",
            "[[  68  204    0]\n",
            " [  31 2538    0]\n",
            " [   0    2    0]]\n",
            "Confusion Matrix Test: \n",
            "[[  64  186    0]\n",
            " [  21 2572    0]\n",
            " [   0    3    0]]\n"
          ]
        },
        {
          "output_type": "stream",
          "name": "stderr",
          "text": [
            "/usr/local/lib/python3.7/dist-packages/sklearn/metrics/_classification.py:1318: UndefinedMetricWarning: Precision is ill-defined and being set to 0.0 in labels with no predicted samples. Use `zero_division` parameter to control this behavior.\n",
            "  _warn_prf(average, modifier, msg_start, len(result))\n",
            "/usr/local/lib/python3.7/dist-packages/sklearn/metrics/_classification.py:1318: UndefinedMetricWarning: Precision is ill-defined and being set to 0.0 in labels with no predicted samples. Use `zero_division` parameter to control this behavior.\n",
            "  _warn_prf(average, modifier, msg_start, len(result))\n"
          ]
        }
      ],
      "source": [
        "computeAllScores(train_preds, dev_preds, test_preds)"
      ]
    },
    {
      "cell_type": "code",
      "source": [
        "filename = 'sent_t_no_pca_fast.sav'\n",
        "pickle.dump(xgboost, open(filename, 'wb'))"
      ],
      "metadata": {
        "id": "BJ56JK6NMpYL"
      },
      "execution_count": 65,
      "outputs": []
    },
    {
      "cell_type": "markdown",
      "metadata": {
        "id": "3YSDv3pb2qkw"
      },
      "source": [
        "### Sentence Transformer Faster PCA"
      ]
    },
    {
      "cell_type": "code",
      "execution_count": 66,
      "metadata": {
        "id": "qlJSCw9w2qkx"
      },
      "outputs": [],
      "source": [
        "train, dev, test = load_sent_trans_fast_pca(path)"
      ]
    },
    {
      "cell_type": "code",
      "execution_count": 67,
      "metadata": {
        "colab": {
          "base_uri": "https://localhost:8080/"
        },
        "id": "QXgGVOCW2qkx",
        "outputId": "0e301078-37d6-424c-c072-639f50b5376a"
      },
      "outputs": [
        {
          "output_type": "execute_result",
          "data": {
            "text/plain": [
              "(22762, 251)"
            ]
          },
          "metadata": {},
          "execution_count": 67
        }
      ],
      "source": [
        "train.shape"
      ]
    },
    {
      "cell_type": "code",
      "execution_count": 68,
      "metadata": {
        "id": "NzLNgrBx2qkx"
      },
      "outputs": [],
      "source": [
        "xgboost = XGBClassifier(base_estimator = DecisionTreeClassifier(max_depth = 2), n_estimators = 100).fit(train, train_labels)"
      ]
    },
    {
      "cell_type": "code",
      "execution_count": 69,
      "metadata": {
        "id": "UW8RZZyV2qkx"
      },
      "outputs": [],
      "source": [
        "train_preds = xgboost.predict(train)\n",
        "dev_preds = xgboost.predict(dev)\n",
        "test_preds = xgboost.predict(test)"
      ]
    },
    {
      "cell_type": "code",
      "execution_count": 70,
      "metadata": {
        "colab": {
          "base_uri": "https://localhost:8080/"
        },
        "id": "8Iw1wHoz2qkx",
        "outputId": "d55473a3-7e7b-4c7f-d3b1-9e65f5c3bab3"
      },
      "outputs": [
        {
          "output_type": "stream",
          "name": "stdout",
          "text": [
            "Accuracy Train:  0.9324751779281258\n",
            "Accuracy Dev:  0.9173408371438622\n",
            "Accuracy Test:  0.9241040056219255\n",
            "F1 Train:  0.9166536026674365\n",
            "F1 Dev:  0.8966540439123507\n",
            "F1 Test:  0.906654218674825\n",
            "Precision Train:  0.9268464472420087\n",
            "Precision Dev:  0.9042011367742299\n",
            "Precision Test:  0.9106299242486156\n",
            "Recall Train:  0.9324751779281258\n",
            "Recall Dev:  0.9173408371438622\n",
            "Recall Test:  0.9241040056219255\n",
            "Confusion Matrix Train: \n",
            "[[  551  1411     0]\n",
            " [  108 20670     0]\n",
            " [    0    18     4]]\n",
            "Confusion Matrix Dev: \n",
            "[[  61  211    0]\n",
            " [  22 2547    0]\n",
            " [   0    2    0]]\n",
            "Confusion Matrix Test: \n",
            "[[  62  188    0]\n",
            " [  25 2568    0]\n",
            " [   0    3    0]]\n"
          ]
        },
        {
          "output_type": "stream",
          "name": "stderr",
          "text": [
            "/usr/local/lib/python3.7/dist-packages/sklearn/metrics/_classification.py:1318: UndefinedMetricWarning: Precision is ill-defined and being set to 0.0 in labels with no predicted samples. Use `zero_division` parameter to control this behavior.\n",
            "  _warn_prf(average, modifier, msg_start, len(result))\n",
            "/usr/local/lib/python3.7/dist-packages/sklearn/metrics/_classification.py:1318: UndefinedMetricWarning: Precision is ill-defined and being set to 0.0 in labels with no predicted samples. Use `zero_division` parameter to control this behavior.\n",
            "  _warn_prf(average, modifier, msg_start, len(result))\n"
          ]
        }
      ],
      "source": [
        "computeAllScores(train_preds, dev_preds, test_preds)"
      ]
    },
    {
      "cell_type": "code",
      "source": [
        "filename = 'sent_t_pca_fast.sav'\n",
        "pickle.dump(xgboost, open(filename, 'wb'))"
      ],
      "metadata": {
        "id": "DkCOt7oLMuJg"
      },
      "execution_count": 71,
      "outputs": []
    },
    {
      "cell_type": "markdown",
      "metadata": {
        "id": "dsvg6O4m2qky"
      },
      "source": [
        "### Sentence Transformer Better No PCA"
      ]
    },
    {
      "cell_type": "code",
      "execution_count": 72,
      "metadata": {
        "id": "x6hNGhf52qky"
      },
      "outputs": [],
      "source": [
        "train, dev, test = load_sent_trans_better_no_pca(path)"
      ]
    },
    {
      "cell_type": "code",
      "execution_count": 73,
      "metadata": {
        "colab": {
          "base_uri": "https://localhost:8080/"
        },
        "id": "b_5pVbWH2qky",
        "outputId": "ef6e0fb8-c41a-4357-f73f-31f57b947494"
      },
      "outputs": [
        {
          "output_type": "execute_result",
          "data": {
            "text/plain": [
              "(22762, 768)"
            ]
          },
          "metadata": {},
          "execution_count": 73
        }
      ],
      "source": [
        "train.shape"
      ]
    },
    {
      "cell_type": "code",
      "execution_count": 74,
      "metadata": {
        "id": "lL3lvgix2qky"
      },
      "outputs": [],
      "source": [
        "xgboost = XGBClassifier(base_estimator = DecisionTreeClassifier(max_depth = 2), n_estimators = 100).fit(train, train_labels)"
      ]
    },
    {
      "cell_type": "code",
      "execution_count": 75,
      "metadata": {
        "id": "DCoqpzzZ2qky"
      },
      "outputs": [],
      "source": [
        "train_preds = xgboost.predict(train)\n",
        "dev_preds = xgboost.predict(dev)\n",
        "test_preds = xgboost.predict(test)"
      ]
    },
    {
      "cell_type": "code",
      "execution_count": 76,
      "metadata": {
        "colab": {
          "base_uri": "https://localhost:8080/"
        },
        "id": "1pLSbo9F2qky",
        "outputId": "c3860ff7-7f6c-4a81-e4b4-32aa1b0c83c4"
      },
      "outputs": [
        {
          "output_type": "stream",
          "name": "stdout",
          "text": [
            "Accuracy Train:  0.9397680344433705\n",
            "Accuracy Dev:  0.9250791417516707\n",
            "Accuracy Test:  0.9297259311314126\n",
            "F1 Train:  0.9294138800877898\n",
            "F1 Dev:  0.9120426263931851\n",
            "F1 Test:  0.9182740387185443\n",
            "Precision Train:  0.9346901121354545\n",
            "Precision Dev:  0.914629043049334\n",
            "Precision Test:  0.9187417883997595\n",
            "Recall Train:  0.9397680344433705\n",
            "Recall Dev:  0.9250791417516707\n",
            "Recall Test:  0.9297259311314126\n",
            "Confusion Matrix Train: \n",
            "[[  757  1205     0]\n",
            " [  151 20627     0]\n",
            " [    0    15     7]]\n",
            "Confusion Matrix Dev: \n",
            "[[  93  179    0]\n",
            " [  32 2537    0]\n",
            " [   0    2    0]]\n",
            "Confusion Matrix Test: \n",
            "[[  88  162    0]\n",
            " [  35 2558    0]\n",
            " [   0    3    0]]\n"
          ]
        },
        {
          "output_type": "stream",
          "name": "stderr",
          "text": [
            "/usr/local/lib/python3.7/dist-packages/sklearn/metrics/_classification.py:1318: UndefinedMetricWarning: Precision is ill-defined and being set to 0.0 in labels with no predicted samples. Use `zero_division` parameter to control this behavior.\n",
            "  _warn_prf(average, modifier, msg_start, len(result))\n",
            "/usr/local/lib/python3.7/dist-packages/sklearn/metrics/_classification.py:1318: UndefinedMetricWarning: Precision is ill-defined and being set to 0.0 in labels with no predicted samples. Use `zero_division` parameter to control this behavior.\n",
            "  _warn_prf(average, modifier, msg_start, len(result))\n"
          ]
        }
      ],
      "source": [
        "computeAllScores(train_preds, dev_preds, test_preds)"
      ]
    },
    {
      "cell_type": "code",
      "source": [
        "filename = 'sent_t_n0_pca_better.sav'\n",
        "pickle.dump(xgboost, open(filename, 'wb'))"
      ],
      "metadata": {
        "id": "TKgJE4HgMylk"
      },
      "execution_count": 77,
      "outputs": []
    },
    {
      "cell_type": "markdown",
      "metadata": {
        "id": "aQWebYSt2qkz"
      },
      "source": [
        "### Sentence Transformer Better PCA"
      ]
    },
    {
      "cell_type": "code",
      "execution_count": 78,
      "metadata": {
        "id": "bo9dyx2h2qkz"
      },
      "outputs": [],
      "source": [
        "train, dev, test = load_sent_trans_better_pca(path)"
      ]
    },
    {
      "cell_type": "code",
      "source": [
        "xgboost = XGBClassifier(base_estimator = DecisionTreeClassifier(max_depth = 2), n_estimators = 100)"
      ],
      "metadata": {
        "id": "ktWXwdfaVANJ"
      },
      "execution_count": 79,
      "outputs": []
    },
    {
      "cell_type": "code",
      "source": [
        "\"\"\"\n",
        "skf = StratifiedKFold(n_splits=2, shuffle = True)\n",
        "skf.get_n_splits(train, train_labels)\n",
        "train_labels = np.array(train_labels)\n",
        "print(skf)\n",
        "sum = 0\n",
        "for train_index, test_index in skf.split(train, train_labels):\n",
        "  print(\"TRAIN:\", train_index, \"TEST:\", test_index)\n",
        "  X_train, X_test = train[train_index], train[test_index]\n",
        "  y_train, y_test = train_labels[train_index], train_labels[test_index]\n",
        "  xgboost = XGBClassifier(base_estimator = DecisionTreeClassifier(max_depth = 2), n_estimators = 100)\n",
        "  xgboost.fit(X_train, y_train)\n",
        "  train_preds = xgboost.predict(X_train)\n",
        "  dev_preds = xgboost.predict(dev)\n",
        "  test_preds = xgboost.predict(X_test)\n",
        "  computeAllScores(y_train, y_test, train_preds, dev_preds, test_preds)\n",
        "  sum += xgboost.score(X_test, y_test)\n",
        "\"\"\""
      ],
      "metadata": {
        "colab": {
          "base_uri": "https://localhost:8080/",
          "height": 122
        },
        "id": "R0fA0heZURpa",
        "outputId": "453499d3-53b3-4d8e-a82f-951a6b6e2473"
      },
      "execution_count": 80,
      "outputs": [
        {
          "output_type": "execute_result",
          "data": {
            "text/plain": [
              "'\\nskf = StratifiedKFold(n_splits=2, shuffle = True)\\nskf.get_n_splits(train, train_labels)\\ntrain_labels = np.array(train_labels)\\nprint(skf)\\nsum = 0\\nfor train_index, test_index in skf.split(train, train_labels):\\n  print(\"TRAIN:\", train_index, \"TEST:\", test_index)\\n  X_train, X_test = train[train_index], train[test_index]\\n  y_train, y_test = train_labels[train_index], train_labels[test_index]\\n  xgboost = XGBClassifier(base_estimator = DecisionTreeClassifier(max_depth = 2), n_estimators = 100)\\n  xgboost.fit(X_train, y_train)\\n  train_preds = xgboost.predict(X_train)\\n  dev_preds = xgboost.predict(dev)\\n  test_preds = xgboost.predict(X_test)\\n  computeAllScores(y_train, y_test, train_preds, dev_preds, test_preds)\\n  sum += xgboost.score(X_test, y_test)\\n'"
            ],
            "application/vnd.google.colaboratory.intrinsic+json": {
              "type": "string"
            }
          },
          "metadata": {},
          "execution_count": 80
        }
      ]
    },
    {
      "cell_type": "code",
      "source": [
        "#xgboost = GridSearchCV(XGBClassifier(), xgb_params, n_jobs=-1, cv=5)"
      ],
      "metadata": {
        "id": "WNunSrCnHYm7"
      },
      "execution_count": null,
      "outputs": []
    },
    {
      "cell_type": "code",
      "execution_count": null,
      "metadata": {
        "id": "BEPWq3OU2qkz",
        "colab": {
          "base_uri": "https://localhost:8080/"
        },
        "outputId": "232a5f4b-e2fd-463c-b437-b893d6069a64"
      },
      "outputs": [
        {
          "output_type": "execute_result",
          "data": {
            "text/plain": [
              "GridSearchCV(cv=5, estimator=XGBClassifier(), n_jobs=-1,\n",
              "             param_grid={'XGB__n_estimators': [100, 200, 300],\n",
              "                         'base_estimator': [DecisionTreeClassifier(max_depth=2),\n",
              "                                            DecisionTreeClassifier(max_depth=1)]})"
            ]
          },
          "metadata": {},
          "execution_count": 47
        }
      ],
      "source": [
        "#xgboost.fit(train, train_labels)"
      ]
    },
    {
      "cell_type": "code",
      "source": [
        "print(f\"Best parameters: {xgboost.best_params_}\")"
      ],
      "metadata": {
        "colab": {
          "base_uri": "https://localhost:8080/"
        },
        "id": "eQnF2LhpHbD3",
        "outputId": "4a8f8f70-dbb6-4b12-882f-f1cbdaddd117"
      },
      "execution_count": null,
      "outputs": [
        {
          "output_type": "stream",
          "name": "stdout",
          "text": [
            "Best parameters: {'XGB__n_estimators': 100, 'base_estimator': DecisionTreeClassifier(max_depth=2)}\n"
          ]
        }
      ]
    },
    {
      "cell_type": "code",
      "source": [
        "xgboost.fit(train, train_labels)"
      ],
      "metadata": {
        "colab": {
          "base_uri": "https://localhost:8080/"
        },
        "id": "fJyf6IaiM8d1",
        "outputId": "1fedd3e3-0091-4973-963a-a973808a60b2"
      },
      "execution_count": 81,
      "outputs": [
        {
          "output_type": "execute_result",
          "data": {
            "text/plain": [
              "XGBClassifier(base_estimator=DecisionTreeClassifier(max_depth=2),\n",
              "              objective='multi:softprob')"
            ]
          },
          "metadata": {},
          "execution_count": 81
        }
      ]
    },
    {
      "cell_type": "code",
      "execution_count": 82,
      "metadata": {
        "id": "GJFx5Ssy2qkz"
      },
      "outputs": [],
      "source": [
        "train_preds = xgboost.predict(train)\n",
        "dev_preds = xgboost.predict(dev)\n",
        "test_preds = xgboost.predict(test)"
      ]
    },
    {
      "cell_type": "code",
      "execution_count": 83,
      "metadata": {
        "colab": {
          "base_uri": "https://localhost:8080/"
        },
        "id": "bibMBGo12qkz",
        "outputId": "2aa7308b-2850-4e6d-8ebb-e9b8ebe54b2b"
      },
      "outputs": [
        {
          "output_type": "stream",
          "name": "stdout",
          "text": [
            "Accuracy Train:  0.9361655390563219\n",
            "Accuracy Dev:  0.9212099894477664\n",
            "Accuracy Test:  0.9311314125087843\n",
            "F1 Train:  0.9223368634540978\n",
            "F1 Dev:  0.9040964101490095\n",
            "F1 Test:  0.9163887500442911\n",
            "Precision Train:  0.9320676138954185\n",
            "Precision Dev:  0.9098218097189547\n",
            "Precision Test:  0.9227567666571385\n",
            "Recall Train:  0.9361655390563219\n",
            "Recall Dev:  0.9212099894477664\n",
            "Recall Test:  0.9311314125087843\n",
            "Confusion Matrix Train: \n",
            "[[  622  1340     0]\n",
            " [   99 20679     0]\n",
            " [    0    14     8]]\n",
            "Confusion Matrix Dev: \n",
            "[[  75  197    0]\n",
            " [  25 2544    0]\n",
            " [   0    2    0]]\n",
            "Confusion Matrix Test: \n",
            "[[  76  174    0]\n",
            " [  19 2574    0]\n",
            " [   0    3    0]]\n"
          ]
        },
        {
          "output_type": "stream",
          "name": "stderr",
          "text": [
            "/usr/local/lib/python3.7/dist-packages/sklearn/metrics/_classification.py:1318: UndefinedMetricWarning: Precision is ill-defined and being set to 0.0 in labels with no predicted samples. Use `zero_division` parameter to control this behavior.\n",
            "  _warn_prf(average, modifier, msg_start, len(result))\n",
            "/usr/local/lib/python3.7/dist-packages/sklearn/metrics/_classification.py:1318: UndefinedMetricWarning: Precision is ill-defined and being set to 0.0 in labels with no predicted samples. Use `zero_division` parameter to control this behavior.\n",
            "  _warn_prf(average, modifier, msg_start, len(result))\n"
          ]
        }
      ],
      "source": [
        "computeAllScores(train_preds, dev_preds, test_preds)"
      ]
    },
    {
      "cell_type": "code",
      "source": [
        "filename = 'sent_t_pca_better.sav'\n",
        "pickle.dump(xgboost, open(filename, 'wb'))"
      ],
      "metadata": {
        "id": "9Rlr3ZBac1Kv"
      },
      "execution_count": 84,
      "outputs": []
    },
    {
      "cell_type": "code",
      "source": [
        "!mkdir \"/content/drive/MyDrive/XGB_models\""
      ],
      "metadata": {
        "id": "J4KvQjP9NE7T"
      },
      "execution_count": 85,
      "outputs": []
    },
    {
      "cell_type": "code",
      "source": [
        "!mv xgb_ft300.sav \"/content/drive/MyDrive/XGB_models\""
      ],
      "metadata": {
        "id": "zCEhBc2iR587"
      },
      "execution_count": 87,
      "outputs": []
    },
    {
      "cell_type": "code",
      "source": [
        "!mv xgb_gt25.sav \"/content/drive/MyDrive/XGB_models\""
      ],
      "metadata": {
        "id": "iRLuEeGWSOb1"
      },
      "execution_count": 88,
      "outputs": []
    },
    {
      "cell_type": "code",
      "source": [
        "!mv xgb_sent_t_no_pca_better.sav \"/content/drive/MyDrive/XGB_models\""
      ],
      "metadata": {
        "id": "TSVhC09OSdBX"
      },
      "execution_count": 89,
      "outputs": []
    },
    {
      "cell_type": "code",
      "source": [
        "!mv xgb_sent_t_pca_better.sav \"/content/drive/MyDrive/XGB_models\""
      ],
      "metadata": {
        "id": "DyaVeVYlSi1F"
      },
      "execution_count": 90,
      "outputs": []
    },
    {
      "cell_type": "code",
      "source": [
        "!mv xgb_sent_t_no_pca_fast.sav \"/content/drive/MyDrive/XGB_models\""
      ],
      "metadata": {
        "id": "ryqbWM5SSmy6"
      },
      "execution_count": 91,
      "outputs": []
    },
    {
      "cell_type": "code",
      "source": [
        "!mv xgb_sent_t_pca_fast.sav \"/content/drive/MyDrive/XGB_models\""
      ],
      "metadata": {
        "id": "rFProIrKSp1B"
      },
      "execution_count": 92,
      "outputs": []
    },
    {
      "cell_type": "code",
      "source": [
        "!mv xgb_tfidf_pca.sav \"/content/drive/MyDrive/XGB_models\""
      ],
      "metadata": {
        "id": "pAAv0SaISsP1"
      },
      "execution_count": 93,
      "outputs": []
    },
    {
      "cell_type": "code",
      "source": [
        "!mv xgboost_w2v300.sav \"/content/drive/MyDrive/XGB_models\""
      ],
      "metadata": {
        "id": "gwmSj2yqSvT1"
      },
      "execution_count": 94,
      "outputs": []
    }
  ],
  "metadata": {
    "kernelspec": {
      "display_name": "Python 3 (ipykernel)",
      "language": "python",
      "name": "python3"
    },
    "language_info": {
      "codemirror_mode": {
        "name": "ipython",
        "version": 3
      },
      "file_extension": ".py",
      "mimetype": "text/x-python",
      "name": "python",
      "nbconvert_exporter": "python",
      "pygments_lexer": "ipython3",
      "version": "3.9.1"
    },
    "vscode": {
      "interpreter": {
        "hash": "a5a87ee616be0254e3f1af9223138e3faeac65b2c9d91bc22a9fc5a4a8bd8eb0"
      }
    },
    "colab": {
      "provenance": [],
      "collapsed_sections": [
        "VX1ySe7Z2qkq",
        "47CStRzU2qkr",
        "7rxOoa3O2qkv",
        "3YSDv3pb2qkw",
        "dsvg6O4m2qky",
        "aQWebYSt2qkz"
      ]
    },
    "accelerator": "GPU"
  },
  "nbformat": 4,
  "nbformat_minor": 0
}