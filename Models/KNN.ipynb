{
 "cells": [
  {
   "cell_type": "code",
   "execution_count": 1,
   "metadata": {},
   "outputs": [],
   "source": [
    "from embeddings_loader import *\n",
    "from sklearn.neighbors import KNeighborsClassifier\n",
    "from sklearn.metrics import f1_score\n",
    "from sklearn.metrics import accuracy_score\n",
    "from sklearn.metrics import confusion_matrix\n",
    "from sklearn.metrics import classification_report\n",
    "from sklearn.metrics import recall_score\n",
    "from sklearn.metrics import precision_score\n",
    "from sklearn.metrics import roc_auc_score\n",
    "from utils import *\n"
   ]
  },
  {
   "cell_type": "code",
   "execution_count": 2,
   "metadata": {},
   "outputs": [],
   "source": [
    "train_labels, dev_labels, test_labels = load_labels()"
   ]
  },
  {
   "cell_type": "code",
   "execution_count": 3,
   "metadata": {},
   "outputs": [],
   "source": [
    "label_replacement = {\n",
    "    'Hope_speech': 0,\n",
    "    'Non_hope_speech': 1,\n",
    "    'not-English': 2,\n",
    "}"
   ]
  },
  {
   "cell_type": "code",
   "execution_count": 4,
   "metadata": {},
   "outputs": [],
   "source": [
    "# Replace labels with numbers\n",
    "train_labels = [label_replacement[label] for label in train_labels]\n",
    "dev_labels = [label_replacement[label] for label in dev_labels]\n",
    "test_labels = [label_replacement[label] for label in test_labels]"
   ]
  },
  {
   "cell_type": "markdown",
   "metadata": {},
   "source": [
    "### Glove Twitter 25"
   ]
  },
  {
   "cell_type": "code",
   "execution_count": 5,
   "metadata": {},
   "outputs": [],
   "source": [
    "gt25_train, gt25_dev, gt25_test = load_glove_twitter_25()"
   ]
  },
  {
   "cell_type": "code",
   "execution_count": 6,
   "metadata": {},
   "outputs": [],
   "source": [
    "# Set all NaN values to 0\n",
    "gt25_train = np.nan_to_num(gt25_train)\n",
    "gt25_dev = np.nan_to_num(gt25_dev)\n",
    "gt25_test = np.nan_to_num(gt25_test)"
   ]
  },
  {
   "cell_type": "code",
   "execution_count": 7,
   "metadata": {},
   "outputs": [],
   "source": [
    "KNN = KNeighborsClassifier(n_neighbors=3).fit(gt25_train, train_labels)\n",
    "save_model(KNN, 'KNN_gt25.joblib')"
   ]
  },
  {
   "cell_type": "code",
   "execution_count": 8,
   "metadata": {},
   "outputs": [],
   "source": [
    "train_preds = KNN.predict(gt25_train)\n",
    "dev_preds = KNN.predict(gt25_dev)\n",
    "test_preds = KNN.predict(gt25_test)"
   ]
  },
  {
   "cell_type": "code",
   "execution_count": 9,
   "metadata": {},
   "outputs": [
    {
     "name": "stdout",
     "output_type": "stream",
     "text": [
      "Accuracy Train:  0.9424479395483701\n",
      "Accuracy Dev:  0.8895532887794583\n",
      "Accuracy Test:  0.8942375263527759\n",
      "Weighted F1 Train:  0.937904602889989\n",
      "Weighted F1 Dev:  0.8816153628397662\n",
      "Weighted F1 Test:  0.8877020916618915\n",
      "Macro F1 Train:  0.63101796382433\n",
      "Macro F1 Dev:  0.4262458212469269\n",
      "Macro F1 Test:  0.423813613422765\n",
      "Micro F1 Train:  0.9424479395483701\n",
      "Micro F1 Dev:  0.8895532887794583\n",
      "Micro F1 Test:  0.8942375263527759\n",
      "Weighted Recall Train:  0.9424479395483701\n",
      "Weighted Recall Dev:  0.8895532887794583\n",
      "Weighted Recall Test:  0.8942375263527759\n",
      "Macro Recall Train:  0.5645402284101826\n",
      "Macro Recall Dev:  0.4158022882177394\n",
      "Macro Recall Test:  0.41511196811929557\n",
      "Micro Recall Train:  0.9424479395483701\n",
      "Micro Recall Dev:  0.8895532887794583\n",
      "Micro Recall Test:  0.8942375263527759\n",
      "Confusion Matrix Train: \n",
      "[[ 1039   923     0]\n",
      " [  369 20409     0]\n",
      " [    1    17     4]]\n",
      "Confusion Matrix Dev: \n",
      "[[  80  192    0]\n",
      " [ 120 2449    0]\n",
      " [   0    2    0]]\n",
      "Confusion Matrix Test: \n",
      "[[  73  177    0]\n",
      " [ 121 2472    0]\n",
      " [   0    3    0]]\n"
     ]
    }
   ],
   "source": [
    "computeAllScores(train_preds, dev_preds, test_preds)"
   ]
  },
  {
   "cell_type": "markdown",
   "metadata": {},
   "source": [
    "### FastText 300 "
   ]
  },
  {
   "cell_type": "code",
   "execution_count": 10,
   "metadata": {},
   "outputs": [],
   "source": [
    "ft300_train, ft300_dev, ft300_test = load_fasttext_300()"
   ]
  },
  {
   "cell_type": "code",
   "execution_count": 11,
   "metadata": {},
   "outputs": [],
   "source": [
    "# Set all NaN values to 0\n",
    "ft300_train = np.nan_to_num(ft300_train)\n",
    "ft300_dev = np.nan_to_num(ft300_dev)\n",
    "ft300_test = np.nan_to_num(ft300_test)"
   ]
  },
  {
   "cell_type": "code",
   "execution_count": 12,
   "metadata": {},
   "outputs": [],
   "source": [
    "KNN = KNeighborsClassifier(n_neighbors=3).fit(ft300_train, train_labels)\n",
    "save_model(KNN, 'KNN_ft300.joblib')"
   ]
  },
  {
   "cell_type": "code",
   "execution_count": 13,
   "metadata": {},
   "outputs": [],
   "source": [
    "train_preds = KNN.predict(ft300_train)\n",
    "dev_preds = KNN.predict(ft300_dev)\n",
    "test_preds = KNN.predict(ft300_test)"
   ]
  },
  {
   "cell_type": "code",
   "execution_count": 14,
   "metadata": {},
   "outputs": [
    {
     "name": "stdout",
     "output_type": "stream",
     "text": [
      "Accuracy Train:  0.9362534047974694\n",
      "Accuracy Dev:  0.8705592683784734\n",
      "Accuracy Test:  0.8713984539704849\n",
      "Weighted F1 Train:  0.9349173130564195\n",
      "Weighted F1 Dev:  0.871869799221996\n",
      "Weighted F1 Test:  0.8754218074936921\n",
      "Macro F1 Train:  0.6310960404746296\n",
      "Macro F1 Dev:  0.4248698933125163\n",
      "Macro F1 Test:  0.42012283673993783\n",
      "Micro F1 Train:  0.9362534047974694\n",
      "Micro F1 Dev:  0.8705592683784734\n",
      "Micro F1 Test:  0.8713984539704849\n",
      "Weighted Recall Train:  0.9362534047974694\n",
      "Weighted Recall Dev:  0.8705592683784734\n",
      "Weighted Recall Test:  0.8713984539704849\n",
      "Macro Recall Train:  0.5828943960396512\n",
      "Macro Recall Dev:  0.42742321724330057\n",
      "Macro Recall Test:  0.4272374341174958\n",
      "Micro Recall Train:  0.9362534047974694\n",
      "Micro Recall Dev:  0.8705592683784734\n",
      "Micro Recall Test:  0.8713984539704849\n",
      "Confusion Matrix Train: \n",
      "[[ 1173   789     0]\n",
      " [  644 20134     0]\n",
      " [    3    15     4]]\n",
      "Confusion Matrix Dev: \n",
      "[[  97  175    0]\n",
      " [ 191 2378    0]\n",
      " [   0    2    0]]\n",
      "Confusion Matrix Test: \n",
      "[[  90  160    0]\n",
      " [ 203 2390    0]\n",
      " [   0    3    0]]\n"
     ]
    }
   ],
   "source": [
    "computeAllScores(train_preds, dev_preds, test_preds)"
   ]
  },
  {
   "cell_type": "markdown",
   "metadata": {},
   "source": [
    "### Word2Vec 300"
   ]
  },
  {
   "cell_type": "code",
   "execution_count": 15,
   "metadata": {},
   "outputs": [],
   "source": [
    "w2v300_train, w2v300_dev, w2v300_test = load_word2vec_300()"
   ]
  },
  {
   "cell_type": "code",
   "execution_count": 16,
   "metadata": {},
   "outputs": [],
   "source": [
    "# Set all NaN values to 0\n",
    "w2v300_train = np.nan_to_num(w2v300_train)\n",
    "w2v300_dev = np.nan_to_num(w2v300_dev)\n",
    "w2v300_test = np.nan_to_num(w2v300_test)"
   ]
  },
  {
   "cell_type": "code",
   "execution_count": 17,
   "metadata": {},
   "outputs": [],
   "source": [
    "KNN = KNeighborsClassifier(n_neighbors=3).fit(w2v300_train, train_labels)\n",
    "save_model(KNN, 'KNN_w2v300.joblib')"
   ]
  },
  {
   "cell_type": "code",
   "execution_count": 18,
   "metadata": {},
   "outputs": [],
   "source": [
    "train_preds = KNN.predict(w2v300_train)\n",
    "dev_preds = KNN.predict(w2v300_dev)\n",
    "test_preds = KNN.predict(w2v300_test)"
   ]
  },
  {
   "cell_type": "code",
   "execution_count": 19,
   "metadata": {},
   "outputs": [
    {
     "name": "stdout",
     "output_type": "stream",
     "text": [
      "Accuracy Train:  0.935770143221158\n",
      "Accuracy Dev:  0.8550826591628561\n",
      "Accuracy Test:  0.8777231201686577\n",
      "Weighted F1 Train:  0.9374698194204653\n",
      "Weighted F1 Dev:  0.8646779799072708\n",
      "Weighted F1 Test:  0.8870442186337211\n",
      "Macro F1 Train:  0.6635444000875824\n",
      "Macro F1 Dev:  0.4278488646247241\n",
      "Macro F1 Test:  0.45621206920710583\n",
      "Micro F1 Train:  0.935770143221158\n",
      "Micro F1 Dev:  0.8550826591628561\n",
      "Micro F1 Test:  0.8777231201686577\n",
      "Weighted Recall Train:  0.935770143221158\n",
      "Weighted Recall Dev:  0.8550826591628561\n",
      "Weighted Recall Test:  0.8777231201686577\n",
      "Macro Recall Train:  0.6295469234454629\n",
      "Macro Recall Dev:  0.4447246200932689\n",
      "Macro Recall Test:  0.48256176886489266\n",
      "Micro Recall Train:  0.935770143221158\n",
      "Micro Recall Dev:  0.8550826591628561\n",
      "Micro Recall Test:  0.8777231201686577\n",
      "Confusion Matrix Train: \n",
      "[[ 1379   583     0]\n",
      " [  862 19916     0]\n",
      " [    4    13     5]]\n",
      "Confusion Matrix Dev: \n",
      "[[ 118  154    0]\n",
      " [ 256 2313    0]\n",
      " [   0    2    0]]\n",
      "Confusion Matrix Test: \n",
      "[[ 134  116    0]\n",
      " [ 229 2364    0]\n",
      " [   0    3    0]]\n"
     ]
    }
   ],
   "source": [
    "computeAllScores(train_preds, dev_preds, test_preds)"
   ]
  },
  {
   "cell_type": "markdown",
   "metadata": {},
   "source": [
    "### TF-IDF PCA (1000 Dims)"
   ]
  },
  {
   "cell_type": "code",
   "execution_count": 20,
   "metadata": {},
   "outputs": [],
   "source": [
    "tfidf_pca_train, tfidf_pca_dev, tfidf_pca_test = load_tfidf_pca()"
   ]
  },
  {
   "cell_type": "code",
   "execution_count": 21,
   "metadata": {},
   "outputs": [],
   "source": [
    "KNN = KNeighborsClassifier(n_neighbors=3).fit(tfidf_pca_train, train_labels)\n",
    "save_model(KNN, 'KNN_tfidf_pca.joblib')"
   ]
  },
  {
   "cell_type": "code",
   "execution_count": 22,
   "metadata": {},
   "outputs": [],
   "source": [
    "train_preds = KNN.predict(tfidf_pca_train)\n",
    "dev_preds = KNN.predict(tfidf_pca_dev)\n",
    "test_preds = KNN.predict(tfidf_pca_test)"
   ]
  },
  {
   "cell_type": "code",
   "execution_count": 23,
   "metadata": {},
   "outputs": [
    {
     "name": "stdout",
     "output_type": "stream",
     "text": [
      "Accuracy Train:  0.9341885598805026\n",
      "Accuracy Dev:  0.9046781568765389\n",
      "Accuracy Test:  0.9086437104708363\n",
      "Weighted F1 Train:  0.9221761418639955\n",
      "Weighted F1 Dev:  0.8842619678645663\n",
      "Weighted F1 Test:  0.8892470313585188\n",
      "Macro F1 Train:  0.5879187479278969\n",
      "Macro F1 Dev:  0.4095145734591559\n",
      "Macro F1 Test:  0.4023870862925312\n",
      "Micro F1 Train:  0.9341885598805026\n",
      "Micro F1 Dev:  0.9046781568765389\n",
      "Micro F1 Test:  0.9086437104708363\n",
      "Weighted Recall Train:  0.9341885598805026\n",
      "Weighted Recall Dev:  0.9046781568765389\n",
      "Weighted Recall Test:  0.9086437104708363\n",
      "Macro Recall Train:  0.5201959858260939\n",
      "Macro Recall Dev:  0.3907009670353155\n",
      "Macro Recall Test:  0.38544388738912455\n",
      "Micro Recall Train:  0.9341885598805026\n",
      "Micro Recall Dev:  0.9046781568765389\n",
      "Micro Recall Test:  0.9086437104708363\n",
      "Confusion Matrix Train: \n",
      "[[  672  1290     0]\n",
      " [  187 20587     4]\n",
      " [    1    16     5]]\n",
      "Confusion Matrix Dev: \n",
      "[[  52  220    0]\n",
      " [  48 2520    1]\n",
      " [   0    2    0]]\n",
      "Confusion Matrix Test: \n",
      "[[  44  206    0]\n",
      " [  50 2542    1]\n",
      " [   0    3    0]]\n"
     ]
    }
   ],
   "source": [
    "computeAllScores(train_preds, dev_preds, test_preds)"
   ]
  },
  {
   "cell_type": "markdown",
   "metadata": {},
   "source": [
    "### Sentence Transformer Faster No PCA"
   ]
  },
  {
   "cell_type": "code",
   "execution_count": 24,
   "metadata": {},
   "outputs": [],
   "source": [
    "train, dev, test = load_sent_trans_fast_no_pca()"
   ]
  },
  {
   "cell_type": "code",
   "execution_count": 25,
   "metadata": {},
   "outputs": [],
   "source": [
    "KNN = KNeighborsClassifier(n_neighbors=3).fit(train, train_labels)\n",
    "save_model(KNN, \"KNN_sent_trans_fast_no_pca.joblib\")"
   ]
  },
  {
   "cell_type": "code",
   "execution_count": 26,
   "metadata": {},
   "outputs": [],
   "source": [
    "train_preds = KNN.predict(train)\n",
    "dev_preds = KNN.predict(dev)\n",
    "test_preds = KNN.predict(test)"
   ]
  },
  {
   "cell_type": "code",
   "execution_count": 27,
   "metadata": {},
   "outputs": [
    {
     "name": "stdout",
     "output_type": "stream",
     "text": [
      "Accuracy Train:  0.9507951849573851\n",
      "Accuracy Dev:  0.9053816391136124\n",
      "Accuracy Test:  0.9111033028812369\n",
      "Weighted F1 Train:  0.9486382373314389\n",
      "Weighted F1 Dev:  0.9030152873497449\n",
      "Weighted F1 Test:  0.910530687437633\n",
      "Macro F1 Train:  0.6584506532857021\n",
      "Macro F1 Dev:  0.47782260546475\n",
      "Macro F1 Test:  0.4834185876835533\n",
      "Micro F1 Train:  0.9507951849573851\n",
      "Micro F1 Dev:  0.9053816391136124\n",
      "Micro F1 Test:  0.9111033028812369\n",
      "Weighted Recall Train:  0.9507951849573851\n",
      "Weighted Recall Dev:  0.9053816391136124\n",
      "Weighted Recall Test:  0.9111033028812369\n",
      "Macro Recall Train:  0.6008203682781857\n",
      "Macro Recall Dev:  0.4720450850639984\n",
      "Macro Recall Test:  0.48272631443630293\n",
      "Micro Recall Train:  0.9507951849573851\n",
      "Micro Recall Dev:  0.9053816391136124\n",
      "Micro Recall Test:  0.9111033028812369\n",
      "Confusion Matrix Train: \n",
      "[[ 1255   707     0]\n",
      " [  395 20383     0]\n",
      " [    3    15     4]]\n",
      "Confusion Matrix Dev: \n",
      "[[ 126  146    0]\n",
      " [ 121 2448    0]\n",
      " [   0    2    0]]\n",
      "Confusion Matrix Test: \n",
      "[[ 124  126    0]\n",
      " [ 123 2469    1]\n",
      " [   0    3    0]]\n"
     ]
    }
   ],
   "source": [
    "computeAllScores(train_preds, dev_preds, test_preds)"
   ]
  },
  {
   "cell_type": "markdown",
   "metadata": {},
   "source": [
    "### Sentence Transformer Faster PCA"
   ]
  },
  {
   "cell_type": "code",
   "execution_count": 28,
   "metadata": {},
   "outputs": [],
   "source": [
    "train, dev, test = load_sent_trans_fast_pca()"
   ]
  },
  {
   "cell_type": "code",
   "execution_count": 29,
   "metadata": {},
   "outputs": [],
   "source": [
    "KNN = KNeighborsClassifier(n_neighbors=3).fit(train, train_labels)\n",
    "save_model(KNN, \"KNN_sent_trans_fast_pca.joblib\")"
   ]
  },
  {
   "cell_type": "code",
   "execution_count": 30,
   "metadata": {},
   "outputs": [],
   "source": [
    "train_preds = KNN.predict(train)\n",
    "dev_preds = KNN.predict(dev)\n",
    "test_preds = KNN.predict(test)"
   ]
  },
  {
   "cell_type": "code",
   "execution_count": 31,
   "metadata": {},
   "outputs": [
    {
     "name": "stdout",
     "output_type": "stream",
     "text": [
      "Accuracy Train:  0.9505315877339425\n",
      "Accuracy Dev:  0.9064368624692226\n",
      "Accuracy Test:  0.9125087842586086\n",
      "Weighted F1 Train:  0.9481876793683077\n",
      "Weighted F1 Dev:  0.903138269070265\n",
      "Weighted F1 Test:  0.9114610329931896\n",
      "Macro F1 Train:  0.657113058153801\n",
      "Macro F1 Dev:  0.4763079750270783\n",
      "Macro F1 Test:  0.4843686909558376\n",
      "Micro F1 Train:  0.9505315877339425\n",
      "Micro F1 Dev:  0.9064368624692226\n",
      "Micro F1 Test:  0.9125087842586086\n",
      "Weighted Recall Train:  0.9505315877339425\n",
      "Weighted Recall Dev:  0.9064368624692226\n",
      "Weighted Recall Test:  0.9125087842586086\n",
      "Macro Recall Train:  0.5982624797249653\n",
      "Macro Recall Dev:  0.4680513894931269\n",
      "Macro Recall Test:  0.4820357372412906\n",
      "Micro Recall Train:  0.9505315877339425\n",
      "Micro Recall Dev:  0.9064368624692226\n",
      "Micro Recall Test:  0.9125087842586086\n",
      "Confusion Matrix Train: \n",
      "[[ 1239   723     0]\n",
      " [  385 20393     0]\n",
      " [    3    15     4]]\n",
      "Confusion Matrix Dev: \n",
      "[[ 122  150    0]\n",
      " [ 114 2455    0]\n",
      " [   0    2    0]]\n",
      "Confusion Matrix Test: \n",
      "[[ 123  127    0]\n",
      " [ 118 2474    1]\n",
      " [   0    3    0]]\n"
     ]
    }
   ],
   "source": [
    "computeAllScores(train_preds, dev_preds, test_preds)"
   ]
  },
  {
   "cell_type": "markdown",
   "metadata": {},
   "source": [
    "### Sentence Transformer Better No PCA"
   ]
  },
  {
   "cell_type": "code",
   "execution_count": 32,
   "metadata": {},
   "outputs": [],
   "source": [
    "train, dev, test = load_sent_trans_better_no_pca()"
   ]
  },
  {
   "cell_type": "code",
   "execution_count": 33,
   "metadata": {},
   "outputs": [],
   "source": [
    "KNN = KNeighborsClassifier(n_neighbors=3).fit(train, train_labels)\n",
    "save_model(KNN, \"KNN_sent_trans_best_no_pca.joblib\")"
   ]
  },
  {
   "cell_type": "code",
   "execution_count": 34,
   "metadata": {},
   "outputs": [],
   "source": [
    "train_preds = KNN.predict(train)\n",
    "dev_preds = KNN.predict(dev)\n",
    "test_preds = KNN.predict(test)"
   ]
  },
  {
   "cell_type": "code",
   "execution_count": 35,
   "metadata": {},
   "outputs": [
    {
     "name": "stdout",
     "output_type": "stream",
     "text": [
      "Accuracy Train:  0.9514541780159915\n",
      "Accuracy Dev:  0.9057333802321491\n",
      "Accuracy Test:  0.9170765987350668\n",
      "Weighted F1 Train:  0.9505703604798112\n",
      "Weighted F1 Dev:  0.9055530001713613\n",
      "Weighted F1 Test:  0.9172253133794303\n",
      "Macro F1 Train:  0.6815443430257889\n",
      "Macro F1 Dev:  0.48688671304475123\n",
      "Macro F1 Test:  0.4988932800327692\n",
      "Micro F1 Train:  0.9514541780159915\n",
      "Micro F1 Dev:  0.9057333802321491\n",
      "Micro F1 Test:  0.9170765987350668\n",
      "Weighted Recall Train:  0.9514541780159915\n",
      "Weighted Recall Dev:  0.9057333802321491\n",
      "Weighted Recall Test:  0.9170765987350668\n",
      "Macro Recall Train:  0.632197093796386\n",
      "Macro Recall Dev:  0.4875151695555606\n",
      "Macro Recall Test:  0.5017786347859622\n",
      "Micro Recall Train:  0.9514541780159915\n",
      "Micro Recall Dev:  0.9057333802321491\n",
      "Micro Recall Test:  0.9170765987350668\n",
      "Confusion Matrix Train: \n",
      "[[ 1359   603     0]\n",
      " [  484 20293     1]\n",
      " [    2    15     5]]\n",
      "Confusion Matrix Dev: \n",
      "[[ 140  132    0]\n",
      " [ 134 2435    0]\n",
      " [   0    2    0]]\n",
      "Confusion Matrix Test: \n",
      "[[ 138  112    0]\n",
      " [ 121 2472    0]\n",
      " [   0    3    0]]\n"
     ]
    }
   ],
   "source": [
    "computeAllScores(train_preds, dev_preds, test_preds)"
   ]
  },
  {
   "cell_type": "markdown",
   "metadata": {},
   "source": [
    "### Sentence Transformer Better PCA"
   ]
  },
  {
   "cell_type": "code",
   "execution_count": 36,
   "metadata": {},
   "outputs": [],
   "source": [
    "train, dev, test = load_sent_trans_better_pca()"
   ]
  },
  {
   "cell_type": "code",
   "execution_count": 37,
   "metadata": {},
   "outputs": [],
   "source": [
    "KNN = KNeighborsClassifier(n_neighbors=3).fit(train, train_labels)\n",
    "save_model(KNN, \"KNN_sent_trans_best_pca.joblib\")"
   ]
  },
  {
   "cell_type": "code",
   "execution_count": 38,
   "metadata": {},
   "outputs": [],
   "source": [
    "train_preds = KNN.predict(train)\n",
    "dev_preds = KNN.predict(dev)\n",
    "test_preds = KNN.predict(test)"
   ]
  },
  {
   "cell_type": "code",
   "execution_count": 39,
   "metadata": {},
   "outputs": [
    {
     "name": "stdout",
     "output_type": "stream",
     "text": [
      "Accuracy Train:  0.951366312274844\n",
      "Accuracy Dev:  0.9050298979950756\n",
      "Accuracy Test:  0.9177793394237527\n",
      "Weighted F1 Train:  0.9504101384812274\n",
      "Weighted F1 Dev:  0.9045411721977727\n",
      "Weighted F1 Test:  0.9177808720785676\n",
      "Macro F1 Train:  0.6810537202231489\n",
      "Macro F1 Dev:  0.48434210129732574\n",
      "Macro F1 Test:  0.49974079597331683\n",
      "Micro F1 Train:  0.951366312274844\n",
      "Micro F1 Dev:  0.9050298979950756\n",
      "Micro F1 Test:  0.9177793394237527\n",
      "Weighted Recall Train:  0.951366312274844\n",
      "Weighted Recall Dev:  0.9050298979950756\n",
      "Weighted Recall Test:  0.9177793394237527\n",
      "Macro Recall Train:  0.6310880441850831\n",
      "Macro Recall Dev:  0.48396845114067427\n",
      "Macro Recall Test:  0.5020357372412906\n",
      "Micro Recall Train:  0.951366312274844\n",
      "Micro Recall Dev:  0.9050298979950756\n",
      "Micro Recall Test:  0.9177793394237527\n",
      "Confusion Matrix Train: \n",
      "[[ 1352   610     0]\n",
      " [  479 20298     1]\n",
      " [    2    15     5]]\n",
      "Confusion Matrix Dev: \n",
      "[[ 137  135    0]\n",
      " [ 133 2436    0]\n",
      " [   0    2    0]]\n",
      "Confusion Matrix Test: \n",
      "[[ 138  112    0]\n",
      " [ 119 2474    0]\n",
      " [   0    3    0]]\n"
     ]
    }
   ],
   "source": [
    "computeAllScores(train_preds, dev_preds, test_preds)"
   ]
  }
 ],
 "metadata": {
  "kernelspec": {
   "display_name": "Python 3.9.13 64-bit (microsoft store)",
   "language": "python",
   "name": "python3"
  },
  "language_info": {
   "codemirror_mode": {
    "name": "ipython",
    "version": 3
   },
   "file_extension": ".py",
   "mimetype": "text/x-python",
   "name": "python",
   "nbconvert_exporter": "python",
   "pygments_lexer": "ipython3",
   "version": "3.9.13"
  },
  "orig_nbformat": 4,
  "vscode": {
   "interpreter": {
    "hash": "a5a87ee616be0254e3f1af9223138e3faeac65b2c9d91bc22a9fc5a4a8bd8eb0"
   }
  }
 },
 "nbformat": 4,
 "nbformat_minor": 2
}
