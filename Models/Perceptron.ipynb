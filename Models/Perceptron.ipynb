{
 "cells": [
  {
   "cell_type": "code",
   "execution_count": 50,
   "metadata": {},
   "outputs": [],
   "source": [
    "from embeddings_loader import *\n",
    "from sklearn.linear_model import Perceptron\n",
    "from sklearn.model_selection import GridSearchCV\n",
    "from sklearn.metrics import f1_score\n",
    "from sklearn.metrics import accuracy_score\n",
    "from sklearn.metrics import confusion_matrix\n",
    "from sklearn.metrics import classification_report\n",
    "from sklearn.metrics import recall_score\n",
    "from sklearn.metrics import precision_score\n",
    "from sklearn.metrics import roc_auc_score\n"
   ]
  },
  {
   "cell_type": "code",
   "execution_count": 2,
   "metadata": {},
   "outputs": [],
   "source": [
    "train_labels, dev_labels, test_labels = load_labels()"
   ]
  },
  {
   "cell_type": "code",
   "execution_count": 3,
   "metadata": {},
   "outputs": [],
   "source": [
    "def computeAllScores(y_pred_train, y_pred_dev, y_pred_test):\n",
    "    print(\"Accuracy Train: \", accuracy_score(train_labels, y_pred_train))\n",
    "    print(\"Accuracy Dev: \", accuracy_score(dev_labels, y_pred_dev))\n",
    "    print(\"Accuracy Test: \", accuracy_score(test_labels, y_pred_test))\n",
    "    print(\"F1 Train: \", f1_score(train_labels, y_pred_train, average='macro'))\n",
    "    print(\"F1 Dev: \", f1_score(dev_labels, y_pred_dev, average='macro'))\n",
    "    print(\"F1 Test: \", f1_score(test_labels, y_pred_test, average='macro'))\n",
    "    print(\"Precision Train: \", precision_score(train_labels, y_pred_train, average='macro'))\n",
    "    print(\"Precision Dev: \", precision_score(dev_labels, y_pred_dev, average='macro'))\n",
    "    print(\"Precision Test: \", precision_score(test_labels, y_pred_test, average='macro'))\n",
    "    print(\"Recall Train: \", recall_score(train_labels, y_pred_train, average='macro'))\n",
    "    print(\"Recall Dev: \", recall_score(dev_labels, y_pred_dev, average='macro'))\n",
    "    print(\"Recall Test: \", recall_score(test_labels, y_pred_test, average='macro'))\n",
    "    # Confusion Matrix\n",
    "    print(\"Confusion Matrix Train: \")\n",
    "    print(confusion_matrix(train_labels, y_pred_train))\n",
    "    print(\"Confusion Matrix Dev: \")\n",
    "    print(confusion_matrix(dev_labels, y_pred_dev))\n",
    "    print(\"Confusion Matrix Test: \")\n",
    "    print(confusion_matrix(test_labels, y_pred_test))"
   ]
  },
  {
   "cell_type": "code",
   "execution_count": 4,
   "metadata": {},
   "outputs": [],
   "source": [
    "label_replacement = {\n",
    "    'Hope_speech': 0,\n",
    "    'Non_hope_speech': 1,\n",
    "    'not-English': 2,\n",
    "}"
   ]
  },
  {
   "cell_type": "code",
   "execution_count": 5,
   "metadata": {},
   "outputs": [],
   "source": [
    "# Replace labels with numbers\n",
    "train_labels = [label_replacement[label] for label in train_labels]\n",
    "dev_labels = [label_replacement[label] for label in dev_labels]\n",
    "test_labels = [label_replacement[label] for label in test_labels]"
   ]
  },
  {
   "cell_type": "code",
   "execution_count": 76,
   "metadata": {},
   "outputs": [],
   "source": [
    "perceptron = Perceptron()\n",
    "gridsearch = GridSearchCV(perceptron, param_grid = {\n",
    "    \"penalty\": [\"l2\", \"l1\", None],\n",
    "    \"alpha\": [0.0001, 0.001, 0.01, 0.1, 1.0],\n",
    "    \"eta0\": [0.0001, 0.001, 0.01, 0.1, 1.0],\n",
    "    \"max_iter\": [100, 1000, 10000]\n",
    "}, scoring = \"f1_micro\")"
   ]
  },
  {
   "cell_type": "markdown",
   "metadata": {},
   "source": [
    "### Glove Twitter 25"
   ]
  },
  {
   "cell_type": "code",
   "execution_count": 77,
   "metadata": {},
   "outputs": [],
   "source": [
    "gt25_train, gt25_dev, gt25_test = load_glove_twitter_25()"
   ]
  },
  {
   "cell_type": "code",
   "execution_count": 78,
   "metadata": {},
   "outputs": [],
   "source": [
    "# Set all NaN values to 0\n",
    "gt25_train = np.nan_to_num(gt25_train)\n",
    "gt25_dev = np.nan_to_num(gt25_dev)\n",
    "gt25_test = np.nan_to_num(gt25_test)"
   ]
  },
  {
   "cell_type": "code",
   "execution_count": 79,
   "metadata": {},
   "outputs": [],
   "source": [
    "grid_results = gridsearch.fit(gt25_train, train_labels)\n",
    "best_params = grid_results.best_params_\n",
    "perceptron = grid_results.best_estimator_"
   ]
  },
  {
   "cell_type": "code",
   "execution_count": 80,
   "metadata": {},
   "outputs": [],
   "source": [
    "perceptron = perceptron.fit(gt25_train, train_labels)"
   ]
  },
  {
   "cell_type": "code",
   "execution_count": 81,
   "metadata": {},
   "outputs": [],
   "source": [
    "train_preds = perceptron.predict(gt25_train)\n",
    "dev_preds = perceptron.predict(gt25_dev)\n",
    "test_preds = perceptron.predict(gt25_test)"
   ]
  },
  {
   "cell_type": "code",
   "execution_count": 82,
   "metadata": {},
   "outputs": [
    {
     "name": "stdout",
     "output_type": "stream",
     "text": [
      "Accuracy Train:  0.9132325806168176\n",
      "Accuracy Dev:  0.9050298979950756\n",
      "Accuracy Test:  0.9132115249472944\n",
      "F1 Train:  0.33004307939745064\n",
      "F1 Dev:  0.3286755723057514\n",
      "F1 Test:  0.3362613040174669\n",
      "Precision Train:  0.4952032709643177\n",
      "Precision Dev:  0.5795049543727725\n",
      "Precision Test:  0.5961064129668782\n",
      "Recall Train:  0.3390163908368149\n",
      "Recall Dev:  0.3393310321403766\n",
      "Recall Test:  0.3425381154390024\n",
      "Confusion Matrix Train: \n",
      "[[   36  1926     0]\n",
      " [   27 20751     0]\n",
      " [    0    22     0]]\n",
      "Confusion Matrix Dev: \n",
      "[[   5  267    0]\n",
      " [   1 2568    0]\n",
      " [   0    2    0]]\n",
      "Confusion Matrix Test: \n",
      "[[   7  243    0]\n",
      " [   1 2592    0]\n",
      " [   0    3    0]]\n"
     ]
    },
    {
     "name": "stderr",
     "output_type": "stream",
     "text": [
      "c:\\Kyode\\clg\\ml\\ML_Project\\venv\\lib\\site-packages\\sklearn\\metrics\\_classification.py:1334: UndefinedMetricWarning: Precision is ill-defined and being set to 0.0 in labels with no predicted samples. Use `zero_division` parameter to control this behavior.\n",
      "  _warn_prf(average, modifier, msg_start, len(result))\n",
      "c:\\Kyode\\clg\\ml\\ML_Project\\venv\\lib\\site-packages\\sklearn\\metrics\\_classification.py:1334: UndefinedMetricWarning: Precision is ill-defined and being set to 0.0 in labels with no predicted samples. Use `zero_division` parameter to control this behavior.\n",
      "  _warn_prf(average, modifier, msg_start, len(result))\n",
      "c:\\Kyode\\clg\\ml\\ML_Project\\venv\\lib\\site-packages\\sklearn\\metrics\\_classification.py:1334: UndefinedMetricWarning: Precision is ill-defined and being set to 0.0 in labels with no predicted samples. Use `zero_division` parameter to control this behavior.\n",
      "  _warn_prf(average, modifier, msg_start, len(result))\n"
     ]
    }
   ],
   "source": [
    "computeAllScores(train_preds, dev_preds, test_preds)"
   ]
  },
  {
   "cell_type": "markdown",
   "metadata": {},
   "source": [
    "### FastText 300 "
   ]
  },
  {
   "cell_type": "code",
   "execution_count": 83,
   "metadata": {},
   "outputs": [],
   "source": [
    "ft300_train, ft300_dev, ft300_test = load_fasttext_300()"
   ]
  },
  {
   "cell_type": "code",
   "execution_count": 84,
   "metadata": {},
   "outputs": [],
   "source": [
    "# Set all NaN values to 0\n",
    "ft300_train = np.nan_to_num(ft300_train)\n",
    "ft300_dev = np.nan_to_num(ft300_dev)\n",
    "ft300_test = np.nan_to_num(ft300_test)"
   ]
  },
  {
   "cell_type": "code",
   "execution_count": 85,
   "metadata": {},
   "outputs": [],
   "source": [
    "grid_results = gridsearch.fit(ft300_train, train_labels)\n",
    "best_params = grid_results.best_params_\n",
    "perceptron = grid_results.best_estimator_"
   ]
  },
  {
   "cell_type": "code",
   "execution_count": 86,
   "metadata": {},
   "outputs": [],
   "source": [
    "perceptron = perceptron.fit(ft300_train, train_labels)"
   ]
  },
  {
   "cell_type": "code",
   "execution_count": 87,
   "metadata": {},
   "outputs": [],
   "source": [
    "train_preds = perceptron.predict(ft300_train)\n",
    "dev_preds = perceptron.predict(ft300_dev)\n",
    "test_preds = perceptron.predict(ft300_test)"
   ]
  },
  {
   "cell_type": "code",
   "execution_count": 88,
   "metadata": {},
   "outputs": [
    {
     "name": "stdout",
     "output_type": "stream",
     "text": [
      "Accuracy Train:  0.9128371847816537\n",
      "Accuracy Dev:  0.9036229335209286\n",
      "Accuracy Test:  0.9111033028812369\n",
      "F1 Train:  0.31814423518603585\n",
      "F1 Dev:  0.31645725548164577\n",
      "F1 Test:  0.31782803211374644\n",
      "Precision Train:  0.30427906159388457\n",
      "Precision Dev:  0.3012076445069762\n",
      "Precision Test:  0.3037011009604123\n",
      "Recall Train:  0.3333333333333333\n",
      "Recall Dev:  0.3333333333333333\n",
      "Recall Test:  0.3333333333333333\n",
      "Confusion Matrix Train: \n",
      "[[    0  1962     0]\n",
      " [    0 20778     0]\n",
      " [    0    22     0]]\n",
      "Confusion Matrix Dev: \n",
      "[[   0  272    0]\n",
      " [   0 2569    0]\n",
      " [   0    2    0]]\n",
      "Confusion Matrix Test: \n",
      "[[   0  250    0]\n",
      " [   0 2593    0]\n",
      " [   0    3    0]]\n"
     ]
    },
    {
     "name": "stderr",
     "output_type": "stream",
     "text": [
      "c:\\Kyode\\clg\\ml\\ML_Project\\venv\\lib\\site-packages\\sklearn\\metrics\\_classification.py:1334: UndefinedMetricWarning: Precision is ill-defined and being set to 0.0 in labels with no predicted samples. Use `zero_division` parameter to control this behavior.\n",
      "  _warn_prf(average, modifier, msg_start, len(result))\n",
      "c:\\Kyode\\clg\\ml\\ML_Project\\venv\\lib\\site-packages\\sklearn\\metrics\\_classification.py:1334: UndefinedMetricWarning: Precision is ill-defined and being set to 0.0 in labels with no predicted samples. Use `zero_division` parameter to control this behavior.\n",
      "  _warn_prf(average, modifier, msg_start, len(result))\n",
      "c:\\Kyode\\clg\\ml\\ML_Project\\venv\\lib\\site-packages\\sklearn\\metrics\\_classification.py:1334: UndefinedMetricWarning: Precision is ill-defined and being set to 0.0 in labels with no predicted samples. Use `zero_division` parameter to control this behavior.\n",
      "  _warn_prf(average, modifier, msg_start, len(result))\n"
     ]
    }
   ],
   "source": [
    "computeAllScores(train_preds, dev_preds, test_preds)"
   ]
  },
  {
   "cell_type": "markdown",
   "metadata": {},
   "source": [
    "### Word2Vec 300"
   ]
  },
  {
   "cell_type": "code",
   "execution_count": 94,
   "metadata": {},
   "outputs": [],
   "source": [
    "w2v300_train, w2v300_dev, w2v300_test = load_word2vec_300()"
   ]
  },
  {
   "cell_type": "code",
   "execution_count": 95,
   "metadata": {},
   "outputs": [],
   "source": [
    "# Set all NaN values to 0\n",
    "w2v300_train = np.nan_to_num(w2v300_train)\n",
    "w2v300_dev = np.nan_to_num(w2v300_dev)\n",
    "w2v300_test = np.nan_to_num(w2v300_test)"
   ]
  },
  {
   "cell_type": "code",
   "execution_count": 96,
   "metadata": {},
   "outputs": [],
   "source": [
    "grid_results = gridsearch.fit(w2v300_train, train_labels)\n",
    "best_params = grid_results.best_params_\n",
    "perceptron = grid_results.best_estimator_"
   ]
  },
  {
   "cell_type": "code",
   "execution_count": 97,
   "metadata": {},
   "outputs": [],
   "source": [
    "perceptron = perceptron.fit(w2v300_train, train_labels)"
   ]
  },
  {
   "cell_type": "code",
   "execution_count": 98,
   "metadata": {},
   "outputs": [],
   "source": [
    "train_preds = perceptron.predict(w2v300_train)\n",
    "dev_preds = perceptron.predict(w2v300_dev)\n",
    "test_preds = perceptron.predict(w2v300_test)"
   ]
  },
  {
   "cell_type": "code",
   "execution_count": 99,
   "metadata": {},
   "outputs": [
    {
     "name": "stdout",
     "output_type": "stream",
     "text": [
      "Accuracy Train:  0.9126175204287849\n",
      "Accuracy Dev:  0.9032711924023918\n",
      "Accuracy Test:  0.9111033028812369\n",
      "F1 Train:  0.3181042073427511\n",
      "F1 Dev:  0.31639253372759196\n",
      "F1 Test:  0.31782803211374644\n",
      "Precision Train:  0.30427267800383767\n",
      "Precision Dev:  0.3011963406052076\n",
      "Precision Test:  0.3037011009604123\n",
      "Recall Train:  0.33325312028748355\n",
      "Recall Dev:  0.33320358115998444\n",
      "Recall Test:  0.3333333333333333\n",
      "Confusion Matrix Train: \n",
      "[[    0  1962     0]\n",
      " [    5 20773     0]\n",
      " [    0    22     0]]\n",
      "Confusion Matrix Dev: \n",
      "[[   0  272    0]\n",
      " [   1 2568    0]\n",
      " [   0    2    0]]\n",
      "Confusion Matrix Test: \n",
      "[[   0  250    0]\n",
      " [   0 2593    0]\n",
      " [   0    3    0]]\n"
     ]
    },
    {
     "name": "stderr",
     "output_type": "stream",
     "text": [
      "c:\\Kyode\\clg\\ml\\ML_Project\\venv\\lib\\site-packages\\sklearn\\metrics\\_classification.py:1334: UndefinedMetricWarning: Precision is ill-defined and being set to 0.0 in labels with no predicted samples. Use `zero_division` parameter to control this behavior.\n",
      "  _warn_prf(average, modifier, msg_start, len(result))\n",
      "c:\\Kyode\\clg\\ml\\ML_Project\\venv\\lib\\site-packages\\sklearn\\metrics\\_classification.py:1334: UndefinedMetricWarning: Precision is ill-defined and being set to 0.0 in labels with no predicted samples. Use `zero_division` parameter to control this behavior.\n",
      "  _warn_prf(average, modifier, msg_start, len(result))\n",
      "c:\\Kyode\\clg\\ml\\ML_Project\\venv\\lib\\site-packages\\sklearn\\metrics\\_classification.py:1334: UndefinedMetricWarning: Precision is ill-defined and being set to 0.0 in labels with no predicted samples. Use `zero_division` parameter to control this behavior.\n",
      "  _warn_prf(average, modifier, msg_start, len(result))\n"
     ]
    }
   ],
   "source": [
    "computeAllScores(train_preds, dev_preds, test_preds)"
   ]
  },
  {
   "cell_type": "markdown",
   "metadata": {},
   "source": [
    "### TF-IDF PCA (1000 Dims)"
   ]
  },
  {
   "cell_type": "code",
   "execution_count": 100,
   "metadata": {},
   "outputs": [],
   "source": [
    "tfidf_pca_train, tfidf_pca_dev, tfidf_pca_test = load_tfidf_pca()"
   ]
  },
  {
   "cell_type": "code",
   "execution_count": 101,
   "metadata": {},
   "outputs": [],
   "source": [
    "grid_results = gridsearch.fit(tfidf_pca_train, train_labels)\n",
    "best_params = grid_results.best_params_\n",
    "perceptron = grid_results.best_estimator_"
   ]
  },
  {
   "cell_type": "code",
   "execution_count": 102,
   "metadata": {},
   "outputs": [],
   "source": [
    "perceptron = perceptron.fit(tfidf_pca_train, train_labels)"
   ]
  },
  {
   "cell_type": "code",
   "execution_count": 103,
   "metadata": {},
   "outputs": [],
   "source": [
    "train_preds = perceptron.predict(tfidf_pca_train)\n",
    "dev_preds = perceptron.predict(tfidf_pca_dev)\n",
    "test_preds = perceptron.predict(tfidf_pca_test)"
   ]
  },
  {
   "cell_type": "code",
   "execution_count": 104,
   "metadata": {},
   "outputs": [
    {
     "name": "stdout",
     "output_type": "stream",
     "text": [
      "Accuracy Train:  0.9260170459537826\n",
      "Accuracy Dev:  0.9060851213506859\n",
      "Accuracy Test:  0.9114546732255797\n",
      "F1 Train:  0.495687024158139\n",
      "F1 Dev:  0.46626192408040185\n",
      "F1 Test:  0.4625893576809945\n",
      "Precision Train:  0.5321623773425325\n",
      "Precision Dev:  0.49171866798856945\n",
      "Precision Test:  0.49091571794921957\n",
      "Recall Train:  0.48144035138924757\n",
      "Recall Dev:  0.4492940909333761\n",
      "Recall Test:  0.44430183828255565\n",
      "Confusion Matrix Train: \n",
      "[[  833  1090    39]\n",
      " [  471 20244    63]\n",
      " [    0    21     1]]\n",
      "Confusion Matrix Dev: \n",
      "[[ 105  165    2]\n",
      " [  90 2471    8]\n",
      " [   0    2    0]]\n",
      "Confusion Matrix Test: \n",
      "[[  92  154    4]\n",
      " [  81 2502   10]\n",
      " [   0    3    0]]\n"
     ]
    }
   ],
   "source": [
    "computeAllScores(train_preds, dev_preds, test_preds)"
   ]
  },
  {
   "cell_type": "markdown",
   "metadata": {},
   "source": [
    "### Sentence Transformer Faster No PCA"
   ]
  },
  {
   "cell_type": "code",
   "execution_count": 105,
   "metadata": {},
   "outputs": [],
   "source": [
    "train, dev, test = load_sent_trans_fast_no_pca()"
   ]
  },
  {
   "cell_type": "code",
   "execution_count": 106,
   "metadata": {},
   "outputs": [],
   "source": [
    "grid_results = gridsearch.fit(train, train_labels)\n",
    "best_params = grid_results.best_params_\n",
    "perceptron = grid_results.best_estimator_"
   ]
  },
  {
   "cell_type": "code",
   "execution_count": 107,
   "metadata": {},
   "outputs": [],
   "source": [
    "perceptron = perceptron.fit(train, train_labels)"
   ]
  },
  {
   "cell_type": "code",
   "execution_count": 108,
   "metadata": {},
   "outputs": [],
   "source": [
    "train_preds = perceptron.predict(train)\n",
    "dev_preds = perceptron.predict(dev)\n",
    "test_preds = perceptron.predict(test)"
   ]
  },
  {
   "cell_type": "code",
   "execution_count": 109,
   "metadata": {},
   "outputs": [
    {
     "name": "stdout",
     "output_type": "stream",
     "text": [
      "Accuracy Train:  0.9169229417450137\n",
      "Accuracy Dev:  0.9074920858248329\n",
      "Accuracy Test:  0.9167252283907238\n",
      "F1 Train:  0.3542029696889917\n",
      "F1 Dev:  0.34937899054295435\n",
      "F1 Test:  0.3734899506114149\n",
      "Precision Train:  0.5925699491412861\n",
      "Precision Dev:  0.5771755269694573\n",
      "Precision Test:  0.5616635101010101\n",
      "Recall Train:  0.3519028742174077\n",
      "Recall Dev:  0.35010093955838467\n",
      "Recall Test:  0.36310014140635044\n",
      "Confusion Matrix Train: \n",
      "[[  111  1851     0]\n",
      " [   18 20760     0]\n",
      " [    0    22     0]]\n",
      "Confusion Matrix Dev: \n",
      "[[  14  258    0]\n",
      " [   3 2566    0]\n",
      " [   0    2    0]]\n",
      "Confusion Matrix Test: \n",
      "[[  23  227    0]\n",
      " [   7 2586    0]\n",
      " [   0    3    0]]\n"
     ]
    },
    {
     "name": "stderr",
     "output_type": "stream",
     "text": [
      "c:\\Kyode\\clg\\ml\\ML_Project\\venv\\lib\\site-packages\\sklearn\\metrics\\_classification.py:1334: UndefinedMetricWarning: Precision is ill-defined and being set to 0.0 in labels with no predicted samples. Use `zero_division` parameter to control this behavior.\n",
      "  _warn_prf(average, modifier, msg_start, len(result))\n",
      "c:\\Kyode\\clg\\ml\\ML_Project\\venv\\lib\\site-packages\\sklearn\\metrics\\_classification.py:1334: UndefinedMetricWarning: Precision is ill-defined and being set to 0.0 in labels with no predicted samples. Use `zero_division` parameter to control this behavior.\n",
      "  _warn_prf(average, modifier, msg_start, len(result))\n",
      "c:\\Kyode\\clg\\ml\\ML_Project\\venv\\lib\\site-packages\\sklearn\\metrics\\_classification.py:1334: UndefinedMetricWarning: Precision is ill-defined and being set to 0.0 in labels with no predicted samples. Use `zero_division` parameter to control this behavior.\n",
      "  _warn_prf(average, modifier, msg_start, len(result))\n"
     ]
    }
   ],
   "source": [
    "computeAllScores(train_preds, dev_preds, test_preds)"
   ]
  },
  {
   "cell_type": "markdown",
   "metadata": {},
   "source": [
    "### Sentence Transformer Faster PCA"
   ]
  },
  {
   "cell_type": "code",
   "execution_count": 110,
   "metadata": {},
   "outputs": [],
   "source": [
    "train, dev, test = load_sent_trans_fast_pca()"
   ]
  },
  {
   "cell_type": "code",
   "execution_count": 111,
   "metadata": {},
   "outputs": [],
   "source": [
    "grid_results = gridsearch.fit(train, train_labels)\n",
    "best_params = grid_results.best_params_\n",
    "perceptron = grid_results.best_estimator_"
   ]
  },
  {
   "cell_type": "code",
   "execution_count": 112,
   "metadata": {},
   "outputs": [],
   "source": [
    "perceptron = perceptron.fit(train, train_labels)"
   ]
  },
  {
   "cell_type": "code",
   "execution_count": 113,
   "metadata": {},
   "outputs": [],
   "source": [
    "train_preds = perceptron.predict(train)\n",
    "dev_preds = perceptron.predict(dev)\n",
    "test_preds = perceptron.predict(test)"
   ]
  },
  {
   "cell_type": "code",
   "execution_count": 114,
   "metadata": {},
   "outputs": [
    {
     "name": "stdout",
     "output_type": "stream",
     "text": [
      "Accuracy Train:  0.9221509533432914\n",
      "Accuracy Dev:  0.9124164614843475\n",
      "Accuracy Test:  0.9223471539002108\n",
      "F1 Train:  0.4077915563624817\n",
      "F1 Dev:  0.40242015423112165\n",
      "F1 Test:  0.4244990220535703\n",
      "Precision Train:  0.5607966386905193\n",
      "Precision Dev:  0.5428436911487758\n",
      "Precision Test:  0.5541845834480713\n",
      "Recall Train:  0.38504391210455585\n",
      "Recall Dev:  0.38259813462169606\n",
      "Recall Test:  0.39768607790204397\n",
      "Confusion Matrix Train: \n",
      "[[  314  1636    12]\n",
      " [  101 20676     1]\n",
      " [    0    22     0]]\n",
      "Confusion Matrix Dev: \n",
      "[[  42  230    0]\n",
      " [  17 2552    0]\n",
      " [   0    2    0]]\n",
      "Confusion Matrix Test: \n",
      "[[  50  199    1]\n",
      " [  18 2575    0]\n",
      " [   0    3    0]]\n"
     ]
    },
    {
     "name": "stderr",
     "output_type": "stream",
     "text": [
      "c:\\Kyode\\clg\\ml\\ML_Project\\venv\\lib\\site-packages\\sklearn\\metrics\\_classification.py:1334: UndefinedMetricWarning: Precision is ill-defined and being set to 0.0 in labels with no predicted samples. Use `zero_division` parameter to control this behavior.\n",
      "  _warn_prf(average, modifier, msg_start, len(result))\n"
     ]
    }
   ],
   "source": [
    "computeAllScores(train_preds, dev_preds, test_preds)"
   ]
  },
  {
   "cell_type": "markdown",
   "metadata": {},
   "source": [
    "### Sentence Transformer Better No PCA"
   ]
  },
  {
   "cell_type": "code",
   "execution_count": 115,
   "metadata": {},
   "outputs": [],
   "source": [
    "train, dev, test = load_sent_trans_better_no_pca()"
   ]
  },
  {
   "cell_type": "code",
   "execution_count": 116,
   "metadata": {},
   "outputs": [],
   "source": [
    "grid_results = gridsearch.fit(train, train_labels)\n",
    "best_params = grid_results.best_params_\n",
    "perceptron = grid_results.best_estimator_"
   ]
  },
  {
   "cell_type": "code",
   "execution_count": 117,
   "metadata": {},
   "outputs": [],
   "source": [
    "perceptron = perceptron.fit(train, train_labels)"
   ]
  },
  {
   "cell_type": "code",
   "execution_count": 118,
   "metadata": {},
   "outputs": [],
   "source": [
    "train_preds = perceptron.predict(train)\n",
    "dev_preds = perceptron.predict(dev)\n",
    "test_preds = perceptron.predict(test)"
   ]
  },
  {
   "cell_type": "code",
   "execution_count": 119,
   "metadata": {},
   "outputs": [
    {
     "name": "stdout",
     "output_type": "stream",
     "text": [
      "Accuracy Train:  0.9280379580001757\n",
      "Accuracy Dev:  0.9215617305663032\n",
      "Accuracy Test:  0.9244553759662685\n",
      "F1 Train:  0.49062131325026287\n",
      "F1 Dev:  0.491946364227066\n",
      "F1 Test:  0.4961027624687639\n",
      "Precision Train:  0.5259863782306411\n",
      "Precision Dev:  0.5260017342095655\n",
      "Precision Test:  0.5171391563803459\n",
      "Recall Train:  0.4682736553178208\n",
      "Recall Dev:  0.47034351887894116\n",
      "Recall Test:  0.4803825684535287\n",
      "Confusion Matrix Train: \n",
      "[[  841  1112     9]\n",
      " [  492 20283     3]\n",
      " [    0    22     0]]\n",
      "Confusion Matrix Dev: \n",
      "[[ 119  153    0]\n",
      " [  68 2501    0]\n",
      " [   0    2    0]]\n",
      "Confusion Matrix Test: \n",
      "[[ 118  131    1]\n",
      " [  78 2513    2]\n",
      " [   0    3    0]]\n"
     ]
    },
    {
     "name": "stderr",
     "output_type": "stream",
     "text": [
      "c:\\Kyode\\clg\\ml\\ML_Project\\venv\\lib\\site-packages\\sklearn\\metrics\\_classification.py:1334: UndefinedMetricWarning: Precision is ill-defined and being set to 0.0 in labels with no predicted samples. Use `zero_division` parameter to control this behavior.\n",
      "  _warn_prf(average, modifier, msg_start, len(result))\n"
     ]
    }
   ],
   "source": [
    "computeAllScores(train_preds, dev_preds, test_preds)"
   ]
  },
  {
   "cell_type": "markdown",
   "metadata": {},
   "source": [
    "### Sentence Transformer Better PCA"
   ]
  },
  {
   "cell_type": "code",
   "execution_count": 120,
   "metadata": {},
   "outputs": [],
   "source": [
    "train, dev, test = load_sent_trans_better_pca()"
   ]
  },
  {
   "cell_type": "code",
   "execution_count": 121,
   "metadata": {},
   "outputs": [],
   "source": [
    "grid_results = gridsearch.fit(train, train_labels)\n",
    "best_params = grid_results.best_params_\n",
    "perceptron = grid_results.best_estimator_"
   ]
  },
  {
   "cell_type": "code",
   "execution_count": 122,
   "metadata": {},
   "outputs": [],
   "source": [
    "perceptron = perceptron.fit(train, train_labels)"
   ]
  },
  {
   "cell_type": "code",
   "execution_count": 123,
   "metadata": {},
   "outputs": [],
   "source": [
    "train_preds = perceptron.predict(train)\n",
    "dev_preds = perceptron.predict(dev)\n",
    "test_preds = perceptron.predict(test)"
   ]
  },
  {
   "cell_type": "code",
   "execution_count": 124,
   "metadata": {},
   "outputs": [
    {
     "name": "stdout",
     "output_type": "stream",
     "text": [
      "Accuracy Train:  0.8921008698708374\n",
      "Accuracy Dev:  0.8793527963418923\n",
      "Accuracy Test:  0.8903724525650035\n",
      "F1 Train:  0.5393647762286241\n",
      "F1 Dev:  0.4762443582331762\n",
      "F1 Test:  0.4907040375334903\n",
      "Precision Train:  0.5060246695278755\n",
      "Precision Dev:  0.45801318846521805\n",
      "Precision Test:  0.46707986534296103\n",
      "Recall Train:  0.5983692163729094\n",
      "Recall Dev:  0.5073686831680901\n",
      "Recall Test:  0.5353808972875691\n",
      "Confusion Matrix Train: \n",
      "[[ 1280   672    10]\n",
      " [ 1733 19021    24]\n",
      " [    0    17     5]]\n",
      "Confusion Matrix Dev: \n",
      "[[ 167  104    1]\n",
      " [ 233 2333    3]\n",
      " [   0    2    0]]\n",
      "Confusion Matrix Test: \n",
      "[[ 174   74    2]\n",
      " [ 228 2360    5]\n",
      " [   0    3    0]]\n"
     ]
    }
   ],
   "source": [
    "computeAllScores(train_preds, dev_preds, test_preds)"
   ]
  },
  {
   "cell_type": "code",
   "execution_count": null,
   "metadata": {},
   "outputs": [],
   "source": []
  }
 ],
 "metadata": {
  "kernelspec": {
   "display_name": "Python 3.10.2 ('venv': venv)",
   "language": "python",
   "name": "python3"
  },
  "language_info": {
   "codemirror_mode": {
    "name": "ipython",
    "version": 3
   },
   "file_extension": ".py",
   "mimetype": "text/x-python",
   "name": "python",
   "nbconvert_exporter": "python",
   "pygments_lexer": "ipython3",
   "version": "3.10.2"
  },
  "orig_nbformat": 4,
  "vscode": {
   "interpreter": {
    "hash": "fd949ee6353ffa8da7adb473cc2810b4b5aee9c3c37e455af5c40ec8a7a1d86b"
   }
  }
 },
 "nbformat": 4,
 "nbformat_minor": 2
}
