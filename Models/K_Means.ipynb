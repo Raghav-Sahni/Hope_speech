{
 "cells": [
  {
   "cell_type": "code",
   "execution_count": 14,
   "metadata": {},
   "outputs": [],
   "source": [
    "from embeddings_loader import *\n",
    "from sklearn.cluster import KMeans\n",
    "from sklearn.metrics import f1_score\n",
    "from sklearn.metrics import accuracy_score\n",
    "from sklearn.metrics import confusion_matrix\n",
    "from sklearn.metrics import classification_report\n",
    "from sklearn.metrics import recall_score\n",
    "from sklearn.metrics import precision_score\n",
    "from sklearn.metrics import roc_auc_score\n",
    "from utils import *"
   ]
  },
  {
   "cell_type": "code",
   "execution_count": 15,
   "metadata": {},
   "outputs": [],
   "source": [
    "train_labels, dev_labels, test_labels = load_labels()"
   ]
  },
  {
   "cell_type": "code",
   "execution_count": 3,
   "metadata": {},
   "outputs": [],
   "source": [
    "label_replacement = {\n",
    "    'Hope_speech': 0,\n",
    "    'Non_hope_speech': 1,\n",
    "    'not-English': 2,\n",
    "}"
   ]
  },
  {
   "cell_type": "code",
   "execution_count": 4,
   "metadata": {},
   "outputs": [],
   "source": [
    "# Replace labels with numbers\n",
    "train_labels = [label_replacement[label] for label in train_labels]\n",
    "dev_labels = [label_replacement[label] for label in dev_labels]\n",
    "test_labels = [label_replacement[label] for label in test_labels]"
   ]
  },
  {
   "cell_type": "markdown",
   "metadata": {},
   "source": [
    "### Glove Twitter 25"
   ]
  },
  {
   "cell_type": "code",
   "execution_count": 16,
   "metadata": {},
   "outputs": [],
   "source": [
    "gt25_train, gt25_dev, gt25_test = load_glove_twitter_25()"
   ]
  },
  {
   "cell_type": "code",
   "execution_count": 17,
   "metadata": {},
   "outputs": [],
   "source": [
    "# Set all NaN values to 0\n",
    "gt25_train = np.nan_to_num(gt25_train)\n",
    "gt25_dev = np.nan_to_num(gt25_dev)\n",
    "gt25_test = np.nan_to_num(gt25_test)"
   ]
  },
  {
   "cell_type": "code",
   "execution_count": 18,
   "metadata": {},
   "outputs": [],
   "source": [
    "k_means = KMeans(n_clusters=3, random_state=0).fit(gt25_train, train_labels)\n",
    "save_model(k_means, \"k_means_gt25.joblib\")"
   ]
  },
  {
   "cell_type": "code",
   "execution_count": 19,
   "metadata": {},
   "outputs": [],
   "source": [
    "train_preds = k_means.predict(gt25_train)\n",
    "dev_preds = k_means.predict(gt25_dev)\n",
    "test_preds = k_means.predict(gt25_test)"
   ]
  },
  {
   "cell_type": "code",
   "execution_count": 20,
   "metadata": {},
   "outputs": [
    {
     "name": "stdout",
     "output_type": "stream",
     "text": [
      "Accuracy Train:  0.18153062121078992\n",
      "Accuracy Dev:  0.17622230038691522\n",
      "Accuracy Test:  0.18657765284609978\n",
      "Weighted F1 Train:  0.24751635808632247\n",
      "Weighted F1 Dev:  0.24277870398836413\n",
      "Weighted F1 Test:  0.25577147685913026\n",
      "Macro F1 Train:  0.147388082222974\n",
      "Macro F1 Dev:  0.14283631492082952\n",
      "Macro F1 Test:  0.15016522555352096\n",
      "Micro F1 Train:  0.1815306212107899\n",
      "Micro F1 Dev:  0.17622230038691522\n",
      "Micro F1 Test:  0.18657765284609978\n",
      "Weighted Recall Train:  0.18153062121078992\n",
      "Weighted Recall Dev:  0.17622230038691525\n",
      "Weighted Recall Test:  0.18657765284609978\n",
      "Macro Recall Train:  0.32618430603949866\n",
      "Macro Recall Dev:  0.2107389958708279\n",
      "Macro Recall Test:  0.23452063247204014\n",
      "Micro Recall Train:  0.18153062121078992\n",
      "Micro Recall Dev:  0.17622230038691522\n",
      "Micro Recall Test:  0.18657765284609978\n",
      "Confusion Matrix Train: \n",
      "[[1099   70  793]\n",
      " [8657 3027 9094]\n",
      " [   4   12    6]]\n",
      "Confusion Matrix Dev: \n",
      "[[ 133    8  131]\n",
      " [1083  368 1118]\n",
      " [   0    2    0]]\n",
      "Confusion Matrix Test: \n",
      "[[ 138    5  107]\n",
      " [1080  393 1120]\n",
      " [   1    2    0]]\n"
     ]
    }
   ],
   "source": [
    "computeAllScores(train_preds, dev_preds, test_preds)"
   ]
  },
  {
   "cell_type": "markdown",
   "metadata": {},
   "source": [
    "### FastText 300 "
   ]
  },
  {
   "cell_type": "code",
   "execution_count": 21,
   "metadata": {},
   "outputs": [],
   "source": [
    "ft300_train, ft300_dev, ft300_test = load_fasttext_300()"
   ]
  },
  {
   "cell_type": "code",
   "execution_count": 22,
   "metadata": {},
   "outputs": [],
   "source": [
    "# Set all NaN values to 0\n",
    "ft300_train = np.nan_to_num(ft300_train)\n",
    "ft300_dev = np.nan_to_num(ft300_dev)\n",
    "ft300_test = np.nan_to_num(ft300_test)"
   ]
  },
  {
   "cell_type": "code",
   "execution_count": 24,
   "metadata": {},
   "outputs": [],
   "source": [
    "k_means = KMeans(n_clusters=3, random_state=0).fit(ft300_train, train_labels)\n",
    "save_model(k_means, \"k_means_ft300.joblib\")"
   ]
  },
  {
   "cell_type": "code",
   "execution_count": 25,
   "metadata": {},
   "outputs": [],
   "source": [
    "train_preds = k_means.predict(ft300_train)\n",
    "dev_preds = k_means.predict(ft300_dev)\n",
    "test_preds = k_means.predict(ft300_test)"
   ]
  },
  {
   "cell_type": "code",
   "execution_count": 26,
   "metadata": {},
   "outputs": [
    {
     "name": "stdout",
     "output_type": "stream",
     "text": [
      "Accuracy Train:  0.09138037079342765\n",
      "Accuracy Dev:  0.09672880759760816\n",
      "Accuracy Test:  0.08995080815179199\n",
      "Weighted F1 Train:  0.13087248253966885\n",
      "Weighted F1 Dev:  0.13325569716627297\n",
      "Weighted F1 Test:  0.13044425113779154\n",
      "Macro F1 Train:  0.09425327100502011\n",
      "Macro F1 Dev:  0.10600388101230933\n",
      "Macro F1 Test:  0.09230425202211685\n",
      "Micro F1 Train:  0.09138037079342765\n",
      "Micro F1 Dev:  0.09672880759760816\n",
      "Micro F1 Test:  0.08995080815179197\n",
      "Weighted Recall Train:  0.09138037079342765\n",
      "Weighted Recall Dev:  0.09672880759760816\n",
      "Weighted Recall Test:  0.08995080815179199\n",
      "Macro Recall Train:  0.3564043982385188\n",
      "Macro Recall Dev:  0.30960108839176\n",
      "Macro Recall Test:  0.34402810986844923\n",
      "Micro Recall Train:  0.09138037079342765\n",
      "Micro Recall Dev:  0.09672880759760816\n",
      "Micro Recall Test:  0.08995080815179199\n",
      "Confusion Matrix Train: \n",
      "[[  624   115  1223]\n",
      " [ 5633  1441 13704]\n",
      " [    7     0    15]]\n",
      "Confusion Matrix Dev: \n",
      "[[  98   18  156]\n",
      " [ 663  176 1730]\n",
      " [   1    0    1]]\n",
      "Confusion Matrix Test: \n",
      "[[  74   15  161]\n",
      " [ 691  180 1722]\n",
      " [   1    0    2]]\n"
     ]
    }
   ],
   "source": [
    "computeAllScores(train_preds, dev_preds, test_preds)"
   ]
  },
  {
   "cell_type": "markdown",
   "metadata": {},
   "source": [
    "### Word2Vec 300"
   ]
  },
  {
   "cell_type": "code",
   "execution_count": 27,
   "metadata": {},
   "outputs": [],
   "source": [
    "w2v300_train, w2v300_dev, w2v300_test = load_word2vec_300()"
   ]
  },
  {
   "cell_type": "code",
   "execution_count": 28,
   "metadata": {},
   "outputs": [],
   "source": [
    "# Set all NaN values to 0\n",
    "w2v300_train = np.nan_to_num(w2v300_train)\n",
    "w2v300_dev = np.nan_to_num(w2v300_dev)\n",
    "w2v300_test = np.nan_to_num(w2v300_test)"
   ]
  },
  {
   "cell_type": "code",
   "execution_count": 30,
   "metadata": {},
   "outputs": [],
   "source": [
    "k_means = KMeans(n_clusters=3, random_state=0).fit(w2v300_train, train_labels)\n",
    "save_model(k_means, \"k_means_w2v300.joblib\")"
   ]
  },
  {
   "cell_type": "code",
   "execution_count": 31,
   "metadata": {},
   "outputs": [],
   "source": [
    "train_preds = k_means.predict(w2v300_train)\n",
    "dev_preds = k_means.predict(w2v300_dev)\n",
    "test_preds = k_means.predict(w2v300_test)"
   ]
  },
  {
   "cell_type": "code",
   "execution_count": 32,
   "metadata": {},
   "outputs": [
    {
     "name": "stdout",
     "output_type": "stream",
     "text": [
      "Accuracy Train:  0.601704595378262\n",
      "Accuracy Dev:  0.5993668659866338\n",
      "Accuracy Test:  0.5948699929725931\n",
      "Weighted F1 Train:  0.6959033719130684\n",
      "Weighted F1 Dev:  0.689509514326368\n",
      "Weighted F1 Test:  0.6882557941972192\n",
      "Macro F1 Train:  0.259209304347983\n",
      "Macro F1 Dev:  0.2591562570724056\n",
      "Macro F1 Test:  0.25488634436540464\n",
      "Micro F1 Train:  0.601704595378262\n",
      "Micro F1 Dev:  0.5993668659866338\n",
      "Micro F1 Test:  0.5948699929725931\n",
      "Weighted Recall Train:  0.601704595378262\n",
      "Weighted Recall Dev:  0.5993668659866338\n",
      "Weighted Recall Test:  0.5948699929725932\n",
      "Macro Recall Train:  0.3596312774201172\n",
      "Macro Recall Dev:  0.3909218319480381\n",
      "Macro Recall Test:  0.4408071303080945\n",
      "Micro Recall Train:  0.601704595378262\n",
      "Micro Recall Dev:  0.5993668659866338\n",
      "Micro Recall Test:  0.5948699929725931\n",
      "Confusion Matrix Train: \n",
      "[[   24  1452   486]\n",
      " [ 1540 13663  5575]\n",
      " [    1    12     9]]\n",
      "Confusion Matrix Dev: \n",
      "[[   3  195   74]\n",
      " [ 178 1700  691]\n",
      " [   1    0    1]]\n",
      "Confusion Matrix Test: \n",
      "[[   1  193   56]\n",
      " [ 194 1690  709]\n",
      " [   0    1    2]]\n"
     ]
    }
   ],
   "source": [
    "computeAllScores(train_preds, dev_preds, test_preds)"
   ]
  },
  {
   "cell_type": "markdown",
   "metadata": {},
   "source": [
    "### TF-IDF PCA (1000 Dims)"
   ]
  },
  {
   "cell_type": "code",
   "execution_count": 33,
   "metadata": {},
   "outputs": [],
   "source": [
    "tfidf_pca_train, tfidf_pca_dev, tfidf_pca_test = load_tfidf_pca()"
   ]
  },
  {
   "cell_type": "code",
   "execution_count": 34,
   "metadata": {},
   "outputs": [],
   "source": [
    "k_means = KMeans(n_clusters=3, random_state=0).fit(tfidf_pca_train, train_labels)\n",
    "save_model(k_means, \"k_means_tfidf_pca.joblib\")"
   ]
  },
  {
   "cell_type": "code",
   "execution_count": 35,
   "metadata": {},
   "outputs": [],
   "source": [
    "train_preds = k_means.predict(tfidf_pca_train)\n",
    "dev_preds = k_means.predict(tfidf_pca_dev)\n",
    "test_preds = k_means.predict(tfidf_pca_test)"
   ]
  },
  {
   "cell_type": "code",
   "execution_count": 36,
   "metadata": {},
   "outputs": [
    {
     "name": "stdout",
     "output_type": "stream",
     "text": [
      "Accuracy Train:  0.13904753536596082\n",
      "Accuracy Dev:  0.13823425958494548\n",
      "Accuracy Test:  0.15038650737877723\n",
      "Weighted F1 Train:  0.22831088910939898\n",
      "Weighted F1 Dev:  0.22530830620676157\n",
      "Weighted F1 Test:  0.24220668970195194\n",
      "Macro F1 Train:  0.1378300930462873\n",
      "Macro F1 Dev:  0.14548665436659838\n",
      "Macro F1 Test:  0.15596801860050574\n",
      "Micro F1 Train:  0.13904753536596082\n",
      "Micro F1 Dev:  0.13823425958494548\n",
      "Micro F1 Test:  0.15038650737877723\n",
      "Weighted Recall Train:  0.13904753536596082\n",
      "Weighted Recall Dev:  0.13823425958494548\n",
      "Weighted Recall Test:  0.15038650737877723\n",
      "Macro Recall Train:  0.36377233556457167\n",
      "Macro Recall Dev:  0.2810823239377495\n",
      "Macro Recall Test:  0.45904974932510606\n",
      "Micro Recall Train:  0.13904753536596082\n",
      "Micro Recall Dev:  0.13823425958494548\n",
      "Micro Recall Test:  0.15038650737877723\n",
      "Confusion Matrix Train: \n",
      "[[  362   318  1282]\n",
      " [ 1736  2786 16256]\n",
      " [    1     4    17]]\n",
      "Confusion Matrix Dev: \n",
      "[[  58   36  178]\n",
      " [ 226  334 2009]\n",
      " [   1    0    1]]\n",
      "Confusion Matrix Test: \n",
      "[[  59   34  157]\n",
      " [ 226  366 2001]\n",
      " [   0    0    3]]\n"
     ]
    }
   ],
   "source": [
    "computeAllScores(train_preds, dev_preds, test_preds)"
   ]
  },
  {
   "cell_type": "markdown",
   "metadata": {},
   "source": [
    "### Sentence Transformer Faster No PCA"
   ]
  },
  {
   "cell_type": "code",
   "execution_count": 37,
   "metadata": {},
   "outputs": [],
   "source": [
    "train, dev, test = load_sent_trans_fast_no_pca()"
   ]
  },
  {
   "cell_type": "code",
   "execution_count": 38,
   "metadata": {},
   "outputs": [],
   "source": [
    "k_means = KMeans(n_clusters=3, random_state=0).fit(train, train_labels)\n",
    "save_model(k_means, \"k_means_sent_trans_fast_no_pca.joblib\")"
   ]
  },
  {
   "cell_type": "code",
   "execution_count": 39,
   "metadata": {},
   "outputs": [],
   "source": [
    "train_preds = k_means.predict(train)\n",
    "dev_preds = k_means.predict(dev)\n",
    "test_preds = k_means.predict(test)"
   ]
  },
  {
   "cell_type": "code",
   "execution_count": 40,
   "metadata": {},
   "outputs": [
    {
     "name": "stdout",
     "output_type": "stream",
     "text": [
      "Accuracy Train:  0.18153062121078992\n",
      "Accuracy Dev:  0.1790362293352093\n",
      "Accuracy Test:  0.18587491215741392\n",
      "Weighted F1 Train:  0.2747734281083643\n",
      "Weighted F1 Dev:  0.26935044308319933\n",
      "Weighted F1 Test:  0.27766552587042764\n",
      "Macro F1 Train:  0.14011556969253425\n",
      "Macro F1 Dev:  0.14181942622918112\n",
      "Macro F1 Test:  0.1460971673361054\n",
      "Micro F1 Train:  0.1815306212107899\n",
      "Micro F1 Dev:  0.1790362293352093\n",
      "Micro F1 Test:  0.18587491215741392\n",
      "Weighted Recall Train:  0.18153062121078992\n",
      "Weighted Recall Dev:  0.17903622933520927\n",
      "Weighted Recall Test:  0.18587491215741392\n",
      "Macro Recall Train:  0.27789482147876393\n",
      "Macro Recall Dev:  0.30709095627351757\n",
      "Macro Recall Test:  0.4852860264815529\n",
      "Micro Recall Train:  0.18153062121078992\n",
      "Micro Recall Dev:  0.1790362293352093\n",
      "Micro Recall Test:  0.18587491215741392\n",
      "Confusion Matrix Train: \n",
      "[[  490   747   725]\n",
      " [ 5069  3633 12076]\n",
      " [    4     9     9]]\n",
      "Confusion Matrix Dev: \n",
      "[[  68   99  105]\n",
      " [ 623  440 1506]\n",
      " [   1    0    1]]\n",
      "Confusion Matrix Test: \n",
      "[[  70   86   94]\n",
      " [ 655  456 1482]\n",
      " [   0    0    3]]\n"
     ]
    }
   ],
   "source": [
    "computeAllScores(train_preds, dev_preds, test_preds)"
   ]
  },
  {
   "cell_type": "markdown",
   "metadata": {},
   "source": [
    "### Sentence Transformer Faster PCA"
   ]
  },
  {
   "cell_type": "code",
   "execution_count": 41,
   "metadata": {},
   "outputs": [],
   "source": [
    "train, dev, test = load_sent_trans_fast_pca()"
   ]
  },
  {
   "cell_type": "code",
   "execution_count": 42,
   "metadata": {},
   "outputs": [],
   "source": [
    "k_means = KMeans(n_clusters=3, random_state=0).fit(train, train_labels)\n",
    "save_model(k_means, \"k_means_sent_trans_fast_pca.joblib\")"
   ]
  },
  {
   "cell_type": "code",
   "execution_count": 43,
   "metadata": {},
   "outputs": [],
   "source": [
    "train_preds = k_means.predict(train)\n",
    "dev_preds = k_means.predict(dev)\n",
    "test_preds = k_means.predict(test)"
   ]
  },
  {
   "cell_type": "code",
   "execution_count": 44,
   "metadata": {},
   "outputs": [
    {
     "name": "stdout",
     "output_type": "stream",
     "text": [
      "Accuracy Train:  0.25498638081012215\n",
      "Accuracy Dev:  0.25606753429475904\n",
      "Accuracy Test:  0.26317638791286013\n",
      "Weighted F1 Train:  0.3598936000704762\n",
      "Weighted F1 Dev:  0.35593078941038625\n",
      "Weighted F1 Test:  0.3687425678969312\n",
      "Macro F1 Train:  0.16236791928746389\n",
      "Macro F1 Dev:  0.16451878372140416\n",
      "Macro F1 Test:  0.16584946491566122\n",
      "Micro F1 Train:  0.25498638081012215\n",
      "Micro F1 Dev:  0.25606753429475904\n",
      "Micro F1 Test:  0.26317638791286013\n",
      "Weighted Recall Train:  0.25498638081012215\n",
      "Weighted Recall Dev:  0.25606753429475904\n",
      "Weighted Recall Test:  0.26317638791286013\n",
      "Macro Recall Train:  0.340719445147117\n",
      "Macro Recall Dev:  0.20951207458460222\n",
      "Macro Recall Test:  0.20953438745340017\n",
      "Micro Recall Train:  0.25498638081012215\n",
      "Micro Recall Dev:  0.25606753429475904\n",
      "Micro Recall Test:  0.26317638791286013\n",
      "Confusion Matrix Train: \n",
      "[[  724   490   748]\n",
      " [12077  5071  3630]\n",
      " [    9     4     9]]\n",
      "Confusion Matrix Dev: \n",
      "[[ 105   68   99]\n",
      " [1506  623  440]\n",
      " [   1    1    0]]\n",
      "Confusion Matrix Test: \n",
      "[[  94   70   86]\n",
      " [1483  655  455]\n",
      " [   3    0    0]]\n"
     ]
    }
   ],
   "source": [
    "computeAllScores(train_preds, dev_preds, test_preds)"
   ]
  },
  {
   "cell_type": "markdown",
   "metadata": {},
   "source": [
    "### Sentence Transformer Better No PCA"
   ]
  },
  {
   "cell_type": "code",
   "execution_count": 45,
   "metadata": {},
   "outputs": [],
   "source": [
    "train, dev, test = load_sent_trans_better_no_pca()"
   ]
  },
  {
   "cell_type": "code",
   "execution_count": 46,
   "metadata": {},
   "outputs": [],
   "source": [
    "k_means = KMeans(n_clusters=3, random_state=0).fit(train, train_labels)\n",
    "save_model(k_means, \"k_means_sent_trans_best_no_pca.joblib\")"
   ]
  },
  {
   "cell_type": "code",
   "execution_count": 47,
   "metadata": {},
   "outputs": [],
   "source": [
    "train_preds = k_means.predict(train)\n",
    "dev_preds = k_means.predict(dev)\n",
    "test_preds = k_means.predict(test)"
   ]
  },
  {
   "cell_type": "code",
   "execution_count": 48,
   "metadata": {},
   "outputs": [
    {
     "name": "stdout",
     "output_type": "stream",
     "text": [
      "Accuracy Train:  0.26276249890167824\n",
      "Accuracy Dev:  0.2655645444952515\n",
      "Accuracy Test:  0.26879831342234717\n",
      "Weighted F1 Train:  0.3747948990278369\n",
      "Weighted F1 Dev:  0.37513415836791636\n",
      "Weighted F1 Test:  0.38114795393263773\n",
      "Macro F1 Train:  0.16384026720836667\n",
      "Macro F1 Dev:  0.16543060063977458\n",
      "Macro F1 Test:  0.16483106838829087\n",
      "Micro F1 Train:  0.26276249890167824\n",
      "Micro F1 Dev:  0.2655645444952515\n",
      "Micro F1 Test:  0.26879831342234717\n",
      "Weighted Recall Train:  0.26276249890167824\n",
      "Weighted Recall Dev:  0.2655645444952515\n",
      "Weighted Recall Test:  0.26879831342234717\n",
      "Macro Recall Train:  0.3390013963269374\n",
      "Macro Recall Dev:  0.18671767071951395\n",
      "Macro Recall Test:  0.1874955649826456\n",
      "Micro Recall Train:  0.26276249890167824\n",
      "Micro Recall Dev:  0.2655645444952515\n",
      "Micro Recall Test:  0.26879831342234717\n",
      "Confusion Matrix Train: \n",
      "[[  596   546   820]\n",
      " [11501  5375  3902]\n",
      " [    8     4    10]]\n",
      "Confusion Matrix Dev: \n",
      "[[  81   80  111]\n",
      " [1431  674  464]\n",
      " [   1    1    0]]\n",
      "Confusion Matrix Test: \n",
      "[[  74   85   91]\n",
      " [1429  691  473]\n",
      " [   3    0    0]]\n"
     ]
    }
   ],
   "source": [
    "computeAllScores(train_preds, dev_preds, test_preds)"
   ]
  },
  {
   "cell_type": "markdown",
   "metadata": {},
   "source": [
    "### Sentence Transformer Better PCA"
   ]
  },
  {
   "cell_type": "code",
   "execution_count": 49,
   "metadata": {},
   "outputs": [],
   "source": [
    "train, dev, test = load_sent_trans_better_pca()"
   ]
  },
  {
   "cell_type": "code",
   "execution_count": 50,
   "metadata": {},
   "outputs": [],
   "source": [
    "k_means = KMeans(n_clusters=3, random_state=0).fit(train, train_labels)\n",
    "save_model(k_means, \"k_means_sent_trans_best_pca.joblib\")"
   ]
  },
  {
   "cell_type": "code",
   "execution_count": 51,
   "metadata": {},
   "outputs": [],
   "source": [
    "train_preds = k_means.predict(train)\n",
    "dev_preds = k_means.predict(dev)\n",
    "test_preds = k_means.predict(test)"
   ]
  },
  {
   "cell_type": "code",
   "execution_count": 52,
   "metadata": {},
   "outputs": [
    {
     "name": "stdout",
     "output_type": "stream",
     "text": [
      "Accuracy Train:  0.2627185660311045\n",
      "Accuracy Dev:  0.2655645444952515\n",
      "Accuracy Test:  0.26879831342234717\n",
      "Weighted F1 Train:  0.3748332708818302\n",
      "Weighted F1 Dev:  0.37513415836791636\n",
      "Weighted F1 Test:  0.381156395881623\n",
      "Macro F1 Train:  0.1637930676291687\n",
      "Macro F1 Dev:  0.16543060063977458\n",
      "Macro F1 Test:  0.16486310277070693\n",
      "Micro F1 Train:  0.2627185660311045\n",
      "Micro F1 Dev:  0.2655645444952515\n",
      "Micro F1 Test:  0.26879831342234717\n",
      "Weighted Recall Train:  0.2627185660311045\n",
      "Weighted Recall Dev:  0.2655645444952515\n",
      "Weighted Recall Test:  0.26879831342234717\n",
      "Macro Recall Train:  0.33867764960549235\n",
      "Macro Recall Dev:  0.18671767071951395\n",
      "Macro Recall Test:  0.1874955649826456\n",
      "Micro Recall Train:  0.2627185660311045\n",
      "Micro Recall Dev:  0.2655645444952515\n",
      "Micro Recall Test:  0.26879831342234717\n",
      "Confusion Matrix Train: \n",
      "[[  594   546   822]\n",
      " [11487  5376  3915]\n",
      " [    8     4    10]]\n",
      "Confusion Matrix Dev: \n",
      "[[  81   80  111]\n",
      " [1431  674  464]\n",
      " [   1    1    0]]\n",
      "Confusion Matrix Test: \n",
      "[[  74   85   91]\n",
      " [1427  691  475]\n",
      " [   3    0    0]]\n"
     ]
    }
   ],
   "source": [
    "computeAllScores(train_preds, dev_preds, test_preds)"
   ]
  },
  {
   "cell_type": "code",
   "execution_count": null,
   "metadata": {},
   "outputs": [],
   "source": []
  }
 ],
 "metadata": {
  "kernelspec": {
   "display_name": "Python 3.9.13 64-bit (microsoft store)",
   "language": "python",
   "name": "python3"
  },
  "language_info": {
   "codemirror_mode": {
    "name": "ipython",
    "version": 3
   },
   "file_extension": ".py",
   "mimetype": "text/x-python",
   "name": "python",
   "nbconvert_exporter": "python",
   "pygments_lexer": "ipython3",
   "version": "3.9.13"
  },
  "orig_nbformat": 4,
  "vscode": {
   "interpreter": {
    "hash": "a5a87ee616be0254e3f1af9223138e3faeac65b2c9d91bc22a9fc5a4a8bd8eb0"
   }
  }
 },
 "nbformat": 4,
 "nbformat_minor": 2
}
