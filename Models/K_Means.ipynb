{
 "cells": [
  {
   "cell_type": "code",
   "execution_count": 1,
   "metadata": {},
   "outputs": [],
   "source": [
    "from embeddings_loader import *\n",
    "from sklearn.cluster import KMeans\n",
    "from sklearn.metrics import f1_score\n",
    "from sklearn.metrics import accuracy_score\n",
    "from sklearn.metrics import confusion_matrix\n",
    "from sklearn.metrics import classification_report\n",
    "from sklearn.metrics import recall_score\n",
    "from sklearn.metrics import precision_score\n",
    "from sklearn.metrics import roc_auc_score\n"
   ]
  },
  {
   "cell_type": "code",
   "execution_count": 2,
   "metadata": {},
   "outputs": [],
   "source": [
    "def computeAllScores(y_true, y_pred):\n",
    "    print(\"F1 score: \", f1_score(y_true, y_pred, average='macro'))\n",
    "    print(\"Accuracy score: \", accuracy_score(y_true, y_pred))\n",
    "    print(\"Recall score: \", recall_score(y_true, y_pred, average='macro'))\n",
    "    print(\"Precision score: \", precision_score(y_true, y_pred, average='macro'))\n",
    "    print(\"Confusion matrix: \")\n",
    "    print(confusion_matrix(y_true, y_pred))"
   ]
  },
  {
   "cell_type": "code",
   "execution_count": 3,
   "metadata": {},
   "outputs": [],
   "source": [
    "train_labels, dev_labels, test_labels = load_labels()"
   ]
  },
  {
   "cell_type": "code",
   "execution_count": 4,
   "metadata": {},
   "outputs": [],
   "source": [
    "label_replacement = {\n",
    "    'Hope_speech': 0,\n",
    "    'Non_hope_speech': 1,\n",
    "    'not-English': 2,\n",
    "}"
   ]
  },
  {
   "cell_type": "code",
   "execution_count": 5,
   "metadata": {},
   "outputs": [],
   "source": [
    "# Replace labels with numbers\n",
    "train_labels = [label_replacement[label] for label in train_labels]\n",
    "dev_labels = [label_replacement[label] for label in dev_labels]\n",
    "test_labels = [label_replacement[label] for label in test_labels]"
   ]
  },
  {
   "cell_type": "markdown",
   "metadata": {},
   "source": [
    "### Glove Twitter 25"
   ]
  },
  {
   "cell_type": "code",
   "execution_count": 6,
   "metadata": {},
   "outputs": [],
   "source": [
    "gt25_train, gt25_dev, gt25_test = load_glove_twitter_25()"
   ]
  },
  {
   "cell_type": "code",
   "execution_count": 7,
   "metadata": {},
   "outputs": [],
   "source": [
    "# Set all NaN values to 0\n",
    "gt25_train = np.nan_to_num(gt25_train)\n",
    "gt25_dev = np.nan_to_num(gt25_dev)\n",
    "gt25_test = np.nan_to_num(gt25_test)"
   ]
  },
  {
   "cell_type": "code",
   "execution_count": 8,
   "metadata": {},
   "outputs": [],
   "source": [
    "k_means = KMeans(n_clusters=3, random_state=0).fit(gt25_train, train_labels)"
   ]
  },
  {
   "cell_type": "code",
   "execution_count": 9,
   "metadata": {},
   "outputs": [],
   "source": [
    "train_preds = k_means.predict(gt25_train)\n",
    "dev_preds = k_means.predict(gt25_dev)\n",
    "test_preds = k_means.predict(gt25_test)"
   ]
  },
  {
   "cell_type": "code",
   "execution_count": 10,
   "metadata": {},
   "outputs": [
    {
     "name": "stdout",
     "output_type": "stream",
     "text": [
      "F1 score:  0.147388082222974\n",
      "Accuracy score:  0.18153062121078992\n",
      "Recall score:  0.32618430603949866\n",
      "Precision score:  0.3622779694158384\n",
      "Confusion matrix: \n",
      "[[1099   70  793]\n",
      " [8657 3027 9094]\n",
      " [   4   12    6]]\n"
     ]
    }
   ],
   "source": [
    "computeAllScores(train_labels, train_preds)"
   ]
  },
  {
   "cell_type": "code",
   "execution_count": 11,
   "metadata": {},
   "outputs": [
    {
     "name": "stdout",
     "output_type": "stream",
     "text": [
      "F1 score:  0.14283631492082952\n",
      "Accuracy score:  0.17622230038691522\n",
      "Recall score:  0.2107389958708279\n",
      "Precision score:  0.36097332451499115\n",
      "Confusion matrix: \n",
      "[[ 133    8  131]\n",
      " [1083  368 1118]\n",
      " [   0    2    0]]\n"
     ]
    }
   ],
   "source": [
    "computeAllScores(dev_labels, dev_preds)"
   ]
  },
  {
   "cell_type": "code",
   "execution_count": 12,
   "metadata": {},
   "outputs": [
    {
     "name": "stdout",
     "output_type": "stream",
     "text": [
      "F1 score:  0.15016522555352096\n",
      "Accuracy score:  0.18657765284609978\n",
      "Recall score:  0.23452063247204014\n",
      "Precision score:  0.36523584905660383\n",
      "Confusion matrix: \n",
      "[[ 138    5  107]\n",
      " [1080  393 1120]\n",
      " [   1    2    0]]\n"
     ]
    }
   ],
   "source": [
    "computeAllScores(test_labels, test_preds)"
   ]
  },
  {
   "cell_type": "markdown",
   "metadata": {},
   "source": [
    "### FastText 300 "
   ]
  },
  {
   "cell_type": "code",
   "execution_count": 13,
   "metadata": {},
   "outputs": [],
   "source": [
    "ft300_train, ft300_dev, ft300_test = load_fasttext_300()"
   ]
  },
  {
   "cell_type": "code",
   "execution_count": 14,
   "metadata": {},
   "outputs": [],
   "source": [
    "# Set all NaN values to 0\n",
    "ft300_train = np.nan_to_num(ft300_train)\n",
    "ft300_dev = np.nan_to_num(ft300_dev)\n",
    "ft300_test = np.nan_to_num(ft300_test)"
   ]
  },
  {
   "cell_type": "code",
   "execution_count": 15,
   "metadata": {},
   "outputs": [],
   "source": [
    "k_means = KMeans(n_clusters=3, random_state=0).fit(ft300_train, train_labels)"
   ]
  },
  {
   "cell_type": "code",
   "execution_count": 16,
   "metadata": {},
   "outputs": [],
   "source": [
    "train_preds = k_means.predict(ft300_train)\n",
    "dev_preds = k_means.predict(ft300_dev)\n",
    "test_preds = k_means.predict(ft300_test)"
   ]
  },
  {
   "cell_type": "code",
   "execution_count": 17,
   "metadata": {},
   "outputs": [
    {
     "name": "stdout",
     "output_type": "stream",
     "text": [
      "F1 score:  0.09425327100502011\n",
      "Accuracy score:  0.09138037079342765\n",
      "Recall score:  0.3564043982385188\n",
      "Precision score:  0.34223776163350256\n",
      "Confusion matrix: \n",
      "[[  624   115  1223]\n",
      " [ 5633  1441 13704]\n",
      " [    7     0    15]]\n"
     ]
    }
   ],
   "source": [
    "computeAllScores(train_labels, train_preds)"
   ]
  },
  {
   "cell_type": "code",
   "execution_count": 18,
   "metadata": {},
   "outputs": [
    {
     "name": "stdout",
     "output_type": "stream",
     "text": [
      "F1 score:  0.10600388101230933\n",
      "Accuracy score:  0.09672880759760816\n",
      "Recall score:  0.30960108839176\n",
      "Precision score:  0.3454517868120958\n",
      "Confusion matrix: \n",
      "[[  98   18  156]\n",
      " [ 663  176 1730]\n",
      " [   1    0    1]]\n"
     ]
    }
   ],
   "source": [
    "computeAllScores(dev_labels, dev_preds)"
   ]
  },
  {
   "cell_type": "code",
   "execution_count": 19,
   "metadata": {},
   "outputs": [
    {
     "name": "stdout",
     "output_type": "stream",
     "text": [
      "F1 score:  0.09230425202211685\n",
      "Accuracy score:  0.08995080815179199\n",
      "Recall score:  0.34402810986844923\n",
      "Precision score:  0.34024789171993636\n",
      "Confusion matrix: \n",
      "[[  74   15  161]\n",
      " [ 691  180 1722]\n",
      " [   1    0    2]]\n"
     ]
    }
   ],
   "source": [
    "computeAllScores(test_labels, test_preds)"
   ]
  },
  {
   "cell_type": "markdown",
   "metadata": {},
   "source": [
    "### Word2Vec 300"
   ]
  },
  {
   "cell_type": "code",
   "execution_count": 20,
   "metadata": {},
   "outputs": [],
   "source": [
    "w2v300_train, w2v300_dev, w2v300_test = load_word2vec_300()"
   ]
  },
  {
   "cell_type": "code",
   "execution_count": 21,
   "metadata": {},
   "outputs": [],
   "source": [
    "# Set all NaN values to 0\n",
    "w2v300_train = np.nan_to_num(w2v300_train)\n",
    "w2v300_dev = np.nan_to_num(w2v300_dev)\n",
    "w2v300_test = np.nan_to_num(w2v300_test)"
   ]
  },
  {
   "cell_type": "code",
   "execution_count": 22,
   "metadata": {},
   "outputs": [],
   "source": [
    "k_means = KMeans(n_clusters=3, random_state=0).fit(w2v300_train, train_labels)"
   ]
  },
  {
   "cell_type": "code",
   "execution_count": 23,
   "metadata": {},
   "outputs": [],
   "source": [
    "train_preds = k_means.predict(w2v300_train)\n",
    "dev_preds = k_means.predict(w2v300_dev)\n",
    "test_preds = k_means.predict(w2v300_test)"
   ]
  },
  {
   "cell_type": "code",
   "execution_count": 24,
   "metadata": {},
   "outputs": [
    {
     "name": "stdout",
     "output_type": "stream",
     "text": [
      "F1 score:  0.259209304347983\n",
      "Accuracy score:  0.601704595378262\n",
      "Recall score:  0.3596312774201172\n",
      "Precision score:  0.3066791913582484\n",
      "Confusion matrix: \n",
      "[[   24  1452   486]\n",
      " [ 1540 13663  5575]\n",
      " [    1    12     9]]\n"
     ]
    }
   ],
   "source": [
    "computeAllScores(train_labels, train_preds)"
   ]
  },
  {
   "cell_type": "code",
   "execution_count": 25,
   "metadata": {},
   "outputs": [
    {
     "name": "stdout",
     "output_type": "stream",
     "text": [
      "F1 score:  0.2591562570724056\n",
      "Accuracy score:  0.5993668659866338\n",
      "Recall score:  0.3909218319480381\n",
      "Precision score:  0.30496220828068415\n",
      "Confusion matrix: \n",
      "[[   3  195   74]\n",
      " [ 178 1700  691]\n",
      " [   1    0    1]]\n"
     ]
    }
   ],
   "source": [
    "computeAllScores(dev_labels, dev_preds)"
   ]
  },
  {
   "cell_type": "code",
   "execution_count": 26,
   "metadata": {},
   "outputs": [
    {
     "name": "stdout",
     "output_type": "stream",
     "text": [
      "F1 score:  0.25488634436540464\n",
      "Accuracy score:  0.5948699929725931\n",
      "Recall score:  0.4408071303080945\n",
      "Precision score:  0.30158778930235264\n",
      "Confusion matrix: \n",
      "[[   1  193   56]\n",
      " [ 194 1690  709]\n",
      " [   0    1    2]]\n"
     ]
    }
   ],
   "source": [
    "computeAllScores(test_labels, test_preds)"
   ]
  },
  {
   "cell_type": "markdown",
   "metadata": {},
   "source": [
    "### TF-IDF PCA (1000 Dims)"
   ]
  },
  {
   "cell_type": "code",
   "execution_count": 27,
   "metadata": {},
   "outputs": [],
   "source": [
    "tfidf_pca_train, tfidf_pca_dev, tfidf_pca_test = load_tfidf_pca()"
   ]
  },
  {
   "cell_type": "code",
   "execution_count": 28,
   "metadata": {},
   "outputs": [],
   "source": [
    "k_means = KMeans(n_clusters=3, random_state=0).fit(tfidf_pca_train, train_labels)"
   ]
  },
  {
   "cell_type": "code",
   "execution_count": 29,
   "metadata": {},
   "outputs": [],
   "source": [
    "train_preds = k_means.predict(tfidf_pca_train)\n",
    "dev_preds = k_means.predict(tfidf_pca_dev)\n",
    "test_preds = k_means.predict(tfidf_pca_test)"
   ]
  },
  {
   "cell_type": "code",
   "execution_count": 30,
   "metadata": {},
   "outputs": [
    {
     "name": "stdout",
     "output_type": "stream",
     "text": [
      "F1 score:  0.1378300930462873\n",
      "Accuracy score:  0.13904753536596082\n",
      "Recall score:  0.36377233556457167\n",
      "Precision score:  0.3566092863759667\n",
      "Confusion matrix: \n",
      "[[  362   318  1282]\n",
      " [ 1736  2786 16256]\n",
      " [    1     4    17]]\n"
     ]
    }
   ],
   "source": [
    "computeAllScores(train_labels, train_preds)"
   ]
  },
  {
   "cell_type": "code",
   "execution_count": 31,
   "metadata": {},
   "outputs": [
    {
     "name": "stdout",
     "output_type": "stream",
     "text": [
      "F1 score:  0.14548665436659838\n",
      "Accuracy score:  0.13823425958494548\n",
      "Recall score:  0.2810823239377495\n",
      "Precision score:  0.36888950434125073\n",
      "Confusion matrix: \n",
      "[[  58   36  178]\n",
      " [ 226  334 2009]\n",
      " [   1    0    1]]\n"
     ]
    }
   ],
   "source": [
    "computeAllScores(dev_labels, dev_preds)"
   ]
  },
  {
   "cell_type": "code",
   "execution_count": 32,
   "metadata": {},
   "outputs": [
    {
     "name": "stdout",
     "output_type": "stream",
     "text": [
      "F1 score:  0.15596801860050574\n",
      "Accuracy score:  0.15038650737877723\n",
      "Recall score:  0.45904974932510606\n",
      "Precision score:  0.37446859668065735\n",
      "Confusion matrix: \n",
      "[[  59   34  157]\n",
      " [ 226  366 2001]\n",
      " [   0    0    3]]\n"
     ]
    }
   ],
   "source": [
    "computeAllScores(test_labels, test_preds)"
   ]
  },
  {
   "cell_type": "code",
   "execution_count": null,
   "metadata": {},
   "outputs": [],
   "source": []
  }
 ],
 "metadata": {
  "kernelspec": {
   "display_name": "Python 3.9.13 64-bit (microsoft store)",
   "language": "python",
   "name": "python3"
  },
  "language_info": {
   "codemirror_mode": {
    "name": "ipython",
    "version": 3
   },
   "file_extension": ".py",
   "mimetype": "text/x-python",
   "name": "python",
   "nbconvert_exporter": "python",
   "pygments_lexer": "ipython3",
   "version": "3.9.13"
  },
  "orig_nbformat": 4,
  "vscode": {
   "interpreter": {
    "hash": "a5a87ee616be0254e3f1af9223138e3faeac65b2c9d91bc22a9fc5a4a8bd8eb0"
   }
  }
 },
 "nbformat": 4,
 "nbformat_minor": 2
}
