{
 "cells": [
  {
   "cell_type": "code",
   "execution_count": 1,
   "metadata": {},
   "outputs": [],
   "source": [
    "from embeddings_loader import *\n",
    "from sklearn.neural_network import MLPClassifier\n",
    "from sklearn.model_selection import GridSearchCV\n",
    "from sklearn.metrics import f1_score\n",
    "from sklearn.metrics import accuracy_score\n",
    "from sklearn.metrics import confusion_matrix\n",
    "from sklearn.metrics import classification_report\n",
    "from sklearn.metrics import recall_score\n",
    "from sklearn.metrics import precision_score\n",
    "from sklearn.metrics import roc_auc_score\n",
    "from utils import *"
   ]
  },
  {
   "cell_type": "code",
   "execution_count": 2,
   "metadata": {},
   "outputs": [],
   "source": [
    "train_labels, dev_labels, test_labels = load_labels()"
   ]
  },
  {
   "cell_type": "code",
   "execution_count": 4,
   "metadata": {},
   "outputs": [],
   "source": [
    "label_replacement = {\n",
    "    'Hope_speech': 0,\n",
    "    'Non_hope_speech': 1,\n",
    "    'not-English': 2,\n",
    "}"
   ]
  },
  {
   "cell_type": "code",
   "execution_count": 5,
   "metadata": {},
   "outputs": [],
   "source": [
    "# Replace labels with numbers\n",
    "train_labels = [label_replacement[label] for label in train_labels]\n",
    "dev_labels = [label_replacement[label] for label in dev_labels]\n",
    "test_labels = [label_replacement[label] for label in test_labels]"
   ]
  },
  {
   "cell_type": "code",
   "execution_count": 6,
   "metadata": {},
   "outputs": [],
   "source": [
    "mlp = MLPClassifier()\n",
    "gridsearch = GridSearchCV(mlp, param_grid = {\n",
    "    \"activation\": [\"relu\", \"logistic\", \"tanh\"],\n",
    "    \"early_stopping\": [True],\n",
    "    \"learning_rate_init\": [0.0001, 0.001, 0.01],\n",
    "    \"max_iter\": [1000, 5000],\n",
    "    \"hidden_layer_sizes\": [(150, 150)]\n",
    "}, scoring = \"f1_micro\", verbose = 4)"
   ]
  },
  {
   "cell_type": "markdown",
   "metadata": {},
   "source": [
    "### Glove Twitter 25"
   ]
  },
  {
   "cell_type": "code",
   "execution_count": 7,
   "metadata": {},
   "outputs": [],
   "source": [
    "gt25_train, gt25_dev, gt25_test = load_glove_twitter_25()"
   ]
  },
  {
   "cell_type": "code",
   "execution_count": 8,
   "metadata": {},
   "outputs": [],
   "source": [
    "# Set all NaN values to 0\n",
    "gt25_train = np.nan_to_num(gt25_train)\n",
    "gt25_dev = np.nan_to_num(gt25_dev)\n",
    "gt25_test = np.nan_to_num(gt25_test)"
   ]
  },
  {
   "cell_type": "code",
   "execution_count": 9,
   "metadata": {},
   "outputs": [
    {
     "name": "stdout",
     "output_type": "stream",
     "text": [
      "Fitting 5 folds for each of 18 candidates, totalling 90 fits\n",
      "[CV 1/5] END activation=relu, early_stopping=True, hidden_layer_sizes=(150, 150), learning_rate_init=0.0001, max_iter=1000;, score=0.913 total time=   6.0s\n",
      "[CV 2/5] END activation=relu, early_stopping=True, hidden_layer_sizes=(150, 150), learning_rate_init=0.0001, max_iter=1000;, score=0.913 total time=   2.8s\n",
      "[CV 3/5] END activation=relu, early_stopping=True, hidden_layer_sizes=(150, 150), learning_rate_init=0.0001, max_iter=1000;, score=0.913 total time=   2.6s\n",
      "[CV 4/5] END activation=relu, early_stopping=True, hidden_layer_sizes=(150, 150), learning_rate_init=0.0001, max_iter=1000;, score=0.913 total time=   3.4s\n",
      "[CV 5/5] END activation=relu, early_stopping=True, hidden_layer_sizes=(150, 150), learning_rate_init=0.0001, max_iter=1000;, score=0.913 total time=   2.6s\n",
      "[CV 1/5] END activation=relu, early_stopping=True, hidden_layer_sizes=(150, 150), learning_rate_init=0.0001, max_iter=5000;, score=0.913 total time=   2.6s\n",
      "[CV 2/5] END activation=relu, early_stopping=True, hidden_layer_sizes=(150, 150), learning_rate_init=0.0001, max_iter=5000;, score=0.914 total time=   5.3s\n",
      "[CV 3/5] END activation=relu, early_stopping=True, hidden_layer_sizes=(150, 150), learning_rate_init=0.0001, max_iter=5000;, score=0.913 total time=   3.0s\n",
      "[CV 4/5] END activation=relu, early_stopping=True, hidden_layer_sizes=(150, 150), learning_rate_init=0.0001, max_iter=5000;, score=0.913 total time=   4.6s\n",
      "[CV 5/5] END activation=relu, early_stopping=True, hidden_layer_sizes=(150, 150), learning_rate_init=0.0001, max_iter=5000;, score=0.913 total time=   2.4s\n",
      "[CV 1/5] END activation=relu, early_stopping=True, hidden_layer_sizes=(150, 150), learning_rate_init=0.001, max_iter=1000;, score=0.914 total time=   6.4s\n",
      "[CV 2/5] END activation=relu, early_stopping=True, hidden_layer_sizes=(150, 150), learning_rate_init=0.001, max_iter=1000;, score=0.919 total time=  10.5s\n",
      "[CV 3/5] END activation=relu, early_stopping=True, hidden_layer_sizes=(150, 150), learning_rate_init=0.001, max_iter=1000;, score=0.920 total time=   7.0s\n",
      "[CV 4/5] END activation=relu, early_stopping=True, hidden_layer_sizes=(150, 150), learning_rate_init=0.001, max_iter=1000;, score=0.915 total time=   5.9s\n",
      "[CV 5/5] END activation=relu, early_stopping=True, hidden_layer_sizes=(150, 150), learning_rate_init=0.001, max_iter=1000;, score=0.922 total time=   5.9s\n",
      "[CV 1/5] END activation=relu, early_stopping=True, hidden_layer_sizes=(150, 150), learning_rate_init=0.001, max_iter=5000;, score=0.918 total time=   8.6s\n",
      "[CV 2/5] END activation=relu, early_stopping=True, hidden_layer_sizes=(150, 150), learning_rate_init=0.001, max_iter=5000;, score=0.921 total time=   9.3s\n",
      "[CV 3/5] END activation=relu, early_stopping=True, hidden_layer_sizes=(150, 150), learning_rate_init=0.001, max_iter=5000;, score=0.917 total time=   6.3s\n",
      "[CV 4/5] END activation=relu, early_stopping=True, hidden_layer_sizes=(150, 150), learning_rate_init=0.001, max_iter=5000;, score=0.915 total time=   9.0s\n",
      "[CV 5/5] END activation=relu, early_stopping=True, hidden_layer_sizes=(150, 150), learning_rate_init=0.001, max_iter=5000;, score=0.916 total time=   9.9s\n",
      "[CV 1/5] END activation=relu, early_stopping=True, hidden_layer_sizes=(150, 150), learning_rate_init=0.01, max_iter=1000;, score=0.913 total time=   3.8s\n",
      "[CV 2/5] END activation=relu, early_stopping=True, hidden_layer_sizes=(150, 150), learning_rate_init=0.01, max_iter=1000;, score=0.917 total time=   4.1s\n",
      "[CV 3/5] END activation=relu, early_stopping=True, hidden_layer_sizes=(150, 150), learning_rate_init=0.01, max_iter=1000;, score=0.917 total time=   5.0s\n",
      "[CV 4/5] END activation=relu, early_stopping=True, hidden_layer_sizes=(150, 150), learning_rate_init=0.01, max_iter=1000;, score=0.915 total time=   4.6s\n",
      "[CV 5/5] END activation=relu, early_stopping=True, hidden_layer_sizes=(150, 150), learning_rate_init=0.01, max_iter=1000;, score=0.919 total time=   4.0s\n",
      "[CV 1/5] END activation=relu, early_stopping=True, hidden_layer_sizes=(150, 150), learning_rate_init=0.01, max_iter=5000;, score=0.914 total time=   4.0s\n",
      "[CV 2/5] END activation=relu, early_stopping=True, hidden_layer_sizes=(150, 150), learning_rate_init=0.01, max_iter=5000;, score=0.911 total time=   7.5s\n",
      "[CV 3/5] END activation=relu, early_stopping=True, hidden_layer_sizes=(150, 150), learning_rate_init=0.01, max_iter=5000;, score=0.914 total time=   4.8s\n",
      "[CV 4/5] END activation=relu, early_stopping=True, hidden_layer_sizes=(150, 150), learning_rate_init=0.01, max_iter=5000;, score=0.911 total time=   7.3s\n",
      "[CV 5/5] END activation=relu, early_stopping=True, hidden_layer_sizes=(150, 150), learning_rate_init=0.01, max_iter=5000;, score=0.912 total time=   8.8s\n",
      "[CV 1/5] END activation=logistic, early_stopping=True, hidden_layer_sizes=(150, 150), learning_rate_init=0.0001, max_iter=1000;, score=0.913 total time=   3.6s\n",
      "[CV 2/5] END activation=logistic, early_stopping=True, hidden_layer_sizes=(150, 150), learning_rate_init=0.0001, max_iter=1000;, score=0.913 total time=   3.6s\n",
      "[CV 3/5] END activation=logistic, early_stopping=True, hidden_layer_sizes=(150, 150), learning_rate_init=0.0001, max_iter=1000;, score=0.913 total time=   3.9s\n",
      "[CV 4/5] END activation=logistic, early_stopping=True, hidden_layer_sizes=(150, 150), learning_rate_init=0.0001, max_iter=1000;, score=0.913 total time=   3.5s\n",
      "[CV 5/5] END activation=logistic, early_stopping=True, hidden_layer_sizes=(150, 150), learning_rate_init=0.0001, max_iter=1000;, score=0.913 total time=   3.5s\n",
      "[CV 1/5] END activation=logistic, early_stopping=True, hidden_layer_sizes=(150, 150), learning_rate_init=0.0001, max_iter=5000;, score=0.913 total time=   3.9s\n",
      "[CV 2/5] END activation=logistic, early_stopping=True, hidden_layer_sizes=(150, 150), learning_rate_init=0.0001, max_iter=5000;, score=0.913 total time=   3.6s\n",
      "[CV 3/5] END activation=logistic, early_stopping=True, hidden_layer_sizes=(150, 150), learning_rate_init=0.0001, max_iter=5000;, score=0.913 total time=   3.6s\n",
      "[CV 4/5] END activation=logistic, early_stopping=True, hidden_layer_sizes=(150, 150), learning_rate_init=0.0001, max_iter=5000;, score=0.913 total time=   3.8s\n",
      "[CV 5/5] END activation=logistic, early_stopping=True, hidden_layer_sizes=(150, 150), learning_rate_init=0.0001, max_iter=5000;, score=0.913 total time=   3.7s\n",
      "[CV 1/5] END activation=logistic, early_stopping=True, hidden_layer_sizes=(150, 150), learning_rate_init=0.001, max_iter=1000;, score=0.913 total time=   6.0s\n",
      "[CV 2/5] END activation=logistic, early_stopping=True, hidden_layer_sizes=(150, 150), learning_rate_init=0.001, max_iter=1000;, score=0.913 total time=   4.0s\n",
      "[CV 3/5] END activation=logistic, early_stopping=True, hidden_layer_sizes=(150, 150), learning_rate_init=0.001, max_iter=1000;, score=0.913 total time=   3.5s\n",
      "[CV 4/5] END activation=logistic, early_stopping=True, hidden_layer_sizes=(150, 150), learning_rate_init=0.001, max_iter=1000;, score=0.913 total time=   6.3s\n",
      "[CV 5/5] END activation=logistic, early_stopping=True, hidden_layer_sizes=(150, 150), learning_rate_init=0.001, max_iter=1000;, score=0.913 total time=   3.5s\n",
      "[CV 1/5] END activation=logistic, early_stopping=True, hidden_layer_sizes=(150, 150), learning_rate_init=0.001, max_iter=5000;, score=0.911 total time=   7.3s\n",
      "[CV 2/5] END activation=logistic, early_stopping=True, hidden_layer_sizes=(150, 150), learning_rate_init=0.001, max_iter=5000;, score=0.913 total time=   7.6s\n",
      "[CV 3/5] END activation=logistic, early_stopping=True, hidden_layer_sizes=(150, 150), learning_rate_init=0.001, max_iter=5000;, score=0.913 total time=   5.4s\n",
      "[CV 4/5] END activation=logistic, early_stopping=True, hidden_layer_sizes=(150, 150), learning_rate_init=0.001, max_iter=5000;, score=0.913 total time=   3.5s\n",
      "[CV 5/5] END activation=logistic, early_stopping=True, hidden_layer_sizes=(150, 150), learning_rate_init=0.001, max_iter=5000;, score=0.913 total time=   3.6s\n",
      "[CV 1/5] END activation=logistic, early_stopping=True, hidden_layer_sizes=(150, 150), learning_rate_init=0.01, max_iter=1000;, score=0.915 total time=  12.6s\n",
      "[CV 2/5] END activation=logistic, early_stopping=True, hidden_layer_sizes=(150, 150), learning_rate_init=0.01, max_iter=1000;, score=0.917 total time=  10.2s\n",
      "[CV 3/5] END activation=logistic, early_stopping=True, hidden_layer_sizes=(150, 150), learning_rate_init=0.01, max_iter=1000;, score=0.915 total time=   8.2s\n",
      "[CV 4/5] END activation=logistic, early_stopping=True, hidden_layer_sizes=(150, 150), learning_rate_init=0.01, max_iter=1000;, score=0.913 total time=   3.5s\n",
      "[CV 5/5] END activation=logistic, early_stopping=True, hidden_layer_sizes=(150, 150), learning_rate_init=0.01, max_iter=1000;, score=0.916 total time=   6.3s\n",
      "[CV 1/5] END activation=logistic, early_stopping=True, hidden_layer_sizes=(150, 150), learning_rate_init=0.01, max_iter=5000;, score=0.913 total time=  10.8s\n",
      "[CV 2/5] END activation=logistic, early_stopping=True, hidden_layer_sizes=(150, 150), learning_rate_init=0.01, max_iter=5000;, score=0.915 total time=   7.2s\n",
      "[CV 3/5] END activation=logistic, early_stopping=True, hidden_layer_sizes=(150, 150), learning_rate_init=0.01, max_iter=5000;, score=0.917 total time=  13.0s\n",
      "[CV 4/5] END activation=logistic, early_stopping=True, hidden_layer_sizes=(150, 150), learning_rate_init=0.01, max_iter=5000;, score=0.913 total time=   3.8s\n",
      "[CV 5/5] END activation=logistic, early_stopping=True, hidden_layer_sizes=(150, 150), learning_rate_init=0.01, max_iter=5000;, score=0.918 total time=  14.6s\n",
      "[CV 1/5] END activation=tanh, early_stopping=True, hidden_layer_sizes=(150, 150), learning_rate_init=0.0001, max_iter=1000;, score=0.913 total time=   3.7s\n",
      "[CV 2/5] END activation=tanh, early_stopping=True, hidden_layer_sizes=(150, 150), learning_rate_init=0.0001, max_iter=1000;, score=0.912 total time=   5.8s\n",
      "[CV 3/5] END activation=tanh, early_stopping=True, hidden_layer_sizes=(150, 150), learning_rate_init=0.0001, max_iter=1000;, score=0.913 total time=   3.4s\n",
      "[CV 4/5] END activation=tanh, early_stopping=True, hidden_layer_sizes=(150, 150), learning_rate_init=0.0001, max_iter=1000;, score=0.913 total time=   3.7s\n",
      "[CV 5/5] END activation=tanh, early_stopping=True, hidden_layer_sizes=(150, 150), learning_rate_init=0.0001, max_iter=1000;, score=0.913 total time=   3.5s\n",
      "[CV 1/5] END activation=tanh, early_stopping=True, hidden_layer_sizes=(150, 150), learning_rate_init=0.0001, max_iter=5000;, score=0.912 total time=   5.7s\n",
      "[CV 2/5] END activation=tanh, early_stopping=True, hidden_layer_sizes=(150, 150), learning_rate_init=0.0001, max_iter=5000;, score=0.913 total time=   7.0s\n",
      "[CV 3/5] END activation=tanh, early_stopping=True, hidden_layer_sizes=(150, 150), learning_rate_init=0.0001, max_iter=5000;, score=0.913 total time=   3.4s\n",
      "[CV 4/5] END activation=tanh, early_stopping=True, hidden_layer_sizes=(150, 150), learning_rate_init=0.0001, max_iter=5000;, score=0.911 total time=   6.1s\n",
      "[CV 5/5] END activation=tanh, early_stopping=True, hidden_layer_sizes=(150, 150), learning_rate_init=0.0001, max_iter=5000;, score=0.913 total time=   3.4s\n",
      "[CV 1/5] END activation=tanh, early_stopping=True, hidden_layer_sizes=(150, 150), learning_rate_init=0.001, max_iter=1000;, score=0.912 total time=   3.4s\n",
      "[CV 2/5] END activation=tanh, early_stopping=True, hidden_layer_sizes=(150, 150), learning_rate_init=0.001, max_iter=1000;, score=0.913 total time=   3.9s\n",
      "[CV 3/5] END activation=tanh, early_stopping=True, hidden_layer_sizes=(150, 150), learning_rate_init=0.001, max_iter=1000;, score=0.911 total time=   7.7s\n",
      "[CV 4/5] END activation=tanh, early_stopping=True, hidden_layer_sizes=(150, 150), learning_rate_init=0.001, max_iter=1000;, score=0.913 total time=   5.2s\n",
      "[CV 5/5] END activation=tanh, early_stopping=True, hidden_layer_sizes=(150, 150), learning_rate_init=0.001, max_iter=1000;, score=0.914 total time=   3.7s\n",
      "[CV 1/5] END activation=tanh, early_stopping=True, hidden_layer_sizes=(150, 150), learning_rate_init=0.001, max_iter=5000;, score=0.915 total time=  12.4s\n",
      "[CV 2/5] END activation=tanh, early_stopping=True, hidden_layer_sizes=(150, 150), learning_rate_init=0.001, max_iter=5000;, score=0.913 total time=   4.0s\n",
      "[CV 3/5] END activation=tanh, early_stopping=True, hidden_layer_sizes=(150, 150), learning_rate_init=0.001, max_iter=5000;, score=0.915 total time=  11.9s\n",
      "[CV 4/5] END activation=tanh, early_stopping=True, hidden_layer_sizes=(150, 150), learning_rate_init=0.001, max_iter=5000;, score=0.913 total time=   3.4s\n",
      "[CV 5/5] END activation=tanh, early_stopping=True, hidden_layer_sizes=(150, 150), learning_rate_init=0.001, max_iter=5000;, score=0.914 total time=   4.0s\n",
      "[CV 1/5] END activation=tanh, early_stopping=True, hidden_layer_sizes=(150, 150), learning_rate_init=0.01, max_iter=1000;, score=0.913 total time=   3.8s\n",
      "[CV 2/5] END activation=tanh, early_stopping=True, hidden_layer_sizes=(150, 150), learning_rate_init=0.01, max_iter=1000;, score=0.913 total time=  10.2s\n",
      "[CV 3/5] END activation=tanh, early_stopping=True, hidden_layer_sizes=(150, 150), learning_rate_init=0.01, max_iter=1000;, score=0.915 total time=   6.7s\n",
      "[CV 4/5] END activation=tanh, early_stopping=True, hidden_layer_sizes=(150, 150), learning_rate_init=0.01, max_iter=1000;, score=0.913 total time=   4.9s\n",
      "[CV 5/5] END activation=tanh, early_stopping=True, hidden_layer_sizes=(150, 150), learning_rate_init=0.01, max_iter=1000;, score=0.919 total time=   8.0s\n",
      "[CV 1/5] END activation=tanh, early_stopping=True, hidden_layer_sizes=(150, 150), learning_rate_init=0.01, max_iter=5000;, score=0.915 total time=   8.1s\n",
      "[CV 2/5] END activation=tanh, early_stopping=True, hidden_layer_sizes=(150, 150), learning_rate_init=0.01, max_iter=5000;, score=0.914 total time=  10.0s\n",
      "[CV 3/5] END activation=tanh, early_stopping=True, hidden_layer_sizes=(150, 150), learning_rate_init=0.01, max_iter=5000;, score=0.913 total time=   5.7s\n",
      "[CV 4/5] END activation=tanh, early_stopping=True, hidden_layer_sizes=(150, 150), learning_rate_init=0.01, max_iter=5000;, score=0.914 total time=   7.0s\n",
      "[CV 5/5] END activation=tanh, early_stopping=True, hidden_layer_sizes=(150, 150), learning_rate_init=0.01, max_iter=5000;, score=0.918 total time=   8.2s\n"
     ]
    }
   ],
   "source": [
    "grid_results = gridsearch.fit(gt25_train, train_labels)\n",
    "best_params = grid_results.best_params_\n",
    "mlp = grid_results.best_estimator_"
   ]
  },
  {
   "cell_type": "code",
   "execution_count": 10,
   "metadata": {},
   "outputs": [
    {
     "data": {
      "text/plain": [
       "{'activation': 'relu',\n",
       " 'early_stopping': True,\n",
       " 'hidden_layer_sizes': (150, 150),\n",
       " 'learning_rate_init': 0.001,\n",
       " 'max_iter': 1000}"
      ]
     },
     "execution_count": 10,
     "metadata": {},
     "output_type": "execute_result"
    }
   ],
   "source": [
    "best_params"
   ]
  },
  {
   "cell_type": "code",
   "execution_count": 11,
   "metadata": {},
   "outputs": [],
   "source": [
    "mlp = mlp.fit(gt25_train, train_labels)\n",
    "save_model(mlp, \"mlp_gt25.joblib\")"
   ]
  },
  {
   "cell_type": "code",
   "execution_count": 12,
   "metadata": {},
   "outputs": [],
   "source": [
    "train_preds = mlp.predict(gt25_train)\n",
    "dev_preds = mlp.predict(gt25_dev)\n",
    "test_preds = mlp.predict(gt25_test)"
   ]
  },
  {
   "cell_type": "code",
   "execution_count": 13,
   "metadata": {},
   "outputs": [
    {
     "name": "stdout",
     "output_type": "stream",
     "text": [
      "Accuracy Train:  0.9246551269659959\n",
      "Accuracy Dev:  0.9124164614843475\n",
      "Accuracy Test:  0.9209416725228391\n",
      "F1 Train:  0.5473182873975259\n",
      "F1 Dev:  0.413843004548206\n",
      "F1 Test:  0.4242921082001541\n",
      "Precision Train:  0.8343517905142366\n",
      "Precision Dev:  0.5285806037251124\n",
      "Precision Test:  0.5387725387725387\n",
      "Recall Train:  0.4760977968158993\n",
      "Recall Dev:  0.3913640388035324\n",
      "Recall Test:  0.39837665509705616\n",
      "Confusion Matrix Train: \n",
      "[[  408  1554     0]\n",
      " [  143 20634     1]\n",
      " [    0    17     5]]\n",
      "Confusion Matrix Dev: \n",
      "[[  50  222    0]\n",
      " [  25 2544    0]\n",
      " [   0    2    0]]\n",
      "Confusion Matrix Test: \n",
      "[[  51  199    0]\n",
      " [  23 2570    0]\n",
      " [   0    3    0]]\n"
     ]
    },
    {
     "name": "stderr",
     "output_type": "stream",
     "text": [
      "c:\\Kyode\\clg\\ml\\ML_Project\\venv\\lib\\site-packages\\sklearn\\metrics\\_classification.py:1334: UndefinedMetricWarning: Precision is ill-defined and being set to 0.0 in labels with no predicted samples. Use `zero_division` parameter to control this behavior.\n",
      "  _warn_prf(average, modifier, msg_start, len(result))\n",
      "c:\\Kyode\\clg\\ml\\ML_Project\\venv\\lib\\site-packages\\sklearn\\metrics\\_classification.py:1334: UndefinedMetricWarning: Precision is ill-defined and being set to 0.0 in labels with no predicted samples. Use `zero_division` parameter to control this behavior.\n",
      "  _warn_prf(average, modifier, msg_start, len(result))\n"
     ]
    }
   ],
   "source": [
    "computeAllScores(train_preds, dev_preds, test_preds)"
   ]
  },
  {
   "cell_type": "markdown",
   "metadata": {},
   "source": [
    "### FastText 300 "
   ]
  },
  {
   "cell_type": "code",
   "execution_count": 14,
   "metadata": {},
   "outputs": [],
   "source": [
    "ft300_train, ft300_dev, ft300_test = load_fasttext_300()"
   ]
  },
  {
   "cell_type": "code",
   "execution_count": 15,
   "metadata": {},
   "outputs": [],
   "source": [
    "# Set all NaN values to 0\n",
    "ft300_train = np.nan_to_num(ft300_train)\n",
    "ft300_dev = np.nan_to_num(ft300_dev)\n",
    "ft300_test = np.nan_to_num(ft300_test)"
   ]
  },
  {
   "cell_type": "code",
   "execution_count": 16,
   "metadata": {},
   "outputs": [
    {
     "name": "stdout",
     "output_type": "stream",
     "text": [
      "Fitting 5 folds for each of 18 candidates, totalling 90 fits\n"
     ]
    },
    {
     "name": "stderr",
     "output_type": "stream",
     "text": [
      "c:\\Kyode\\clg\\ml\\ML_Project\\venv\\lib\\site-packages\\sklearn\\neural_network\\_multilayer_perceptron.py:709: UserWarning: Training interrupted by user.\n",
      "  warnings.warn(\"Training interrupted by user.\")\n"
     ]
    },
    {
     "name": "stdout",
     "output_type": "stream",
     "text": [
      "[CV 1/5] END activation=relu, early_stopping=True, hidden_layer_sizes=(150, 150), learning_rate_init=0.0001, max_iter=1000;, score=0.913 total time=   3.8s\n",
      "[CV 2/5] END activation=relu, early_stopping=True, hidden_layer_sizes=(150, 150), learning_rate_init=0.0001, max_iter=1000;, score=0.913 total time=   4.0s\n",
      "[CV 3/5] END activation=relu, early_stopping=True, hidden_layer_sizes=(150, 150), learning_rate_init=0.0001, max_iter=1000;, score=0.913 total time=   3.6s\n",
      "[CV 4/5] END activation=relu, early_stopping=True, hidden_layer_sizes=(150, 150), learning_rate_init=0.0001, max_iter=1000;, score=0.913 total time=   4.0s\n",
      "[CV 5/5] END activation=relu, early_stopping=True, hidden_layer_sizes=(150, 150), learning_rate_init=0.0001, max_iter=1000;, score=0.913 total time=   3.9s\n",
      "[CV 1/5] END activation=relu, early_stopping=True, hidden_layer_sizes=(150, 150), learning_rate_init=0.0001, max_iter=5000;, score=0.913 total time=   3.7s\n",
      "[CV 2/5] END activation=relu, early_stopping=True, hidden_layer_sizes=(150, 150), learning_rate_init=0.0001, max_iter=5000;, score=0.913 total time=   4.9s\n",
      "[CV 3/5] END activation=relu, early_stopping=True, hidden_layer_sizes=(150, 150), learning_rate_init=0.0001, max_iter=5000;, score=0.913 total time=   3.5s\n",
      "[CV 4/5] END activation=relu, early_stopping=True, hidden_layer_sizes=(150, 150), learning_rate_init=0.0001, max_iter=5000;, score=0.913 total time=   3.6s\n",
      "[CV 5/5] END activation=relu, early_stopping=True, hidden_layer_sizes=(150, 150), learning_rate_init=0.0001, max_iter=5000;, score=0.913 total time=   4.1s\n",
      "[CV 1/5] END activation=relu, early_stopping=True, hidden_layer_sizes=(150, 150), learning_rate_init=0.001, max_iter=1000;, score=0.919 total time=   9.7s\n",
      "[CV 2/5] END activation=relu, early_stopping=True, hidden_layer_sizes=(150, 150), learning_rate_init=0.001, max_iter=1000;, score=0.922 total time=   9.2s\n",
      "[CV 3/5] END activation=relu, early_stopping=True, hidden_layer_sizes=(150, 150), learning_rate_init=0.001, max_iter=1000;, score=0.924 total time=  10.1s\n",
      "[CV 4/5] END activation=relu, early_stopping=True, hidden_layer_sizes=(150, 150), learning_rate_init=0.001, max_iter=1000;, score=0.924 total time=  11.3s\n",
      "[CV 5/5] END activation=relu, early_stopping=True, hidden_layer_sizes=(150, 150), learning_rate_init=0.001, max_iter=1000;, score=0.923 total time=   7.8s\n",
      "[CV 1/5] END activation=relu, early_stopping=True, hidden_layer_sizes=(150, 150), learning_rate_init=0.001, max_iter=5000;, score=0.924 total time=   8.9s\n",
      "[CV 2/5] END activation=relu, early_stopping=True, hidden_layer_sizes=(150, 150), learning_rate_init=0.001, max_iter=5000;, score=0.919 total time=  17.8s\n",
      "[CV 3/5] END activation=relu, early_stopping=True, hidden_layer_sizes=(150, 150), learning_rate_init=0.001, max_iter=5000;, score=0.924 total time=   9.5s\n",
      "[CV 4/5] END activation=relu, early_stopping=True, hidden_layer_sizes=(150, 150), learning_rate_init=0.001, max_iter=5000;, score=0.927 total time=   9.2s\n",
      "[CV 5/5] END activation=relu, early_stopping=True, hidden_layer_sizes=(150, 150), learning_rate_init=0.001, max_iter=5000;, score=0.924 total time=   9.0s\n",
      "[CV 1/5] END activation=relu, early_stopping=True, hidden_layer_sizes=(150, 150), learning_rate_init=0.01, max_iter=1000;, score=0.921 total time=   6.3s\n",
      "[CV 2/5] END activation=relu, early_stopping=True, hidden_layer_sizes=(150, 150), learning_rate_init=0.01, max_iter=1000;, score=0.920 total time=  11.6s\n",
      "[CV 3/5] END activation=relu, early_stopping=True, hidden_layer_sizes=(150, 150), learning_rate_init=0.01, max_iter=1000;, score=0.924 total time=   6.5s\n",
      "[CV 4/5] END activation=relu, early_stopping=True, hidden_layer_sizes=(150, 150), learning_rate_init=0.01, max_iter=1000;, score=0.924 total time=  12.8s\n",
      "[CV 5/5] END activation=relu, early_stopping=True, hidden_layer_sizes=(150, 150), learning_rate_init=0.01, max_iter=1000;, score=0.923 total time=  10.0s\n",
      "[CV 1/5] END activation=relu, early_stopping=True, hidden_layer_sizes=(150, 150), learning_rate_init=0.01, max_iter=5000;, score=0.921 total time=   7.9s\n",
      "[CV 2/5] END activation=relu, early_stopping=True, hidden_layer_sizes=(150, 150), learning_rate_init=0.01, max_iter=5000;, score=0.920 total time=   5.8s\n",
      "[CV 3/5] END activation=relu, early_stopping=True, hidden_layer_sizes=(150, 150), learning_rate_init=0.01, max_iter=5000;, score=0.920 total time=   5.2s\n",
      "[CV 4/5] END activation=relu, early_stopping=True, hidden_layer_sizes=(150, 150), learning_rate_init=0.01, max_iter=5000;, score=0.924 total time=   7.7s\n",
      "[CV 5/5] END activation=relu, early_stopping=True, hidden_layer_sizes=(150, 150), learning_rate_init=0.01, max_iter=5000;, score=0.922 total time=  11.2s\n",
      "[CV 1/5] END activation=logistic, early_stopping=True, hidden_layer_sizes=(150, 150), learning_rate_init=0.0001, max_iter=1000;, score=0.913 total time=   5.1s\n",
      "[CV 2/5] END activation=logistic, early_stopping=True, hidden_layer_sizes=(150, 150), learning_rate_init=0.0001, max_iter=1000;, score=0.913 total time=   4.9s\n",
      "[CV 3/5] END activation=logistic, early_stopping=True, hidden_layer_sizes=(150, 150), learning_rate_init=0.0001, max_iter=1000;, score=0.913 total time=   5.2s\n",
      "[CV 4/5] END activation=logistic, early_stopping=True, hidden_layer_sizes=(150, 150), learning_rate_init=0.0001, max_iter=1000;, score=0.913 total time=   4.8s\n",
      "[CV 5/5] END activation=logistic, early_stopping=True, hidden_layer_sizes=(150, 150), learning_rate_init=0.0001, max_iter=1000;, score=0.913 total time=   5.1s\n",
      "[CV 1/5] END activation=logistic, early_stopping=True, hidden_layer_sizes=(150, 150), learning_rate_init=0.0001, max_iter=5000;, score=0.913 total time=   5.0s\n",
      "[CV 2/5] END activation=logistic, early_stopping=True, hidden_layer_sizes=(150, 150), learning_rate_init=0.0001, max_iter=5000;, score=0.913 total time=   5.0s\n",
      "[CV 3/5] END activation=logistic, early_stopping=True, hidden_layer_sizes=(150, 150), learning_rate_init=0.0001, max_iter=5000;, score=0.913 total time=   5.1s\n",
      "[CV 4/5] END activation=logistic, early_stopping=True, hidden_layer_sizes=(150, 150), learning_rate_init=0.0001, max_iter=5000;, score=0.913 total time=   4.9s\n",
      "[CV 5/5] END activation=logistic, early_stopping=True, hidden_layer_sizes=(150, 150), learning_rate_init=0.0001, max_iter=5000;, score=0.913 total time=   5.0s\n",
      "[CV 1/5] END activation=logistic, early_stopping=True, hidden_layer_sizes=(150, 150), learning_rate_init=0.001, max_iter=1000;, score=0.911 total time=   9.8s\n",
      "[CV 2/5] END activation=logistic, early_stopping=True, hidden_layer_sizes=(150, 150), learning_rate_init=0.001, max_iter=1000;, score=0.913 total time=   7.5s\n",
      "[CV 3/5] END activation=logistic, early_stopping=True, hidden_layer_sizes=(150, 150), learning_rate_init=0.001, max_iter=1000;, score=0.913 total time=   9.7s\n",
      "[CV 4/5] END activation=logistic, early_stopping=True, hidden_layer_sizes=(150, 150), learning_rate_init=0.001, max_iter=1000;, score=0.913 total time=  11.0s\n",
      "[CV 5/5] END activation=logistic, early_stopping=True, hidden_layer_sizes=(150, 150), learning_rate_init=0.001, max_iter=1000;, score=0.914 total time=   8.0s\n",
      "[CV 1/5] END activation=logistic, early_stopping=True, hidden_layer_sizes=(150, 150), learning_rate_init=0.001, max_iter=5000;, score=0.913 total time=   8.1s\n",
      "[CV 2/5] END activation=logistic, early_stopping=True, hidden_layer_sizes=(150, 150), learning_rate_init=0.001, max_iter=5000;, score=0.913 total time=   5.1s\n",
      "[CV 3/5] END activation=logistic, early_stopping=True, hidden_layer_sizes=(150, 150), learning_rate_init=0.001, max_iter=5000;, score=0.913 total time=   7.4s\n",
      "[CV 4/5] END activation=logistic, early_stopping=True, hidden_layer_sizes=(150, 150), learning_rate_init=0.001, max_iter=5000;, score=0.913 total time=  14.2s\n",
      "[CV 5/5] END activation=logistic, early_stopping=True, hidden_layer_sizes=(150, 150), learning_rate_init=0.001, max_iter=5000;, score=0.914 total time=  11.4s\n",
      "[CV 1/5] END activation=logistic, early_stopping=True, hidden_layer_sizes=(150, 150), learning_rate_init=0.01, max_iter=1000;, score=0.912 total time=   6.4s\n",
      "[CV 2/5] END activation=logistic, early_stopping=True, hidden_layer_sizes=(150, 150), learning_rate_init=0.01, max_iter=1000;, score=0.912 total time=   6.9s\n",
      "[CV 3/5] END activation=logistic, early_stopping=True, hidden_layer_sizes=(150, 150), learning_rate_init=0.01, max_iter=1000;, score=0.919 total time=  13.2s\n",
      "[CV 4/5] END activation=logistic, early_stopping=True, hidden_layer_sizes=(150, 150), learning_rate_init=0.01, max_iter=1000;, score=0.911 total time=  11.3s\n",
      "[CV 5/5] END activation=logistic, early_stopping=True, hidden_layer_sizes=(150, 150), learning_rate_init=0.01, max_iter=1000;, score=0.918 total time=  22.4s\n",
      "[CV 1/5] END activation=logistic, early_stopping=True, hidden_layer_sizes=(150, 150), learning_rate_init=0.01, max_iter=5000;, score=0.913 total time=   5.2s\n",
      "[CV 2/5] END activation=logistic, early_stopping=True, hidden_layer_sizes=(150, 150), learning_rate_init=0.01, max_iter=5000;, score=0.913 total time=   5.1s\n",
      "[CV 3/5] END activation=logistic, early_stopping=True, hidden_layer_sizes=(150, 150), learning_rate_init=0.01, max_iter=5000;, score=0.913 total time=   5.2s\n",
      "[CV 4/5] END activation=logistic, early_stopping=True, hidden_layer_sizes=(150, 150), learning_rate_init=0.01, max_iter=5000;, score=0.914 total time=   5.4s\n",
      "[CV 5/5] END activation=logistic, early_stopping=True, hidden_layer_sizes=(150, 150), learning_rate_init=0.01, max_iter=5000;, score=0.917 total time=  15.0s\n",
      "[CV 1/5] END activation=tanh, early_stopping=True, hidden_layer_sizes=(150, 150), learning_rate_init=0.0001, max_iter=1000;, score=0.913 total time=   8.4s\n",
      "[CV 2/5] END activation=tanh, early_stopping=True, hidden_layer_sizes=(150, 150), learning_rate_init=0.0001, max_iter=1000;, score=0.914 total time=   9.9s\n",
      "[CV 3/5] END activation=tanh, early_stopping=True, hidden_layer_sizes=(150, 150), learning_rate_init=0.0001, max_iter=1000;, score=0.913 total time=   9.0s\n",
      "[CV 4/5] END activation=tanh, early_stopping=True, hidden_layer_sizes=(150, 150), learning_rate_init=0.0001, max_iter=1000;, score=0.913 total time=   8.5s\n",
      "[CV 5/5] END activation=tanh, early_stopping=True, hidden_layer_sizes=(150, 150), learning_rate_init=0.0001, max_iter=1000;, score=0.914 total time=   9.3s\n",
      "[CV 1/5] END activation=tanh, early_stopping=True, hidden_layer_sizes=(150, 150), learning_rate_init=0.0001, max_iter=5000;, score=0.913 total time=  10.0s\n",
      "[CV 2/5] END activation=tanh, early_stopping=True, hidden_layer_sizes=(150, 150), learning_rate_init=0.0001, max_iter=5000;, score=0.913 total time=   4.8s\n",
      "[CV 3/5] END activation=tanh, early_stopping=True, hidden_layer_sizes=(150, 150), learning_rate_init=0.0001, max_iter=5000;, score=0.914 total time=  10.9s\n",
      "[CV 4/5] END activation=tanh, early_stopping=True, hidden_layer_sizes=(150, 150), learning_rate_init=0.0001, max_iter=5000;, score=0.914 total time=  16.4s\n",
      "[CV 5/5] END activation=tanh, early_stopping=True, hidden_layer_sizes=(150, 150), learning_rate_init=0.0001, max_iter=5000;, score=0.913 total time=   5.0s\n",
      "[CV 1/5] END activation=tanh, early_stopping=True, hidden_layer_sizes=(150, 150), learning_rate_init=0.001, max_iter=1000;, score=0.909 total time=   5.5s\n",
      "[CV 2/5] END activation=tanh, early_stopping=True, hidden_layer_sizes=(150, 150), learning_rate_init=0.001, max_iter=1000;, score=0.911 total time=   7.0s\n",
      "[CV 3/5] END activation=tanh, early_stopping=True, hidden_layer_sizes=(150, 150), learning_rate_init=0.001, max_iter=1000;, score=0.913 total time=   5.1s\n",
      "[CV 4/5] END activation=tanh, early_stopping=True, hidden_layer_sizes=(150, 150), learning_rate_init=0.001, max_iter=1000;, score=0.914 total time=   5.6s\n",
      "[CV 5/5] END activation=tanh, early_stopping=True, hidden_layer_sizes=(150, 150), learning_rate_init=0.001, max_iter=1000;, score=0.913 total time=   4.6s\n",
      "[CV 1/5] END activation=tanh, early_stopping=True, hidden_layer_sizes=(150, 150), learning_rate_init=0.001, max_iter=5000;, score=0.913 total time=   9.4s\n",
      "[CV 2/5] END activation=tanh, early_stopping=True, hidden_layer_sizes=(150, 150), learning_rate_init=0.001, max_iter=5000;, score=0.907 total time=   9.3s\n",
      "[CV 3/5] END activation=tanh, early_stopping=True, hidden_layer_sizes=(150, 150), learning_rate_init=0.001, max_iter=5000;, score=0.914 total time=   6.6s\n",
      "[CV 4/5] END activation=tanh, early_stopping=True, hidden_layer_sizes=(150, 150), learning_rate_init=0.001, max_iter=5000;, score=0.915 total time=   6.2s\n",
      "[CV 5/5] END activation=tanh, early_stopping=True, hidden_layer_sizes=(150, 150), learning_rate_init=0.001, max_iter=5000;, score=0.912 total time=  12.8s\n",
      "[CV 1/5] END activation=tanh, early_stopping=True, hidden_layer_sizes=(150, 150), learning_rate_init=0.01, max_iter=1000;, score=0.915 total time=  15.6s\n",
      "[CV 2/5] END activation=tanh, early_stopping=True, hidden_layer_sizes=(150, 150), learning_rate_init=0.01, max_iter=1000;, score=0.912 total time=  11.6s\n",
      "[CV 3/5] END activation=tanh, early_stopping=True, hidden_layer_sizes=(150, 150), learning_rate_init=0.01, max_iter=1000;, score=0.922 total time=  18.3s\n",
      "[CV 4/5] END activation=tanh, early_stopping=True, hidden_layer_sizes=(150, 150), learning_rate_init=0.01, max_iter=1000;, score=0.915 total time=   5.4s\n",
      "[CV 5/5] END activation=tanh, early_stopping=True, hidden_layer_sizes=(150, 150), learning_rate_init=0.01, max_iter=1000;, score=0.918 total time=  16.2s\n",
      "[CV 1/5] END activation=tanh, early_stopping=True, hidden_layer_sizes=(150, 150), learning_rate_init=0.01, max_iter=5000;, score=0.917 total time=  15.3s\n",
      "[CV 2/5] END activation=tanh, early_stopping=True, hidden_layer_sizes=(150, 150), learning_rate_init=0.01, max_iter=5000;, score=0.915 total time=   4.7s\n",
      "[CV 3/5] END activation=tanh, early_stopping=True, hidden_layer_sizes=(150, 150), learning_rate_init=0.01, max_iter=5000;, score=0.914 total time=   7.7s\n",
      "[CV 4/5] END activation=tanh, early_stopping=True, hidden_layer_sizes=(150, 150), learning_rate_init=0.01, max_iter=5000;, score=0.919 total time=  17.9s\n",
      "[CV 5/5] END activation=tanh, early_stopping=True, hidden_layer_sizes=(150, 150), learning_rate_init=0.01, max_iter=5000;, score=0.918 total time=  17.5s\n"
     ]
    }
   ],
   "source": [
    "grid_results = gridsearch.fit(ft300_train, train_labels)\n",
    "best_params = grid_results.best_params_\n",
    "mlp = grid_results.best_estimator_"
   ]
  },
  {
   "cell_type": "code",
   "execution_count": 17,
   "metadata": {},
   "outputs": [],
   "source": [
    "best_params"
   ]
  },
  {
   "cell_type": "code",
   "execution_count": 18,
   "metadata": {},
   "outputs": [],
   "source": [
    "mlp = mlp.fit(ft300_train, train_labels)\n",
    "save_model(mlp, \"mlp_ft300.joblib\")"
   ]
  },
  {
   "cell_type": "code",
   "execution_count": 19,
   "metadata": {},
   "outputs": [],
   "source": [
    "train_preds = mlp.predict(ft300_train)\n",
    "dev_preds = mlp.predict(ft300_dev)\n",
    "test_preds = mlp.predict(ft300_test)"
   ]
  },
  {
   "cell_type": "code",
   "execution_count": 20,
   "metadata": {},
   "outputs": [
    {
     "name": "stdout",
     "output_type": "stream",
     "text": [
      "Accuracy Train:  0.9386257798084526\n",
      "Accuracy Dev:  0.9148786493141048\n",
      "Accuracy Test:  0.9255094869992972\n",
      "F1 Train:  0.6167268204357556\n",
      "F1 Dev:  0.4409317033156042\n",
      "F1 Test:  0.45935081292102825\n",
      "Precision Train:  0.9254397215869212\n",
      "Precision Dev:  0.5245198275667501\n",
      "Precision Test:  0.5410128949864749\n",
      "Recall Train:  0.5301243003836873\n",
      "Recall Dev:  0.4141870644715652\n",
      "Recall Test:  0.42896259159274974\n",
      "Confusion Matrix Train: \n",
      "[[  726  1236     0]\n",
      " [  144 20634     0]\n",
      " [    1    16     5]]\n",
      "Confusion Matrix Dev: \n",
      "[[  70  202    0]\n",
      " [  38 2531    0]\n",
      " [   0    2    0]]\n",
      "Confusion Matrix Test: \n",
      "[[  75  175    0]\n",
      " [  34 2559    0]\n",
      " [   0    3    0]]\n"
     ]
    },
    {
     "name": "stderr",
     "output_type": "stream",
     "text": [
      "c:\\Kyode\\clg\\ml\\ML_Project\\venv\\lib\\site-packages\\sklearn\\metrics\\_classification.py:1334: UndefinedMetricWarning: Precision is ill-defined and being set to 0.0 in labels with no predicted samples. Use `zero_division` parameter to control this behavior.\n",
      "  _warn_prf(average, modifier, msg_start, len(result))\n",
      "c:\\Kyode\\clg\\ml\\ML_Project\\venv\\lib\\site-packages\\sklearn\\metrics\\_classification.py:1334: UndefinedMetricWarning: Precision is ill-defined and being set to 0.0 in labels with no predicted samples. Use `zero_division` parameter to control this behavior.\n",
      "  _warn_prf(average, modifier, msg_start, len(result))\n"
     ]
    }
   ],
   "source": [
    "computeAllScores(train_preds, dev_preds, test_preds)"
   ]
  },
  {
   "cell_type": "markdown",
   "metadata": {},
   "source": [
    "### Word2Vec 300"
   ]
  },
  {
   "cell_type": "code",
   "execution_count": 21,
   "metadata": {},
   "outputs": [],
   "source": [
    "w2v300_train, w2v300_dev, w2v300_test = load_word2vec_300()"
   ]
  },
  {
   "cell_type": "code",
   "execution_count": 22,
   "metadata": {},
   "outputs": [],
   "source": [
    "# Set all NaN values to 0\n",
    "w2v300_train = np.nan_to_num(w2v300_train)\n",
    "w2v300_dev = np.nan_to_num(w2v300_dev)\n",
    "w2v300_test = np.nan_to_num(w2v300_test)"
   ]
  },
  {
   "cell_type": "code",
   "execution_count": 23,
   "metadata": {},
   "outputs": [
    {
     "name": "stdout",
     "output_type": "stream",
     "text": [
      "Fitting 5 folds for each of 18 candidates, totalling 90 fits\n",
      "[CV 1/5] END activation=relu, early_stopping=True, hidden_layer_sizes=(150, 150), learning_rate_init=0.0001, max_iter=1000;, score=0.925 total time=  14.2s\n",
      "[CV 2/5] END activation=relu, early_stopping=True, hidden_layer_sizes=(150, 150), learning_rate_init=0.0001, max_iter=1000;, score=0.916 total time=   6.5s\n",
      "[CV 3/5] END activation=relu, early_stopping=True, hidden_layer_sizes=(150, 150), learning_rate_init=0.0001, max_iter=1000;, score=0.922 total time=  14.8s\n",
      "[CV 4/5] END activation=relu, early_stopping=True, hidden_layer_sizes=(150, 150), learning_rate_init=0.0001, max_iter=1000;, score=0.927 total time=  16.6s\n",
      "[CV 5/5] END activation=relu, early_stopping=True, hidden_layer_sizes=(150, 150), learning_rate_init=0.0001, max_iter=1000;, score=0.924 total time=  17.7s\n",
      "[CV 1/5] END activation=relu, early_stopping=True, hidden_layer_sizes=(150, 150), learning_rate_init=0.0001, max_iter=5000;, score=0.925 total time=  15.9s\n",
      "[CV 2/5] END activation=relu, early_stopping=True, hidden_layer_sizes=(150, 150), learning_rate_init=0.0001, max_iter=5000;, score=0.924 total time=  15.9s\n",
      "[CV 3/5] END activation=relu, early_stopping=True, hidden_layer_sizes=(150, 150), learning_rate_init=0.0001, max_iter=5000;, score=0.913 total time=   3.5s\n",
      "[CV 4/5] END activation=relu, early_stopping=True, hidden_layer_sizes=(150, 150), learning_rate_init=0.0001, max_iter=5000;, score=0.915 total time=   5.3s\n",
      "[CV 5/5] END activation=relu, early_stopping=True, hidden_layer_sizes=(150, 150), learning_rate_init=0.0001, max_iter=5000;, score=0.925 total time=  15.2s\n",
      "[CV 1/5] END activation=relu, early_stopping=True, hidden_layer_sizes=(150, 150), learning_rate_init=0.001, max_iter=1000;, score=0.925 total time=   7.5s\n",
      "[CV 2/5] END activation=relu, early_stopping=True, hidden_layer_sizes=(150, 150), learning_rate_init=0.001, max_iter=1000;, score=0.924 total time=   8.5s\n",
      "[CV 3/5] END activation=relu, early_stopping=True, hidden_layer_sizes=(150, 150), learning_rate_init=0.001, max_iter=1000;, score=0.927 total time=   9.2s\n",
      "[CV 4/5] END activation=relu, early_stopping=True, hidden_layer_sizes=(150, 150), learning_rate_init=0.001, max_iter=1000;, score=0.926 total time=   8.1s\n",
      "[CV 5/5] END activation=relu, early_stopping=True, hidden_layer_sizes=(150, 150), learning_rate_init=0.001, max_iter=1000;, score=0.924 total time=   5.4s\n",
      "[CV 1/5] END activation=relu, early_stopping=True, hidden_layer_sizes=(150, 150), learning_rate_init=0.001, max_iter=5000;, score=0.924 total time=   6.3s\n",
      "[CV 2/5] END activation=relu, early_stopping=True, hidden_layer_sizes=(150, 150), learning_rate_init=0.001, max_iter=5000;, score=0.925 total time=   9.2s\n",
      "[CV 3/5] END activation=relu, early_stopping=True, hidden_layer_sizes=(150, 150), learning_rate_init=0.001, max_iter=5000;, score=0.926 total time=   6.8s\n",
      "[CV 4/5] END activation=relu, early_stopping=True, hidden_layer_sizes=(150, 150), learning_rate_init=0.001, max_iter=5000;, score=0.926 total time=   7.4s\n",
      "[CV 5/5] END activation=relu, early_stopping=True, hidden_layer_sizes=(150, 150), learning_rate_init=0.001, max_iter=5000;, score=0.925 total time=   6.6s\n",
      "[CV 1/5] END activation=relu, early_stopping=True, hidden_layer_sizes=(150, 150), learning_rate_init=0.01, max_iter=1000;, score=0.925 total time=   5.5s\n",
      "[CV 2/5] END activation=relu, early_stopping=True, hidden_layer_sizes=(150, 150), learning_rate_init=0.01, max_iter=1000;, score=0.925 total time=   7.2s\n",
      "[CV 3/5] END activation=relu, early_stopping=True, hidden_layer_sizes=(150, 150), learning_rate_init=0.01, max_iter=1000;, score=0.922 total time=   5.0s\n",
      "[CV 4/5] END activation=relu, early_stopping=True, hidden_layer_sizes=(150, 150), learning_rate_init=0.01, max_iter=1000;, score=0.922 total time=   4.8s\n",
      "[CV 5/5] END activation=relu, early_stopping=True, hidden_layer_sizes=(150, 150), learning_rate_init=0.01, max_iter=1000;, score=0.922 total time=   5.2s\n",
      "[CV 1/5] END activation=relu, early_stopping=True, hidden_layer_sizes=(150, 150), learning_rate_init=0.01, max_iter=5000;, score=0.922 total time=   6.1s\n",
      "[CV 2/5] END activation=relu, early_stopping=True, hidden_layer_sizes=(150, 150), learning_rate_init=0.01, max_iter=5000;, score=0.920 total time=   4.5s\n",
      "[CV 3/5] END activation=relu, early_stopping=True, hidden_layer_sizes=(150, 150), learning_rate_init=0.01, max_iter=5000;, score=0.920 total time=   6.1s\n",
      "[CV 4/5] END activation=relu, early_stopping=True, hidden_layer_sizes=(150, 150), learning_rate_init=0.01, max_iter=5000;, score=0.923 total time=   5.0s\n",
      "[CV 5/5] END activation=relu, early_stopping=True, hidden_layer_sizes=(150, 150), learning_rate_init=0.01, max_iter=5000;, score=0.922 total time=   4.7s\n",
      "[CV 1/5] END activation=logistic, early_stopping=True, hidden_layer_sizes=(150, 150), learning_rate_init=0.0001, max_iter=1000;, score=0.913 total time=   4.9s\n",
      "[CV 2/5] END activation=logistic, early_stopping=True, hidden_layer_sizes=(150, 150), learning_rate_init=0.0001, max_iter=1000;, score=0.913 total time=   4.8s\n",
      "[CV 3/5] END activation=logistic, early_stopping=True, hidden_layer_sizes=(150, 150), learning_rate_init=0.0001, max_iter=1000;, score=0.913 total time=   5.2s\n",
      "[CV 4/5] END activation=logistic, early_stopping=True, hidden_layer_sizes=(150, 150), learning_rate_init=0.0001, max_iter=1000;, score=0.913 total time=   4.8s\n",
      "[CV 5/5] END activation=logistic, early_stopping=True, hidden_layer_sizes=(150, 150), learning_rate_init=0.0001, max_iter=1000;, score=0.913 total time=   5.2s\n",
      "[CV 1/5] END activation=logistic, early_stopping=True, hidden_layer_sizes=(150, 150), learning_rate_init=0.0001, max_iter=5000;, score=0.913 total time=   4.8s\n",
      "[CV 2/5] END activation=logistic, early_stopping=True, hidden_layer_sizes=(150, 150), learning_rate_init=0.0001, max_iter=5000;, score=0.913 total time=   4.8s\n",
      "[CV 3/5] END activation=logistic, early_stopping=True, hidden_layer_sizes=(150, 150), learning_rate_init=0.0001, max_iter=5000;, score=0.913 total time=   5.1s\n",
      "[CV 4/5] END activation=logistic, early_stopping=True, hidden_layer_sizes=(150, 150), learning_rate_init=0.0001, max_iter=5000;, score=0.913 total time=   4.8s\n",
      "[CV 5/5] END activation=logistic, early_stopping=True, hidden_layer_sizes=(150, 150), learning_rate_init=0.0001, max_iter=5000;, score=0.913 total time=   5.1s\n",
      "[CV 1/5] END activation=logistic, early_stopping=True, hidden_layer_sizes=(150, 150), learning_rate_init=0.001, max_iter=1000;, score=0.913 total time=   4.8s\n",
      "[CV 2/5] END activation=logistic, early_stopping=True, hidden_layer_sizes=(150, 150), learning_rate_init=0.001, max_iter=1000;, score=0.912 total time=  13.1s\n",
      "[CV 3/5] END activation=logistic, early_stopping=True, hidden_layer_sizes=(150, 150), learning_rate_init=0.001, max_iter=1000;, score=0.914 total time=   7.2s\n",
      "[CV 4/5] END activation=logistic, early_stopping=True, hidden_layer_sizes=(150, 150), learning_rate_init=0.001, max_iter=1000;, score=0.912 total time=   9.2s\n",
      "[CV 5/5] END activation=logistic, early_stopping=True, hidden_layer_sizes=(150, 150), learning_rate_init=0.001, max_iter=1000;, score=0.913 total time=   4.8s\n",
      "[CV 1/5] END activation=logistic, early_stopping=True, hidden_layer_sizes=(150, 150), learning_rate_init=0.001, max_iter=5000;, score=0.913 total time=   6.8s\n",
      "[CV 2/5] END activation=logistic, early_stopping=True, hidden_layer_sizes=(150, 150), learning_rate_init=0.001, max_iter=5000;, score=0.913 total time=   4.8s\n",
      "[CV 3/5] END activation=logistic, early_stopping=True, hidden_layer_sizes=(150, 150), learning_rate_init=0.001, max_iter=5000;, score=0.914 total time=  10.0s\n",
      "[CV 4/5] END activation=logistic, early_stopping=True, hidden_layer_sizes=(150, 150), learning_rate_init=0.001, max_iter=5000;, score=0.913 total time=   4.8s\n",
      "[CV 5/5] END activation=logistic, early_stopping=True, hidden_layer_sizes=(150, 150), learning_rate_init=0.001, max_iter=5000;, score=0.913 total time=   5.1s\n",
      "[CV 1/5] END activation=logistic, early_stopping=True, hidden_layer_sizes=(150, 150), learning_rate_init=0.01, max_iter=1000;, score=0.913 total time=   4.8s\n",
      "[CV 2/5] END activation=logistic, early_stopping=True, hidden_layer_sizes=(150, 150), learning_rate_init=0.01, max_iter=1000;, score=0.914 total time=  12.0s\n",
      "[CV 3/5] END activation=logistic, early_stopping=True, hidden_layer_sizes=(150, 150), learning_rate_init=0.01, max_iter=1000;, score=0.921 total time=  21.1s\n",
      "[CV 4/5] END activation=logistic, early_stopping=True, hidden_layer_sizes=(150, 150), learning_rate_init=0.01, max_iter=1000;, score=0.922 total time=  14.9s\n",
      "[CV 5/5] END activation=logistic, early_stopping=True, hidden_layer_sizes=(150, 150), learning_rate_init=0.01, max_iter=1000;, score=0.921 total time=  16.6s\n",
      "[CV 1/5] END activation=logistic, early_stopping=True, hidden_layer_sizes=(150, 150), learning_rate_init=0.01, max_iter=5000;, score=0.922 total time=  13.5s\n",
      "[CV 2/5] END activation=logistic, early_stopping=True, hidden_layer_sizes=(150, 150), learning_rate_init=0.01, max_iter=5000;, score=0.916 total time=   9.3s\n",
      "[CV 3/5] END activation=logistic, early_stopping=True, hidden_layer_sizes=(150, 150), learning_rate_init=0.01, max_iter=5000;, score=0.920 total time=  18.8s\n",
      "[CV 4/5] END activation=logistic, early_stopping=True, hidden_layer_sizes=(150, 150), learning_rate_init=0.01, max_iter=5000;, score=0.924 total time=  15.6s\n",
      "[CV 5/5] END activation=logistic, early_stopping=True, hidden_layer_sizes=(150, 150), learning_rate_init=0.01, max_iter=5000;, score=0.923 total time=  12.4s\n",
      "[CV 1/5] END activation=tanh, early_stopping=True, hidden_layer_sizes=(150, 150), learning_rate_init=0.0001, max_iter=1000;, score=0.913 total time=   5.4s\n",
      "[CV 2/5] END activation=tanh, early_stopping=True, hidden_layer_sizes=(150, 150), learning_rate_init=0.0001, max_iter=1000;, score=0.914 total time=   6.8s\n",
      "[CV 3/5] END activation=tanh, early_stopping=True, hidden_layer_sizes=(150, 150), learning_rate_init=0.0001, max_iter=1000;, score=0.913 total time=   6.7s\n",
      "[CV 4/5] END activation=tanh, early_stopping=True, hidden_layer_sizes=(150, 150), learning_rate_init=0.0001, max_iter=1000;, score=0.915 total time=   7.7s\n",
      "[CV 5/5] END activation=tanh, early_stopping=True, hidden_layer_sizes=(150, 150), learning_rate_init=0.0001, max_iter=1000;, score=0.913 total time=   7.9s\n",
      "[CV 1/5] END activation=tanh, early_stopping=True, hidden_layer_sizes=(150, 150), learning_rate_init=0.0001, max_iter=5000;, score=0.914 total time=   7.0s\n",
      "[CV 2/5] END activation=tanh, early_stopping=True, hidden_layer_sizes=(150, 150), learning_rate_init=0.0001, max_iter=5000;, score=0.914 total time=   6.5s\n",
      "[CV 3/5] END activation=tanh, early_stopping=True, hidden_layer_sizes=(150, 150), learning_rate_init=0.0001, max_iter=5000;, score=0.913 total time=   7.5s\n",
      "[CV 4/5] END activation=tanh, early_stopping=True, hidden_layer_sizes=(150, 150), learning_rate_init=0.0001, max_iter=5000;, score=0.913 total time=   5.5s\n",
      "[CV 5/5] END activation=tanh, early_stopping=True, hidden_layer_sizes=(150, 150), learning_rate_init=0.0001, max_iter=5000;, score=0.913 total time=   6.9s\n",
      "[CV 1/5] END activation=tanh, early_stopping=True, hidden_layer_sizes=(150, 150), learning_rate_init=0.001, max_iter=1000;, score=0.912 total time=   5.0s\n",
      "[CV 2/5] END activation=tanh, early_stopping=True, hidden_layer_sizes=(150, 150), learning_rate_init=0.001, max_iter=1000;, score=0.910 total time=   5.3s\n",
      "[CV 3/5] END activation=tanh, early_stopping=True, hidden_layer_sizes=(150, 150), learning_rate_init=0.001, max_iter=1000;, score=0.914 total time=  13.1s\n",
      "[CV 4/5] END activation=tanh, early_stopping=True, hidden_layer_sizes=(150, 150), learning_rate_init=0.001, max_iter=1000;, score=0.914 total time=   5.9s\n",
      "[CV 5/5] END activation=tanh, early_stopping=True, hidden_layer_sizes=(150, 150), learning_rate_init=0.001, max_iter=1000;, score=0.915 total time=   4.8s\n",
      "[CV 1/5] END activation=tanh, early_stopping=True, hidden_layer_sizes=(150, 150), learning_rate_init=0.001, max_iter=5000;, score=0.913 total time=   8.6s\n",
      "[CV 2/5] END activation=tanh, early_stopping=True, hidden_layer_sizes=(150, 150), learning_rate_init=0.001, max_iter=5000;, score=0.911 total time=   6.7s\n",
      "[CV 3/5] END activation=tanh, early_stopping=True, hidden_layer_sizes=(150, 150), learning_rate_init=0.001, max_iter=5000;, score=0.911 total time=   8.2s\n",
      "[CV 4/5] END activation=tanh, early_stopping=True, hidden_layer_sizes=(150, 150), learning_rate_init=0.001, max_iter=5000;, score=0.915 total time=   4.7s\n",
      "[CV 5/5] END activation=tanh, early_stopping=True, hidden_layer_sizes=(150, 150), learning_rate_init=0.001, max_iter=5000;, score=0.914 total time=   5.5s\n",
      "[CV 1/5] END activation=tanh, early_stopping=True, hidden_layer_sizes=(150, 150), learning_rate_init=0.01, max_iter=1000;, score=0.915 total time=   9.4s\n",
      "[CV 2/5] END activation=tanh, early_stopping=True, hidden_layer_sizes=(150, 150), learning_rate_init=0.01, max_iter=1000;, score=0.918 total time=   9.3s\n",
      "[CV 3/5] END activation=tanh, early_stopping=True, hidden_layer_sizes=(150, 150), learning_rate_init=0.01, max_iter=1000;, score=0.922 total time=   8.1s\n",
      "[CV 4/5] END activation=tanh, early_stopping=True, hidden_layer_sizes=(150, 150), learning_rate_init=0.01, max_iter=1000;, score=0.919 total time=  11.8s\n",
      "[CV 5/5] END activation=tanh, early_stopping=True, hidden_layer_sizes=(150, 150), learning_rate_init=0.01, max_iter=1000;, score=0.919 total time=   7.4s\n",
      "[CV 1/5] END activation=tanh, early_stopping=True, hidden_layer_sizes=(150, 150), learning_rate_init=0.01, max_iter=5000;, score=0.919 total time=  10.2s\n",
      "[CV 2/5] END activation=tanh, early_stopping=True, hidden_layer_sizes=(150, 150), learning_rate_init=0.01, max_iter=5000;, score=0.908 total time=  12.6s\n",
      "[CV 3/5] END activation=tanh, early_stopping=True, hidden_layer_sizes=(150, 150), learning_rate_init=0.01, max_iter=5000;, score=0.918 total time=   6.7s\n",
      "[CV 4/5] END activation=tanh, early_stopping=True, hidden_layer_sizes=(150, 150), learning_rate_init=0.01, max_iter=5000;, score=0.919 total time=  10.2s\n",
      "[CV 5/5] END activation=tanh, early_stopping=True, hidden_layer_sizes=(150, 150), learning_rate_init=0.01, max_iter=5000;, score=0.924 total time=  11.4s\n"
     ]
    }
   ],
   "source": [
    "grid_results = gridsearch.fit(w2v300_train, train_labels)\n",
    "best_params = grid_results.best_params_\n",
    "mlp = grid_results.best_estimator_"
   ]
  },
  {
   "cell_type": "code",
   "execution_count": 24,
   "metadata": {},
   "outputs": [
    {
     "data": {
      "text/plain": [
       "{'activation': 'relu',\n",
       " 'early_stopping': True,\n",
       " 'hidden_layer_sizes': (150, 150),\n",
       " 'learning_rate_init': 0.001,\n",
       " 'max_iter': 1000}"
      ]
     },
     "execution_count": 24,
     "metadata": {},
     "output_type": "execute_result"
    }
   ],
   "source": [
    "best_params"
   ]
  },
  {
   "cell_type": "code",
   "execution_count": 25,
   "metadata": {},
   "outputs": [],
   "source": [
    "mlp = mlp.fit(w2v300_train, train_labels)\n",
    "save_model(mlp, \"mlp_w2v300.joblib\")"
   ]
  },
  {
   "cell_type": "code",
   "execution_count": 26,
   "metadata": {},
   "outputs": [],
   "source": [
    "train_preds = mlp.predict(w2v300_train)\n",
    "dev_preds = mlp.predict(w2v300_dev)\n",
    "test_preds = mlp.predict(w2v300_test)"
   ]
  },
  {
   "cell_type": "code",
   "execution_count": 27,
   "metadata": {},
   "outputs": [
    {
     "name": "stdout",
     "output_type": "stream",
     "text": [
      "Accuracy Train:  0.9346278885862402\n",
      "Accuracy Dev:  0.9222652128033767\n",
      "Accuracy Test:  0.9279690794096979\n",
      "F1 Train:  0.5990972724109318\n",
      "F1 Dev:  0.4669930166113372\n",
      "F1 Test:  0.46680671100824983\n",
      "Precision Train:  0.8556462312736784\n",
      "Precision Dev:  0.5501029262635034\n",
      "Precision Test:  0.551528442317916\n",
      "Recall Train:  0.5192794475248306\n",
      "Recall Dev:  0.4355394064982942\n",
      "Recall Test:  0.4346815786090757\n",
      "Confusion Matrix Train: \n",
      "[[  665  1297     0]\n",
      " [  173 20604     1]\n",
      " [    0    17     5]]\n",
      "Confusion Matrix Dev: \n",
      "[[  87  185    0]\n",
      " [  34 2535    0]\n",
      " [   0    2    0]]\n",
      "Confusion Matrix Test: \n",
      "[[  79  171    0]\n",
      " [  31 2562    0]\n",
      " [   0    3    0]]\n"
     ]
    },
    {
     "name": "stderr",
     "output_type": "stream",
     "text": [
      "c:\\Kyode\\clg\\ml\\ML_Project\\venv\\lib\\site-packages\\sklearn\\metrics\\_classification.py:1334: UndefinedMetricWarning: Precision is ill-defined and being set to 0.0 in labels with no predicted samples. Use `zero_division` parameter to control this behavior.\n",
      "  _warn_prf(average, modifier, msg_start, len(result))\n",
      "c:\\Kyode\\clg\\ml\\ML_Project\\venv\\lib\\site-packages\\sklearn\\metrics\\_classification.py:1334: UndefinedMetricWarning: Precision is ill-defined and being set to 0.0 in labels with no predicted samples. Use `zero_division` parameter to control this behavior.\n",
      "  _warn_prf(average, modifier, msg_start, len(result))\n"
     ]
    }
   ],
   "source": [
    "computeAllScores(train_preds, dev_preds, test_preds)"
   ]
  },
  {
   "cell_type": "markdown",
   "metadata": {},
   "source": [
    "### TF-IDF PCA (1000 Dims)"
   ]
  },
  {
   "cell_type": "code",
   "execution_count": 28,
   "metadata": {},
   "outputs": [],
   "source": [
    "tfidf_pca_train, tfidf_pca_dev, tfidf_pca_test = load_tfidf_pca()"
   ]
  },
  {
   "cell_type": "code",
   "execution_count": 29,
   "metadata": {},
   "outputs": [
    {
     "name": "stdout",
     "output_type": "stream",
     "text": [
      "Fitting 5 folds for each of 18 candidates, totalling 90 fits\n",
      "[CV 1/5] END activation=relu, early_stopping=True, hidden_layer_sizes=(150, 150), learning_rate_init=0.0001, max_iter=1000;, score=0.923 total time=  26.1s\n",
      "[CV 2/5] END activation=relu, early_stopping=True, hidden_layer_sizes=(150, 150), learning_rate_init=0.0001, max_iter=1000;, score=0.926 total time=  21.4s\n",
      "[CV 3/5] END activation=relu, early_stopping=True, hidden_layer_sizes=(150, 150), learning_rate_init=0.0001, max_iter=1000;, score=0.930 total time=  26.4s\n",
      "[CV 4/5] END activation=relu, early_stopping=True, hidden_layer_sizes=(150, 150), learning_rate_init=0.0001, max_iter=1000;, score=0.926 total time=  24.6s\n",
      "[CV 5/5] END activation=relu, early_stopping=True, hidden_layer_sizes=(150, 150), learning_rate_init=0.0001, max_iter=1000;, score=0.921 total time=  39.1s\n",
      "[CV 1/5] END activation=relu, early_stopping=True, hidden_layer_sizes=(150, 150), learning_rate_init=0.0001, max_iter=5000;, score=0.922 total time=  32.2s\n",
      "[CV 2/5] END activation=relu, early_stopping=True, hidden_layer_sizes=(150, 150), learning_rate_init=0.0001, max_iter=5000;, score=0.928 total time=  28.5s\n",
      "[CV 3/5] END activation=relu, early_stopping=True, hidden_layer_sizes=(150, 150), learning_rate_init=0.0001, max_iter=5000;, score=0.929 total time=  24.4s\n",
      "[CV 4/5] END activation=relu, early_stopping=True, hidden_layer_sizes=(150, 150), learning_rate_init=0.0001, max_iter=5000;, score=0.929 total time=  28.4s\n",
      "[CV 5/5] END activation=relu, early_stopping=True, hidden_layer_sizes=(150, 150), learning_rate_init=0.0001, max_iter=5000;, score=0.924 total time=  21.8s\n",
      "[CV 1/5] END activation=relu, early_stopping=True, hidden_layer_sizes=(150, 150), learning_rate_init=0.001, max_iter=1000;, score=0.922 total time=  12.3s\n",
      "[CV 2/5] END activation=relu, early_stopping=True, hidden_layer_sizes=(150, 150), learning_rate_init=0.001, max_iter=1000;, score=0.925 total time=  11.4s\n",
      "[CV 3/5] END activation=relu, early_stopping=True, hidden_layer_sizes=(150, 150), learning_rate_init=0.001, max_iter=1000;, score=0.929 total time=  13.1s\n",
      "[CV 4/5] END activation=relu, early_stopping=True, hidden_layer_sizes=(150, 150), learning_rate_init=0.001, max_iter=1000;, score=0.926 total time=  14.0s\n",
      "[CV 5/5] END activation=relu, early_stopping=True, hidden_layer_sizes=(150, 150), learning_rate_init=0.001, max_iter=1000;, score=0.922 total time=  11.1s\n",
      "[CV 1/5] END activation=relu, early_stopping=True, hidden_layer_sizes=(150, 150), learning_rate_init=0.001, max_iter=5000;, score=0.924 total time=  11.1s\n",
      "[CV 2/5] END activation=relu, early_stopping=True, hidden_layer_sizes=(150, 150), learning_rate_init=0.001, max_iter=5000;, score=0.926 total time=  13.0s\n",
      "[CV 3/5] END activation=relu, early_stopping=True, hidden_layer_sizes=(150, 150), learning_rate_init=0.001, max_iter=5000;, score=0.930 total time=  12.4s\n",
      "[CV 4/5] END activation=relu, early_stopping=True, hidden_layer_sizes=(150, 150), learning_rate_init=0.001, max_iter=5000;, score=0.927 total time=  12.2s\n",
      "[CV 5/5] END activation=relu, early_stopping=True, hidden_layer_sizes=(150, 150), learning_rate_init=0.001, max_iter=5000;, score=0.925 total time=  12.0s\n",
      "[CV 1/5] END activation=relu, early_stopping=True, hidden_layer_sizes=(150, 150), learning_rate_init=0.01, max_iter=1000;, score=0.924 total time=  10.7s\n",
      "[CV 2/5] END activation=relu, early_stopping=True, hidden_layer_sizes=(150, 150), learning_rate_init=0.01, max_iter=1000;, score=0.927 total time=  11.1s\n",
      "[CV 3/5] END activation=relu, early_stopping=True, hidden_layer_sizes=(150, 150), learning_rate_init=0.01, max_iter=1000;, score=0.924 total time=  10.2s\n",
      "[CV 4/5] END activation=relu, early_stopping=True, hidden_layer_sizes=(150, 150), learning_rate_init=0.01, max_iter=1000;, score=0.924 total time=  11.1s\n",
      "[CV 5/5] END activation=relu, early_stopping=True, hidden_layer_sizes=(150, 150), learning_rate_init=0.01, max_iter=1000;, score=0.922 total time=  10.6s\n",
      "[CV 1/5] END activation=relu, early_stopping=True, hidden_layer_sizes=(150, 150), learning_rate_init=0.01, max_iter=5000;, score=0.923 total time=  10.8s\n",
      "[CV 2/5] END activation=relu, early_stopping=True, hidden_layer_sizes=(150, 150), learning_rate_init=0.01, max_iter=5000;, score=0.925 total time=   9.9s\n",
      "[CV 3/5] END activation=relu, early_stopping=True, hidden_layer_sizes=(150, 150), learning_rate_init=0.01, max_iter=5000;, score=0.926 total time=  11.3s\n",
      "[CV 4/5] END activation=relu, early_stopping=True, hidden_layer_sizes=(150, 150), learning_rate_init=0.01, max_iter=5000;, score=0.922 total time=  10.5s\n",
      "[CV 5/5] END activation=relu, early_stopping=True, hidden_layer_sizes=(150, 150), learning_rate_init=0.01, max_iter=5000;, score=0.922 total time=  11.5s\n",
      "[CV 1/5] END activation=logistic, early_stopping=True, hidden_layer_sizes=(150, 150), learning_rate_init=0.0001, max_iter=1000;, score=0.913 total time=  11.3s\n",
      "[CV 2/5] END activation=logistic, early_stopping=True, hidden_layer_sizes=(150, 150), learning_rate_init=0.0001, max_iter=1000;, score=0.913 total time=  11.6s\n",
      "[CV 3/5] END activation=logistic, early_stopping=True, hidden_layer_sizes=(150, 150), learning_rate_init=0.0001, max_iter=1000;, score=0.913 total time=  11.6s\n",
      "[CV 4/5] END activation=logistic, early_stopping=True, hidden_layer_sizes=(150, 150), learning_rate_init=0.0001, max_iter=1000;, score=0.913 total time=  11.7s\n",
      "[CV 5/5] END activation=logistic, early_stopping=True, hidden_layer_sizes=(150, 150), learning_rate_init=0.0001, max_iter=1000;, score=0.913 total time=  11.6s\n",
      "[CV 1/5] END activation=logistic, early_stopping=True, hidden_layer_sizes=(150, 150), learning_rate_init=0.0001, max_iter=5000;, score=0.913 total time=  11.7s\n",
      "[CV 2/5] END activation=logistic, early_stopping=True, hidden_layer_sizes=(150, 150), learning_rate_init=0.0001, max_iter=5000;, score=0.913 total time=  11.7s\n",
      "[CV 3/5] END activation=logistic, early_stopping=True, hidden_layer_sizes=(150, 150), learning_rate_init=0.0001, max_iter=5000;, score=0.913 total time=  11.4s\n",
      "[CV 4/5] END activation=logistic, early_stopping=True, hidden_layer_sizes=(150, 150), learning_rate_init=0.0001, max_iter=5000;, score=0.913 total time=  11.7s\n",
      "[CV 5/5] END activation=logistic, early_stopping=True, hidden_layer_sizes=(150, 150), learning_rate_init=0.0001, max_iter=5000;, score=0.913 total time=  11.5s\n",
      "[CV 1/5] END activation=logistic, early_stopping=True, hidden_layer_sizes=(150, 150), learning_rate_init=0.001, max_iter=1000;, score=0.921 total time=  16.9s\n",
      "[CV 2/5] END activation=logistic, early_stopping=True, hidden_layer_sizes=(150, 150), learning_rate_init=0.001, max_iter=1000;, score=0.926 total time=  25.8s\n",
      "[CV 3/5] END activation=logistic, early_stopping=True, hidden_layer_sizes=(150, 150), learning_rate_init=0.001, max_iter=1000;, score=0.928 total time=  21.1s\n",
      "[CV 4/5] END activation=logistic, early_stopping=True, hidden_layer_sizes=(150, 150), learning_rate_init=0.001, max_iter=1000;, score=0.925 total time=  22.1s\n",
      "[CV 5/5] END activation=logistic, early_stopping=True, hidden_layer_sizes=(150, 150), learning_rate_init=0.001, max_iter=1000;, score=0.924 total time=  21.3s\n",
      "[CV 1/5] END activation=logistic, early_stopping=True, hidden_layer_sizes=(150, 150), learning_rate_init=0.001, max_iter=5000;, score=0.925 total time=  19.4s\n",
      "[CV 2/5] END activation=logistic, early_stopping=True, hidden_layer_sizes=(150, 150), learning_rate_init=0.001, max_iter=5000;, score=0.924 total time=  23.4s\n",
      "[CV 3/5] END activation=logistic, early_stopping=True, hidden_layer_sizes=(150, 150), learning_rate_init=0.001, max_iter=5000;, score=0.928 total time=  22.1s\n",
      "[CV 4/5] END activation=logistic, early_stopping=True, hidden_layer_sizes=(150, 150), learning_rate_init=0.001, max_iter=5000;, score=0.927 total time=  22.7s\n",
      "[CV 5/5] END activation=logistic, early_stopping=True, hidden_layer_sizes=(150, 150), learning_rate_init=0.001, max_iter=5000;, score=0.923 total time=  18.1s\n",
      "[CV 1/5] END activation=logistic, early_stopping=True, hidden_layer_sizes=(150, 150), learning_rate_init=0.01, max_iter=1000;, score=0.923 total time=  13.5s\n",
      "[CV 2/5] END activation=logistic, early_stopping=True, hidden_layer_sizes=(150, 150), learning_rate_init=0.01, max_iter=1000;, score=0.923 total time=  19.4s\n",
      "[CV 3/5] END activation=logistic, early_stopping=True, hidden_layer_sizes=(150, 150), learning_rate_init=0.01, max_iter=1000;, score=0.927 total time=  21.9s\n",
      "[CV 4/5] END activation=logistic, early_stopping=True, hidden_layer_sizes=(150, 150), learning_rate_init=0.01, max_iter=1000;, score=0.925 total time=  12.1s\n",
      "[CV 5/5] END activation=logistic, early_stopping=True, hidden_layer_sizes=(150, 150), learning_rate_init=0.01, max_iter=1000;, score=0.923 total time=  15.9s\n",
      "[CV 1/5] END activation=logistic, early_stopping=True, hidden_layer_sizes=(150, 150), learning_rate_init=0.01, max_iter=5000;, score=0.924 total time=  14.5s\n",
      "[CV 2/5] END activation=logistic, early_stopping=True, hidden_layer_sizes=(150, 150), learning_rate_init=0.01, max_iter=5000;, score=0.926 total time=  14.4s\n",
      "[CV 3/5] END activation=logistic, early_stopping=True, hidden_layer_sizes=(150, 150), learning_rate_init=0.01, max_iter=5000;, score=0.928 total time=  13.2s\n",
      "[CV 4/5] END activation=logistic, early_stopping=True, hidden_layer_sizes=(150, 150), learning_rate_init=0.01, max_iter=5000;, score=0.924 total time=  14.6s\n",
      "[CV 5/5] END activation=logistic, early_stopping=True, hidden_layer_sizes=(150, 150), learning_rate_init=0.01, max_iter=5000;, score=0.923 total time=  15.3s\n",
      "[CV 1/5] END activation=tanh, early_stopping=True, hidden_layer_sizes=(150, 150), learning_rate_init=0.0001, max_iter=1000;, score=0.921 total time=  18.5s\n",
      "[CV 2/5] END activation=tanh, early_stopping=True, hidden_layer_sizes=(150, 150), learning_rate_init=0.0001, max_iter=1000;, score=0.926 total time=  26.4s\n",
      "[CV 3/5] END activation=tanh, early_stopping=True, hidden_layer_sizes=(150, 150), learning_rate_init=0.0001, max_iter=1000;, score=0.928 total time=  32.9s\n",
      "[CV 4/5] END activation=tanh, early_stopping=True, hidden_layer_sizes=(150, 150), learning_rate_init=0.0001, max_iter=1000;, score=0.922 total time=  29.6s\n",
      "[CV 5/5] END activation=tanh, early_stopping=True, hidden_layer_sizes=(150, 150), learning_rate_init=0.0001, max_iter=1000;, score=0.924 total time=  24.7s\n",
      "[CV 1/5] END activation=tanh, early_stopping=True, hidden_layer_sizes=(150, 150), learning_rate_init=0.0001, max_iter=5000;, score=0.922 total time=  22.9s\n",
      "[CV 2/5] END activation=tanh, early_stopping=True, hidden_layer_sizes=(150, 150), learning_rate_init=0.0001, max_iter=5000;, score=0.926 total time=  21.2s\n",
      "[CV 3/5] END activation=tanh, early_stopping=True, hidden_layer_sizes=(150, 150), learning_rate_init=0.0001, max_iter=5000;, score=0.930 total time=  29.0s\n",
      "[CV 4/5] END activation=tanh, early_stopping=True, hidden_layer_sizes=(150, 150), learning_rate_init=0.0001, max_iter=5000;, score=0.926 total time=  31.1s\n",
      "[CV 5/5] END activation=tanh, early_stopping=True, hidden_layer_sizes=(150, 150), learning_rate_init=0.0001, max_iter=5000;, score=0.922 total time=  26.5s\n",
      "[CV 1/5] END activation=tanh, early_stopping=True, hidden_layer_sizes=(150, 150), learning_rate_init=0.001, max_iter=1000;, score=0.923 total time=  19.1s\n",
      "[CV 2/5] END activation=tanh, early_stopping=True, hidden_layer_sizes=(150, 150), learning_rate_init=0.001, max_iter=1000;, score=0.924 total time=  17.2s\n",
      "[CV 3/5] END activation=tanh, early_stopping=True, hidden_layer_sizes=(150, 150), learning_rate_init=0.001, max_iter=1000;, score=0.931 total time=  18.2s\n",
      "[CV 4/5] END activation=tanh, early_stopping=True, hidden_layer_sizes=(150, 150), learning_rate_init=0.001, max_iter=1000;, score=0.922 total time=  12.1s\n",
      "[CV 5/5] END activation=tanh, early_stopping=True, hidden_layer_sizes=(150, 150), learning_rate_init=0.001, max_iter=1000;, score=0.923 total time=  13.6s\n",
      "[CV 1/5] END activation=tanh, early_stopping=True, hidden_layer_sizes=(150, 150), learning_rate_init=0.001, max_iter=5000;, score=0.922 total time=  12.4s\n",
      "[CV 2/5] END activation=tanh, early_stopping=True, hidden_layer_sizes=(150, 150), learning_rate_init=0.001, max_iter=5000;, score=0.925 total time=  24.6s\n",
      "[CV 3/5] END activation=tanh, early_stopping=True, hidden_layer_sizes=(150, 150), learning_rate_init=0.001, max_iter=5000;, score=0.929 total time=  23.6s\n",
      "[CV 4/5] END activation=tanh, early_stopping=True, hidden_layer_sizes=(150, 150), learning_rate_init=0.001, max_iter=5000;, score=0.924 total time=  12.5s\n",
      "[CV 5/5] END activation=tanh, early_stopping=True, hidden_layer_sizes=(150, 150), learning_rate_init=0.001, max_iter=5000;, score=0.925 total time=  15.4s\n",
      "[CV 1/5] END activation=tanh, early_stopping=True, hidden_layer_sizes=(150, 150), learning_rate_init=0.01, max_iter=1000;, score=0.922 total time=  12.1s\n",
      "[CV 2/5] END activation=tanh, early_stopping=True, hidden_layer_sizes=(150, 150), learning_rate_init=0.01, max_iter=1000;, score=0.921 total time=  11.2s\n",
      "[CV 3/5] END activation=tanh, early_stopping=True, hidden_layer_sizes=(150, 150), learning_rate_init=0.01, max_iter=1000;, score=0.919 total time=  15.7s\n",
      "[CV 4/5] END activation=tanh, early_stopping=True, hidden_layer_sizes=(150, 150), learning_rate_init=0.01, max_iter=1000;, score=0.921 total time=  12.6s\n",
      "[CV 5/5] END activation=tanh, early_stopping=True, hidden_layer_sizes=(150, 150), learning_rate_init=0.01, max_iter=1000;, score=0.924 total time=  12.9s\n",
      "[CV 1/5] END activation=tanh, early_stopping=True, hidden_layer_sizes=(150, 150), learning_rate_init=0.01, max_iter=5000;, score=0.923 total time=  11.5s\n",
      "[CV 2/5] END activation=tanh, early_stopping=True, hidden_layer_sizes=(150, 150), learning_rate_init=0.01, max_iter=5000;, score=0.924 total time=  13.5s\n",
      "[CV 3/5] END activation=tanh, early_stopping=True, hidden_layer_sizes=(150, 150), learning_rate_init=0.01, max_iter=5000;, score=0.918 total time=  19.7s\n",
      "[CV 4/5] END activation=tanh, early_stopping=True, hidden_layer_sizes=(150, 150), learning_rate_init=0.01, max_iter=5000;, score=0.922 total time=  11.5s\n",
      "[CV 5/5] END activation=tanh, early_stopping=True, hidden_layer_sizes=(150, 150), learning_rate_init=0.01, max_iter=5000;, score=0.920 total time=  13.4s\n"
     ]
    }
   ],
   "source": [
    "grid_results = gridsearch.fit(tfidf_pca_train, train_labels)\n",
    "best_params = grid_results.best_params_\n",
    "mlp = grid_results.best_estimator_"
   ]
  },
  {
   "cell_type": "code",
   "execution_count": 30,
   "metadata": {},
   "outputs": [
    {
     "data": {
      "text/plain": [
       "{'activation': 'relu',\n",
       " 'early_stopping': True,\n",
       " 'hidden_layer_sizes': (150, 150),\n",
       " 'learning_rate_init': 0.001,\n",
       " 'max_iter': 5000}"
      ]
     },
     "execution_count": 30,
     "metadata": {},
     "output_type": "execute_result"
    }
   ],
   "source": [
    "best_params"
   ]
  },
  {
   "cell_type": "code",
   "execution_count": 31,
   "metadata": {},
   "outputs": [],
   "source": [
    "mlp = mlp.fit(tfidf_pca_train, train_labels)\n",
    "save_model(mlp, \"mlp_tfidf_pca.joblib\")"
   ]
  },
  {
   "cell_type": "code",
   "execution_count": 32,
   "metadata": {},
   "outputs": [],
   "source": [
    "train_preds = mlp.predict(tfidf_pca_train)\n",
    "dev_preds = mlp.predict(tfidf_pca_dev)\n",
    "test_preds = mlp.predict(tfidf_pca_test)"
   ]
  },
  {
   "cell_type": "code",
   "execution_count": 33,
   "metadata": {},
   "outputs": [
    {
     "name": "stdout",
     "output_type": "stream",
     "text": [
      "Accuracy Train:  0.9599771549073016\n",
      "Accuracy Dev:  0.92191347168484\n",
      "Accuracy Test:  0.9244553759662685\n",
      "F1 Train:  0.5707153328751269\n",
      "F1 Dev:  0.4866373984806554\n",
      "F1 Test:  0.4815646822965633\n",
      "Precision Train:  0.6180409792981062\n",
      "Precision Dev:  0.530653668126435\n",
      "Precision Test:  0.5200931598927956\n",
      "Recall Train:  0.539015821741199\n",
      "Recall Dev:  0.4617073668704539\n",
      "Recall Test:  0.45869649055148476\n",
      "Confusion Matrix Train: \n",
      "[[ 1225   737     0]\n",
      " [  152 20626     0]\n",
      " [    0    22     0]]\n",
      "Confusion Matrix Dev: \n",
      "[[ 111  161    0]\n",
      " [  59 2510    0]\n",
      " [   0    2    0]]\n",
      "Confusion Matrix Test: \n",
      "[[ 100  150    0]\n",
      " [  62 2531    0]\n",
      " [   0    3    0]]\n"
     ]
    },
    {
     "name": "stderr",
     "output_type": "stream",
     "text": [
      "c:\\Kyode\\clg\\ml\\ML_Project\\venv\\lib\\site-packages\\sklearn\\metrics\\_classification.py:1334: UndefinedMetricWarning: Precision is ill-defined and being set to 0.0 in labels with no predicted samples. Use `zero_division` parameter to control this behavior.\n",
      "  _warn_prf(average, modifier, msg_start, len(result))\n",
      "c:\\Kyode\\clg\\ml\\ML_Project\\venv\\lib\\site-packages\\sklearn\\metrics\\_classification.py:1334: UndefinedMetricWarning: Precision is ill-defined and being set to 0.0 in labels with no predicted samples. Use `zero_division` parameter to control this behavior.\n",
      "  _warn_prf(average, modifier, msg_start, len(result))\n",
      "c:\\Kyode\\clg\\ml\\ML_Project\\venv\\lib\\site-packages\\sklearn\\metrics\\_classification.py:1334: UndefinedMetricWarning: Precision is ill-defined and being set to 0.0 in labels with no predicted samples. Use `zero_division` parameter to control this behavior.\n",
      "  _warn_prf(average, modifier, msg_start, len(result))\n"
     ]
    }
   ],
   "source": [
    "computeAllScores(train_preds, dev_preds, test_preds)"
   ]
  },
  {
   "cell_type": "markdown",
   "metadata": {},
   "source": [
    "### Sentence Transformer Faster No PCA"
   ]
  },
  {
   "cell_type": "code",
   "execution_count": 34,
   "metadata": {},
   "outputs": [],
   "source": [
    "train, dev, test = load_sent_trans_fast_no_pca()"
   ]
  },
  {
   "cell_type": "code",
   "execution_count": 35,
   "metadata": {},
   "outputs": [
    {
     "name": "stdout",
     "output_type": "stream",
     "text": [
      "Fitting 5 folds for each of 18 candidates, totalling 90 fits\n",
      "[CV 1/5] END activation=relu, early_stopping=True, hidden_layer_sizes=(150, 150), learning_rate_init=0.0001, max_iter=1000;, score=0.927 total time=   9.7s\n",
      "[CV 2/5] END activation=relu, early_stopping=True, hidden_layer_sizes=(150, 150), learning_rate_init=0.0001, max_iter=1000;, score=0.931 total time=   8.8s\n",
      "[CV 3/5] END activation=relu, early_stopping=True, hidden_layer_sizes=(150, 150), learning_rate_init=0.0001, max_iter=1000;, score=0.922 total time=   6.3s\n",
      "[CV 4/5] END activation=relu, early_stopping=True, hidden_layer_sizes=(150, 150), learning_rate_init=0.0001, max_iter=1000;, score=0.931 total time=  13.5s\n",
      "[CV 5/5] END activation=relu, early_stopping=True, hidden_layer_sizes=(150, 150), learning_rate_init=0.0001, max_iter=1000;, score=0.923 total time=   9.5s\n",
      "[CV 1/5] END activation=relu, early_stopping=True, hidden_layer_sizes=(150, 150), learning_rate_init=0.0001, max_iter=5000;, score=0.926 total time=   6.4s\n",
      "[CV 2/5] END activation=relu, early_stopping=True, hidden_layer_sizes=(150, 150), learning_rate_init=0.0001, max_iter=5000;, score=0.930 total time=   7.5s\n",
      "[CV 3/5] END activation=relu, early_stopping=True, hidden_layer_sizes=(150, 150), learning_rate_init=0.0001, max_iter=5000;, score=0.925 total time=   5.9s\n",
      "[CV 4/5] END activation=relu, early_stopping=True, hidden_layer_sizes=(150, 150), learning_rate_init=0.0001, max_iter=5000;, score=0.930 total time=   9.3s\n",
      "[CV 5/5] END activation=relu, early_stopping=True, hidden_layer_sizes=(150, 150), learning_rate_init=0.0001, max_iter=5000;, score=0.918 total time=   4.2s\n",
      "[CV 1/5] END activation=relu, early_stopping=True, hidden_layer_sizes=(150, 150), learning_rate_init=0.001, max_iter=1000;, score=0.922 total time=   2.9s\n",
      "[CV 2/5] END activation=relu, early_stopping=True, hidden_layer_sizes=(150, 150), learning_rate_init=0.001, max_iter=1000;, score=0.930 total time=   3.5s\n",
      "[CV 3/5] END activation=relu, early_stopping=True, hidden_layer_sizes=(150, 150), learning_rate_init=0.001, max_iter=1000;, score=0.929 total time=   3.5s\n",
      "[CV 4/5] END activation=relu, early_stopping=True, hidden_layer_sizes=(150, 150), learning_rate_init=0.001, max_iter=1000;, score=0.928 total time=   3.6s\n",
      "[CV 5/5] END activation=relu, early_stopping=True, hidden_layer_sizes=(150, 150), learning_rate_init=0.001, max_iter=1000;, score=0.926 total time=   3.9s\n",
      "[CV 1/5] END activation=relu, early_stopping=True, hidden_layer_sizes=(150, 150), learning_rate_init=0.001, max_iter=5000;, score=0.929 total time=   7.9s\n",
      "[CV 2/5] END activation=relu, early_stopping=True, hidden_layer_sizes=(150, 150), learning_rate_init=0.001, max_iter=5000;, score=0.923 total time=   4.5s\n",
      "[CV 3/5] END activation=relu, early_stopping=True, hidden_layer_sizes=(150, 150), learning_rate_init=0.001, max_iter=5000;, score=0.924 total time=   4.3s\n",
      "[CV 4/5] END activation=relu, early_stopping=True, hidden_layer_sizes=(150, 150), learning_rate_init=0.001, max_iter=5000;, score=0.929 total time=   4.5s\n",
      "[CV 5/5] END activation=relu, early_stopping=True, hidden_layer_sizes=(150, 150), learning_rate_init=0.001, max_iter=5000;, score=0.926 total time=   3.2s\n",
      "[CV 1/5] END activation=relu, early_stopping=True, hidden_layer_sizes=(150, 150), learning_rate_init=0.01, max_iter=1000;, score=0.927 total time=   2.8s\n",
      "[CV 2/5] END activation=relu, early_stopping=True, hidden_layer_sizes=(150, 150), learning_rate_init=0.01, max_iter=1000;, score=0.930 total time=   3.5s\n",
      "[CV 3/5] END activation=relu, early_stopping=True, hidden_layer_sizes=(150, 150), learning_rate_init=0.01, max_iter=1000;, score=0.927 total time=   4.7s\n",
      "[CV 4/5] END activation=relu, early_stopping=True, hidden_layer_sizes=(150, 150), learning_rate_init=0.01, max_iter=1000;, score=0.927 total time=   3.1s\n",
      "[CV 5/5] END activation=relu, early_stopping=True, hidden_layer_sizes=(150, 150), learning_rate_init=0.01, max_iter=1000;, score=0.924 total time=   3.9s\n",
      "[CV 1/5] END activation=relu, early_stopping=True, hidden_layer_sizes=(150, 150), learning_rate_init=0.01, max_iter=5000;, score=0.926 total time=   4.1s\n",
      "[CV 2/5] END activation=relu, early_stopping=True, hidden_layer_sizes=(150, 150), learning_rate_init=0.01, max_iter=5000;, score=0.931 total time=   2.6s\n",
      "[CV 3/5] END activation=relu, early_stopping=True, hidden_layer_sizes=(150, 150), learning_rate_init=0.01, max_iter=5000;, score=0.925 total time=   2.4s\n",
      "[CV 4/5] END activation=relu, early_stopping=True, hidden_layer_sizes=(150, 150), learning_rate_init=0.01, max_iter=5000;, score=0.927 total time=   3.0s\n",
      "[CV 5/5] END activation=relu, early_stopping=True, hidden_layer_sizes=(150, 150), learning_rate_init=0.01, max_iter=5000;, score=0.927 total time=   2.7s\n",
      "[CV 1/5] END activation=logistic, early_stopping=True, hidden_layer_sizes=(150, 150), learning_rate_init=0.0001, max_iter=1000;, score=0.913 total time=   3.8s\n",
      "[CV 2/5] END activation=logistic, early_stopping=True, hidden_layer_sizes=(150, 150), learning_rate_init=0.0001, max_iter=1000;, score=0.913 total time=   4.0s\n",
      "[CV 3/5] END activation=logistic, early_stopping=True, hidden_layer_sizes=(150, 150), learning_rate_init=0.0001, max_iter=1000;, score=0.913 total time=   4.1s\n",
      "[CV 4/5] END activation=logistic, early_stopping=True, hidden_layer_sizes=(150, 150), learning_rate_init=0.0001, max_iter=1000;, score=0.913 total time=   4.7s\n",
      "[CV 5/5] END activation=logistic, early_stopping=True, hidden_layer_sizes=(150, 150), learning_rate_init=0.0001, max_iter=1000;, score=0.913 total time=   5.6s\n",
      "[CV 1/5] END activation=logistic, early_stopping=True, hidden_layer_sizes=(150, 150), learning_rate_init=0.0001, max_iter=5000;, score=0.913 total time=   4.0s\n",
      "[CV 2/5] END activation=logistic, early_stopping=True, hidden_layer_sizes=(150, 150), learning_rate_init=0.0001, max_iter=5000;, score=0.913 total time=   3.9s\n",
      "[CV 3/5] END activation=logistic, early_stopping=True, hidden_layer_sizes=(150, 150), learning_rate_init=0.0001, max_iter=5000;, score=0.913 total time=   4.3s\n",
      "[CV 4/5] END activation=logistic, early_stopping=True, hidden_layer_sizes=(150, 150), learning_rate_init=0.0001, max_iter=5000;, score=0.913 total time=   3.9s\n",
      "[CV 5/5] END activation=logistic, early_stopping=True, hidden_layer_sizes=(150, 150), learning_rate_init=0.0001, max_iter=5000;, score=0.913 total time=   3.9s\n",
      "[CV 1/5] END activation=logistic, early_stopping=True, hidden_layer_sizes=(150, 150), learning_rate_init=0.001, max_iter=1000;, score=0.926 total time=  16.8s\n",
      "[CV 2/5] END activation=logistic, early_stopping=True, hidden_layer_sizes=(150, 150), learning_rate_init=0.001, max_iter=1000;, score=0.926 total time=  12.6s\n",
      "[CV 3/5] END activation=logistic, early_stopping=True, hidden_layer_sizes=(150, 150), learning_rate_init=0.001, max_iter=1000;, score=0.922 total time=   6.4s\n",
      "[CV 4/5] END activation=logistic, early_stopping=True, hidden_layer_sizes=(150, 150), learning_rate_init=0.001, max_iter=1000;, score=0.926 total time=  10.8s\n",
      "[CV 5/5] END activation=logistic, early_stopping=True, hidden_layer_sizes=(150, 150), learning_rate_init=0.001, max_iter=1000;, score=0.925 total time=   6.7s\n",
      "[CV 1/5] END activation=logistic, early_stopping=True, hidden_layer_sizes=(150, 150), learning_rate_init=0.001, max_iter=5000;, score=0.925 total time=  10.5s\n",
      "[CV 2/5] END activation=logistic, early_stopping=True, hidden_layer_sizes=(150, 150), learning_rate_init=0.001, max_iter=5000;, score=0.929 total time=   7.7s\n",
      "[CV 3/5] END activation=logistic, early_stopping=True, hidden_layer_sizes=(150, 150), learning_rate_init=0.001, max_iter=5000;, score=0.923 total time=   9.2s\n",
      "[CV 4/5] END activation=logistic, early_stopping=True, hidden_layer_sizes=(150, 150), learning_rate_init=0.001, max_iter=5000;, score=0.927 total time=   7.2s\n",
      "[CV 5/5] END activation=logistic, early_stopping=True, hidden_layer_sizes=(150, 150), learning_rate_init=0.001, max_iter=5000;, score=0.924 total time=  12.5s\n",
      "[CV 1/5] END activation=logistic, early_stopping=True, hidden_layer_sizes=(150, 150), learning_rate_init=0.01, max_iter=1000;, score=0.925 total time=   4.2s\n",
      "[CV 2/5] END activation=logistic, early_stopping=True, hidden_layer_sizes=(150, 150), learning_rate_init=0.01, max_iter=1000;, score=0.929 total time=  10.0s\n",
      "[CV 3/5] END activation=logistic, early_stopping=True, hidden_layer_sizes=(150, 150), learning_rate_init=0.01, max_iter=1000;, score=0.927 total time=   9.5s\n",
      "[CV 4/5] END activation=logistic, early_stopping=True, hidden_layer_sizes=(150, 150), learning_rate_init=0.01, max_iter=1000;, score=0.926 total time=   9.1s\n",
      "[CV 5/5] END activation=logistic, early_stopping=True, hidden_layer_sizes=(150, 150), learning_rate_init=0.01, max_iter=1000;, score=0.926 total time=  10.9s\n",
      "[CV 1/5] END activation=logistic, early_stopping=True, hidden_layer_sizes=(150, 150), learning_rate_init=0.01, max_iter=5000;, score=0.929 total time=  11.7s\n",
      "[CV 2/5] END activation=logistic, early_stopping=True, hidden_layer_sizes=(150, 150), learning_rate_init=0.01, max_iter=5000;, score=0.927 total time=   9.9s\n",
      "[CV 3/5] END activation=logistic, early_stopping=True, hidden_layer_sizes=(150, 150), learning_rate_init=0.01, max_iter=5000;, score=0.926 total time=   7.1s\n",
      "[CV 4/5] END activation=logistic, early_stopping=True, hidden_layer_sizes=(150, 150), learning_rate_init=0.01, max_iter=5000;, score=0.928 total time=   9.9s\n",
      "[CV 5/5] END activation=logistic, early_stopping=True, hidden_layer_sizes=(150, 150), learning_rate_init=0.01, max_iter=5000;, score=0.927 total time=   7.0s\n",
      "[CV 1/5] END activation=tanh, early_stopping=True, hidden_layer_sizes=(150, 150), learning_rate_init=0.0001, max_iter=1000;, score=0.923 total time=   4.1s\n",
      "[CV 2/5] END activation=tanh, early_stopping=True, hidden_layer_sizes=(150, 150), learning_rate_init=0.0001, max_iter=1000;, score=0.930 total time=   5.0s\n",
      "[CV 3/5] END activation=tanh, early_stopping=True, hidden_layer_sizes=(150, 150), learning_rate_init=0.0001, max_iter=1000;, score=0.921 total time=   7.4s\n",
      "[CV 4/5] END activation=tanh, early_stopping=True, hidden_layer_sizes=(150, 150), learning_rate_init=0.0001, max_iter=1000;, score=0.927 total time=   9.9s\n",
      "[CV 5/5] END activation=tanh, early_stopping=True, hidden_layer_sizes=(150, 150), learning_rate_init=0.0001, max_iter=1000;, score=0.920 total time=   4.1s\n",
      "[CV 1/5] END activation=tanh, early_stopping=True, hidden_layer_sizes=(150, 150), learning_rate_init=0.0001, max_iter=5000;, score=0.922 total time=   4.0s\n",
      "[CV 2/5] END activation=tanh, early_stopping=True, hidden_layer_sizes=(150, 150), learning_rate_init=0.0001, max_iter=5000;, score=0.921 total time=   4.2s\n",
      "[CV 3/5] END activation=tanh, early_stopping=True, hidden_layer_sizes=(150, 150), learning_rate_init=0.0001, max_iter=5000;, score=0.923 total time=   7.3s\n",
      "[CV 4/5] END activation=tanh, early_stopping=True, hidden_layer_sizes=(150, 150), learning_rate_init=0.0001, max_iter=5000;, score=0.926 total time=   8.0s\n",
      "[CV 5/5] END activation=tanh, early_stopping=True, hidden_layer_sizes=(150, 150), learning_rate_init=0.0001, max_iter=5000;, score=0.924 total time=   7.0s\n",
      "[CV 1/5] END activation=tanh, early_stopping=True, hidden_layer_sizes=(150, 150), learning_rate_init=0.001, max_iter=1000;, score=0.927 total time=   4.5s\n",
      "[CV 2/5] END activation=tanh, early_stopping=True, hidden_layer_sizes=(150, 150), learning_rate_init=0.001, max_iter=1000;, score=0.925 total time=   5.6s\n",
      "[CV 3/5] END activation=tanh, early_stopping=True, hidden_layer_sizes=(150, 150), learning_rate_init=0.001, max_iter=1000;, score=0.922 total time=   4.0s\n",
      "[CV 4/5] END activation=tanh, early_stopping=True, hidden_layer_sizes=(150, 150), learning_rate_init=0.001, max_iter=1000;, score=0.926 total time=   5.3s\n",
      "[CV 5/5] END activation=tanh, early_stopping=True, hidden_layer_sizes=(150, 150), learning_rate_init=0.001, max_iter=1000;, score=0.921 total time=   3.8s\n",
      "[CV 1/5] END activation=tanh, early_stopping=True, hidden_layer_sizes=(150, 150), learning_rate_init=0.001, max_iter=5000;, score=0.925 total time=   4.8s\n",
      "[CV 2/5] END activation=tanh, early_stopping=True, hidden_layer_sizes=(150, 150), learning_rate_init=0.001, max_iter=5000;, score=0.928 total time=   4.4s\n",
      "[CV 3/5] END activation=tanh, early_stopping=True, hidden_layer_sizes=(150, 150), learning_rate_init=0.001, max_iter=5000;, score=0.923 total time=   3.5s\n",
      "[CV 4/5] END activation=tanh, early_stopping=True, hidden_layer_sizes=(150, 150), learning_rate_init=0.001, max_iter=5000;, score=0.926 total time=  11.2s\n",
      "[CV 5/5] END activation=tanh, early_stopping=True, hidden_layer_sizes=(150, 150), learning_rate_init=0.001, max_iter=5000;, score=0.923 total time=   3.3s\n",
      "[CV 1/5] END activation=tanh, early_stopping=True, hidden_layer_sizes=(150, 150), learning_rate_init=0.01, max_iter=1000;, score=0.919 total time=   6.8s\n",
      "[CV 2/5] END activation=tanh, early_stopping=True, hidden_layer_sizes=(150, 150), learning_rate_init=0.01, max_iter=1000;, score=0.927 total time=   5.9s\n",
      "[CV 3/5] END activation=tanh, early_stopping=True, hidden_layer_sizes=(150, 150), learning_rate_init=0.01, max_iter=1000;, score=0.925 total time=   3.1s\n",
      "[CV 4/5] END activation=tanh, early_stopping=True, hidden_layer_sizes=(150, 150), learning_rate_init=0.01, max_iter=1000;, score=0.927 total time=   3.6s\n",
      "[CV 5/5] END activation=tanh, early_stopping=True, hidden_layer_sizes=(150, 150), learning_rate_init=0.01, max_iter=1000;, score=0.921 total time=   6.2s\n",
      "[CV 1/5] END activation=tanh, early_stopping=True, hidden_layer_sizes=(150, 150), learning_rate_init=0.01, max_iter=5000;, score=0.927 total time=   4.3s\n",
      "[CV 2/5] END activation=tanh, early_stopping=True, hidden_layer_sizes=(150, 150), learning_rate_init=0.01, max_iter=5000;, score=0.928 total time=   3.9s\n",
      "[CV 3/5] END activation=tanh, early_stopping=True, hidden_layer_sizes=(150, 150), learning_rate_init=0.01, max_iter=5000;, score=0.923 total time=   2.7s\n",
      "[CV 4/5] END activation=tanh, early_stopping=True, hidden_layer_sizes=(150, 150), learning_rate_init=0.01, max_iter=5000;, score=0.928 total time=   3.8s\n",
      "[CV 5/5] END activation=tanh, early_stopping=True, hidden_layer_sizes=(150, 150), learning_rate_init=0.01, max_iter=5000;, score=0.924 total time=   3.6s\n"
     ]
    }
   ],
   "source": [
    "grid_results = gridsearch.fit(train, train_labels)\n",
    "best_params = grid_results.best_params_\n",
    "mlp = grid_results.best_estimator_"
   ]
  },
  {
   "cell_type": "code",
   "execution_count": 36,
   "metadata": {},
   "outputs": [
    {
     "data": {
      "text/plain": [
       "{'activation': 'logistic',\n",
       " 'early_stopping': True,\n",
       " 'hidden_layer_sizes': (150, 150),\n",
       " 'learning_rate_init': 0.01,\n",
       " 'max_iter': 5000}"
      ]
     },
     "execution_count": 36,
     "metadata": {},
     "output_type": "execute_result"
    }
   ],
   "source": [
    "best_params"
   ]
  },
  {
   "cell_type": "code",
   "execution_count": 37,
   "metadata": {},
   "outputs": [],
   "source": [
    "mlp = mlp.fit(train, train_labels)\n",
    "save_model(mlp, \"mlp_faster_no_pca.joblib\")"
   ]
  },
  {
   "cell_type": "code",
   "execution_count": 38,
   "metadata": {},
   "outputs": [],
   "source": [
    "train_preds = mlp.predict(train)\n",
    "dev_preds = mlp.predict(dev)\n",
    "test_preds = mlp.predict(test)"
   ]
  },
  {
   "cell_type": "code",
   "execution_count": 39,
   "metadata": {},
   "outputs": [
    {
     "name": "stdout",
     "output_type": "stream",
     "text": [
      "Accuracy Train:  0.9404270275019769\n",
      "Accuracy Dev:  0.9257826239887443\n",
      "Accuracy Test:  0.926563598032326\n",
      "F1 Train:  0.5040795208272808\n",
      "F1 Dev:  0.47962118805453396\n",
      "F1 Test:  0.4737836786410388\n",
      "Precision Train:  0.5904085760656408\n",
      "Precision Dev:  0.5595333984564674\n",
      "Precision Test:  0.5352902644722836\n",
      "Recall Train:  0.4658743285775582\n",
      "Recall Dev:  0.4466985704363489\n",
      "Recall Test:  0.44501041264944075\n",
      "Confusion Matrix Train: \n",
      "[[  796  1166     0]\n",
      " [  168 20610     0]\n",
      " [    0    22     0]]\n",
      "Confusion Matrix Dev: \n",
      "[[  96  176    0]\n",
      " [  33 2536    0]\n",
      " [   0    2    0]]\n",
      "Confusion Matrix Test: \n",
      "[[  88  162    0]\n",
      " [  44 2549    0]\n",
      " [   0    3    0]]\n"
     ]
    },
    {
     "name": "stderr",
     "output_type": "stream",
     "text": [
      "c:\\Kyode\\clg\\ml\\ML_Project\\venv\\lib\\site-packages\\sklearn\\metrics\\_classification.py:1334: UndefinedMetricWarning: Precision is ill-defined and being set to 0.0 in labels with no predicted samples. Use `zero_division` parameter to control this behavior.\n",
      "  _warn_prf(average, modifier, msg_start, len(result))\n",
      "c:\\Kyode\\clg\\ml\\ML_Project\\venv\\lib\\site-packages\\sklearn\\metrics\\_classification.py:1334: UndefinedMetricWarning: Precision is ill-defined and being set to 0.0 in labels with no predicted samples. Use `zero_division` parameter to control this behavior.\n",
      "  _warn_prf(average, modifier, msg_start, len(result))\n",
      "c:\\Kyode\\clg\\ml\\ML_Project\\venv\\lib\\site-packages\\sklearn\\metrics\\_classification.py:1334: UndefinedMetricWarning: Precision is ill-defined and being set to 0.0 in labels with no predicted samples. Use `zero_division` parameter to control this behavior.\n",
      "  _warn_prf(average, modifier, msg_start, len(result))\n"
     ]
    }
   ],
   "source": [
    "computeAllScores(train_preds, dev_preds, test_preds)"
   ]
  },
  {
   "cell_type": "markdown",
   "metadata": {},
   "source": [
    "### Sentence Transformer Faster PCA"
   ]
  },
  {
   "cell_type": "code",
   "execution_count": 40,
   "metadata": {},
   "outputs": [],
   "source": [
    "train, dev, test = load_sent_trans_fast_pca()"
   ]
  },
  {
   "cell_type": "code",
   "execution_count": 41,
   "metadata": {},
   "outputs": [
    {
     "name": "stdout",
     "output_type": "stream",
     "text": [
      "Fitting 5 folds for each of 18 candidates, totalling 90 fits\n",
      "[CV 1/5] END activation=relu, early_stopping=True, hidden_layer_sizes=(150, 150), learning_rate_init=0.0001, max_iter=1000;, score=0.925 total time=   5.7s\n",
      "[CV 2/5] END activation=relu, early_stopping=True, hidden_layer_sizes=(150, 150), learning_rate_init=0.0001, max_iter=1000;, score=0.925 total time=  11.6s\n",
      "[CV 3/5] END activation=relu, early_stopping=True, hidden_layer_sizes=(150, 150), learning_rate_init=0.0001, max_iter=1000;, score=0.924 total time=   6.9s\n",
      "[CV 4/5] END activation=relu, early_stopping=True, hidden_layer_sizes=(150, 150), learning_rate_init=0.0001, max_iter=1000;, score=0.927 total time=   6.3s\n",
      "[CV 5/5] END activation=relu, early_stopping=True, hidden_layer_sizes=(150, 150), learning_rate_init=0.0001, max_iter=1000;, score=0.926 total time=   5.4s\n",
      "[CV 1/5] END activation=relu, early_stopping=True, hidden_layer_sizes=(150, 150), learning_rate_init=0.0001, max_iter=5000;, score=0.921 total time=   4.6s\n",
      "[CV 2/5] END activation=relu, early_stopping=True, hidden_layer_sizes=(150, 150), learning_rate_init=0.0001, max_iter=5000;, score=0.930 total time=  11.3s\n",
      "[CV 3/5] END activation=relu, early_stopping=True, hidden_layer_sizes=(150, 150), learning_rate_init=0.0001, max_iter=5000;, score=0.926 total time=   5.3s\n",
      "[CV 4/5] END activation=relu, early_stopping=True, hidden_layer_sizes=(150, 150), learning_rate_init=0.0001, max_iter=5000;, score=0.929 total time=   7.6s\n",
      "[CV 5/5] END activation=relu, early_stopping=True, hidden_layer_sizes=(150, 150), learning_rate_init=0.0001, max_iter=5000;, score=0.925 total time=   9.8s\n",
      "[CV 1/5] END activation=relu, early_stopping=True, hidden_layer_sizes=(150, 150), learning_rate_init=0.001, max_iter=1000;, score=0.927 total time=   3.1s\n",
      "[CV 2/5] END activation=relu, early_stopping=True, hidden_layer_sizes=(150, 150), learning_rate_init=0.001, max_iter=1000;, score=0.928 total time=   3.4s\n",
      "[CV 3/5] END activation=relu, early_stopping=True, hidden_layer_sizes=(150, 150), learning_rate_init=0.001, max_iter=1000;, score=0.924 total time=   4.4s\n",
      "[CV 4/5] END activation=relu, early_stopping=True, hidden_layer_sizes=(150, 150), learning_rate_init=0.001, max_iter=1000;, score=0.930 total time=   3.9s\n",
      "[CV 5/5] END activation=relu, early_stopping=True, hidden_layer_sizes=(150, 150), learning_rate_init=0.001, max_iter=1000;, score=0.928 total time=   4.6s\n",
      "[CV 1/5] END activation=relu, early_stopping=True, hidden_layer_sizes=(150, 150), learning_rate_init=0.001, max_iter=5000;, score=0.930 total time=   3.8s\n",
      "[CV 2/5] END activation=relu, early_stopping=True, hidden_layer_sizes=(150, 150), learning_rate_init=0.001, max_iter=5000;, score=0.931 total time=   3.3s\n",
      "[CV 3/5] END activation=relu, early_stopping=True, hidden_layer_sizes=(150, 150), learning_rate_init=0.001, max_iter=5000;, score=0.921 total time=   4.7s\n",
      "[CV 4/5] END activation=relu, early_stopping=True, hidden_layer_sizes=(150, 150), learning_rate_init=0.001, max_iter=5000;, score=0.929 total time=   2.8s\n",
      "[CV 5/5] END activation=relu, early_stopping=True, hidden_layer_sizes=(150, 150), learning_rate_init=0.001, max_iter=5000;, score=0.927 total time=   3.6s\n",
      "[CV 1/5] END activation=relu, early_stopping=True, hidden_layer_sizes=(150, 150), learning_rate_init=0.01, max_iter=1000;, score=0.928 total time=   2.5s\n",
      "[CV 2/5] END activation=relu, early_stopping=True, hidden_layer_sizes=(150, 150), learning_rate_init=0.01, max_iter=1000;, score=0.929 total time=   2.7s\n",
      "[CV 3/5] END activation=relu, early_stopping=True, hidden_layer_sizes=(150, 150), learning_rate_init=0.01, max_iter=1000;, score=0.920 total time=   3.1s\n",
      "[CV 4/5] END activation=relu, early_stopping=True, hidden_layer_sizes=(150, 150), learning_rate_init=0.01, max_iter=1000;, score=0.933 total time=   3.1s\n",
      "[CV 5/5] END activation=relu, early_stopping=True, hidden_layer_sizes=(150, 150), learning_rate_init=0.01, max_iter=1000;, score=0.926 total time=   2.5s\n",
      "[CV 1/5] END activation=relu, early_stopping=True, hidden_layer_sizes=(150, 150), learning_rate_init=0.01, max_iter=5000;, score=0.930 total time=   2.5s\n",
      "[CV 2/5] END activation=relu, early_stopping=True, hidden_layer_sizes=(150, 150), learning_rate_init=0.01, max_iter=5000;, score=0.923 total time=   3.3s\n",
      "[CV 3/5] END activation=relu, early_stopping=True, hidden_layer_sizes=(150, 150), learning_rate_init=0.01, max_iter=5000;, score=0.928 total time=   3.0s\n",
      "[CV 4/5] END activation=relu, early_stopping=True, hidden_layer_sizes=(150, 150), learning_rate_init=0.01, max_iter=5000;, score=0.928 total time=   2.6s\n",
      "[CV 5/5] END activation=relu, early_stopping=True, hidden_layer_sizes=(150, 150), learning_rate_init=0.01, max_iter=5000;, score=0.928 total time=   3.0s\n",
      "[CV 1/5] END activation=logistic, early_stopping=True, hidden_layer_sizes=(150, 150), learning_rate_init=0.0001, max_iter=1000;, score=0.913 total time=   3.8s\n",
      "[CV 2/5] END activation=logistic, early_stopping=True, hidden_layer_sizes=(150, 150), learning_rate_init=0.0001, max_iter=1000;, score=0.913 total time=   4.0s\n",
      "[CV 3/5] END activation=logistic, early_stopping=True, hidden_layer_sizes=(150, 150), learning_rate_init=0.0001, max_iter=1000;, score=0.913 total time=   3.6s\n",
      "[CV 4/5] END activation=logistic, early_stopping=True, hidden_layer_sizes=(150, 150), learning_rate_init=0.0001, max_iter=1000;, score=0.913 total time=   3.6s\n",
      "[CV 5/5] END activation=logistic, early_stopping=True, hidden_layer_sizes=(150, 150), learning_rate_init=0.0001, max_iter=1000;, score=0.913 total time=   3.9s\n",
      "[CV 1/5] END activation=logistic, early_stopping=True, hidden_layer_sizes=(150, 150), learning_rate_init=0.0001, max_iter=5000;, score=0.913 total time=   3.6s\n",
      "[CV 2/5] END activation=logistic, early_stopping=True, hidden_layer_sizes=(150, 150), learning_rate_init=0.0001, max_iter=5000;, score=0.913 total time=   3.6s\n",
      "[CV 3/5] END activation=logistic, early_stopping=True, hidden_layer_sizes=(150, 150), learning_rate_init=0.0001, max_iter=5000;, score=0.913 total time=   3.9s\n",
      "[CV 4/5] END activation=logistic, early_stopping=True, hidden_layer_sizes=(150, 150), learning_rate_init=0.0001, max_iter=5000;, score=0.913 total time=   3.8s\n",
      "[CV 5/5] END activation=logistic, early_stopping=True, hidden_layer_sizes=(150, 150), learning_rate_init=0.0001, max_iter=5000;, score=0.913 total time=   3.7s\n",
      "[CV 1/5] END activation=logistic, early_stopping=True, hidden_layer_sizes=(150, 150), learning_rate_init=0.001, max_iter=1000;, score=0.925 total time=   8.0s\n",
      "[CV 2/5] END activation=logistic, early_stopping=True, hidden_layer_sizes=(150, 150), learning_rate_init=0.001, max_iter=1000;, score=0.927 total time=   5.6s\n",
      "[CV 3/5] END activation=logistic, early_stopping=True, hidden_layer_sizes=(150, 150), learning_rate_init=0.001, max_iter=1000;, score=0.923 total time=   8.4s\n",
      "[CV 4/5] END activation=logistic, early_stopping=True, hidden_layer_sizes=(150, 150), learning_rate_init=0.001, max_iter=1000;, score=0.922 total time=   5.4s\n",
      "[CV 5/5] END activation=logistic, early_stopping=True, hidden_layer_sizes=(150, 150), learning_rate_init=0.001, max_iter=1000;, score=0.924 total time=   7.0s\n",
      "[CV 1/5] END activation=logistic, early_stopping=True, hidden_layer_sizes=(150, 150), learning_rate_init=0.001, max_iter=5000;, score=0.928 total time=  11.0s\n",
      "[CV 2/5] END activation=logistic, early_stopping=True, hidden_layer_sizes=(150, 150), learning_rate_init=0.001, max_iter=5000;, score=0.929 total time=   9.3s\n",
      "[CV 3/5] END activation=logistic, early_stopping=True, hidden_layer_sizes=(150, 150), learning_rate_init=0.001, max_iter=5000;, score=0.922 total time=  10.4s\n",
      "[CV 4/5] END activation=logistic, early_stopping=True, hidden_layer_sizes=(150, 150), learning_rate_init=0.001, max_iter=5000;, score=0.924 total time=   5.3s\n",
      "[CV 5/5] END activation=logistic, early_stopping=True, hidden_layer_sizes=(150, 150), learning_rate_init=0.001, max_iter=5000;, score=0.924 total time=   5.4s\n",
      "[CV 1/5] END activation=logistic, early_stopping=True, hidden_layer_sizes=(150, 150), learning_rate_init=0.01, max_iter=1000;, score=0.922 total time=   4.5s\n",
      "[CV 2/5] END activation=logistic, early_stopping=True, hidden_layer_sizes=(150, 150), learning_rate_init=0.01, max_iter=1000;, score=0.932 total time=   7.2s\n",
      "[CV 3/5] END activation=logistic, early_stopping=True, hidden_layer_sizes=(150, 150), learning_rate_init=0.01, max_iter=1000;, score=0.922 total time=   4.1s\n",
      "[CV 4/5] END activation=logistic, early_stopping=True, hidden_layer_sizes=(150, 150), learning_rate_init=0.01, max_iter=1000;, score=0.926 total time=   4.8s\n",
      "[CV 5/5] END activation=logistic, early_stopping=True, hidden_layer_sizes=(150, 150), learning_rate_init=0.01, max_iter=1000;, score=0.922 total time=   7.4s\n",
      "[CV 1/5] END activation=logistic, early_stopping=True, hidden_layer_sizes=(150, 150), learning_rate_init=0.01, max_iter=5000;, score=0.927 total time=   9.5s\n",
      "[CV 2/5] END activation=logistic, early_stopping=True, hidden_layer_sizes=(150, 150), learning_rate_init=0.01, max_iter=5000;, score=0.929 total time=   7.9s\n",
      "[CV 3/5] END activation=logistic, early_stopping=True, hidden_layer_sizes=(150, 150), learning_rate_init=0.01, max_iter=5000;, score=0.923 total time=   7.8s\n",
      "[CV 4/5] END activation=logistic, early_stopping=True, hidden_layer_sizes=(150, 150), learning_rate_init=0.01, max_iter=5000;, score=0.926 total time=  12.9s\n",
      "[CV 5/5] END activation=logistic, early_stopping=True, hidden_layer_sizes=(150, 150), learning_rate_init=0.01, max_iter=5000;, score=0.922 total time=   6.0s\n",
      "[CV 1/5] END activation=tanh, early_stopping=True, hidden_layer_sizes=(150, 150), learning_rate_init=0.0001, max_iter=1000;, score=0.920 total time=   3.7s\n",
      "[CV 2/5] END activation=tanh, early_stopping=True, hidden_layer_sizes=(150, 150), learning_rate_init=0.0001, max_iter=1000;, score=0.929 total time=   6.6s\n",
      "[CV 3/5] END activation=tanh, early_stopping=True, hidden_layer_sizes=(150, 150), learning_rate_init=0.0001, max_iter=1000;, score=0.922 total time=   5.7s\n",
      "[CV 4/5] END activation=tanh, early_stopping=True, hidden_layer_sizes=(150, 150), learning_rate_init=0.0001, max_iter=1000;, score=0.924 total time=   4.8s\n",
      "[CV 5/5] END activation=tanh, early_stopping=True, hidden_layer_sizes=(150, 150), learning_rate_init=0.0001, max_iter=1000;, score=0.923 total time=   3.9s\n",
      "[CV 1/5] END activation=tanh, early_stopping=True, hidden_layer_sizes=(150, 150), learning_rate_init=0.0001, max_iter=5000;, score=0.925 total time=   5.4s\n",
      "[CV 2/5] END activation=tanh, early_stopping=True, hidden_layer_sizes=(150, 150), learning_rate_init=0.0001, max_iter=5000;, score=0.928 total time=   7.1s\n",
      "[CV 3/5] END activation=tanh, early_stopping=True, hidden_layer_sizes=(150, 150), learning_rate_init=0.0001, max_iter=5000;, score=0.922 total time=   6.6s\n",
      "[CV 4/5] END activation=tanh, early_stopping=True, hidden_layer_sizes=(150, 150), learning_rate_init=0.0001, max_iter=5000;, score=0.924 total time=   4.6s\n",
      "[CV 5/5] END activation=tanh, early_stopping=True, hidden_layer_sizes=(150, 150), learning_rate_init=0.0001, max_iter=5000;, score=0.924 total time=   4.4s\n",
      "[CV 1/5] END activation=tanh, early_stopping=True, hidden_layer_sizes=(150, 150), learning_rate_init=0.001, max_iter=1000;, score=0.925 total time=   6.8s\n",
      "[CV 2/5] END activation=tanh, early_stopping=True, hidden_layer_sizes=(150, 150), learning_rate_init=0.001, max_iter=1000;, score=0.927 total time=   3.8s\n",
      "[CV 3/5] END activation=tanh, early_stopping=True, hidden_layer_sizes=(150, 150), learning_rate_init=0.001, max_iter=1000;, score=0.923 total time=  10.0s\n",
      "[CV 4/5] END activation=tanh, early_stopping=True, hidden_layer_sizes=(150, 150), learning_rate_init=0.001, max_iter=1000;, score=0.926 total time=   3.1s\n",
      "[CV 5/5] END activation=tanh, early_stopping=True, hidden_layer_sizes=(150, 150), learning_rate_init=0.001, max_iter=1000;, score=0.923 total time=   4.3s\n",
      "[CV 1/5] END activation=tanh, early_stopping=True, hidden_layer_sizes=(150, 150), learning_rate_init=0.001, max_iter=5000;, score=0.926 total time=   2.7s\n",
      "[CV 2/5] END activation=tanh, early_stopping=True, hidden_layer_sizes=(150, 150), learning_rate_init=0.001, max_iter=5000;, score=0.928 total time=   4.3s\n",
      "[CV 3/5] END activation=tanh, early_stopping=True, hidden_layer_sizes=(150, 150), learning_rate_init=0.001, max_iter=5000;, score=0.923 total time=   3.7s\n",
      "[CV 4/5] END activation=tanh, early_stopping=True, hidden_layer_sizes=(150, 150), learning_rate_init=0.001, max_iter=5000;, score=0.927 total time=   2.7s\n",
      "[CV 5/5] END activation=tanh, early_stopping=True, hidden_layer_sizes=(150, 150), learning_rate_init=0.001, max_iter=5000;, score=0.920 total time=   2.9s\n",
      "[CV 1/5] END activation=tanh, early_stopping=True, hidden_layer_sizes=(150, 150), learning_rate_init=0.01, max_iter=1000;, score=0.926 total time=   2.8s\n",
      "[CV 2/5] END activation=tanh, early_stopping=True, hidden_layer_sizes=(150, 150), learning_rate_init=0.01, max_iter=1000;, score=0.928 total time=   2.8s\n",
      "[CV 3/5] END activation=tanh, early_stopping=True, hidden_layer_sizes=(150, 150), learning_rate_init=0.01, max_iter=1000;, score=0.923 total time=   3.6s\n",
      "[CV 4/5] END activation=tanh, early_stopping=True, hidden_layer_sizes=(150, 150), learning_rate_init=0.01, max_iter=1000;, score=0.927 total time=   2.4s\n",
      "[CV 5/5] END activation=tanh, early_stopping=True, hidden_layer_sizes=(150, 150), learning_rate_init=0.01, max_iter=1000;, score=0.918 total time=   4.1s\n",
      "[CV 1/5] END activation=tanh, early_stopping=True, hidden_layer_sizes=(150, 150), learning_rate_init=0.01, max_iter=5000;, score=0.929 total time=   3.7s\n",
      "[CV 2/5] END activation=tanh, early_stopping=True, hidden_layer_sizes=(150, 150), learning_rate_init=0.01, max_iter=5000;, score=0.926 total time=   2.8s\n",
      "[CV 3/5] END activation=tanh, early_stopping=True, hidden_layer_sizes=(150, 150), learning_rate_init=0.01, max_iter=5000;, score=0.923 total time=   3.4s\n",
      "[CV 4/5] END activation=tanh, early_stopping=True, hidden_layer_sizes=(150, 150), learning_rate_init=0.01, max_iter=5000;, score=0.926 total time=   4.8s\n",
      "[CV 5/5] END activation=tanh, early_stopping=True, hidden_layer_sizes=(150, 150), learning_rate_init=0.01, max_iter=5000;, score=0.920 total time=   3.5s\n"
     ]
    }
   ],
   "source": [
    "grid_results = gridsearch.fit(train, train_labels)\n",
    "best_params = grid_results.best_params_\n",
    "mlp = grid_results.best_estimator_"
   ]
  },
  {
   "cell_type": "code",
   "execution_count": 42,
   "metadata": {},
   "outputs": [
    {
     "data": {
      "text/plain": [
       "{'activation': 'relu',\n",
       " 'early_stopping': True,\n",
       " 'hidden_layer_sizes': (150, 150),\n",
       " 'learning_rate_init': 0.001,\n",
       " 'max_iter': 5000}"
      ]
     },
     "execution_count": 42,
     "metadata": {},
     "output_type": "execute_result"
    }
   ],
   "source": [
    "best_params"
   ]
  },
  {
   "cell_type": "code",
   "execution_count": 43,
   "metadata": {},
   "outputs": [],
   "source": [
    "mlp = mlp.fit(train, train_labels)\n",
    "save_model(mlp, \"mlp_faster_pca.joblib\")"
   ]
  },
  {
   "cell_type": "code",
   "execution_count": 44,
   "metadata": {},
   "outputs": [],
   "source": [
    "train_preds = mlp.predict(train)\n",
    "dev_preds = mlp.predict(dev)\n",
    "test_preds = mlp.predict(test)"
   ]
  },
  {
   "cell_type": "code",
   "execution_count": 45,
   "metadata": {},
   "outputs": [
    {
     "name": "stdout",
     "output_type": "stream",
     "text": [
      "Accuracy Train:  0.9414814163957473\n",
      "Accuracy Dev:  0.92191347168484\n",
      "Accuracy Test:  0.9272663387210119\n",
      "F1 Train:  0.5121928790750737\n",
      "F1 Dev:  0.47549126554159143\n",
      "F1 Test:  0.47748936063498454\n",
      "Precision Train:  0.5843008864401824\n",
      "Precision Dev:  0.5391891022799763\n",
      "Precision Test:  0.5364463497576152\n",
      "Recall Train:  0.4762597348465782\n",
      "Recall Dev:  0.4463670345522405\n",
      "Recall Test:  0.4488818614217766\n",
      "Confusion Matrix Train: \n",
      "[[  861  1101     0]\n",
      " [  209 20569     0]\n",
      " [    0    22     0]]\n",
      "Confusion Matrix Dev: \n",
      "[[  97  175    0]\n",
      " [  45 2524    0]\n",
      " [   0    2    0]]\n",
      "Confusion Matrix Test: \n",
      "[[  91  159    0]\n",
      " [  45 2548    0]\n",
      " [   0    3    0]]\n"
     ]
    },
    {
     "name": "stderr",
     "output_type": "stream",
     "text": [
      "c:\\Kyode\\clg\\ml\\ML_Project\\venv\\lib\\site-packages\\sklearn\\metrics\\_classification.py:1334: UndefinedMetricWarning: Precision is ill-defined and being set to 0.0 in labels with no predicted samples. Use `zero_division` parameter to control this behavior.\n",
      "  _warn_prf(average, modifier, msg_start, len(result))\n",
      "c:\\Kyode\\clg\\ml\\ML_Project\\venv\\lib\\site-packages\\sklearn\\metrics\\_classification.py:1334: UndefinedMetricWarning: Precision is ill-defined and being set to 0.0 in labels with no predicted samples. Use `zero_division` parameter to control this behavior.\n",
      "  _warn_prf(average, modifier, msg_start, len(result))\n",
      "c:\\Kyode\\clg\\ml\\ML_Project\\venv\\lib\\site-packages\\sklearn\\metrics\\_classification.py:1334: UndefinedMetricWarning: Precision is ill-defined and being set to 0.0 in labels with no predicted samples. Use `zero_division` parameter to control this behavior.\n",
      "  _warn_prf(average, modifier, msg_start, len(result))\n"
     ]
    }
   ],
   "source": [
    "computeAllScores(train_preds, dev_preds, test_preds)"
   ]
  },
  {
   "cell_type": "markdown",
   "metadata": {},
   "source": [
    "### Sentence Transformer Better No PCA"
   ]
  },
  {
   "cell_type": "code",
   "execution_count": 46,
   "metadata": {},
   "outputs": [],
   "source": [
    "train, dev, test = load_sent_trans_better_no_pca()"
   ]
  },
  {
   "cell_type": "code",
   "execution_count": 47,
   "metadata": {},
   "outputs": [
    {
     "name": "stdout",
     "output_type": "stream",
     "text": [
      "Fitting 5 folds for each of 18 candidates, totalling 90 fits\n",
      "[CV 1/5] END activation=relu, early_stopping=True, hidden_layer_sizes=(150, 150), learning_rate_init=0.0001, max_iter=1000;, score=0.929 total time=   6.2s\n",
      "[CV 2/5] END activation=relu, early_stopping=True, hidden_layer_sizes=(150, 150), learning_rate_init=0.0001, max_iter=1000;, score=0.930 total time=   7.3s\n",
      "[CV 3/5] END activation=relu, early_stopping=True, hidden_layer_sizes=(150, 150), learning_rate_init=0.0001, max_iter=1000;, score=0.926 total time=   4.5s\n",
      "[CV 4/5] END activation=relu, early_stopping=True, hidden_layer_sizes=(150, 150), learning_rate_init=0.0001, max_iter=1000;, score=0.932 total time=  10.9s\n",
      "[CV 5/5] END activation=relu, early_stopping=True, hidden_layer_sizes=(150, 150), learning_rate_init=0.0001, max_iter=1000;, score=0.927 total time=   7.2s\n",
      "[CV 1/5] END activation=relu, early_stopping=True, hidden_layer_sizes=(150, 150), learning_rate_init=0.0001, max_iter=5000;, score=0.926 total time=  18.5s\n",
      "[CV 2/5] END activation=relu, early_stopping=True, hidden_layer_sizes=(150, 150), learning_rate_init=0.0001, max_iter=5000;, score=0.930 total time=   7.0s\n",
      "[CV 3/5] END activation=relu, early_stopping=True, hidden_layer_sizes=(150, 150), learning_rate_init=0.0001, max_iter=5000;, score=0.931 total time=   8.4s\n",
      "[CV 4/5] END activation=relu, early_stopping=True, hidden_layer_sizes=(150, 150), learning_rate_init=0.0001, max_iter=5000;, score=0.933 total time=   8.1s\n",
      "[CV 5/5] END activation=relu, early_stopping=True, hidden_layer_sizes=(150, 150), learning_rate_init=0.0001, max_iter=5000;, score=0.925 total time=   6.3s\n",
      "[CV 1/5] END activation=relu, early_stopping=True, hidden_layer_sizes=(150, 150), learning_rate_init=0.001, max_iter=1000;, score=0.931 total time=   4.1s\n",
      "[CV 2/5] END activation=relu, early_stopping=True, hidden_layer_sizes=(150, 150), learning_rate_init=0.001, max_iter=1000;, score=0.932 total time=   4.9s\n",
      "[CV 3/5] END activation=relu, early_stopping=True, hidden_layer_sizes=(150, 150), learning_rate_init=0.001, max_iter=1000;, score=0.930 total time=   5.5s\n",
      "[CV 4/5] END activation=relu, early_stopping=True, hidden_layer_sizes=(150, 150), learning_rate_init=0.001, max_iter=1000;, score=0.933 total time=   4.2s\n",
      "[CV 5/5] END activation=relu, early_stopping=True, hidden_layer_sizes=(150, 150), learning_rate_init=0.001, max_iter=1000;, score=0.919 total time=   6.2s\n",
      "[CV 1/5] END activation=relu, early_stopping=True, hidden_layer_sizes=(150, 150), learning_rate_init=0.001, max_iter=5000;, score=0.929 total time=   5.4s\n",
      "[CV 2/5] END activation=relu, early_stopping=True, hidden_layer_sizes=(150, 150), learning_rate_init=0.001, max_iter=5000;, score=0.929 total time=   3.7s\n",
      "[CV 3/5] END activation=relu, early_stopping=True, hidden_layer_sizes=(150, 150), learning_rate_init=0.001, max_iter=5000;, score=0.929 total time=   5.7s\n",
      "[CV 4/5] END activation=relu, early_stopping=True, hidden_layer_sizes=(150, 150), learning_rate_init=0.001, max_iter=5000;, score=0.929 total time=   5.9s\n",
      "[CV 5/5] END activation=relu, early_stopping=True, hidden_layer_sizes=(150, 150), learning_rate_init=0.001, max_iter=5000;, score=0.930 total time=   3.9s\n",
      "[CV 1/5] END activation=relu, early_stopping=True, hidden_layer_sizes=(150, 150), learning_rate_init=0.01, max_iter=1000;, score=0.930 total time=   4.0s\n",
      "[CV 2/5] END activation=relu, early_stopping=True, hidden_layer_sizes=(150, 150), learning_rate_init=0.01, max_iter=1000;, score=0.931 total time=   4.2s\n",
      "[CV 3/5] END activation=relu, early_stopping=True, hidden_layer_sizes=(150, 150), learning_rate_init=0.01, max_iter=1000;, score=0.926 total time=   4.0s\n",
      "[CV 4/5] END activation=relu, early_stopping=True, hidden_layer_sizes=(150, 150), learning_rate_init=0.01, max_iter=1000;, score=0.932 total time=   3.5s\n",
      "[CV 5/5] END activation=relu, early_stopping=True, hidden_layer_sizes=(150, 150), learning_rate_init=0.01, max_iter=1000;, score=0.930 total time=   4.4s\n",
      "[CV 1/5] END activation=relu, early_stopping=True, hidden_layer_sizes=(150, 150), learning_rate_init=0.01, max_iter=5000;, score=0.931 total time=   4.0s\n",
      "[CV 2/5] END activation=relu, early_stopping=True, hidden_layer_sizes=(150, 150), learning_rate_init=0.01, max_iter=5000;, score=0.929 total time=   3.5s\n",
      "[CV 3/5] END activation=relu, early_stopping=True, hidden_layer_sizes=(150, 150), learning_rate_init=0.01, max_iter=5000;, score=0.929 total time=   4.4s\n",
      "[CV 4/5] END activation=relu, early_stopping=True, hidden_layer_sizes=(150, 150), learning_rate_init=0.01, max_iter=5000;, score=0.929 total time=   4.2s\n",
      "[CV 5/5] END activation=relu, early_stopping=True, hidden_layer_sizes=(150, 150), learning_rate_init=0.01, max_iter=5000;, score=0.930 total time=   4.8s\n",
      "[CV 1/5] END activation=logistic, early_stopping=True, hidden_layer_sizes=(150, 150), learning_rate_init=0.0001, max_iter=1000;, score=0.913 total time=   4.7s\n",
      "[CV 2/5] END activation=logistic, early_stopping=True, hidden_layer_sizes=(150, 150), learning_rate_init=0.0001, max_iter=1000;, score=0.913 total time=   4.7s\n",
      "[CV 3/5] END activation=logistic, early_stopping=True, hidden_layer_sizes=(150, 150), learning_rate_init=0.0001, max_iter=1000;, score=0.913 total time=   5.2s\n",
      "[CV 4/5] END activation=logistic, early_stopping=True, hidden_layer_sizes=(150, 150), learning_rate_init=0.0001, max_iter=1000;, score=0.913 total time=   4.7s\n",
      "[CV 5/5] END activation=logistic, early_stopping=True, hidden_layer_sizes=(150, 150), learning_rate_init=0.0001, max_iter=1000;, score=0.913 total time=   5.0s\n",
      "[CV 1/5] END activation=logistic, early_stopping=True, hidden_layer_sizes=(150, 150), learning_rate_init=0.0001, max_iter=5000;, score=0.913 total time=   4.9s\n",
      "[CV 2/5] END activation=logistic, early_stopping=True, hidden_layer_sizes=(150, 150), learning_rate_init=0.0001, max_iter=5000;, score=0.913 total time=   5.2s\n",
      "[CV 3/5] END activation=logistic, early_stopping=True, hidden_layer_sizes=(150, 150), learning_rate_init=0.0001, max_iter=5000;, score=0.913 total time=   5.3s\n",
      "[CV 4/5] END activation=logistic, early_stopping=True, hidden_layer_sizes=(150, 150), learning_rate_init=0.0001, max_iter=5000;, score=0.913 total time=   4.8s\n",
      "[CV 5/5] END activation=logistic, early_stopping=True, hidden_layer_sizes=(150, 150), learning_rate_init=0.0001, max_iter=5000;, score=0.913 total time=   5.1s\n",
      "[CV 1/5] END activation=logistic, early_stopping=True, hidden_layer_sizes=(150, 150), learning_rate_init=0.001, max_iter=1000;, score=0.929 total time=  11.0s\n",
      "[CV 2/5] END activation=logistic, early_stopping=True, hidden_layer_sizes=(150, 150), learning_rate_init=0.001, max_iter=1000;, score=0.927 total time=  24.0s\n",
      "[CV 3/5] END activation=logistic, early_stopping=True, hidden_layer_sizes=(150, 150), learning_rate_init=0.001, max_iter=1000;, score=0.928 total time=  11.1s\n",
      "[CV 4/5] END activation=logistic, early_stopping=True, hidden_layer_sizes=(150, 150), learning_rate_init=0.001, max_iter=1000;, score=0.932 total time=  10.0s\n",
      "[CV 5/5] END activation=logistic, early_stopping=True, hidden_layer_sizes=(150, 150), learning_rate_init=0.001, max_iter=1000;, score=0.926 total time=   8.0s\n",
      "[CV 1/5] END activation=logistic, early_stopping=True, hidden_layer_sizes=(150, 150), learning_rate_init=0.001, max_iter=5000;, score=0.926 total time=   6.6s\n",
      "[CV 2/5] END activation=logistic, early_stopping=True, hidden_layer_sizes=(150, 150), learning_rate_init=0.001, max_iter=5000;, score=0.928 total time=   5.5s\n",
      "[CV 3/5] END activation=logistic, early_stopping=True, hidden_layer_sizes=(150, 150), learning_rate_init=0.001, max_iter=5000;, score=0.926 total time=  10.8s\n",
      "[CV 4/5] END activation=logistic, early_stopping=True, hidden_layer_sizes=(150, 150), learning_rate_init=0.001, max_iter=5000;, score=0.927 total time=   5.8s\n",
      "[CV 5/5] END activation=logistic, early_stopping=True, hidden_layer_sizes=(150, 150), learning_rate_init=0.001, max_iter=5000;, score=0.926 total time=  12.0s\n",
      "[CV 1/5] END activation=logistic, early_stopping=True, hidden_layer_sizes=(150, 150), learning_rate_init=0.01, max_iter=1000;, score=0.931 total time=   6.8s\n",
      "[CV 2/5] END activation=logistic, early_stopping=True, hidden_layer_sizes=(150, 150), learning_rate_init=0.01, max_iter=1000;, score=0.929 total time=   7.1s\n",
      "[CV 3/5] END activation=logistic, early_stopping=True, hidden_layer_sizes=(150, 150), learning_rate_init=0.01, max_iter=1000;, score=0.930 total time=   6.7s\n",
      "[CV 4/5] END activation=logistic, early_stopping=True, hidden_layer_sizes=(150, 150), learning_rate_init=0.01, max_iter=1000;, score=0.927 total time=   4.8s\n",
      "[CV 5/5] END activation=logistic, early_stopping=True, hidden_layer_sizes=(150, 150), learning_rate_init=0.01, max_iter=1000;, score=0.925 total time=  11.2s\n",
      "[CV 1/5] END activation=logistic, early_stopping=True, hidden_layer_sizes=(150, 150), learning_rate_init=0.01, max_iter=5000;, score=0.928 total time=   6.0s\n",
      "[CV 2/5] END activation=logistic, early_stopping=True, hidden_layer_sizes=(150, 150), learning_rate_init=0.01, max_iter=5000;, score=0.930 total time=   9.9s\n",
      "[CV 3/5] END activation=logistic, early_stopping=True, hidden_layer_sizes=(150, 150), learning_rate_init=0.01, max_iter=5000;, score=0.931 total time=   7.8s\n",
      "[CV 4/5] END activation=logistic, early_stopping=True, hidden_layer_sizes=(150, 150), learning_rate_init=0.01, max_iter=5000;, score=0.932 total time=   7.5s\n",
      "[CV 5/5] END activation=logistic, early_stopping=True, hidden_layer_sizes=(150, 150), learning_rate_init=0.01, max_iter=5000;, score=0.929 total time=   5.9s\n",
      "[CV 1/5] END activation=tanh, early_stopping=True, hidden_layer_sizes=(150, 150), learning_rate_init=0.0001, max_iter=1000;, score=0.930 total time=  10.3s\n",
      "[CV 2/5] END activation=tanh, early_stopping=True, hidden_layer_sizes=(150, 150), learning_rate_init=0.0001, max_iter=1000;, score=0.930 total time=   5.9s\n",
      "[CV 3/5] END activation=tanh, early_stopping=True, hidden_layer_sizes=(150, 150), learning_rate_init=0.0001, max_iter=1000;, score=0.928 total time=  10.6s\n",
      "[CV 4/5] END activation=tanh, early_stopping=True, hidden_layer_sizes=(150, 150), learning_rate_init=0.0001, max_iter=1000;, score=0.932 total time=   9.2s\n",
      "[CV 5/5] END activation=tanh, early_stopping=True, hidden_layer_sizes=(150, 150), learning_rate_init=0.0001, max_iter=1000;, score=0.924 total time=   6.3s\n",
      "[CV 1/5] END activation=tanh, early_stopping=True, hidden_layer_sizes=(150, 150), learning_rate_init=0.0001, max_iter=5000;, score=0.926 total time=   5.1s\n",
      "[CV 2/5] END activation=tanh, early_stopping=True, hidden_layer_sizes=(150, 150), learning_rate_init=0.0001, max_iter=5000;, score=0.928 total time=   7.7s\n",
      "[CV 3/5] END activation=tanh, early_stopping=True, hidden_layer_sizes=(150, 150), learning_rate_init=0.0001, max_iter=5000;, score=0.928 total time=  11.1s\n",
      "[CV 4/5] END activation=tanh, early_stopping=True, hidden_layer_sizes=(150, 150), learning_rate_init=0.0001, max_iter=5000;, score=0.932 total time=   8.4s\n",
      "[CV 5/5] END activation=tanh, early_stopping=True, hidden_layer_sizes=(150, 150), learning_rate_init=0.0001, max_iter=5000;, score=0.926 total time=  10.3s\n",
      "[CV 1/5] END activation=tanh, early_stopping=True, hidden_layer_sizes=(150, 150), learning_rate_init=0.001, max_iter=1000;, score=0.923 total time=   6.9s\n",
      "[CV 2/5] END activation=tanh, early_stopping=True, hidden_layer_sizes=(150, 150), learning_rate_init=0.001, max_iter=1000;, score=0.927 total time=   6.9s\n",
      "[CV 3/5] END activation=tanh, early_stopping=True, hidden_layer_sizes=(150, 150), learning_rate_init=0.001, max_iter=1000;, score=0.926 total time=   4.4s\n",
      "[CV 4/5] END activation=tanh, early_stopping=True, hidden_layer_sizes=(150, 150), learning_rate_init=0.001, max_iter=1000;, score=0.930 total time=   9.7s\n",
      "[CV 5/5] END activation=tanh, early_stopping=True, hidden_layer_sizes=(150, 150), learning_rate_init=0.001, max_iter=1000;, score=0.927 total time=   7.7s\n",
      "[CV 1/5] END activation=tanh, early_stopping=True, hidden_layer_sizes=(150, 150), learning_rate_init=0.001, max_iter=5000;, score=0.929 total time=   4.5s\n",
      "[CV 2/5] END activation=tanh, early_stopping=True, hidden_layer_sizes=(150, 150), learning_rate_init=0.001, max_iter=5000;, score=0.929 total time=   7.3s\n",
      "[CV 3/5] END activation=tanh, early_stopping=True, hidden_layer_sizes=(150, 150), learning_rate_init=0.001, max_iter=5000;, score=0.929 total time=   4.7s\n",
      "[CV 4/5] END activation=tanh, early_stopping=True, hidden_layer_sizes=(150, 150), learning_rate_init=0.001, max_iter=5000;, score=0.933 total time=   6.7s\n",
      "[CV 5/5] END activation=tanh, early_stopping=True, hidden_layer_sizes=(150, 150), learning_rate_init=0.001, max_iter=5000;, score=0.924 total time=   4.9s\n",
      "[CV 1/5] END activation=tanh, early_stopping=True, hidden_layer_sizes=(150, 150), learning_rate_init=0.01, max_iter=1000;, score=0.931 total time=   3.9s\n",
      "[CV 2/5] END activation=tanh, early_stopping=True, hidden_layer_sizes=(150, 150), learning_rate_init=0.01, max_iter=1000;, score=0.931 total time=   5.7s\n",
      "[CV 3/5] END activation=tanh, early_stopping=True, hidden_layer_sizes=(150, 150), learning_rate_init=0.01, max_iter=1000;, score=0.930 total time=   4.7s\n",
      "[CV 4/5] END activation=tanh, early_stopping=True, hidden_layer_sizes=(150, 150), learning_rate_init=0.01, max_iter=1000;, score=0.927 total time=   3.7s\n",
      "[CV 5/5] END activation=tanh, early_stopping=True, hidden_layer_sizes=(150, 150), learning_rate_init=0.01, max_iter=1000;, score=0.928 total time=   4.3s\n",
      "[CV 1/5] END activation=tanh, early_stopping=True, hidden_layer_sizes=(150, 150), learning_rate_init=0.01, max_iter=5000;, score=0.928 total time=   4.5s\n",
      "[CV 2/5] END activation=tanh, early_stopping=True, hidden_layer_sizes=(150, 150), learning_rate_init=0.01, max_iter=5000;, score=0.930 total time=   5.4s\n",
      "[CV 3/5] END activation=tanh, early_stopping=True, hidden_layer_sizes=(150, 150), learning_rate_init=0.01, max_iter=5000;, score=0.928 total time=   5.1s\n",
      "[CV 4/5] END activation=tanh, early_stopping=True, hidden_layer_sizes=(150, 150), learning_rate_init=0.01, max_iter=5000;, score=0.931 total time=   3.7s\n",
      "[CV 5/5] END activation=tanh, early_stopping=True, hidden_layer_sizes=(150, 150), learning_rate_init=0.01, max_iter=5000;, score=0.927 total time=   5.0s\n"
     ]
    }
   ],
   "source": [
    "grid_results = gridsearch.fit(train, train_labels)\n",
    "best_params = grid_results.best_params_\n",
    "mlp = grid_results.best_estimator_"
   ]
  },
  {
   "cell_type": "code",
   "execution_count": 48,
   "metadata": {},
   "outputs": [
    {
     "data": {
      "text/plain": [
       "{'activation': 'logistic',\n",
       " 'early_stopping': True,\n",
       " 'hidden_layer_sizes': (150, 150),\n",
       " 'learning_rate_init': 0.01,\n",
       " 'max_iter': 5000}"
      ]
     },
     "execution_count": 48,
     "metadata": {},
     "output_type": "execute_result"
    }
   ],
   "source": [
    "best_params"
   ]
  },
  {
   "cell_type": "code",
   "execution_count": 49,
   "metadata": {},
   "outputs": [],
   "source": [
    "mlp = mlp.fit(train, train_labels)\n",
    "save_model(mlp, \"mlp_better_no_pca.joblib\")"
   ]
  },
  {
   "cell_type": "code",
   "execution_count": 50,
   "metadata": {},
   "outputs": [],
   "source": [
    "train_preds = mlp.predict(train)\n",
    "dev_preds = mlp.predict(dev)\n",
    "test_preds = mlp.predict(test)"
   ]
  },
  {
   "cell_type": "code",
   "execution_count": 51,
   "metadata": {},
   "outputs": [
    {
     "name": "stdout",
     "output_type": "stream",
     "text": [
      "Accuracy Train:  0.9399876987962393\n",
      "Accuracy Dev:  0.9215617305663032\n",
      "Accuracy Test:  0.9339423752635277\n",
      "F1 Train:  0.5060234036457886\n",
      "F1 Dev:  0.4783846641110247\n",
      "F1 Test:  0.49300581963803136\n",
      "Precision Train:  0.5825699641489116\n",
      "Precision Dev:  0.5348698949384817\n",
      "Precision Test:  0.5636671212142512\n",
      "Recall Train:  0.46971405594543514\n",
      "Recall Dev:  0.45062023446980976\n",
      "Recall Test:  0.4597578094870806\n",
      "Confusion Matrix Train: \n",
      "[[  822  1140     0]\n",
      " [  204 20574     0]\n",
      " [    0    22     0]]\n",
      "Confusion Matrix Dev: \n",
      "[[ 101  171    0]\n",
      " [  50 2519    0]\n",
      " [   0    2    0]]\n",
      "Confusion Matrix Test: \n",
      "[[  98  152    0]\n",
      " [  33 2560    0]\n",
      " [   0    3    0]]\n"
     ]
    },
    {
     "name": "stderr",
     "output_type": "stream",
     "text": [
      "c:\\Kyode\\clg\\ml\\ML_Project\\venv\\lib\\site-packages\\sklearn\\metrics\\_classification.py:1334: UndefinedMetricWarning: Precision is ill-defined and being set to 0.0 in labels with no predicted samples. Use `zero_division` parameter to control this behavior.\n",
      "  _warn_prf(average, modifier, msg_start, len(result))\n",
      "c:\\Kyode\\clg\\ml\\ML_Project\\venv\\lib\\site-packages\\sklearn\\metrics\\_classification.py:1334: UndefinedMetricWarning: Precision is ill-defined and being set to 0.0 in labels with no predicted samples. Use `zero_division` parameter to control this behavior.\n",
      "  _warn_prf(average, modifier, msg_start, len(result))\n",
      "c:\\Kyode\\clg\\ml\\ML_Project\\venv\\lib\\site-packages\\sklearn\\metrics\\_classification.py:1334: UndefinedMetricWarning: Precision is ill-defined and being set to 0.0 in labels with no predicted samples. Use `zero_division` parameter to control this behavior.\n",
      "  _warn_prf(average, modifier, msg_start, len(result))\n"
     ]
    }
   ],
   "source": [
    "computeAllScores(train_preds, dev_preds, test_preds)"
   ]
  },
  {
   "cell_type": "markdown",
   "metadata": {},
   "source": [
    "### Sentence Transformer Better PCA"
   ]
  },
  {
   "cell_type": "code",
   "execution_count": 52,
   "metadata": {},
   "outputs": [],
   "source": [
    "train, dev, test = load_sent_trans_better_pca()"
   ]
  },
  {
   "cell_type": "code",
   "execution_count": 53,
   "metadata": {},
   "outputs": [
    {
     "name": "stdout",
     "output_type": "stream",
     "text": [
      "Fitting 5 folds for each of 18 candidates, totalling 90 fits\n",
      "[CV 1/5] END activation=relu, early_stopping=True, hidden_layer_sizes=(150, 150), learning_rate_init=0.0001, max_iter=1000;, score=0.931 total time=   5.6s\n",
      "[CV 2/5] END activation=relu, early_stopping=True, hidden_layer_sizes=(150, 150), learning_rate_init=0.0001, max_iter=1000;, score=0.931 total time=  12.3s\n",
      "[CV 3/5] END activation=relu, early_stopping=True, hidden_layer_sizes=(150, 150), learning_rate_init=0.0001, max_iter=1000;, score=0.932 total time=   7.6s\n",
      "[CV 4/5] END activation=relu, early_stopping=True, hidden_layer_sizes=(150, 150), learning_rate_init=0.0001, max_iter=1000;, score=0.933 total time=   6.3s\n",
      "[CV 5/5] END activation=relu, early_stopping=True, hidden_layer_sizes=(150, 150), learning_rate_init=0.0001, max_iter=1000;, score=0.926 total time=   9.8s\n",
      "[CV 1/5] END activation=relu, early_stopping=True, hidden_layer_sizes=(150, 150), learning_rate_init=0.0001, max_iter=5000;, score=0.930 total time=   6.7s\n",
      "[CV 2/5] END activation=relu, early_stopping=True, hidden_layer_sizes=(150, 150), learning_rate_init=0.0001, max_iter=5000;, score=0.931 total time=   7.3s\n",
      "[CV 3/5] END activation=relu, early_stopping=True, hidden_layer_sizes=(150, 150), learning_rate_init=0.0001, max_iter=5000;, score=0.930 total time=   7.4s\n",
      "[CV 4/5] END activation=relu, early_stopping=True, hidden_layer_sizes=(150, 150), learning_rate_init=0.0001, max_iter=5000;, score=0.933 total time=   9.9s\n",
      "[CV 5/5] END activation=relu, early_stopping=True, hidden_layer_sizes=(150, 150), learning_rate_init=0.0001, max_iter=5000;, score=0.929 total time=   7.9s\n",
      "[CV 1/5] END activation=relu, early_stopping=True, hidden_layer_sizes=(150, 150), learning_rate_init=0.001, max_iter=1000;, score=0.923 total time=   4.4s\n",
      "[CV 2/5] END activation=relu, early_stopping=True, hidden_layer_sizes=(150, 150), learning_rate_init=0.001, max_iter=1000;, score=0.928 total time=   5.2s\n",
      "[CV 3/5] END activation=relu, early_stopping=True, hidden_layer_sizes=(150, 150), learning_rate_init=0.001, max_iter=1000;, score=0.931 total time=   3.4s\n",
      "[CV 4/5] END activation=relu, early_stopping=True, hidden_layer_sizes=(150, 150), learning_rate_init=0.001, max_iter=1000;, score=0.931 total time=   4.7s\n",
      "[CV 5/5] END activation=relu, early_stopping=True, hidden_layer_sizes=(150, 150), learning_rate_init=0.001, max_iter=1000;, score=0.929 total time=   3.6s\n",
      "[CV 1/5] END activation=relu, early_stopping=True, hidden_layer_sizes=(150, 150), learning_rate_init=0.001, max_iter=5000;, score=0.927 total time=   5.9s\n",
      "[CV 2/5] END activation=relu, early_stopping=True, hidden_layer_sizes=(150, 150), learning_rate_init=0.001, max_iter=5000;, score=0.925 total time=   5.6s\n",
      "[CV 3/5] END activation=relu, early_stopping=True, hidden_layer_sizes=(150, 150), learning_rate_init=0.001, max_iter=5000;, score=0.930 total time=   2.7s\n",
      "[CV 4/5] END activation=relu, early_stopping=True, hidden_layer_sizes=(150, 150), learning_rate_init=0.001, max_iter=5000;, score=0.931 total time=   4.3s\n",
      "[CV 5/5] END activation=relu, early_stopping=True, hidden_layer_sizes=(150, 150), learning_rate_init=0.001, max_iter=5000;, score=0.929 total time=   3.2s\n",
      "[CV 1/5] END activation=relu, early_stopping=True, hidden_layer_sizes=(150, 150), learning_rate_init=0.01, max_iter=1000;, score=0.931 total time=   3.0s\n",
      "[CV 2/5] END activation=relu, early_stopping=True, hidden_layer_sizes=(150, 150), learning_rate_init=0.01, max_iter=1000;, score=0.931 total time=   2.8s\n",
      "[CV 3/5] END activation=relu, early_stopping=True, hidden_layer_sizes=(150, 150), learning_rate_init=0.01, max_iter=1000;, score=0.929 total time=   3.2s\n",
      "[CV 4/5] END activation=relu, early_stopping=True, hidden_layer_sizes=(150, 150), learning_rate_init=0.01, max_iter=1000;, score=0.929 total time=   2.6s\n",
      "[CV 5/5] END activation=relu, early_stopping=True, hidden_layer_sizes=(150, 150), learning_rate_init=0.01, max_iter=1000;, score=0.929 total time=   2.8s\n",
      "[CV 1/5] END activation=relu, early_stopping=True, hidden_layer_sizes=(150, 150), learning_rate_init=0.01, max_iter=5000;, score=0.929 total time=   2.6s\n",
      "[CV 2/5] END activation=relu, early_stopping=True, hidden_layer_sizes=(150, 150), learning_rate_init=0.01, max_iter=5000;, score=0.928 total time=   3.5s\n",
      "[CV 3/5] END activation=relu, early_stopping=True, hidden_layer_sizes=(150, 150), learning_rate_init=0.01, max_iter=5000;, score=0.918 total time=   3.7s\n",
      "[CV 4/5] END activation=relu, early_stopping=True, hidden_layer_sizes=(150, 150), learning_rate_init=0.01, max_iter=5000;, score=0.932 total time=   3.1s\n",
      "[CV 5/5] END activation=relu, early_stopping=True, hidden_layer_sizes=(150, 150), learning_rate_init=0.01, max_iter=5000;, score=0.930 total time=   3.2s\n",
      "[CV 1/5] END activation=logistic, early_stopping=True, hidden_layer_sizes=(150, 150), learning_rate_init=0.0001, max_iter=1000;, score=0.913 total time=   3.9s\n",
      "[CV 2/5] END activation=logistic, early_stopping=True, hidden_layer_sizes=(150, 150), learning_rate_init=0.0001, max_iter=1000;, score=0.913 total time=   3.9s\n",
      "[CV 3/5] END activation=logistic, early_stopping=True, hidden_layer_sizes=(150, 150), learning_rate_init=0.0001, max_iter=1000;, score=0.913 total time=   4.2s\n",
      "[CV 4/5] END activation=logistic, early_stopping=True, hidden_layer_sizes=(150, 150), learning_rate_init=0.0001, max_iter=1000;, score=0.913 total time=   3.8s\n",
      "[CV 5/5] END activation=logistic, early_stopping=True, hidden_layer_sizes=(150, 150), learning_rate_init=0.0001, max_iter=1000;, score=0.913 total time=   3.9s\n",
      "[CV 1/5] END activation=logistic, early_stopping=True, hidden_layer_sizes=(150, 150), learning_rate_init=0.0001, max_iter=5000;, score=0.913 total time=   4.2s\n",
      "[CV 2/5] END activation=logistic, early_stopping=True, hidden_layer_sizes=(150, 150), learning_rate_init=0.0001, max_iter=5000;, score=0.913 total time=   3.9s\n",
      "[CV 3/5] END activation=logistic, early_stopping=True, hidden_layer_sizes=(150, 150), learning_rate_init=0.0001, max_iter=5000;, score=0.913 total time=   4.1s\n",
      "[CV 4/5] END activation=logistic, early_stopping=True, hidden_layer_sizes=(150, 150), learning_rate_init=0.0001, max_iter=5000;, score=0.913 total time=   4.3s\n",
      "[CV 5/5] END activation=logistic, early_stopping=True, hidden_layer_sizes=(150, 150), learning_rate_init=0.0001, max_iter=5000;, score=0.913 total time=   3.8s\n",
      "[CV 1/5] END activation=logistic, early_stopping=True, hidden_layer_sizes=(150, 150), learning_rate_init=0.001, max_iter=1000;, score=0.929 total time=   5.5s\n",
      "[CV 2/5] END activation=logistic, early_stopping=True, hidden_layer_sizes=(150, 150), learning_rate_init=0.001, max_iter=1000;, score=0.932 total time=   6.6s\n",
      "[CV 3/5] END activation=logistic, early_stopping=True, hidden_layer_sizes=(150, 150), learning_rate_init=0.001, max_iter=1000;, score=0.926 total time=   5.3s\n",
      "[CV 4/5] END activation=logistic, early_stopping=True, hidden_layer_sizes=(150, 150), learning_rate_init=0.001, max_iter=1000;, score=0.930 total time=   6.6s\n",
      "[CV 5/5] END activation=logistic, early_stopping=True, hidden_layer_sizes=(150, 150), learning_rate_init=0.001, max_iter=1000;, score=0.925 total time=   7.8s\n",
      "[CV 1/5] END activation=logistic, early_stopping=True, hidden_layer_sizes=(150, 150), learning_rate_init=0.001, max_iter=5000;, score=0.926 total time=   7.4s\n",
      "[CV 2/5] END activation=logistic, early_stopping=True, hidden_layer_sizes=(150, 150), learning_rate_init=0.001, max_iter=5000;, score=0.931 total time=   6.5s\n",
      "[CV 3/5] END activation=logistic, early_stopping=True, hidden_layer_sizes=(150, 150), learning_rate_init=0.001, max_iter=5000;, score=0.930 total time=   6.8s\n",
      "[CV 4/5] END activation=logistic, early_stopping=True, hidden_layer_sizes=(150, 150), learning_rate_init=0.001, max_iter=5000;, score=0.929 total time=   7.0s\n",
      "[CV 5/5] END activation=logistic, early_stopping=True, hidden_layer_sizes=(150, 150), learning_rate_init=0.001, max_iter=5000;, score=0.928 total time=   6.1s\n",
      "[CV 1/5] END activation=logistic, early_stopping=True, hidden_layer_sizes=(150, 150), learning_rate_init=0.01, max_iter=1000;, score=0.930 total time=   5.2s\n",
      "[CV 2/5] END activation=logistic, early_stopping=True, hidden_layer_sizes=(150, 150), learning_rate_init=0.01, max_iter=1000;, score=0.922 total time=   4.1s\n",
      "[CV 3/5] END activation=logistic, early_stopping=True, hidden_layer_sizes=(150, 150), learning_rate_init=0.01, max_iter=1000;, score=0.929 total time=   8.4s\n",
      "[CV 4/5] END activation=logistic, early_stopping=True, hidden_layer_sizes=(150, 150), learning_rate_init=0.01, max_iter=1000;, score=0.928 total time=   9.8s\n",
      "[CV 5/5] END activation=logistic, early_stopping=True, hidden_layer_sizes=(150, 150), learning_rate_init=0.01, max_iter=1000;, score=0.926 total time=   6.9s\n",
      "[CV 1/5] END activation=logistic, early_stopping=True, hidden_layer_sizes=(150, 150), learning_rate_init=0.01, max_iter=5000;, score=0.928 total time=   5.4s\n",
      "[CV 2/5] END activation=logistic, early_stopping=True, hidden_layer_sizes=(150, 150), learning_rate_init=0.01, max_iter=5000;, score=0.932 total time=   4.3s\n",
      "[CV 3/5] END activation=logistic, early_stopping=True, hidden_layer_sizes=(150, 150), learning_rate_init=0.01, max_iter=5000;, score=0.929 total time=   4.5s\n",
      "[CV 4/5] END activation=logistic, early_stopping=True, hidden_layer_sizes=(150, 150), learning_rate_init=0.01, max_iter=5000;, score=0.930 total time=   4.2s\n",
      "[CV 5/5] END activation=logistic, early_stopping=True, hidden_layer_sizes=(150, 150), learning_rate_init=0.01, max_iter=5000;, score=0.928 total time=   4.3s\n",
      "[CV 1/5] END activation=tanh, early_stopping=True, hidden_layer_sizes=(150, 150), learning_rate_init=0.0001, max_iter=1000;, score=0.928 total time=   4.6s\n",
      "[CV 2/5] END activation=tanh, early_stopping=True, hidden_layer_sizes=(150, 150), learning_rate_init=0.0001, max_iter=1000;, score=0.931 total time=   4.8s\n",
      "[CV 3/5] END activation=tanh, early_stopping=True, hidden_layer_sizes=(150, 150), learning_rate_init=0.0001, max_iter=1000;, score=0.929 total time=   7.5s\n",
      "[CV 4/5] END activation=tanh, early_stopping=True, hidden_layer_sizes=(150, 150), learning_rate_init=0.0001, max_iter=1000;, score=0.932 total time=   6.6s\n",
      "[CV 5/5] END activation=tanh, early_stopping=True, hidden_layer_sizes=(150, 150), learning_rate_init=0.0001, max_iter=1000;, score=0.928 total time=   7.3s\n",
      "[CV 1/5] END activation=tanh, early_stopping=True, hidden_layer_sizes=(150, 150), learning_rate_init=0.0001, max_iter=5000;, score=0.930 total time=   4.9s\n",
      "[CV 2/5] END activation=tanh, early_stopping=True, hidden_layer_sizes=(150, 150), learning_rate_init=0.0001, max_iter=5000;, score=0.933 total time=   5.6s\n",
      "[CV 3/5] END activation=tanh, early_stopping=True, hidden_layer_sizes=(150, 150), learning_rate_init=0.0001, max_iter=5000;, score=0.929 total time=   5.7s\n",
      "[CV 4/5] END activation=tanh, early_stopping=True, hidden_layer_sizes=(150, 150), learning_rate_init=0.0001, max_iter=5000;, score=0.933 total time=   7.6s\n",
      "[CV 5/5] END activation=tanh, early_stopping=True, hidden_layer_sizes=(150, 150), learning_rate_init=0.0001, max_iter=5000;, score=0.927 total time=   6.1s\n",
      "[CV 1/5] END activation=tanh, early_stopping=True, hidden_layer_sizes=(150, 150), learning_rate_init=0.001, max_iter=1000;, score=0.929 total time=   2.9s\n",
      "[CV 2/5] END activation=tanh, early_stopping=True, hidden_layer_sizes=(150, 150), learning_rate_init=0.001, max_iter=1000;, score=0.930 total time=   4.0s\n",
      "[CV 3/5] END activation=tanh, early_stopping=True, hidden_layer_sizes=(150, 150), learning_rate_init=0.001, max_iter=1000;, score=0.932 total time=   2.9s\n",
      "[CV 4/5] END activation=tanh, early_stopping=True, hidden_layer_sizes=(150, 150), learning_rate_init=0.001, max_iter=1000;, score=0.931 total time=   3.6s\n",
      "[CV 5/5] END activation=tanh, early_stopping=True, hidden_layer_sizes=(150, 150), learning_rate_init=0.001, max_iter=1000;, score=0.922 total time=   4.0s\n",
      "[CV 1/5] END activation=tanh, early_stopping=True, hidden_layer_sizes=(150, 150), learning_rate_init=0.001, max_iter=5000;, score=0.927 total time=   5.8s\n",
      "[CV 2/5] END activation=tanh, early_stopping=True, hidden_layer_sizes=(150, 150), learning_rate_init=0.001, max_iter=5000;, score=0.931 total time=   3.5s\n",
      "[CV 3/5] END activation=tanh, early_stopping=True, hidden_layer_sizes=(150, 150), learning_rate_init=0.001, max_iter=5000;, score=0.928 total time=   6.5s\n",
      "[CV 4/5] END activation=tanh, early_stopping=True, hidden_layer_sizes=(150, 150), learning_rate_init=0.001, max_iter=5000;, score=0.932 total time=   4.6s\n",
      "[CV 5/5] END activation=tanh, early_stopping=True, hidden_layer_sizes=(150, 150), learning_rate_init=0.001, max_iter=5000;, score=0.924 total time=   4.1s\n",
      "[CV 1/5] END activation=tanh, early_stopping=True, hidden_layer_sizes=(150, 150), learning_rate_init=0.01, max_iter=1000;, score=0.929 total time=   3.7s\n",
      "[CV 2/5] END activation=tanh, early_stopping=True, hidden_layer_sizes=(150, 150), learning_rate_init=0.01, max_iter=1000;, score=0.929 total time=   4.9s\n",
      "[CV 3/5] END activation=tanh, early_stopping=True, hidden_layer_sizes=(150, 150), learning_rate_init=0.01, max_iter=1000;, score=0.926 total time=   2.8s\n",
      "[CV 4/5] END activation=tanh, early_stopping=True, hidden_layer_sizes=(150, 150), learning_rate_init=0.01, max_iter=1000;, score=0.929 total time=   2.7s\n",
      "[CV 5/5] END activation=tanh, early_stopping=True, hidden_layer_sizes=(150, 150), learning_rate_init=0.01, max_iter=1000;, score=0.927 total time=   5.2s\n",
      "[CV 1/5] END activation=tanh, early_stopping=True, hidden_layer_sizes=(150, 150), learning_rate_init=0.01, max_iter=5000;, score=0.925 total time=   5.2s\n",
      "[CV 2/5] END activation=tanh, early_stopping=True, hidden_layer_sizes=(150, 150), learning_rate_init=0.01, max_iter=5000;, score=0.927 total time=   4.1s\n",
      "[CV 3/5] END activation=tanh, early_stopping=True, hidden_layer_sizes=(150, 150), learning_rate_init=0.01, max_iter=5000;, score=0.931 total time=   4.1s\n",
      "[CV 4/5] END activation=tanh, early_stopping=True, hidden_layer_sizes=(150, 150), learning_rate_init=0.01, max_iter=5000;, score=0.929 total time=   3.7s\n",
      "[CV 5/5] END activation=tanh, early_stopping=True, hidden_layer_sizes=(150, 150), learning_rate_init=0.01, max_iter=5000;, score=0.923 total time=   2.8s\n"
     ]
    }
   ],
   "source": [
    "grid_results = gridsearch.fit(train, train_labels)\n",
    "best_params = grid_results.best_params_\n",
    "mlp = grid_results.best_estimator_"
   ]
  },
  {
   "cell_type": "code",
   "execution_count": 54,
   "metadata": {},
   "outputs": [
    {
     "data": {
      "text/plain": [
       "{'activation': 'relu',\n",
       " 'early_stopping': True,\n",
       " 'hidden_layer_sizes': (150, 150),\n",
       " 'learning_rate_init': 0.0001,\n",
       " 'max_iter': 5000}"
      ]
     },
     "execution_count": 54,
     "metadata": {},
     "output_type": "execute_result"
    }
   ],
   "source": [
    "best_params"
   ]
  },
  {
   "cell_type": "code",
   "execution_count": 55,
   "metadata": {},
   "outputs": [],
   "source": [
    "mlp = mlp.fit(train, train_labels)\n",
    "save_model(mlp, \"mlp_better_pca.joblib\")"
   ]
  },
  {
   "cell_type": "code",
   "execution_count": 56,
   "metadata": {},
   "outputs": [],
   "source": [
    "train_preds = mlp.predict(train)\n",
    "dev_preds = mlp.predict(dev)\n",
    "test_preds = mlp.predict(test)"
   ]
  },
  {
   "cell_type": "code",
   "execution_count": 57,
   "metadata": {},
   "outputs": [
    {
     "name": "stdout",
     "output_type": "stream",
     "text": [
      "Accuracy Train:  0.9349354186802565\n",
      "Accuracy Dev:  0.9222652128033767\n",
      "Accuracy Test:  0.9283204497540407\n",
      "F1 Train:  0.49202119499173574\n",
      "F1 Dev:  0.4767819046159967\n",
      "F1 Test:  0.4789162604562482\n",
      "Precision Train:  0.5633733213602462\n",
      "Precision Dev:  0.5400431667098333\n",
      "Precision Test:  0.5414993436410783\n",
      "Recall Train:  0.45863803252263696\n",
      "Recall Dev:  0.44759252474831895\n",
      "Recall Test:  0.4492675151047692\n",
      "Confusion Matrix Train: \n",
      "[[  762  1200     0]\n",
      " [  259 20519     0]\n",
      " [    0    22     0]]\n",
      "Confusion Matrix Dev: \n",
      "[[  98  174    0]\n",
      " [  45 2524    0]\n",
      " [   0    2    0]]\n",
      "Confusion Matrix Test: \n",
      "[[  91  159    0]\n",
      " [  42 2551    0]\n",
      " [   0    3    0]]\n"
     ]
    },
    {
     "name": "stderr",
     "output_type": "stream",
     "text": [
      "c:\\Kyode\\clg\\ml\\ML_Project\\venv\\lib\\site-packages\\sklearn\\metrics\\_classification.py:1334: UndefinedMetricWarning: Precision is ill-defined and being set to 0.0 in labels with no predicted samples. Use `zero_division` parameter to control this behavior.\n",
      "  _warn_prf(average, modifier, msg_start, len(result))\n",
      "c:\\Kyode\\clg\\ml\\ML_Project\\venv\\lib\\site-packages\\sklearn\\metrics\\_classification.py:1334: UndefinedMetricWarning: Precision is ill-defined and being set to 0.0 in labels with no predicted samples. Use `zero_division` parameter to control this behavior.\n",
      "  _warn_prf(average, modifier, msg_start, len(result))\n",
      "c:\\Kyode\\clg\\ml\\ML_Project\\venv\\lib\\site-packages\\sklearn\\metrics\\_classification.py:1334: UndefinedMetricWarning: Precision is ill-defined and being set to 0.0 in labels with no predicted samples. Use `zero_division` parameter to control this behavior.\n",
      "  _warn_prf(average, modifier, msg_start, len(result))\n"
     ]
    }
   ],
   "source": [
    "computeAllScores(train_preds, dev_preds, test_preds)"
   ]
  },
  {
   "cell_type": "code",
   "execution_count": null,
   "metadata": {},
   "outputs": [],
   "source": []
  }
 ],
 "metadata": {
  "kernelspec": {
   "display_name": "Python 3.10.2 ('venv': venv)",
   "language": "python",
   "name": "python3"
  },
  "language_info": {
   "codemirror_mode": {
    "name": "ipython",
    "version": 3
   },
   "file_extension": ".py",
   "mimetype": "text/x-python",
   "name": "python",
   "nbconvert_exporter": "python",
   "pygments_lexer": "ipython3",
   "version": "3.10.2"
  },
  "orig_nbformat": 4,
  "vscode": {
   "interpreter": {
    "hash": "fd949ee6353ffa8da7adb473cc2810b4b5aee9c3c37e455af5c40ec8a7a1d86b"
   }
  }
 },
 "nbformat": 4,
 "nbformat_minor": 2
}
