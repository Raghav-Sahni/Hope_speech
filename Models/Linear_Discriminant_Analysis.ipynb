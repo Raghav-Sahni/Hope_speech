{
 "cells": [
  {
   "cell_type": "code",
   "execution_count": 1,
   "metadata": {},
   "outputs": [
    {
     "name": "stdout",
     "output_type": "stream",
     "text": [
      "--ip=127.0.0.1\n"
     ]
    }
   ],
   "source": [
    "from embeddings_loader import *\n",
    "from sklearn.discriminant_analysis import LinearDiscriminantAnalysis\n",
    "from sklearn.metrics import f1_score\n",
    "from sklearn.metrics import accuracy_score\n",
    "from sklearn.metrics import confusion_matrix\n",
    "from sklearn.metrics import classification_report\n",
    "from sklearn.metrics import recall_score\n",
    "from sklearn.metrics import precision_score\n",
    "from sklearn.metrics import roc_auc_score\n",
    "from utils import *\n"
   ]
  },
  {
   "cell_type": "code",
   "execution_count": 2,
   "metadata": {},
   "outputs": [],
   "source": [
    "train_labels, dev_labels, test_labels = load_labels()"
   ]
  },
  {
   "cell_type": "code",
   "execution_count": 3,
   "metadata": {},
   "outputs": [],
   "source": [
    "label_replacement = {\n",
    "    'Hope_speech': 0,\n",
    "    'Non_hope_speech': 1,\n",
    "    'not-English': 2,\n",
    "}"
   ]
  },
  {
   "cell_type": "code",
   "execution_count": 4,
   "metadata": {},
   "outputs": [],
   "source": [
    "# Replace labels with numbers\n",
    "train_labels = [label_replacement[label] for label in train_labels]\n",
    "dev_labels = [label_replacement[label] for label in dev_labels]\n",
    "test_labels = [label_replacement[label] for label in test_labels]"
   ]
  },
  {
   "cell_type": "markdown",
   "metadata": {},
   "source": [
    "### Glove Twitter 25"
   ]
  },
  {
   "cell_type": "code",
   "execution_count": 5,
   "metadata": {},
   "outputs": [],
   "source": [
    "gt25_train, gt25_dev, gt25_test = load_glove_twitter_25()"
   ]
  },
  {
   "cell_type": "code",
   "execution_count": 6,
   "metadata": {},
   "outputs": [],
   "source": [
    "# Set all NaN values to 0\n",
    "gt25_train = np.nan_to_num(gt25_train)\n",
    "gt25_dev = np.nan_to_num(gt25_dev)\n",
    "gt25_test = np.nan_to_num(gt25_test)"
   ]
  },
  {
   "cell_type": "code",
   "execution_count": 7,
   "metadata": {},
   "outputs": [],
   "source": [
    "linear_discriminant_analysis = LinearDiscriminantAnalysis().fit(gt25_train, train_labels)\n",
    "save_model(linear_discriminant_analysis, \"linear_discriminant_analysis_gt25.joblib\")"
   ]
  },
  {
   "cell_type": "code",
   "execution_count": 8,
   "metadata": {},
   "outputs": [],
   "source": [
    "train_preds = linear_discriminant_analysis.predict(gt25_train)\n",
    "dev_preds = linear_discriminant_analysis.predict(gt25_dev)\n",
    "test_preds = linear_discriminant_analysis.predict(gt25_test)"
   ]
  },
  {
   "cell_type": "code",
   "execution_count": 9,
   "metadata": {},
   "outputs": [
    {
     "name": "stdout",
     "output_type": "stream",
     "text": [
      "Accuracy Train:  0.9079167032773922\n",
      "Accuracy Dev:  0.898698557861414\n",
      "Accuracy Test:  0.9082923401264933\n",
      "Weighted F1 Train:  0.874038857270971\n",
      "Weighted F1 Dev:  0.8624845462727491\n",
      "Weighted F1 Test:  0.8720091183359844\n",
      "Macro F1 Train:  0.36459038619550105\n",
      "Macro F1 Dev:  0.340309658495705\n",
      "Macro F1 Test:  0.38622567029769245\n",
      "Micro F1 Train:  0.9079167032773922\n",
      "Micro F1 Dev:  0.898698557861414\n",
      "Micro F1 Test:  0.9082923401264933\n",
      "Weighted Recall Train:  0.9079167032773922\n",
      "Weighted Recall Dev:  0.898698557861414\n",
      "Weighted Recall Test:  0.9082923401264933\n",
      "Macro Recall Train:  0.41721430746696536\n",
      "Macro Recall Dev:  0.3435699211564735\n",
      "Macro Recall Test:  0.4517209581351502\n",
      "Micro Recall Train:  0.9079167032773922\n",
      "Micro Recall Dev:  0.898698557861414\n",
      "Micro Recall Test:  0.9082923401264933\n",
      "Confusion Matrix Train: \n",
      "[[   65  1896     1]\n",
      " [   86 20596    96]\n",
      " [    0    17     5]]\n",
      "Confusion Matrix Dev: \n",
      "[[  11  260    1]\n",
      " [  13 2544   12]\n",
      " [   0    2    0]]\n",
      "Confusion Matrix Test: \n",
      "[[   7  243    0]\n",
      " [   7 2577    9]\n",
      " [   0    2    1]]\n"
     ]
    }
   ],
   "source": [
    "computeAllScores(train_preds, dev_preds, test_preds)"
   ]
  },
  {
   "cell_type": "markdown",
   "metadata": {},
   "source": [
    "### FastText 300 "
   ]
  },
  {
   "cell_type": "code",
   "execution_count": 10,
   "metadata": {},
   "outputs": [],
   "source": [
    "ft300_train, ft300_dev, ft300_test = load_fasttext_300()"
   ]
  },
  {
   "cell_type": "code",
   "execution_count": 11,
   "metadata": {},
   "outputs": [],
   "source": [
    "# Set all NaN values to 0\n",
    "ft300_train = np.nan_to_num(ft300_train)\n",
    "ft300_dev = np.nan_to_num(ft300_dev)\n",
    "ft300_test = np.nan_to_num(ft300_test)"
   ]
  },
  {
   "cell_type": "code",
   "execution_count": 12,
   "metadata": {},
   "outputs": [],
   "source": [
    "linear_discriminant_analysis = LinearDiscriminantAnalysis().fit(ft300_train, train_labels)\n",
    "save_model(linear_discriminant_analysis, \"linear_discriminant_analysis_ft300.joblib\")"
   ]
  },
  {
   "cell_type": "code",
   "execution_count": 13,
   "metadata": {},
   "outputs": [],
   "source": [
    "train_preds = linear_discriminant_analysis.predict(ft300_train)\n",
    "dev_preds = linear_discriminant_analysis.predict(ft300_dev)\n",
    "test_preds = linear_discriminant_analysis.predict(ft300_test)"
   ]
  },
  {
   "cell_type": "code",
   "execution_count": 14,
   "metadata": {},
   "outputs": [
    {
     "name": "stdout",
     "output_type": "stream",
     "text": [
      "Accuracy Train:  0.9126614532993585\n",
      "Accuracy Dev:  0.9071403447062961\n",
      "Accuracy Test:  0.910049191848208\n",
      "Weighted F1 Train:  0.8934781948762186\n",
      "Weighted F1 Dev:  0.8887626728422264\n",
      "Weighted F1 Test:  0.8887201943577504\n",
      "Macro F1 Train:  0.5010472645030078\n",
      "Macro F1 Dev:  0.42172269960030934\n",
      "Macro F1 Test:  0.5623809652351002\n",
      "Micro F1 Train:  0.9126614532993585\n",
      "Micro F1 Dev:  0.9071403447062961\n",
      "Micro F1 Test:  0.910049191848208\n",
      "Weighted Recall Train:  0.9126614532993585\n",
      "Weighted Recall Dev:  0.9071403447062961\n",
      "Weighted Recall Test:  0.910049191848208\n",
      "Macro Recall Train:  0.4930656903412138\n",
      "Macro Recall Dev:  0.400375136430594\n",
      "Macro Recall Test:  0.49091674165488275\n",
      "Micro Recall Train:  0.9126614532993585\n",
      "Micro Recall Dev:  0.9071403447062961\n",
      "Micro Recall Test:  0.910049191848208\n",
      "Confusion Matrix Train: \n",
      "[[  350  1612     0]\n",
      " [  341 20417    20]\n",
      " [    0    15     7]]\n",
      "Confusion Matrix Dev: \n",
      "[[  60  212    0]\n",
      " [  49 2519    1]\n",
      " [   0    2    0]]\n",
      "Confusion Matrix Test: \n",
      "[[  39  211    0]\n",
      " [  43 2550    0]\n",
      " [   0    2    1]]\n"
     ]
    }
   ],
   "source": [
    "computeAllScores(train_preds, dev_preds, test_preds)"
   ]
  },
  {
   "cell_type": "markdown",
   "metadata": {},
   "source": [
    "### Word2Vec 300"
   ]
  },
  {
   "cell_type": "code",
   "execution_count": 15,
   "metadata": {},
   "outputs": [],
   "source": [
    "w2v300_train, w2v300_dev, w2v300_test = load_word2vec_300()"
   ]
  },
  {
   "cell_type": "code",
   "execution_count": 16,
   "metadata": {},
   "outputs": [],
   "source": [
    "# Set all NaN values to 0\n",
    "w2v300_train = np.nan_to_num(w2v300_train)\n",
    "w2v300_dev = np.nan_to_num(w2v300_dev)\n",
    "w2v300_test = np.nan_to_num(w2v300_test)"
   ]
  },
  {
   "cell_type": "code",
   "execution_count": 17,
   "metadata": {},
   "outputs": [],
   "source": [
    "linear_discriminant_analysis = LinearDiscriminantAnalysis().fit(w2v300_train, train_labels)\n",
    "save_model(linear_discriminant_analysis, \"linear_discriminant_analysis_w2v300.joblib\")"
   ]
  },
  {
   "cell_type": "code",
   "execution_count": 18,
   "metadata": {},
   "outputs": [],
   "source": [
    "train_preds = linear_discriminant_analysis.predict(w2v300_train)\n",
    "dev_preds = linear_discriminant_analysis.predict(w2v300_dev)\n",
    "test_preds = linear_discriminant_analysis.predict(w2v300_test)"
   ]
  },
  {
   "cell_type": "code",
   "execution_count": 19,
   "metadata": {},
   "outputs": [
    {
     "name": "stdout",
     "output_type": "stream",
     "text": [
      "Accuracy Train:  0.9127932519110799\n",
      "Accuracy Dev:  0.9110094970102005\n",
      "Accuracy Test:  0.9065354884047786\n",
      "Weighted F1 Train:  0.8948068945756313\n",
      "Weighted F1 Dev:  0.8934695262440009\n",
      "Weighted F1 Test:  0.887026339373011\n",
      "Macro F1 Train:  0.5317567127629402\n",
      "Macro F1 Dev:  0.4323068918635153\n",
      "Macro F1 Test:  0.5073037805813615\n",
      "Micro F1 Train:  0.9127932519110799\n",
      "Micro F1 Dev:  0.9110094970102005\n",
      "Micro F1 Test:  0.9065354884047786\n",
      "Weighted Recall Train:  0.9127932519110799\n",
      "Weighted Recall Dev:  0.9110094970102005\n",
      "Weighted Recall Test:  0.9065354884047786\n",
      "Macro Recall Train:  0.5124032962267827\n",
      "Macro Recall Dev:  0.4083768384738091\n",
      "Macro Recall Test:  0.49204079358957875\n",
      "Micro Recall Train:  0.9127932519110799\n",
      "Micro Recall Dev:  0.9110094970102005\n",
      "Micro Recall Test:  0.9065354884047786\n",
      "Confusion Matrix Train: \n",
      "[[  377  1584     1]\n",
      " [  373 20392    13]\n",
      " [    0    14     8]]\n",
      "Confusion Matrix Dev: \n",
      "[[  66  206    0]\n",
      " [  45 2524    0]\n",
      " [   0    2    0]]\n",
      "Confusion Matrix Test: \n",
      "[[  41  209    0]\n",
      " [  53 2538    2]\n",
      " [   0    2    1]]\n"
     ]
    }
   ],
   "source": [
    "computeAllScores(train_preds, dev_preds, test_preds)"
   ]
  },
  {
   "cell_type": "markdown",
   "metadata": {},
   "source": [
    "### TF-IDF PCA (1000 Dims)"
   ]
  },
  {
   "cell_type": "code",
   "execution_count": 20,
   "metadata": {},
   "outputs": [],
   "source": [
    "tfidf_pca_train, tfidf_pca_dev, tfidf_pca_test = load_tfidf_pca()"
   ]
  },
  {
   "cell_type": "code",
   "execution_count": 21,
   "metadata": {},
   "outputs": [],
   "source": [
    "linear_discriminant_analysis = LinearDiscriminantAnalysis().fit(tfidf_pca_train, train_labels)\n",
    "save_model(linear_discriminant_analysis, \"linear_discriminant_analysis_tfidf_pca.joblib\")"
   ]
  },
  {
   "cell_type": "code",
   "execution_count": 22,
   "metadata": {},
   "outputs": [],
   "source": [
    "train_preds = linear_discriminant_analysis.predict(tfidf_pca_train)\n",
    "dev_preds = linear_discriminant_analysis.predict(tfidf_pca_dev)\n",
    "test_preds = linear_discriminant_analysis.predict(tfidf_pca_test)"
   ]
  },
  {
   "cell_type": "code",
   "execution_count": 23,
   "metadata": {},
   "outputs": [
    {
     "name": "stdout",
     "output_type": "stream",
     "text": [
      "Accuracy Train:  0.9249626570600123\n",
      "Accuracy Dev:  0.9096025325360535\n",
      "Accuracy Test:  0.9093464511595222\n",
      "Weighted F1 Train:  0.9240693947324502\n",
      "Weighted F1 Dev:  0.9091847121944527\n",
      "Weighted F1 Test:  0.909648731477934\n",
      "Macro F1 Train:  0.5522586948263765\n",
      "Macro F1 Dev:  0.49147230896878646\n",
      "Macro F1 Test:  0.4827525893804463\n",
      "Micro F1 Train:  0.9249626570600123\n",
      "Micro F1 Dev:  0.9096025325360535\n",
      "Micro F1 Test:  0.9093464511595223\n",
      "Weighted Recall Train:  0.9249626570600123\n",
      "Weighted Recall Dev:  0.9096025325360535\n",
      "Weighted Recall Test:  0.9093464511595222\n",
      "Macro Recall Train:  0.6862203638663568\n",
      "Macro Recall Dev:  0.4746978491669147\n",
      "Macro Recall Test:  0.47244530145262886\n",
      "Micro Recall Train:  0.9249626570600123\n",
      "Micro Recall Dev:  0.9096025325360535\n",
      "Micro Recall Test:  0.9093464511595222\n",
      "Confusion Matrix Train: \n",
      "[[  986   967     9]\n",
      " [  579 20055   144]\n",
      " [    0     9    13]]\n",
      "Confusion Matrix Dev: \n",
      "[[ 127  143    2]\n",
      " [  86 2459   24]\n",
      " [   0    2    0]]\n",
      "Confusion Matrix Test: \n",
      "[[ 116  134    0]\n",
      " [ 100 2472   21]\n",
      " [   0    3    0]]\n"
     ]
    }
   ],
   "source": [
    "computeAllScores(train_preds, dev_preds, test_preds)"
   ]
  },
  {
   "cell_type": "markdown",
   "metadata": {},
   "source": [
    "### Sentence Transformer Faster No PCA"
   ]
  },
  {
   "cell_type": "code",
   "execution_count": 28,
   "metadata": {},
   "outputs": [],
   "source": [
    "train, dev, test = load_sent_trans_fast_no_pca()"
   ]
  },
  {
   "cell_type": "code",
   "execution_count": 29,
   "metadata": {},
   "outputs": [],
   "source": [
    "linear_discriminant_analysis = LinearDiscriminantAnalysis().fit(train, train_labels)\n",
    "save_model(linear_discriminant_analysis, \"linear_discriminant_analysis_sent_trans_fast_no_pca.joblib\")"
   ]
  },
  {
   "cell_type": "code",
   "execution_count": 30,
   "metadata": {},
   "outputs": [],
   "source": [
    "train_preds = linear_discriminant_analysis.predict(train)\n",
    "dev_preds = linear_discriminant_analysis.predict(dev)\n",
    "test_preds = linear_discriminant_analysis.predict(test)"
   ]
  },
  {
   "cell_type": "code",
   "execution_count": 31,
   "metadata": {},
   "outputs": [
    {
     "name": "stdout",
     "output_type": "stream",
     "text": [
      "Accuracy Train:  0.9253141200246024\n",
      "Accuracy Dev:  0.9176925782623989\n",
      "Accuracy Test:  0.9188334504567814\n",
      "Weighted F1 Train:  0.9209556515080913\n",
      "Weighted F1 Dev:  0.9119872252172647\n",
      "Weighted F1 Test:  0.914249702678899\n",
      "Macro F1 Train:  0.6522347837376588\n",
      "Macro F1 Dev:  0.48890475977919623\n",
      "Macro F1 Test:  0.5652457244580075\n",
      "Micro F1 Train:  0.9253141200246023\n",
      "Micro F1 Dev:  0.9176925782623989\n",
      "Micro F1 Test:  0.9188334504567814\n",
      "Weighted Recall Train:  0.9253141200246024\n",
      "Weighted Recall Dev:  0.9176925782623989\n",
      "Weighted Recall Test:  0.9188334504567814\n",
      "Macro Recall Train:  0.6575203992011289\n",
      "Macro Recall Dev:  0.4711077210175623\n",
      "Macro Recall Test:  0.5772604876376569\n",
      "Micro Recall Train:  0.9253141200246024\n",
      "Micro Recall Dev:  0.9176925782623989\n",
      "Micro Recall Test:  0.9188334504567814\n",
      "Confusion Matrix Train: \n",
      "[[  897  1064     1]\n",
      " [  610 20153    15]\n",
      " [    0    10    12]]\n",
      "Confusion Matrix Dev: \n",
      "[[ 121  151    0]\n",
      " [  80 2488    1]\n",
      " [   0    2    0]]\n",
      "Confusion Matrix Test: \n",
      "[[ 108  142    0]\n",
      " [  83 2506    4]\n",
      " [   0    2    1]]\n"
     ]
    }
   ],
   "source": [
    "computeAllScores(train_preds, dev_preds, test_preds)"
   ]
  },
  {
   "cell_type": "markdown",
   "metadata": {},
   "source": [
    "### Sentence Transformer Faster PCA"
   ]
  },
  {
   "cell_type": "code",
   "execution_count": 32,
   "metadata": {},
   "outputs": [],
   "source": [
    "train, dev, test = load_sent_trans_fast_pca()"
   ]
  },
  {
   "cell_type": "code",
   "execution_count": 33,
   "metadata": {},
   "outputs": [],
   "source": [
    "linear_discriminant_analysis = LinearDiscriminantAnalysis().fit(train, train_labels)\n",
    "save_model(linear_discriminant_analysis, \"linear_discriminant_analysis_sent_trans_fast_pca.joblib\")"
   ]
  },
  {
   "cell_type": "code",
   "execution_count": 34,
   "metadata": {},
   "outputs": [],
   "source": [
    "train_preds = linear_discriminant_analysis.predict(train)\n",
    "dev_preds = linear_discriminant_analysis.predict(dev)\n",
    "test_preds = linear_discriminant_analysis.predict(test)"
   ]
  },
  {
   "cell_type": "code",
   "execution_count": 35,
   "metadata": {},
   "outputs": [
    {
     "name": "stdout",
     "output_type": "stream",
     "text": [
      "Accuracy Train:  0.9229417450136191\n",
      "Accuracy Dev:  0.9138234259584945\n",
      "Accuracy Test:  0.9188334504567814\n",
      "Weighted F1 Train:  0.917783884830192\n",
      "Weighted F1 Dev:  0.9078645778215626\n",
      "Weighted F1 Test:  0.9134276856764797\n",
      "Macro F1 Train:  0.597693481551787\n",
      "Macro F1 Dev:  0.480408269394049\n",
      "Macro F1 Test:  0.4796357783302687\n",
      "Micro F1 Train:  0.9229417450136191\n",
      "Micro F1 Dev:  0.9138234259584945\n",
      "Micro F1 Test:  0.9188334504567814\n",
      "Weighted Recall Train:  0.9229417450136191\n",
      "Weighted Recall Dev:  0.9138234259584945\n",
      "Weighted Recall Test:  0.9188334504567814\n",
      "Macro Recall Train:  0.6029396696474878\n",
      "Macro Recall Dev:  0.4620102809516177\n",
      "Macro Recall Test:  0.4638683635428718\n",
      "Micro Recall Train:  0.9229417450136191\n",
      "Micro Recall Dev:  0.9138234259584945\n",
      "Micro Recall Test:  0.9188334504567814\n",
      "Confusion Matrix Train: \n",
      "[[  843  1119     0]\n",
      " [  600 20156    22]\n",
      " [    0    13     9]]\n",
      "Confusion Matrix Dev: \n",
      "[[ 114  158    0]\n",
      " [  81 2484    4]\n",
      " [   0    2    0]]\n",
      "Confusion Matrix Test: \n",
      "[[ 106  144    0]\n",
      " [  83 2509    1]\n",
      " [   0    3    0]]\n"
     ]
    }
   ],
   "source": [
    "computeAllScores(train_preds, dev_preds, test_preds)"
   ]
  },
  {
   "cell_type": "markdown",
   "metadata": {},
   "source": [
    "### Sentence Transformer Better No PCA"
   ]
  },
  {
   "cell_type": "code",
   "execution_count": 45,
   "metadata": {},
   "outputs": [],
   "source": [
    "train, dev, test = load_sent_trans_better_no_pca()"
   ]
  },
  {
   "cell_type": "code",
   "execution_count": 46,
   "metadata": {},
   "outputs": [],
   "source": [
    "linear_discriminant_analysis = LinearDiscriminantAnalysis().fit(train, train_labels)\n",
    "save_model(linear_discriminant_analysis, \"linear_discriminant_analysis_sent_trans_better_no_pca.joblib\")"
   ]
  },
  {
   "cell_type": "code",
   "execution_count": 47,
   "metadata": {},
   "outputs": [],
   "source": [
    "train_preds = linear_discriminant_analysis.predict(train)\n",
    "dev_preds = linear_discriminant_analysis.predict(dev)\n",
    "test_preds = linear_discriminant_analysis.predict(test)"
   ]
  },
  {
   "cell_type": "code",
   "execution_count": 48,
   "metadata": {},
   "outputs": [
    {
     "name": "stdout",
     "output_type": "stream",
     "text": [
      "Accuracy Train:  0.9329584395044372\n",
      "Accuracy Dev:  0.9257826239887443\n",
      "Accuracy Test:  0.9314827828531272\n",
      "Weighted F1 Train:  0.9309155504439608\n",
      "Weighted F1 Dev:  0.9224525039048963\n",
      "Weighted F1 Test:  0.9278586560798175\n",
      "Macro F1 Train:  0.734891346582057\n",
      "Macro F1 Dev:  0.5134893380460697\n",
      "Macro F1 Test:  0.5132810757818648\n",
      "Micro F1 Train:  0.9329584395044372\n",
      "Micro F1 Dev:  0.9257826239887443\n",
      "Micro F1 Test:  0.9314827828531272\n",
      "Weighted Recall Train:  0.9329584395044372\n",
      "Weighted Recall Dev:  0.9257826239887443\n",
      "Weighted Recall Test:  0.9314827828531272\n",
      "Macro Recall Train:  0.7341808612091841\n",
      "Macro Recall Dev:  0.5003897335500959\n",
      "Macro Recall Test:  0.49861576038051164\n",
      "Micro Recall Train:  0.9329584395044372\n",
      "Micro Recall Dev:  0.9257826239887443\n",
      "Micro Recall Test:  0.9314827828531272\n",
      "Confusion Matrix Train: \n",
      "[[ 1082   880     0]\n",
      " [  630 20139     9]\n",
      " [    0     7    15]]\n",
      "Confusion Matrix Dev: \n",
      "[[ 145  127    0]\n",
      " [  82 2487    0]\n",
      " [   0    2    0]]\n",
      "Confusion Matrix Test: \n",
      "[[ 131  119    0]\n",
      " [  73 2520    0]\n",
      " [   0    3    0]]\n"
     ]
    }
   ],
   "source": [
    "computeAllScores(train_preds, dev_preds, test_preds)"
   ]
  },
  {
   "cell_type": "markdown",
   "metadata": {},
   "source": [
    "### Sentence Transformer Better PCA"
   ]
  },
  {
   "cell_type": "code",
   "execution_count": 49,
   "metadata": {},
   "outputs": [],
   "source": [
    "train, dev, test = load_sent_trans_better_pca()"
   ]
  },
  {
   "cell_type": "code",
   "execution_count": 50,
   "metadata": {},
   "outputs": [],
   "source": [
    "linear_discriminant_analysis = LinearDiscriminantAnalysis().fit(train, train_labels)\n",
    "save_model(linear_discriminant_analysis, \"linear_discriminant_analysis_sent_trans_better_pca.joblib\")"
   ]
  },
  {
   "cell_type": "code",
   "execution_count": 51,
   "metadata": {},
   "outputs": [],
   "source": [
    "train_preds = linear_discriminant_analysis.predict(train)\n",
    "dev_preds = linear_discriminant_analysis.predict(dev)\n",
    "test_preds = linear_discriminant_analysis.predict(test)"
   ]
  },
  {
   "cell_type": "code",
   "execution_count": 52,
   "metadata": {},
   "outputs": [
    {
     "name": "stdout",
     "output_type": "stream",
     "text": [
      "Accuracy Train:  0.9285212195764871\n",
      "Accuracy Dev:  0.9205065072106929\n",
      "Accuracy Test:  0.9272663387210119\n",
      "Weighted F1 Train:  0.9259481858495237\n",
      "Weighted F1 Dev:  0.9160776981610912\n",
      "Weighted F1 Test:  0.9239791816921512\n",
      "Macro F1 Train:  0.6345459293052274\n",
      "Macro F1 Dev:  0.49916287013549726\n",
      "Macro F1 Test:  0.5058152534206223\n",
      "Micro F1 Train:  0.9285212195764871\n",
      "Micro F1 Dev:  0.9205065072106929\n",
      "Micro F1 Test:  0.9272663387210119\n",
      "Weighted Recall Train:  0.9285212195764871\n",
      "Weighted Recall Dev:  0.9205065072106929\n",
      "Weighted Recall Test:  0.9272663387210119\n",
      "Macro Recall Train:  0.6314396346677315\n",
      "Macro Recall Dev:  0.4841988566543784\n",
      "Macro Recall Test:  0.49225401722586454\n",
      "Micro Recall Train:  0.9285212195764871\n",
      "Micro Recall Dev:  0.9205065072106929\n",
      "Micro Recall Test:  0.9272663387210119\n",
      "Confusion Matrix Train: \n",
      "[[ 1015   947     0]\n",
      " [  651 20111    16]\n",
      " [    0    13     9]]\n",
      "Confusion Matrix Dev: \n",
      "[[ 132  140    0]\n",
      " [  84 2485    0]\n",
      " [   0    2    0]]\n",
      "Confusion Matrix Test: \n",
      "[[ 127  123    0]\n",
      " [  79 2512    2]\n",
      " [   0    3    0]]\n"
     ]
    }
   ],
   "source": [
    "computeAllScores(train_preds, dev_preds, test_preds)"
   ]
  },
  {
   "cell_type": "markdown",
   "metadata": {},
   "source": [
    "## More Analysis"
   ]
  },
  {
   "cell_type": "code",
   "execution_count": 14,
   "metadata": {},
   "outputs": [],
   "source": [
    "from sklearn.model_selection import GridSearchCV"
   ]
  },
  {
   "cell_type": "code",
   "execution_count": 15,
   "metadata": {},
   "outputs": [],
   "source": [
    "train, dev, test = load_sent_trans_better_no_pca()"
   ]
  },
  {
   "cell_type": "code",
   "execution_count": 16,
   "metadata": {},
   "outputs": [],
   "source": [
    "linear_discriminant_analysis = LinearDiscriminantAnalysis()\n",
    "gridsearch = GridSearchCV(linear_discriminant_analysis, param_grid = {\n",
    "    \"solver\": [\"svd\", \"lsqr\", \"eigen\"],\n",
    "    \"shrinkage\": [\"auto\", None, 0.1, 0.2, 0.3, 0.4, 0.5, 0.6, 0.7, 0.8, 0.9],\n",
    "    \"priors\": [None, [0.33, 0.33, 0.34]]\n",
    "}, scoring = \"f1_weighted\", verbose = 4)"
   ]
  },
  {
   "cell_type": "code",
   "execution_count": 17,
   "metadata": {},
   "outputs": [
    {
     "name": "stdout",
     "output_type": "stream",
     "text": [
      "Fitting 5 folds for each of 66 candidates, totalling 330 fits\n",
      "[CV 1/5] END priors=None, shrinkage=auto, solver=svd;, score=nan total time=   0.0s\n",
      "[CV 2/5] END priors=None, shrinkage=auto, solver=svd;, score=nan total time=   0.0s\n",
      "[CV 3/5] END priors=None, shrinkage=auto, solver=svd;, score=nan total time=   0.0s\n",
      "[CV 4/5] END priors=None, shrinkage=auto, solver=svd;, score=nan total time=   0.0s\n",
      "[CV 5/5] END priors=None, shrinkage=auto, solver=svd;, score=nan total time=   0.0s\n",
      "[CV 1/5] END priors=None, shrinkage=auto, solver=lsqr;, score=0.923 total time=   2.2s\n",
      "[CV 2/5] END priors=None, shrinkage=auto, solver=lsqr;, score=0.921 total time=   2.2s\n",
      "[CV 3/5] END priors=None, shrinkage=auto, solver=lsqr;, score=0.925 total time=   2.2s\n",
      "[CV 4/5] END priors=None, shrinkage=auto, solver=lsqr;, score=0.926 total time=   2.2s\n",
      "[CV 5/5] END priors=None, shrinkage=auto, solver=lsqr;, score=0.923 total time=   2.1s\n",
      "[CV 1/5] END priors=None, shrinkage=auto, solver=eigen;, score=0.923 total time=   2.6s\n",
      "[CV 2/5] END priors=None, shrinkage=auto, solver=eigen;, score=0.921 total time=   2.6s\n",
      "[CV 3/5] END priors=None, shrinkage=auto, solver=eigen;, score=0.925 total time=   2.6s\n",
      "[CV 4/5] END priors=None, shrinkage=auto, solver=eigen;, score=0.925 total time=   2.5s\n",
      "[CV 5/5] END priors=None, shrinkage=auto, solver=eigen;, score=0.922 total time=   2.6s\n",
      "[CV 1/5] END priors=None, shrinkage=None, solver=svd;, score=0.921 total time=   4.1s\n",
      "[CV 2/5] END priors=None, shrinkage=None, solver=svd;, score=0.921 total time=   5.1s\n",
      "[CV 3/5] END priors=None, shrinkage=None, solver=svd;, score=0.925 total time=   4.2s\n",
      "[CV 4/5] END priors=None, shrinkage=None, solver=svd;, score=0.926 total time=   4.0s\n",
      "[CV 5/5] END priors=None, shrinkage=None, solver=svd;, score=0.924 total time=   3.7s\n",
      "[CV 1/5] END priors=None, shrinkage=None, solver=lsqr;, score=0.923 total time=   1.8s\n",
      "[CV 2/5] END priors=None, shrinkage=None, solver=lsqr;, score=0.920 total time=   1.8s\n",
      "[CV 3/5] END priors=None, shrinkage=None, solver=lsqr;, score=0.926 total time=   1.8s\n",
      "[CV 4/5] END priors=None, shrinkage=None, solver=lsqr;, score=0.925 total time=   1.9s\n",
      "[CV 5/5] END priors=None, shrinkage=None, solver=lsqr;, score=0.924 total time=   1.8s\n",
      "[CV 1/5] END priors=None, shrinkage=None, solver=eigen;, score=0.921 total time=   1.8s\n",
      "[CV 2/5] END priors=None, shrinkage=None, solver=eigen;, score=0.921 total time=   1.7s\n",
      "[CV 3/5] END priors=None, shrinkage=None, solver=eigen;, score=0.925 total time=   1.8s\n",
      "[CV 4/5] END priors=None, shrinkage=None, solver=eigen;, score=0.926 total time=   1.7s\n",
      "[CV 5/5] END priors=None, shrinkage=None, solver=eigen;, score=0.924 total time=   1.8s\n",
      "[CV 1/5] END priors=None, shrinkage=0.1, solver=svd;, score=nan total time=   0.0s\n",
      "[CV 2/5] END priors=None, shrinkage=0.1, solver=svd;, score=nan total time=   0.0s\n",
      "[CV 3/5] END priors=None, shrinkage=0.1, solver=svd;, score=nan total time=   0.0s\n",
      "[CV 4/5] END priors=None, shrinkage=0.1, solver=svd;, score=nan total time=   0.0s\n",
      "[CV 5/5] END priors=None, shrinkage=0.1, solver=svd;, score=nan total time=   0.0s\n",
      "[CV 1/5] END priors=None, shrinkage=0.1, solver=lsqr;, score=0.923 total time=   1.9s\n",
      "[CV 2/5] END priors=None, shrinkage=0.1, solver=lsqr;, score=0.919 total time=   1.9s\n",
      "[CV 3/5] END priors=None, shrinkage=0.1, solver=lsqr;, score=0.924 total time=   1.9s\n",
      "[CV 4/5] END priors=None, shrinkage=0.1, solver=lsqr;, score=0.927 total time=   1.8s\n",
      "[CV 5/5] END priors=None, shrinkage=0.1, solver=lsqr;, score=0.920 total time=   1.9s\n",
      "[CV 1/5] END priors=None, shrinkage=0.1, solver=eigen;, score=0.923 total time=   1.7s\n",
      "[CV 2/5] END priors=None, shrinkage=0.1, solver=eigen;, score=0.919 total time=   1.7s\n",
      "[CV 3/5] END priors=None, shrinkage=0.1, solver=eigen;, score=0.924 total time=   1.8s\n",
      "[CV 4/5] END priors=None, shrinkage=0.1, solver=eigen;, score=0.927 total time=   1.8s\n",
      "[CV 5/5] END priors=None, shrinkage=0.1, solver=eigen;, score=0.920 total time=   1.8s\n",
      "[CV 1/5] END priors=None, shrinkage=0.2, solver=svd;, score=nan total time=   0.0s\n",
      "[CV 2/5] END priors=None, shrinkage=0.2, solver=svd;, score=nan total time=   0.0s\n",
      "[CV 3/5] END priors=None, shrinkage=0.2, solver=svd;, score=nan total time=   0.0s\n",
      "[CV 4/5] END priors=None, shrinkage=0.2, solver=svd;, score=nan total time=   0.0s\n",
      "[CV 5/5] END priors=None, shrinkage=0.2, solver=svd;, score=nan total time=   0.0s\n",
      "[CV 1/5] END priors=None, shrinkage=0.2, solver=lsqr;, score=0.920 total time=   1.8s\n",
      "[CV 2/5] END priors=None, shrinkage=0.2, solver=lsqr;, score=0.918 total time=   1.8s\n",
      "[CV 3/5] END priors=None, shrinkage=0.2, solver=lsqr;, score=0.924 total time=   1.8s\n",
      "[CV 4/5] END priors=None, shrinkage=0.2, solver=lsqr;, score=0.927 total time=   1.8s\n",
      "[CV 5/5] END priors=None, shrinkage=0.2, solver=lsqr;, score=0.919 total time=   1.8s\n",
      "[CV 1/5] END priors=None, shrinkage=0.2, solver=eigen;, score=0.920 total time=   1.7s\n",
      "[CV 2/5] END priors=None, shrinkage=0.2, solver=eigen;, score=0.918 total time=   1.7s\n",
      "[CV 3/5] END priors=None, shrinkage=0.2, solver=eigen;, score=0.924 total time=   1.8s\n",
      "[CV 4/5] END priors=None, shrinkage=0.2, solver=eigen;, score=0.927 total time=   1.8s\n",
      "[CV 5/5] END priors=None, shrinkage=0.2, solver=eigen;, score=0.919 total time=   1.8s\n",
      "[CV 1/5] END priors=None, shrinkage=0.3, solver=svd;, score=nan total time=   0.0s\n",
      "[CV 2/5] END priors=None, shrinkage=0.3, solver=svd;, score=nan total time=   0.0s\n",
      "[CV 3/5] END priors=None, shrinkage=0.3, solver=svd;, score=nan total time=   0.0s\n",
      "[CV 4/5] END priors=None, shrinkage=0.3, solver=svd;, score=nan total time=   0.0s\n",
      "[CV 5/5] END priors=None, shrinkage=0.3, solver=svd;, score=nan total time=   0.0s\n",
      "[CV 1/5] END priors=None, shrinkage=0.3, solver=lsqr;, score=0.922 total time=   1.8s\n",
      "[CV 2/5] END priors=None, shrinkage=0.3, solver=lsqr;, score=0.918 total time=   1.9s\n",
      "[CV 3/5] END priors=None, shrinkage=0.3, solver=lsqr;, score=0.923 total time=   1.8s\n",
      "[CV 4/5] END priors=None, shrinkage=0.3, solver=lsqr;, score=0.925 total time=   1.8s\n",
      "[CV 5/5] END priors=None, shrinkage=0.3, solver=lsqr;, score=0.918 total time=   1.8s\n",
      "[CV 1/5] END priors=None, shrinkage=0.3, solver=eigen;, score=0.922 total time=   1.9s\n",
      "[CV 2/5] END priors=None, shrinkage=0.3, solver=eigen;, score=0.918 total time=   1.9s\n",
      "[CV 3/5] END priors=None, shrinkage=0.3, solver=eigen;, score=0.923 total time=   1.9s\n",
      "[CV 4/5] END priors=None, shrinkage=0.3, solver=eigen;, score=0.925 total time=   2.1s\n",
      "[CV 5/5] END priors=None, shrinkage=0.3, solver=eigen;, score=0.918 total time=   2.2s\n",
      "[CV 1/5] END priors=None, shrinkage=0.4, solver=svd;, score=nan total time=   0.0s\n",
      "[CV 2/5] END priors=None, shrinkage=0.4, solver=svd;, score=nan total time=   0.0s\n",
      "[CV 3/5] END priors=None, shrinkage=0.4, solver=svd;, score=nan total time=   0.0s\n",
      "[CV 4/5] END priors=None, shrinkage=0.4, solver=svd;, score=nan total time=   0.0s\n",
      "[CV 5/5] END priors=None, shrinkage=0.4, solver=svd;, score=nan total time=   0.0s\n",
      "[CV 1/5] END priors=None, shrinkage=0.4, solver=lsqr;, score=0.918 total time=   1.9s\n",
      "[CV 2/5] END priors=None, shrinkage=0.4, solver=lsqr;, score=0.914 total time=   1.9s\n",
      "[CV 3/5] END priors=None, shrinkage=0.4, solver=lsqr;, score=0.922 total time=   1.9s\n",
      "[CV 4/5] END priors=None, shrinkage=0.4, solver=lsqr;, score=0.924 total time=   1.8s\n",
      "[CV 5/5] END priors=None, shrinkage=0.4, solver=lsqr;, score=0.917 total time=   1.8s\n",
      "[CV 1/5] END priors=None, shrinkage=0.4, solver=eigen;, score=0.918 total time=   1.8s\n",
      "[CV 2/5] END priors=None, shrinkage=0.4, solver=eigen;, score=0.914 total time=   1.9s\n",
      "[CV 3/5] END priors=None, shrinkage=0.4, solver=eigen;, score=0.922 total time=   1.8s\n",
      "[CV 4/5] END priors=None, shrinkage=0.4, solver=eigen;, score=0.924 total time=   1.7s\n",
      "[CV 5/5] END priors=None, shrinkage=0.4, solver=eigen;, score=0.917 total time=   1.8s\n",
      "[CV 1/5] END priors=None, shrinkage=0.5, solver=svd;, score=nan total time=   0.0s\n",
      "[CV 2/5] END priors=None, shrinkage=0.5, solver=svd;, score=nan total time=   0.0s\n",
      "[CV 3/5] END priors=None, shrinkage=0.5, solver=svd;, score=nan total time=   0.0s\n",
      "[CV 4/5] END priors=None, shrinkage=0.5, solver=svd;, score=nan total time=   0.0s\n",
      "[CV 5/5] END priors=None, shrinkage=0.5, solver=svd;, score=nan total time=   0.0s\n",
      "[CV 1/5] END priors=None, shrinkage=0.5, solver=lsqr;, score=0.915 total time=   1.8s\n",
      "[CV 2/5] END priors=None, shrinkage=0.5, solver=lsqr;, score=0.913 total time=   1.9s\n",
      "[CV 3/5] END priors=None, shrinkage=0.5, solver=lsqr;, score=0.917 total time=   1.8s\n",
      "[CV 4/5] END priors=None, shrinkage=0.5, solver=lsqr;, score=0.921 total time=   2.1s\n",
      "[CV 5/5] END priors=None, shrinkage=0.5, solver=lsqr;, score=0.914 total time=   1.9s\n",
      "[CV 1/5] END priors=None, shrinkage=0.5, solver=eigen;, score=0.915 total time=   1.7s\n",
      "[CV 2/5] END priors=None, shrinkage=0.5, solver=eigen;, score=0.913 total time=   1.7s\n",
      "[CV 3/5] END priors=None, shrinkage=0.5, solver=eigen;, score=0.917 total time=   1.7s\n",
      "[CV 4/5] END priors=None, shrinkage=0.5, solver=eigen;, score=0.921 total time=   1.8s\n",
      "[CV 5/5] END priors=None, shrinkage=0.5, solver=eigen;, score=0.914 total time=   1.7s\n",
      "[CV 1/5] END priors=None, shrinkage=0.6, solver=svd;, score=nan total time=   0.0s\n",
      "[CV 2/5] END priors=None, shrinkage=0.6, solver=svd;, score=nan total time=   0.0s\n",
      "[CV 3/5] END priors=None, shrinkage=0.6, solver=svd;, score=nan total time=   0.0s\n",
      "[CV 4/5] END priors=None, shrinkage=0.6, solver=svd;, score=nan total time=   0.0s\n",
      "[CV 5/5] END priors=None, shrinkage=0.6, solver=svd;, score=nan total time=   0.0s\n",
      "[CV 1/5] END priors=None, shrinkage=0.6, solver=lsqr;, score=0.909 total time=   1.8s\n",
      "[CV 2/5] END priors=None, shrinkage=0.6, solver=lsqr;, score=0.910 total time=   1.8s\n",
      "[CV 3/5] END priors=None, shrinkage=0.6, solver=lsqr;, score=0.914 total time=   1.8s\n",
      "[CV 4/5] END priors=None, shrinkage=0.6, solver=lsqr;, score=0.916 total time=   1.8s\n",
      "[CV 5/5] END priors=None, shrinkage=0.6, solver=lsqr;, score=0.909 total time=   1.8s\n",
      "[CV 1/5] END priors=None, shrinkage=0.6, solver=eigen;, score=0.909 total time=   1.8s\n",
      "[CV 2/5] END priors=None, shrinkage=0.6, solver=eigen;, score=0.910 total time=   1.8s\n",
      "[CV 3/5] END priors=None, shrinkage=0.6, solver=eigen;, score=0.914 total time=   1.7s\n",
      "[CV 4/5] END priors=None, shrinkage=0.6, solver=eigen;, score=0.916 total time=   1.7s\n",
      "[CV 5/5] END priors=None, shrinkage=0.6, solver=eigen;, score=0.909 total time=   1.7s\n",
      "[CV 1/5] END priors=None, shrinkage=0.7, solver=svd;, score=nan total time=   0.0s\n",
      "[CV 2/5] END priors=None, shrinkage=0.7, solver=svd;, score=nan total time=   0.0s\n",
      "[CV 3/5] END priors=None, shrinkage=0.7, solver=svd;, score=nan total time=   0.0s\n",
      "[CV 4/5] END priors=None, shrinkage=0.7, solver=svd;, score=nan total time=   0.0s\n",
      "[CV 5/5] END priors=None, shrinkage=0.7, solver=svd;, score=nan total time=   0.0s\n",
      "[CV 1/5] END priors=None, shrinkage=0.7, solver=lsqr;, score=0.903 total time=   1.8s\n",
      "[CV 2/5] END priors=None, shrinkage=0.7, solver=lsqr;, score=0.904 total time=   1.8s\n",
      "[CV 3/5] END priors=None, shrinkage=0.7, solver=lsqr;, score=0.907 total time=   1.8s\n",
      "[CV 4/5] END priors=None, shrinkage=0.7, solver=lsqr;, score=0.910 total time=   1.8s\n",
      "[CV 5/5] END priors=None, shrinkage=0.7, solver=lsqr;, score=0.902 total time=   1.8s\n",
      "[CV 1/5] END priors=None, shrinkage=0.7, solver=eigen;, score=0.903 total time=   1.7s\n",
      "[CV 2/5] END priors=None, shrinkage=0.7, solver=eigen;, score=0.904 total time=   1.7s\n",
      "[CV 3/5] END priors=None, shrinkage=0.7, solver=eigen;, score=0.907 total time=   1.7s\n",
      "[CV 4/5] END priors=None, shrinkage=0.7, solver=eigen;, score=0.910 total time=   1.8s\n",
      "[CV 5/5] END priors=None, shrinkage=0.7, solver=eigen;, score=0.902 total time=   1.9s\n",
      "[CV 1/5] END priors=None, shrinkage=0.8, solver=svd;, score=nan total time=   0.0s\n",
      "[CV 2/5] END priors=None, shrinkage=0.8, solver=svd;, score=nan total time=   0.0s\n",
      "[CV 3/5] END priors=None, shrinkage=0.8, solver=svd;, score=nan total time=   0.0s\n",
      "[CV 4/5] END priors=None, shrinkage=0.8, solver=svd;, score=nan total time=   0.0s\n",
      "[CV 5/5] END priors=None, shrinkage=0.8, solver=svd;, score=nan total time=   0.0s\n",
      "[CV 1/5] END priors=None, shrinkage=0.8, solver=lsqr;, score=0.889 total time=   1.8s\n",
      "[CV 2/5] END priors=None, shrinkage=0.8, solver=lsqr;, score=0.893 total time=   1.8s\n",
      "[CV 3/5] END priors=None, shrinkage=0.8, solver=lsqr;, score=0.898 total time=   1.8s\n",
      "[CV 4/5] END priors=None, shrinkage=0.8, solver=lsqr;, score=0.901 total time=   1.9s\n",
      "[CV 5/5] END priors=None, shrinkage=0.8, solver=lsqr;, score=0.892 total time=   1.9s\n",
      "[CV 1/5] END priors=None, shrinkage=0.8, solver=eigen;, score=0.889 total time=   1.9s\n",
      "[CV 2/5] END priors=None, shrinkage=0.8, solver=eigen;, score=0.893 total time=   2.0s\n",
      "[CV 3/5] END priors=None, shrinkage=0.8, solver=eigen;, score=0.898 total time=   1.9s\n",
      "[CV 4/5] END priors=None, shrinkage=0.8, solver=eigen;, score=0.901 total time=   1.8s\n",
      "[CV 5/5] END priors=None, shrinkage=0.8, solver=eigen;, score=0.892 total time=   1.8s\n",
      "[CV 1/5] END priors=None, shrinkage=0.9, solver=svd;, score=nan total time=   0.0s\n",
      "[CV 2/5] END priors=None, shrinkage=0.9, solver=svd;, score=nan total time=   0.0s\n",
      "[CV 3/5] END priors=None, shrinkage=0.9, solver=svd;, score=nan total time=   0.0s\n",
      "[CV 4/5] END priors=None, shrinkage=0.9, solver=svd;, score=nan total time=   0.0s\n",
      "[CV 5/5] END priors=None, shrinkage=0.9, solver=svd;, score=nan total time=   0.0s\n",
      "[CV 1/5] END priors=None, shrinkage=0.9, solver=lsqr;, score=0.872 total time=   2.0s\n",
      "[CV 2/5] END priors=None, shrinkage=0.9, solver=lsqr;, score=0.877 total time=   2.1s\n",
      "[CV 3/5] END priors=None, shrinkage=0.9, solver=lsqr;, score=0.883 total time=   1.9s\n",
      "[CV 4/5] END priors=None, shrinkage=0.9, solver=lsqr;, score=0.880 total time=   1.8s\n",
      "[CV 5/5] END priors=None, shrinkage=0.9, solver=lsqr;, score=0.881 total time=   1.8s\n",
      "[CV 1/5] END priors=None, shrinkage=0.9, solver=eigen;, score=0.872 total time=   1.7s\n",
      "[CV 2/5] END priors=None, shrinkage=0.9, solver=eigen;, score=0.877 total time=   1.7s\n",
      "[CV 3/5] END priors=None, shrinkage=0.9, solver=eigen;, score=0.883 total time=   1.7s\n",
      "[CV 4/5] END priors=None, shrinkage=0.9, solver=eigen;, score=0.880 total time=   1.7s\n",
      "[CV 5/5] END priors=None, shrinkage=0.9, solver=eigen;, score=0.881 total time=   1.8s\n",
      "[CV 1/5] END priors=[0.33, 0.33, 0.34], shrinkage=auto, solver=svd;, score=nan total time=   0.0s\n",
      "[CV 2/5] END priors=[0.33, 0.33, 0.34], shrinkage=auto, solver=svd;, score=nan total time=   0.0s\n",
      "[CV 3/5] END priors=[0.33, 0.33, 0.34], shrinkage=auto, solver=svd;, score=nan total time=   0.0s\n",
      "[CV 4/5] END priors=[0.33, 0.33, 0.34], shrinkage=auto, solver=svd;, score=nan total time=   0.0s\n",
      "[CV 5/5] END priors=[0.33, 0.33, 0.34], shrinkage=auto, solver=svd;, score=nan total time=   0.0s\n",
      "[CV 1/5] END priors=[0.33, 0.33, 0.34], shrinkage=auto, solver=lsqr;, score=0.864 total time=   2.3s\n",
      "[CV 2/5] END priors=[0.33, 0.33, 0.34], shrinkage=auto, solver=lsqr;, score=0.863 total time=   2.2s\n",
      "[CV 3/5] END priors=[0.33, 0.33, 0.34], shrinkage=auto, solver=lsqr;, score=0.866 total time=   2.2s\n",
      "[CV 4/5] END priors=[0.33, 0.33, 0.34], shrinkage=auto, solver=lsqr;, score=0.863 total time=   2.2s\n",
      "[CV 5/5] END priors=[0.33, 0.33, 0.34], shrinkage=auto, solver=lsqr;, score=0.861 total time=   2.2s\n",
      "[CV 1/5] END priors=[0.33, 0.33, 0.34], shrinkage=auto, solver=eigen;, score=0.864 total time=   2.5s\n",
      "[CV 2/5] END priors=[0.33, 0.33, 0.34], shrinkage=auto, solver=eigen;, score=0.862 total time=   2.7s\n",
      "[CV 3/5] END priors=[0.33, 0.33, 0.34], shrinkage=auto, solver=eigen;, score=0.866 total time=   2.7s\n",
      "[CV 4/5] END priors=[0.33, 0.33, 0.34], shrinkage=auto, solver=eigen;, score=0.864 total time=   2.9s\n",
      "[CV 5/5] END priors=[0.33, 0.33, 0.34], shrinkage=auto, solver=eigen;, score=0.861 total time=   2.8s\n",
      "[CV 1/5] END priors=[0.33, 0.33, 0.34], shrinkage=None, solver=svd;, score=0.894 total time=   4.2s\n",
      "[CV 2/5] END priors=[0.33, 0.33, 0.34], shrinkage=None, solver=svd;, score=0.893 total time=   3.9s\n",
      "[CV 3/5] END priors=[0.33, 0.33, 0.34], shrinkage=None, solver=svd;, score=0.899 total time=   4.0s\n",
      "[CV 4/5] END priors=[0.33, 0.33, 0.34], shrinkage=None, solver=svd;, score=0.904 total time=   4.1s\n",
      "[CV 5/5] END priors=[0.33, 0.33, 0.34], shrinkage=None, solver=svd;, score=0.895 total time=   4.3s\n",
      "[CV 1/5] END priors=[0.33, 0.33, 0.34], shrinkage=None, solver=lsqr;, score=0.864 total time=   1.8s\n",
      "[CV 2/5] END priors=[0.33, 0.33, 0.34], shrinkage=None, solver=lsqr;, score=0.863 total time=   1.8s\n",
      "[CV 3/5] END priors=[0.33, 0.33, 0.34], shrinkage=None, solver=lsqr;, score=0.864 total time=   1.8s\n",
      "[CV 4/5] END priors=[0.33, 0.33, 0.34], shrinkage=None, solver=lsqr;, score=0.869 total time=   2.2s\n",
      "[CV 5/5] END priors=[0.33, 0.33, 0.34], shrinkage=None, solver=lsqr;, score=0.862 total time=   1.9s\n",
      "[CV 1/5] END priors=[0.33, 0.33, 0.34], shrinkage=None, solver=eigen;, score=0.865 total time=   1.7s\n",
      "[CV 2/5] END priors=[0.33, 0.33, 0.34], shrinkage=None, solver=eigen;, score=0.864 total time=   1.8s\n",
      "[CV 3/5] END priors=[0.33, 0.33, 0.34], shrinkage=None, solver=eigen;, score=0.862 total time=   1.8s\n",
      "[CV 4/5] END priors=[0.33, 0.33, 0.34], shrinkage=None, solver=eigen;, score=0.869 total time=   1.7s\n",
      "[CV 5/5] END priors=[0.33, 0.33, 0.34], shrinkage=None, solver=eigen;, score=0.862 total time=   1.7s\n",
      "[CV 1/5] END priors=[0.33, 0.33, 0.34], shrinkage=0.1, solver=svd;, score=nan total time=   0.0s\n",
      "[CV 2/5] END priors=[0.33, 0.33, 0.34], shrinkage=0.1, solver=svd;, score=nan total time=   0.0s\n",
      "[CV 3/5] END priors=[0.33, 0.33, 0.34], shrinkage=0.1, solver=svd;, score=nan total time=   0.0s\n",
      "[CV 4/5] END priors=[0.33, 0.33, 0.34], shrinkage=0.1, solver=svd;, score=nan total time=   0.0s\n",
      "[CV 5/5] END priors=[0.33, 0.33, 0.34], shrinkage=0.1, solver=svd;, score=nan total time=   0.0s\n",
      "[CV 1/5] END priors=[0.33, 0.33, 0.34], shrinkage=0.1, solver=lsqr;, score=0.865 total time=   1.8s\n",
      "[CV 2/5] END priors=[0.33, 0.33, 0.34], shrinkage=0.1, solver=lsqr;, score=0.862 total time=   1.8s\n",
      "[CV 3/5] END priors=[0.33, 0.33, 0.34], shrinkage=0.1, solver=lsqr;, score=0.863 total time=   1.8s\n",
      "[CV 4/5] END priors=[0.33, 0.33, 0.34], shrinkage=0.1, solver=lsqr;, score=0.866 total time=   1.9s\n",
      "[CV 5/5] END priors=[0.33, 0.33, 0.34], shrinkage=0.1, solver=lsqr;, score=0.862 total time=   1.8s\n",
      "[CV 1/5] END priors=[0.33, 0.33, 0.34], shrinkage=0.1, solver=eigen;, score=0.865 total time=   1.8s\n",
      "[CV 2/5] END priors=[0.33, 0.33, 0.34], shrinkage=0.1, solver=eigen;, score=0.862 total time=   1.8s\n",
      "[CV 3/5] END priors=[0.33, 0.33, 0.34], shrinkage=0.1, solver=eigen;, score=0.863 total time=   1.8s\n",
      "[CV 4/5] END priors=[0.33, 0.33, 0.34], shrinkage=0.1, solver=eigen;, score=0.866 total time=   1.8s\n",
      "[CV 5/5] END priors=[0.33, 0.33, 0.34], shrinkage=0.1, solver=eigen;, score=0.862 total time=   1.9s\n",
      "[CV 1/5] END priors=[0.33, 0.33, 0.34], shrinkage=0.2, solver=svd;, score=nan total time=   0.0s\n",
      "[CV 2/5] END priors=[0.33, 0.33, 0.34], shrinkage=0.2, solver=svd;, score=nan total time=   0.0s\n",
      "[CV 3/5] END priors=[0.33, 0.33, 0.34], shrinkage=0.2, solver=svd;, score=nan total time=   0.0s\n",
      "[CV 4/5] END priors=[0.33, 0.33, 0.34], shrinkage=0.2, solver=svd;, score=nan total time=   0.0s\n",
      "[CV 5/5] END priors=[0.33, 0.33, 0.34], shrinkage=0.2, solver=svd;, score=nan total time=   0.0s\n",
      "[CV 1/5] END priors=[0.33, 0.33, 0.34], shrinkage=0.2, solver=lsqr;, score=0.861 total time=   1.8s\n",
      "[CV 2/5] END priors=[0.33, 0.33, 0.34], shrinkage=0.2, solver=lsqr;, score=0.861 total time=   1.7s\n",
      "[CV 3/5] END priors=[0.33, 0.33, 0.34], shrinkage=0.2, solver=lsqr;, score=0.865 total time=   1.8s\n",
      "[CV 4/5] END priors=[0.33, 0.33, 0.34], shrinkage=0.2, solver=lsqr;, score=0.863 total time=   1.8s\n",
      "[CV 5/5] END priors=[0.33, 0.33, 0.34], shrinkage=0.2, solver=lsqr;, score=0.859 total time=   1.8s\n",
      "[CV 1/5] END priors=[0.33, 0.33, 0.34], shrinkage=0.2, solver=eigen;, score=0.861 total time=   1.7s\n",
      "[CV 2/5] END priors=[0.33, 0.33, 0.34], shrinkage=0.2, solver=eigen;, score=0.861 total time=   1.7s\n",
      "[CV 3/5] END priors=[0.33, 0.33, 0.34], shrinkage=0.2, solver=eigen;, score=0.865 total time=   1.8s\n",
      "[CV 4/5] END priors=[0.33, 0.33, 0.34], shrinkage=0.2, solver=eigen;, score=0.863 total time=   1.9s\n",
      "[CV 5/5] END priors=[0.33, 0.33, 0.34], shrinkage=0.2, solver=eigen;, score=0.859 total time=   1.7s\n",
      "[CV 1/5] END priors=[0.33, 0.33, 0.34], shrinkage=0.3, solver=svd;, score=nan total time=   0.0s\n",
      "[CV 2/5] END priors=[0.33, 0.33, 0.34], shrinkage=0.3, solver=svd;, score=nan total time=   0.0s\n",
      "[CV 3/5] END priors=[0.33, 0.33, 0.34], shrinkage=0.3, solver=svd;, score=nan total time=   0.0s\n",
      "[CV 4/5] END priors=[0.33, 0.33, 0.34], shrinkage=0.3, solver=svd;, score=nan total time=   0.0s\n",
      "[CV 5/5] END priors=[0.33, 0.33, 0.34], shrinkage=0.3, solver=svd;, score=nan total time=   0.0s\n",
      "[CV 1/5] END priors=[0.33, 0.33, 0.34], shrinkage=0.3, solver=lsqr;, score=0.860 total time=   1.8s\n",
      "[CV 2/5] END priors=[0.33, 0.33, 0.34], shrinkage=0.3, solver=lsqr;, score=0.858 total time=   1.8s\n",
      "[CV 3/5] END priors=[0.33, 0.33, 0.34], shrinkage=0.3, solver=lsqr;, score=0.861 total time=   1.8s\n",
      "[CV 4/5] END priors=[0.33, 0.33, 0.34], shrinkage=0.3, solver=lsqr;, score=0.860 total time=   1.8s\n",
      "[CV 5/5] END priors=[0.33, 0.33, 0.34], shrinkage=0.3, solver=lsqr;, score=0.856 total time=   1.8s\n",
      "[CV 1/5] END priors=[0.33, 0.33, 0.34], shrinkage=0.3, solver=eigen;, score=0.860 total time=   1.8s\n",
      "[CV 2/5] END priors=[0.33, 0.33, 0.34], shrinkage=0.3, solver=eigen;, score=0.858 total time=   1.7s\n",
      "[CV 3/5] END priors=[0.33, 0.33, 0.34], shrinkage=0.3, solver=eigen;, score=0.861 total time=   1.7s\n",
      "[CV 4/5] END priors=[0.33, 0.33, 0.34], shrinkage=0.3, solver=eigen;, score=0.860 total time=   1.7s\n",
      "[CV 5/5] END priors=[0.33, 0.33, 0.34], shrinkage=0.3, solver=eigen;, score=0.856 total time=   1.8s\n",
      "[CV 1/5] END priors=[0.33, 0.33, 0.34], shrinkage=0.4, solver=svd;, score=nan total time=   0.0s\n",
      "[CV 2/5] END priors=[0.33, 0.33, 0.34], shrinkage=0.4, solver=svd;, score=nan total time=   0.0s\n",
      "[CV 3/5] END priors=[0.33, 0.33, 0.34], shrinkage=0.4, solver=svd;, score=nan total time=   0.0s\n",
      "[CV 4/5] END priors=[0.33, 0.33, 0.34], shrinkage=0.4, solver=svd;, score=nan total time=   0.0s\n",
      "[CV 5/5] END priors=[0.33, 0.33, 0.34], shrinkage=0.4, solver=svd;, score=nan total time=   0.0s\n",
      "[CV 1/5] END priors=[0.33, 0.33, 0.34], shrinkage=0.4, solver=lsqr;, score=0.857 total time=   1.8s\n",
      "[CV 2/5] END priors=[0.33, 0.33, 0.34], shrinkage=0.4, solver=lsqr;, score=0.854 total time=   1.8s\n",
      "[CV 3/5] END priors=[0.33, 0.33, 0.34], shrinkage=0.4, solver=lsqr;, score=0.860 total time=   1.8s\n",
      "[CV 4/5] END priors=[0.33, 0.33, 0.34], shrinkage=0.4, solver=lsqr;, score=0.858 total time=   1.9s\n",
      "[CV 5/5] END priors=[0.33, 0.33, 0.34], shrinkage=0.4, solver=lsqr;, score=0.854 total time=   1.9s\n",
      "[CV 1/5] END priors=[0.33, 0.33, 0.34], shrinkage=0.4, solver=eigen;, score=0.857 total time=   1.9s\n",
      "[CV 2/5] END priors=[0.33, 0.33, 0.34], shrinkage=0.4, solver=eigen;, score=0.854 total time=   1.8s\n",
      "[CV 3/5] END priors=[0.33, 0.33, 0.34], shrinkage=0.4, solver=eigen;, score=0.860 total time=   1.8s\n",
      "[CV 4/5] END priors=[0.33, 0.33, 0.34], shrinkage=0.4, solver=eigen;, score=0.858 total time=   1.8s\n",
      "[CV 5/5] END priors=[0.33, 0.33, 0.34], shrinkage=0.4, solver=eigen;, score=0.854 total time=   1.7s\n",
      "[CV 1/5] END priors=[0.33, 0.33, 0.34], shrinkage=0.5, solver=svd;, score=nan total time=   0.0s\n",
      "[CV 2/5] END priors=[0.33, 0.33, 0.34], shrinkage=0.5, solver=svd;, score=nan total time=   0.0s\n",
      "[CV 3/5] END priors=[0.33, 0.33, 0.34], shrinkage=0.5, solver=svd;, score=nan total time=   0.0s\n",
      "[CV 4/5] END priors=[0.33, 0.33, 0.34], shrinkage=0.5, solver=svd;, score=nan total time=   0.0s\n",
      "[CV 5/5] END priors=[0.33, 0.33, 0.34], shrinkage=0.5, solver=svd;, score=nan total time=   0.0s\n",
      "[CV 1/5] END priors=[0.33, 0.33, 0.34], shrinkage=0.5, solver=lsqr;, score=0.854 total time=   1.8s\n",
      "[CV 2/5] END priors=[0.33, 0.33, 0.34], shrinkage=0.5, solver=lsqr;, score=0.850 total time=   1.8s\n",
      "[CV 3/5] END priors=[0.33, 0.33, 0.34], shrinkage=0.5, solver=lsqr;, score=0.860 total time=   1.8s\n",
      "[CV 4/5] END priors=[0.33, 0.33, 0.34], shrinkage=0.5, solver=lsqr;, score=0.856 total time=   1.8s\n",
      "[CV 5/5] END priors=[0.33, 0.33, 0.34], shrinkage=0.5, solver=lsqr;, score=0.853 total time=   1.8s\n",
      "[CV 1/5] END priors=[0.33, 0.33, 0.34], shrinkage=0.5, solver=eigen;, score=0.854 total time=   1.7s\n",
      "[CV 2/5] END priors=[0.33, 0.33, 0.34], shrinkage=0.5, solver=eigen;, score=0.850 total time=   1.8s\n",
      "[CV 3/5] END priors=[0.33, 0.33, 0.34], shrinkage=0.5, solver=eigen;, score=0.860 total time=   1.8s\n",
      "[CV 4/5] END priors=[0.33, 0.33, 0.34], shrinkage=0.5, solver=eigen;, score=0.856 total time=   1.8s\n",
      "[CV 5/5] END priors=[0.33, 0.33, 0.34], shrinkage=0.5, solver=eigen;, score=0.853 total time=   1.7s\n",
      "[CV 1/5] END priors=[0.33, 0.33, 0.34], shrinkage=0.6, solver=svd;, score=nan total time=   0.0s\n",
      "[CV 2/5] END priors=[0.33, 0.33, 0.34], shrinkage=0.6, solver=svd;, score=nan total time=   0.0s\n",
      "[CV 3/5] END priors=[0.33, 0.33, 0.34], shrinkage=0.6, solver=svd;, score=nan total time=   0.0s\n",
      "[CV 4/5] END priors=[0.33, 0.33, 0.34], shrinkage=0.6, solver=svd;, score=nan total time=   0.0s\n",
      "[CV 5/5] END priors=[0.33, 0.33, 0.34], shrinkage=0.6, solver=svd;, score=nan total time=   0.0s\n",
      "[CV 1/5] END priors=[0.33, 0.33, 0.34], shrinkage=0.6, solver=lsqr;, score=0.851 total time=   1.9s\n",
      "[CV 2/5] END priors=[0.33, 0.33, 0.34], shrinkage=0.6, solver=lsqr;, score=0.846 total time=   2.2s\n",
      "[CV 3/5] END priors=[0.33, 0.33, 0.34], shrinkage=0.6, solver=lsqr;, score=0.859 total time=   1.8s\n",
      "[CV 4/5] END priors=[0.33, 0.33, 0.34], shrinkage=0.6, solver=lsqr;, score=0.852 total time=   2.4s\n",
      "[CV 5/5] END priors=[0.33, 0.33, 0.34], shrinkage=0.6, solver=lsqr;, score=0.850 total time=   2.1s\n",
      "[CV 1/5] END priors=[0.33, 0.33, 0.34], shrinkage=0.6, solver=eigen;, score=0.851 total time=   1.9s\n",
      "[CV 2/5] END priors=[0.33, 0.33, 0.34], shrinkage=0.6, solver=eigen;, score=0.846 total time=   1.9s\n",
      "[CV 3/5] END priors=[0.33, 0.33, 0.34], shrinkage=0.6, solver=eigen;, score=0.859 total time=   1.8s\n",
      "[CV 4/5] END priors=[0.33, 0.33, 0.34], shrinkage=0.6, solver=eigen;, score=0.852 total time=   1.8s\n",
      "[CV 5/5] END priors=[0.33, 0.33, 0.34], shrinkage=0.6, solver=eigen;, score=0.850 total time=   1.8s\n",
      "[CV 1/5] END priors=[0.33, 0.33, 0.34], shrinkage=0.7, solver=svd;, score=nan total time=   0.0s\n",
      "[CV 2/5] END priors=[0.33, 0.33, 0.34], shrinkage=0.7, solver=svd;, score=nan total time=   0.0s\n",
      "[CV 3/5] END priors=[0.33, 0.33, 0.34], shrinkage=0.7, solver=svd;, score=nan total time=   0.0s\n",
      "[CV 4/5] END priors=[0.33, 0.33, 0.34], shrinkage=0.7, solver=svd;, score=nan total time=   0.0s\n",
      "[CV 5/5] END priors=[0.33, 0.33, 0.34], shrinkage=0.7, solver=svd;, score=nan total time=   0.0s\n",
      "[CV 1/5] END priors=[0.33, 0.33, 0.34], shrinkage=0.7, solver=lsqr;, score=0.846 total time=   1.8s\n",
      "[CV 2/5] END priors=[0.33, 0.33, 0.34], shrinkage=0.7, solver=lsqr;, score=0.842 total time=   1.8s\n",
      "[CV 3/5] END priors=[0.33, 0.33, 0.34], shrinkage=0.7, solver=lsqr;, score=0.856 total time=   1.9s\n",
      "[CV 4/5] END priors=[0.33, 0.33, 0.34], shrinkage=0.7, solver=lsqr;, score=0.851 total time=   1.9s\n",
      "[CV 5/5] END priors=[0.33, 0.33, 0.34], shrinkage=0.7, solver=lsqr;, score=0.846 total time=   1.8s\n",
      "[CV 1/5] END priors=[0.33, 0.33, 0.34], shrinkage=0.7, solver=eigen;, score=0.846 total time=   1.8s\n",
      "[CV 2/5] END priors=[0.33, 0.33, 0.34], shrinkage=0.7, solver=eigen;, score=0.842 total time=   2.1s\n",
      "[CV 3/5] END priors=[0.33, 0.33, 0.34], shrinkage=0.7, solver=eigen;, score=0.856 total time=   1.8s\n",
      "[CV 4/5] END priors=[0.33, 0.33, 0.34], shrinkage=0.7, solver=eigen;, score=0.851 total time=   1.8s\n",
      "[CV 5/5] END priors=[0.33, 0.33, 0.34], shrinkage=0.7, solver=eigen;, score=0.846 total time=   1.8s\n",
      "[CV 1/5] END priors=[0.33, 0.33, 0.34], shrinkage=0.8, solver=svd;, score=nan total time=   0.0s\n",
      "[CV 2/5] END priors=[0.33, 0.33, 0.34], shrinkage=0.8, solver=svd;, score=nan total time=   0.0s\n",
      "[CV 3/5] END priors=[0.33, 0.33, 0.34], shrinkage=0.8, solver=svd;, score=nan total time=   0.0s\n",
      "[CV 4/5] END priors=[0.33, 0.33, 0.34], shrinkage=0.8, solver=svd;, score=nan total time=   0.0s\n",
      "[CV 5/5] END priors=[0.33, 0.33, 0.34], shrinkage=0.8, solver=svd;, score=nan total time=   0.0s\n",
      "[CV 1/5] END priors=[0.33, 0.33, 0.34], shrinkage=0.8, solver=lsqr;, score=0.839 total time=   1.9s\n",
      "[CV 2/5] END priors=[0.33, 0.33, 0.34], shrinkage=0.8, solver=lsqr;, score=0.836 total time=   2.1s\n",
      "[CV 3/5] END priors=[0.33, 0.33, 0.34], shrinkage=0.8, solver=lsqr;, score=0.851 total time=   2.2s\n",
      "[CV 4/5] END priors=[0.33, 0.33, 0.34], shrinkage=0.8, solver=lsqr;, score=0.845 total time=   2.2s\n",
      "[CV 5/5] END priors=[0.33, 0.33, 0.34], shrinkage=0.8, solver=lsqr;, score=0.840 total time=   1.9s\n",
      "[CV 1/5] END priors=[0.33, 0.33, 0.34], shrinkage=0.8, solver=eigen;, score=0.839 total time=   1.9s\n",
      "[CV 2/5] END priors=[0.33, 0.33, 0.34], shrinkage=0.8, solver=eigen;, score=0.836 total time=   1.8s\n",
      "[CV 3/5] END priors=[0.33, 0.33, 0.34], shrinkage=0.8, solver=eigen;, score=0.851 total time=   1.8s\n",
      "[CV 4/5] END priors=[0.33, 0.33, 0.34], shrinkage=0.8, solver=eigen;, score=0.845 total time=   1.7s\n",
      "[CV 5/5] END priors=[0.33, 0.33, 0.34], shrinkage=0.8, solver=eigen;, score=0.840 total time=   1.8s\n",
      "[CV 1/5] END priors=[0.33, 0.33, 0.34], shrinkage=0.9, solver=svd;, score=nan total time=   0.0s\n",
      "[CV 2/5] END priors=[0.33, 0.33, 0.34], shrinkage=0.9, solver=svd;, score=nan total time=   0.0s\n",
      "[CV 3/5] END priors=[0.33, 0.33, 0.34], shrinkage=0.9, solver=svd;, score=nan total time=   0.0s\n",
      "[CV 4/5] END priors=[0.33, 0.33, 0.34], shrinkage=0.9, solver=svd;, score=nan total time=   0.0s\n",
      "[CV 5/5] END priors=[0.33, 0.33, 0.34], shrinkage=0.9, solver=svd;, score=nan total time=   0.0s\n",
      "[CV 1/5] END priors=[0.33, 0.33, 0.34], shrinkage=0.9, solver=lsqr;, score=0.831 total time=   1.9s\n",
      "[CV 2/5] END priors=[0.33, 0.33, 0.34], shrinkage=0.9, solver=lsqr;, score=0.832 total time=   1.9s\n",
      "[CV 3/5] END priors=[0.33, 0.33, 0.34], shrinkage=0.9, solver=lsqr;, score=0.846 total time=   2.0s\n",
      "[CV 4/5] END priors=[0.33, 0.33, 0.34], shrinkage=0.9, solver=lsqr;, score=0.842 total time=   2.3s\n",
      "[CV 5/5] END priors=[0.33, 0.33, 0.34], shrinkage=0.9, solver=lsqr;, score=0.835 total time=   1.9s\n",
      "[CV 1/5] END priors=[0.33, 0.33, 0.34], shrinkage=0.9, solver=eigen;, score=0.831 total time=   1.9s\n",
      "[CV 2/5] END priors=[0.33, 0.33, 0.34], shrinkage=0.9, solver=eigen;, score=0.832 total time=   1.8s\n",
      "[CV 3/5] END priors=[0.33, 0.33, 0.34], shrinkage=0.9, solver=eigen;, score=0.846 total time=   1.7s\n",
      "[CV 4/5] END priors=[0.33, 0.33, 0.34], shrinkage=0.9, solver=eigen;, score=0.842 total time=   1.8s\n",
      "[CV 5/5] END priors=[0.33, 0.33, 0.34], shrinkage=0.9, solver=eigen;, score=0.835 total time=   1.7s\n"
     ]
    },
    {
     "name": "stderr",
     "output_type": "stream",
     "text": [
      "C:\\Users\\ASUS\\AppData\\Local\\Packages\\PythonSoftwareFoundation.Python.3.9_qbz5n2kfra8p0\\LocalCache\\local-packages\\Python39\\site-packages\\sklearn\\model_selection\\_validation.py:378: FitFailedWarning: \n",
      "100 fits failed out of a total of 330.\n",
      "The score on these train-test partitions for these parameters will be set to nan.\n",
      "If these failures are not expected, you can try to debug them by setting error_score='raise'.\n",
      "\n",
      "Below are more details about the failures:\n",
      "--------------------------------------------------------------------------------\n",
      "100 fits failed with the following error:\n",
      "Traceback (most recent call last):\n",
      "  File \"C:\\Users\\ASUS\\AppData\\Local\\Packages\\PythonSoftwareFoundation.Python.3.9_qbz5n2kfra8p0\\LocalCache\\local-packages\\Python39\\site-packages\\sklearn\\model_selection\\_validation.py\", line 686, in _fit_and_score\n",
      "    estimator.fit(X_train, y_train, **fit_params)\n",
      "  File \"C:\\Users\\ASUS\\AppData\\Local\\Packages\\PythonSoftwareFoundation.Python.3.9_qbz5n2kfra8p0\\LocalCache\\local-packages\\Python39\\site-packages\\sklearn\\discriminant_analysis.py\", line 589, in fit\n",
      "    raise NotImplementedError(\"shrinkage not supported\")\n",
      "NotImplementedError: shrinkage not supported\n",
      "\n",
      "  warnings.warn(some_fits_failed_message, FitFailedWarning)\n",
      "C:\\Users\\ASUS\\AppData\\Local\\Packages\\PythonSoftwareFoundation.Python.3.9_qbz5n2kfra8p0\\LocalCache\\local-packages\\Python39\\site-packages\\sklearn\\model_selection\\_search.py:953: UserWarning: One or more of the test scores are non-finite: [       nan 0.92351373 0.92322008 0.9233631  0.92350099 0.9233631\n",
      "        nan 0.92257672 0.92257672        nan 0.92194228 0.92194228\n",
      "        nan 0.92128622 0.92128622        nan 0.91895592 0.91895592\n",
      "        nan 0.9158253  0.9158253         nan 0.91149835 0.91149835\n",
      "        nan 0.90505608 0.90505608        nan 0.89476641 0.89476641\n",
      "        nan 0.87852582 0.87852582        nan 0.86333746 0.86367268\n",
      " 0.89687847 0.86456544 0.86453903        nan 0.86368128 0.86368128\n",
      "        nan 0.86144207 0.86144207        nan 0.85877061 0.85877061\n",
      "        nan 0.85658807 0.85658807        nan 0.85439068 0.85439068\n",
      "        nan 0.85154202 0.85154202        nan 0.8480842  0.8480842\n",
      "        nan 0.84239218 0.84239218        nan 0.83725246 0.83725246]\n",
      "  warnings.warn(\n"
     ]
    }
   ],
   "source": [
    "grid_results = gridsearch.fit(np.concatenate((train, dev)), np.concatenate((train_labels, dev_labels)))\n",
    "best_params = grid_results.best_params_\n",
    "linear_discriminant_analysis = grid_results.best_estimator_"
   ]
  },
  {
   "cell_type": "code",
   "execution_count": 18,
   "metadata": {},
   "outputs": [],
   "source": [
    "train_preds = linear_discriminant_analysis.predict(train)\n",
    "dev_preds = linear_discriminant_analysis.predict(dev)\n",
    "test_preds = linear_discriminant_analysis.predict(test)"
   ]
  },
  {
   "cell_type": "code",
   "execution_count": 19,
   "metadata": {},
   "outputs": [
    {
     "name": "stdout",
     "output_type": "stream",
     "text": [
      "Accuracy Train:  0.931508654775503\n",
      "Accuracy Dev:  0.9289482940555751\n",
      "Accuracy Test:  0.9318341531974701\n",
      "Weighted F1 Train:  0.9293254711301768\n",
      "Weighted F1 Dev:  0.9267061093168113\n",
      "Weighted F1 Test:  0.92885814630366\n",
      "Macro F1 Train:  0.7213624740948908\n",
      "Macro F1 Dev:  0.7442444536756962\n",
      "Macro F1 Test:  0.6483210675101425\n",
      "Micro F1 Train:  0.931508654775503\n",
      "Micro F1 Dev:  0.9289482940555752\n",
      "Micro F1 Test:  0.9318341531974701\n",
      "Weighted Recall Train:  0.931508654775503\n",
      "Weighted Recall Dev:  0.9289482940555751\n",
      "Weighted Recall Test:  0.9318341531974701\n",
      "Macro Recall Train:  0.7152850893853419\n",
      "Macro Recall Dev:  0.6779560598081193\n",
      "Macro Recall Test:  0.612136435702961\n",
      "Micro Recall Train:  0.931508654775503\n",
      "Micro Recall Dev:  0.9289482940555751\n",
      "Micro Recall Test:  0.9318341531974701\n",
      "Confusion Matrix Train: \n",
      "[[ 1061   901     0]\n",
      " [  641 20128     9]\n",
      " [    0     8    14]]\n",
      "Confusion Matrix Dev: \n",
      "[[ 154  118    0]\n",
      " [  83 2486    0]\n",
      " [   0    1    1]]\n",
      "Confusion Matrix Test: \n",
      "[[ 133  117    0]\n",
      " [  74 2518    1]\n",
      " [   0    2    1]]\n"
     ]
    }
   ],
   "source": [
    "computeAllScores(train_preds, dev_preds, test_preds)"
   ]
  },
  {
   "cell_type": "code",
   "execution_count": null,
   "metadata": {},
   "outputs": [],
   "source": []
  }
 ],
 "metadata": {
  "kernelspec": {
   "display_name": "Python 3.9.13 64-bit (microsoft store)",
   "language": "python",
   "name": "python3"
  },
  "language_info": {
   "codemirror_mode": {
    "name": "ipython",
    "version": 3
   },
   "file_extension": ".py",
   "mimetype": "text/x-python",
   "name": "python",
   "nbconvert_exporter": "python",
   "pygments_lexer": "ipython3",
   "version": "3.9.13"
  },
  "orig_nbformat": 4,
  "vscode": {
   "interpreter": {
    "hash": "a5a87ee616be0254e3f1af9223138e3faeac65b2c9d91bc22a9fc5a4a8bd8eb0"
   }
  }
 },
 "nbformat": 4,
 "nbformat_minor": 2
}
