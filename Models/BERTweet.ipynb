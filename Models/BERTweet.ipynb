{
 "cells": [
  {
   "cell_type": "code",
   "execution_count": 1,
   "metadata": {},
   "outputs": [],
   "source": [
    "# !pip install transformers -q\n",
    "# !pip install datasets -q\n",
    "# !pip install evaluate -q"
   ]
  },
  {
   "cell_type": "code",
   "execution_count": 2,
   "metadata": {},
   "outputs": [],
   "source": [
    "import os\n",
    "os.environ[\"WANDB_DISABLED\"] = \"true\"\n",
    "import evaluate\n",
    "import pandas as pd\n",
    "\n",
    "df_train = pd.read_csv('/home/aflah20082/ML_Project/Data/PreprocessedData/english_train_preprocess.csv')\n",
    "df_test = pd.read_csv('/home/aflah20082/ML_Project/Data/PreprocessedData/english_test_preprocess.csv')\n",
    "df_val = pd.read_csv('/home/aflah20082/ML_Project/Data/PreprocessedData/english_dev_preprocess.csv')"
   ]
  },
  {
   "cell_type": "code",
   "execution_count": 3,
   "metadata": {},
   "outputs": [],
   "source": [
    "label_replacement = {\n",
    "    'Hope_speech': 0,\n",
    "    'Non_hope_speech': 1,\n",
    "    'not-English': 2,\n",
    "}\n",
    "\n",
    "df_train['label'] = df_train['label'].replace(label_replacement)\n",
    "df_test['label'] = df_test['label'].replace(label_replacement)\n",
    "df_val['label'] = df_val['label'].replace(label_replacement)\n",
    "\n",
    "# Drop rows with label not-English\n",
    "df_train = df_train[df_train['label'] != 2]\n",
    "df_test = df_test[df_test['label'] != 2]\n",
    "df_val = df_val[df_val['label'] != 2]"
   ]
  },
  {
   "cell_type": "code",
   "execution_count": 4,
   "metadata": {},
   "outputs": [],
   "source": [
    "df_train = df_train[['preprocessed_text', 'label']]\n",
    "df_test = df_test[['preprocessed_text', 'label']]\n",
    "df_val = df_val[['preprocessed_text', 'label']]"
   ]
  },
  {
   "cell_type": "code",
   "execution_count": 5,
   "metadata": {},
   "outputs": [],
   "source": [
    "df_train = df_train.rename(columns={'preprocessed_text': 'text'})\n",
    "df_test = df_test.rename(columns={'preprocessed_text': 'text'})\n",
    "df_val = df_val.rename(columns={'preprocessed_text': 'text'})"
   ]
  },
  {
   "cell_type": "code",
   "execution_count": 6,
   "metadata": {},
   "outputs": [],
   "source": [
    "from datasets import Dataset, DatasetDict\n",
    "tds = Dataset.from_pandas(df_train[['text', 'label']], preserve_index=False)\n",
    "vds = Dataset.from_pandas(df_val[['text', 'label']], preserve_index=False)\n",
    "testds = Dataset.from_pandas(df_test[['text', 'label']], preserve_index=False)\n",
    "\n",
    "\n",
    "ds = DatasetDict()\n",
    "\n",
    "ds['train'] = tds\n",
    "ds['validation'] = vds\n",
    "ds['test'] = testds"
   ]
  },
  {
   "cell_type": "code",
   "execution_count": 7,
   "metadata": {},
   "outputs": [
    {
     "name": "stderr",
     "output_type": "stream",
     "text": [
      "Special tokens have been added in the vocabulary, make sure the associated word embeddings are fine-tuned or trained.\n"
     ]
    },
    {
     "data": {
      "application/vnd.jupyter.widget-view+json": {
       "model_id": "670dc4fc36084a2d85066d3d73d858ad",
       "version_major": 2,
       "version_minor": 0
      },
      "text/plain": [
       "  0%|          | 0/23 [00:00<?, ?ba/s]"
      ]
     },
     "metadata": {},
     "output_type": "display_data"
    },
    {
     "data": {
      "application/vnd.jupyter.widget-view+json": {
       "model_id": "6fa84e648aee4cfa946acffb489fa4ec",
       "version_major": 2,
       "version_minor": 0
      },
      "text/plain": [
       "  0%|          | 0/3 [00:00<?, ?ba/s]"
      ]
     },
     "metadata": {},
     "output_type": "display_data"
    },
    {
     "data": {
      "application/vnd.jupyter.widget-view+json": {
       "model_id": "1305eec054644141ad9fc682cc53abc4",
       "version_major": 2,
       "version_minor": 0
      },
      "text/plain": [
       "  0%|          | 0/3 [00:00<?, ?ba/s]"
      ]
     },
     "metadata": {},
     "output_type": "display_data"
    }
   ],
   "source": [
    "from transformers import AutoTokenizer, AutoModelForMaskedLM\n",
    "\n",
    "tokenizer = AutoTokenizer.from_pretrained(\"vinai/bertweet-base\")\n",
    "\n",
    "# tokenizer.add_special_tokens([\"<intent>\", \"</intent>\"])\n",
    "\n",
    "def tokenize_function(examples):\n",
    "    return tokenizer(examples[\"text\"], padding=\"max_length\", truncation=True)\n",
    "\n",
    "tokenized_datasets = ds.map(tokenize_function, batched=True)"
   ]
  },
  {
   "cell_type": "code",
   "execution_count": 8,
   "metadata": {},
   "outputs": [],
   "source": [
    "small_train_dataset = tokenized_datasets[\"train\"].shuffle(seed=42)\n",
    "small_eval_dataset = tokenized_datasets[\"validation\"].shuffle(seed=42)"
   ]
  },
  {
   "cell_type": "code",
   "execution_count": 9,
   "metadata": {},
   "outputs": [],
   "source": [
    "import numpy as np\n",
    "metric1 = evaluate.load(\"accuracy\")\n",
    "metric2 = evaluate.load(\"precision\")\n",
    "metric3 = evaluate.load(\"recall\")\n",
    "metric4 = evaluate.load(\"f1\")\n",
    "\n",
    "metric = evaluate.load(\"accuracy\")\n",
    "\n",
    "def compute_metrics(eval_pred):\n",
    "    logits, labels = eval_pred\n",
    "    predictions = np.argmax(logits, axis=-1)\n",
    "    return metric.compute(predictions=predictions, references=labels)"
   ]
  },
  {
   "cell_type": "code",
   "execution_count": 10,
   "metadata": {},
   "outputs": [
    {
     "name": "stderr",
     "output_type": "stream",
     "text": [
      "Some weights of the model checkpoint at vinai/bertweet-base were not used when initializing RobertaForSequenceClassification: ['lm_head.layer_norm.bias', 'lm_head.layer_norm.weight', 'roberta.pooler.dense.weight', 'lm_head.dense.weight', 'lm_head.decoder.weight', 'lm_head.decoder.bias', 'roberta.pooler.dense.bias', 'lm_head.bias', 'lm_head.dense.bias']\n",
      "- This IS expected if you are initializing RobertaForSequenceClassification from the checkpoint of a model trained on another task or with another architecture (e.g. initializing a BertForSequenceClassification model from a BertForPreTraining model).\n",
      "- This IS NOT expected if you are initializing RobertaForSequenceClassification from the checkpoint of a model that you expect to be exactly identical (initializing a BertForSequenceClassification model from a BertForSequenceClassification model).\n",
      "Some weights of RobertaForSequenceClassification were not initialized from the model checkpoint at vinai/bertweet-base and are newly initialized: ['classifier.dense.weight', 'classifier.out_proj.weight', 'classifier.out_proj.bias', 'classifier.dense.bias']\n",
      "You should probably TRAIN this model on a down-stream task to be able to use it for predictions and inference.\n",
      "Using the `WAND_DISABLED` environment variable is deprecated and will be removed in v5. Use the --report_to flag to control the integrations used for logging result (for instance --report_to none).\n",
      "The following columns in the training set  don't have a corresponding argument in `RobertaForSequenceClassification.forward` and have been ignored: text.\n",
      "/home/aflah20082/anaconda3/envs/py37/lib/python3.7/site-packages/transformers/optimization.py:309: FutureWarning: This implementation of AdamW is deprecated and will be removed in a future version. Use thePyTorch implementation torch.optim.AdamW instead, or set `no_deprecation_warning=True` to disable this warning\n",
      "  FutureWarning,\n",
      "***** Running training *****\n",
      "  Num examples = 22740\n",
      "  Num Epochs = 3\n",
      "  Instantaneous batch size per device = 8\n",
      "  Total train batch size (w. parallel, distributed & accumulation) = 8\n",
      "  Gradient Accumulation steps = 1\n",
      "  Total optimization steps = 8529\n"
     ]
    },
    {
     "data": {
      "text/html": [
       "\n",
       "    <div>\n",
       "      \n",
       "      <progress value='8529' max='8529' style='width:300px; height:20px; vertical-align: middle;'></progress>\n",
       "      [8529/8529 56:04, Epoch 3/3]\n",
       "    </div>\n",
       "    <table border=\"1\" class=\"dataframe\">\n",
       "  <thead>\n",
       " <tr style=\"text-align: left;\">\n",
       "      <th>Epoch</th>\n",
       "      <th>Training Loss</th>\n",
       "      <th>Validation Loss</th>\n",
       "      <th>Accuracy</th>\n",
       "    </tr>\n",
       "  </thead>\n",
       "  <tbody>\n",
       "    <tr>\n",
       "      <td>1</td>\n",
       "      <td>0.292300</td>\n",
       "      <td>0.331323</td>\n",
       "      <td>0.904259</td>\n",
       "    </tr>\n",
       "    <tr>\n",
       "      <td>2</td>\n",
       "      <td>0.286100</td>\n",
       "      <td>0.324455</td>\n",
       "      <td>0.904259</td>\n",
       "    </tr>\n",
       "    <tr>\n",
       "      <td>3</td>\n",
       "      <td>0.290900</td>\n",
       "      <td>0.316311</td>\n",
       "      <td>0.904259</td>\n",
       "    </tr>\n",
       "  </tbody>\n",
       "</table><p>"
      ],
      "text/plain": [
       "<IPython.core.display.HTML object>"
      ]
     },
     "metadata": {},
     "output_type": "display_data"
    },
    {
     "name": "stderr",
     "output_type": "stream",
     "text": [
      "Saving model checkpoint to Model Dumps/bertweet_finetune/checkpoint-500\n",
      "Configuration saved in Model Dumps/bertweet_finetune/checkpoint-500/config.json\n",
      "Model weights saved in Model Dumps/bertweet_finetune/checkpoint-500/pytorch_model.bin\n",
      "Saving model checkpoint to Model Dumps/bertweet_finetune/checkpoint-1000\n",
      "Configuration saved in Model Dumps/bertweet_finetune/checkpoint-1000/config.json\n",
      "Model weights saved in Model Dumps/bertweet_finetune/checkpoint-1000/pytorch_model.bin\n",
      "Saving model checkpoint to Model Dumps/bertweet_finetune/checkpoint-1500\n",
      "Configuration saved in Model Dumps/bertweet_finetune/checkpoint-1500/config.json\n",
      "Model weights saved in Model Dumps/bertweet_finetune/checkpoint-1500/pytorch_model.bin\n",
      "Saving model checkpoint to Model Dumps/bertweet_finetune/checkpoint-2000\n",
      "Configuration saved in Model Dumps/bertweet_finetune/checkpoint-2000/config.json\n",
      "Model weights saved in Model Dumps/bertweet_finetune/checkpoint-2000/pytorch_model.bin\n",
      "Saving model checkpoint to Model Dumps/bertweet_finetune/checkpoint-2500\n",
      "Configuration saved in Model Dumps/bertweet_finetune/checkpoint-2500/config.json\n",
      "Model weights saved in Model Dumps/bertweet_finetune/checkpoint-2500/pytorch_model.bin\n",
      "The following columns in the evaluation set  don't have a corresponding argument in `RobertaForSequenceClassification.forward` and have been ignored: text.\n",
      "***** Running Evaluation *****\n",
      "  Num examples = 2841\n",
      "  Batch size = 8\n",
      "Saving model checkpoint to Model Dumps/bertweet_finetune/checkpoint-3000\n",
      "Configuration saved in Model Dumps/bertweet_finetune/checkpoint-3000/config.json\n",
      "Model weights saved in Model Dumps/bertweet_finetune/checkpoint-3000/pytorch_model.bin\n",
      "Saving model checkpoint to Model Dumps/bertweet_finetune/checkpoint-3500\n",
      "Configuration saved in Model Dumps/bertweet_finetune/checkpoint-3500/config.json\n",
      "Model weights saved in Model Dumps/bertweet_finetune/checkpoint-3500/pytorch_model.bin\n",
      "Saving model checkpoint to Model Dumps/bertweet_finetune/checkpoint-4000\n",
      "Configuration saved in Model Dumps/bertweet_finetune/checkpoint-4000/config.json\n",
      "Model weights saved in Model Dumps/bertweet_finetune/checkpoint-4000/pytorch_model.bin\n",
      "Saving model checkpoint to Model Dumps/bertweet_finetune/checkpoint-4500\n",
      "Configuration saved in Model Dumps/bertweet_finetune/checkpoint-4500/config.json\n",
      "Model weights saved in Model Dumps/bertweet_finetune/checkpoint-4500/pytorch_model.bin\n",
      "Saving model checkpoint to Model Dumps/bertweet_finetune/checkpoint-5000\n",
      "Configuration saved in Model Dumps/bertweet_finetune/checkpoint-5000/config.json\n",
      "Model weights saved in Model Dumps/bertweet_finetune/checkpoint-5000/pytorch_model.bin\n",
      "Saving model checkpoint to Model Dumps/bertweet_finetune/checkpoint-5500\n",
      "Configuration saved in Model Dumps/bertweet_finetune/checkpoint-5500/config.json\n",
      "Model weights saved in Model Dumps/bertweet_finetune/checkpoint-5500/pytorch_model.bin\n",
      "The following columns in the evaluation set  don't have a corresponding argument in `RobertaForSequenceClassification.forward` and have been ignored: text.\n",
      "***** Running Evaluation *****\n",
      "  Num examples = 2841\n",
      "  Batch size = 8\n",
      "Saving model checkpoint to Model Dumps/bertweet_finetune/checkpoint-6000\n",
      "Configuration saved in Model Dumps/bertweet_finetune/checkpoint-6000/config.json\n",
      "Model weights saved in Model Dumps/bertweet_finetune/checkpoint-6000/pytorch_model.bin\n",
      "Saving model checkpoint to Model Dumps/bertweet_finetune/checkpoint-6500\n",
      "Configuration saved in Model Dumps/bertweet_finetune/checkpoint-6500/config.json\n",
      "Model weights saved in Model Dumps/bertweet_finetune/checkpoint-6500/pytorch_model.bin\n",
      "Saving model checkpoint to Model Dumps/bertweet_finetune/checkpoint-7000\n",
      "Configuration saved in Model Dumps/bertweet_finetune/checkpoint-7000/config.json\n",
      "Model weights saved in Model Dumps/bertweet_finetune/checkpoint-7000/pytorch_model.bin\n",
      "Saving model checkpoint to Model Dumps/bertweet_finetune/checkpoint-7500\n",
      "Configuration saved in Model Dumps/bertweet_finetune/checkpoint-7500/config.json\n",
      "Model weights saved in Model Dumps/bertweet_finetune/checkpoint-7500/pytorch_model.bin\n",
      "Saving model checkpoint to Model Dumps/bertweet_finetune/checkpoint-8000\n",
      "Configuration saved in Model Dumps/bertweet_finetune/checkpoint-8000/config.json\n",
      "Model weights saved in Model Dumps/bertweet_finetune/checkpoint-8000/pytorch_model.bin\n",
      "Saving model checkpoint to Model Dumps/bertweet_finetune/checkpoint-8500\n",
      "Configuration saved in Model Dumps/bertweet_finetune/checkpoint-8500/config.json\n",
      "Model weights saved in Model Dumps/bertweet_finetune/checkpoint-8500/pytorch_model.bin\n",
      "The following columns in the evaluation set  don't have a corresponding argument in `RobertaForSequenceClassification.forward` and have been ignored: text.\n",
      "***** Running Evaluation *****\n",
      "  Num examples = 2841\n",
      "  Batch size = 8\n",
      "\n",
      "\n",
      "Training completed. Do not forget to share your model on huggingface.co/models =)\n",
      "\n",
      "\n"
     ]
    },
    {
     "data": {
      "text/plain": [
       "TrainOutput(global_step=8529, training_loss=0.29552058617861, metrics={'train_runtime': 3365.4334, 'train_samples_per_second': 20.271, 'train_steps_per_second': 2.534, 'total_flos': 4487359049164800.0, 'train_loss': 0.29552058617861, 'epoch': 3.0})"
      ]
     },
     "execution_count": 10,
     "metadata": {},
     "output_type": "execute_result"
    }
   ],
   "source": [
    "from transformers import TrainingArguments, Trainer, AutoModelForSequenceClassification\n",
    "\n",
    "model = AutoModelForSequenceClassification.from_pretrained(\"vinai/bertweet-base\", num_labels=2) \n",
    "\n",
    "training_args = TrainingArguments(output_dir=f\"Model Dumps/bertweet_finetune\", evaluation_strategy=\"epoch\")\n",
    "trainer = Trainer(\n",
    "    model=model,\n",
    "    args=training_args,\n",
    "    train_dataset=small_train_dataset,\n",
    "    eval_dataset=small_eval_dataset,\n",
    "    compute_metrics=compute_metrics,\n",
    ")\n",
    "trainer.train()"
   ]
  },
  {
   "cell_type": "code",
   "execution_count": 11,
   "metadata": {},
   "outputs": [
    {
     "name": "stderr",
     "output_type": "stream",
     "text": [
      "The following columns in the test set  don't have a corresponding argument in `RobertaForSequenceClassification.forward` and have been ignored: text.\n",
      "***** Running Prediction *****\n",
      "  Num examples = 2841\n",
      "  Batch size = 8\n"
     ]
    },
    {
     "data": {
      "text/html": [
       "\n",
       "    <div>\n",
       "      \n",
       "      <progress value='712' max='356' style='width:300px; height:20px; vertical-align: middle;'></progress>\n",
       "      [356/356 01:24]\n",
       "    </div>\n",
       "    "
      ],
      "text/plain": [
       "<IPython.core.display.HTML object>"
      ]
     },
     "metadata": {},
     "output_type": "display_data"
    }
   ],
   "source": [
    "predictions = trainer.predict(tokenized_datasets[\"validation\"])\n",
    "preds = np.argmax(predictions.predictions, axis=-1)\n",
    "accuracy = metric1.compute(predictions=preds, references=predictions.label_ids)\n",
    "precision = metric2.compute(predictions=preds, references=predictions.label_ids)\n",
    "recall = metric3.compute(predictions=preds, references=predictions.label_ids)"
   ]
  },
  {
   "cell_type": "code",
   "execution_count": 12,
   "metadata": {},
   "outputs": [
    {
     "name": "stdout",
     "output_type": "stream",
     "text": [
      "Accuracy:  {'accuracy': 0.9042590637099612}\n",
      "Precision:  {'precision': 0.9042590637099612}\n",
      "Recall:  {'recall': 1.0}\n"
     ]
    }
   ],
   "source": [
    "print(\"Accuracy: \", accuracy)\n",
    "print(\"Precision: \", precision)\n",
    "print(\"Recall: \", recall)"
   ]
  },
  {
   "cell_type": "code",
   "execution_count": 13,
   "metadata": {},
   "outputs": [
    {
     "name": "stderr",
     "output_type": "stream",
     "text": [
      "The following columns in the test set  don't have a corresponding argument in `RobertaForSequenceClassification.forward` and have been ignored: text.\n",
      "***** Running Prediction *****\n",
      "  Num examples = 2843\n",
      "  Batch size = 8\n"
     ]
    },
    {
     "name": "stdout",
     "output_type": "stream",
     "text": [
      "Accuracy:  {'accuracy': 0.9120647203658108}\n",
      "Precision:  {'precision': 0.9120647203658108}\n",
      "Recall:  {'recall': 1.0}\n",
      "Macro F1:  {'f1': 0.4770051508462104}\n"
     ]
    }
   ],
   "source": [
    "# Predictions on test set\n",
    "predictions = trainer.predict(tokenized_datasets[\"test\"])\n",
    "preds = np.argmax(predictions.predictions, axis=-1)\n",
    "accuracy = metric1.compute(predictions=preds, references=predictions.label_ids)\n",
    "precision = metric2.compute(predictions=preds, references=predictions.label_ids)\n",
    "recall = metric3.compute(predictions=preds, references=predictions.label_ids)\n",
    "macro_f1 = metric4.compute(predictions=preds, references=predictions.label_ids, average='macro')\n",
    "print(\"Accuracy: \", accuracy)\n",
    "print(\"Precision: \", precision)\n",
    "print(\"Recall: \", recall)\n",
    "print(\"Macro F1: \", macro_f1)"
   ]
  }
 ],
 "metadata": {
  "kernelspec": {
   "display_name": "Python 3.7.11 ('py37': conda)",
   "language": "python",
   "name": "python3"
  },
  "language_info": {
   "codemirror_mode": {
    "name": "ipython",
    "version": 3
   },
   "file_extension": ".py",
   "mimetype": "text/x-python",
   "name": "python",
   "nbconvert_exporter": "python",
   "pygments_lexer": "ipython3",
   "version": "3.7.11"
  },
  "orig_nbformat": 4,
  "vscode": {
   "interpreter": {
    "hash": "7a67492e6edd839247f88539501b6e58f755504339f85783a0bf23372fdc3c03"
   }
  }
 },
 "nbformat": 4,
 "nbformat_minor": 2
}
