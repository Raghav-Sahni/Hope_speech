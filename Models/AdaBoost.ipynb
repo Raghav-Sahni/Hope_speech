{
 "cells": [
  {
   "cell_type": "code",
   "execution_count": 32,
   "metadata": {},
   "outputs": [
    {
     "name": "stdout",
     "output_type": "stream",
     "text": [
      "^C\n"
     ]
    }
   ],
   "source": [
    "#!pip install eli5"
   ]
  },
  {
   "cell_type": "code",
   "execution_count": 13,
   "metadata": {},
   "outputs": [],
   "source": [
    "from embeddings_loader import *\n",
    "from sklearn.ensemble import AdaBoostClassifier\n",
    "from sklearn.tree import DecisionTreeClassifier\n",
    "from sklearn.metrics import f1_score\n",
    "from sklearn.metrics import accuracy_score\n",
    "from sklearn.metrics import confusion_matrix\n",
    "from sklearn.metrics import classification_report\n",
    "from sklearn.metrics import recall_score\n",
    "from sklearn.metrics import precision_score\n",
    "from sklearn.metrics import roc_auc_score\n",
    "import matplotlib.pyplot as plt\n",
    "import pickle\n",
    "#import eli5"
   ]
  },
  {
   "cell_type": "code",
   "execution_count": 2,
   "metadata": {},
   "outputs": [],
   "source": [
    "train_labels, dev_labels, test_labels = load_labels()"
   ]
  },
  {
   "cell_type": "code",
   "execution_count": 3,
   "metadata": {},
   "outputs": [],
   "source": [
    "def computeAllScores(y_pred_train, y_pred_dev, y_pred_test):\n",
    "    print(\"Accuracy Train: \", accuracy_score(train_labels, y_pred_train))\n",
    "    print(\"Accuracy Dev: \", accuracy_score(dev_labels, y_pred_dev))\n",
    "    print(\"Accuracy Test: \", accuracy_score(test_labels, y_pred_test))\n",
    "    print(\"F1 Train: \", f1_score(train_labels, y_pred_train, average='weighted'))\n",
    "    print(\"F1 Dev: \", f1_score(dev_labels, y_pred_dev, average='weighted'))\n",
    "    print(\"F1 Test: \", f1_score(test_labels, y_pred_test, average='weighted'))\n",
    "    print(\"Precision Train: \", precision_score(train_labels, y_pred_train, average='weighted'))\n",
    "    print(\"Precision Dev: \", precision_score(dev_labels, y_pred_dev, average='weighted'))\n",
    "    print(\"Precision Test: \", precision_score(test_labels, y_pred_test, average='weighted'))\n",
    "    print(\"Recall Train: \", recall_score(train_labels, y_pred_train, average='weighted'))\n",
    "    print(\"Recall Dev: \", recall_score(dev_labels, y_pred_dev, average='weighted'))\n",
    "    print(\"Recall Test: \", recall_score(test_labels, y_pred_test, average='weighted'))\n",
    "    # Confusion Matrix\n",
    "    print(\"Confusion Matrix Train: \")\n",
    "    print(confusion_matrix(train_labels, y_pred_train))\n",
    "    print(\"Confusion Matrix Dev: \")\n",
    "    print(confusion_matrix(dev_labels, y_pred_dev))\n",
    "    print(\"Confusion Matrix Test: \")\n",
    "    print(confusion_matrix(test_labels, y_pred_test))"
   ]
  },
  {
   "cell_type": "code",
   "execution_count": 4,
   "metadata": {},
   "outputs": [],
   "source": [
    "label_replacement = {\n",
    "    'Hope_speech': 0,\n",
    "    'Non_hope_speech': 1,\n",
    "    'not-English': 2,\n",
    "}"
   ]
  },
  {
   "cell_type": "code",
   "execution_count": 5,
   "metadata": {},
   "outputs": [],
   "source": [
    "# Replace labels with numbers\n",
    "train_labels = [label_replacement[label] for label in train_labels]\n",
    "dev_labels = [label_replacement[label] for label in dev_labels]\n",
    "test_labels = [label_replacement[label] for label in test_labels]"
   ]
  },
  {
   "cell_type": "markdown",
   "metadata": {},
   "source": [
    "### Glove Twitter 25"
   ]
  },
  {
   "cell_type": "code",
   "execution_count": 6,
   "metadata": {},
   "outputs": [],
   "source": [
    "gt25_train, gt25_dev, gt25_test = load_glove_twitter_25()"
   ]
  },
  {
   "cell_type": "code",
   "execution_count": 7,
   "metadata": {},
   "outputs": [],
   "source": [
    "# Set all NaN values to 0\n",
    "gt25_train = np.nan_to_num(gt25_train)\n",
    "gt25_dev = np.nan_to_num(gt25_dev)\n",
    "gt25_test = np.nan_to_num(gt25_test)"
   ]
  },
  {
   "cell_type": "code",
   "execution_count": 8,
   "metadata": {},
   "outputs": [
    {
     "data": {
      "text/plain": [
       "(22762, 25)"
      ]
     },
     "execution_count": 8,
     "metadata": {},
     "output_type": "execute_result"
    }
   ],
   "source": [
    "gt25_train.shape"
   ]
  },
  {
   "cell_type": "code",
   "execution_count": 9,
   "metadata": {},
   "outputs": [],
   "source": [
    "adaboost = AdaBoostClassifier(base_estimator = DecisionTreeClassifier(max_depth = 2)).fit(gt25_train, train_labels)"
   ]
  },
  {
   "cell_type": "code",
   "execution_count": 10,
   "metadata": {},
   "outputs": [],
   "source": [
    "train_preds = adaboost.predict(gt25_train)\n",
    "dev_preds = adaboost.predict(gt25_dev)\n",
    "test_preds = adaboost.predict(gt25_test)"
   ]
  },
  {
   "cell_type": "code",
   "execution_count": 11,
   "metadata": {
    "scrolled": false
   },
   "outputs": [
    {
     "name": "stdout",
     "output_type": "stream",
     "text": [
      "Accuracy Train:  0.8651260873385467\n",
      "Accuracy Dev:  0.8519169890960253\n",
      "Accuracy Test:  0.8601546029515109\n",
      "F1 Train:  0.8634566175906272\n",
      "F1 Dev:  0.8489363515665327\n",
      "F1 Test:  0.8574536741888351\n",
      "Precision Train:  0.8619090918965455\n",
      "Precision Dev:  0.8460501248740658\n",
      "Precision Test:  0.8548172854067758\n",
      "Recall Train:  0.8651260873385467\n",
      "Recall Dev:  0.8519169890960253\n",
      "Recall Test:  0.8601546029515109\n",
      "Confusion Matrix Train: \n",
      "[[  383  1579     0]\n",
      " [ 1478 19298     2]\n",
      " [    0    11    11]]\n",
      "Confusion Matrix Dev: \n",
      "[[  52  220    0]\n",
      " [ 199 2370    0]\n",
      " [   0    2    0]]\n",
      "Confusion Matrix Test: \n",
      "[[  44  206    0]\n",
      " [ 189 2404    0]\n",
      " [   0    3    0]]\n"
     ]
    },
    {
     "name": "stderr",
     "output_type": "stream",
     "text": [
      "C:\\Users\\Raghav Sahni\\AppData\\Roaming\\Python\\Python39\\site-packages\\sklearn\\metrics\\_classification.py:1334: UndefinedMetricWarning: Precision is ill-defined and being set to 0.0 in labels with no predicted samples. Use `zero_division` parameter to control this behavior.\n",
      "  _warn_prf(average, modifier, msg_start, len(result))\n",
      "C:\\Users\\Raghav Sahni\\AppData\\Roaming\\Python\\Python39\\site-packages\\sklearn\\metrics\\_classification.py:1334: UndefinedMetricWarning: Precision is ill-defined and being set to 0.0 in labels with no predicted samples. Use `zero_division` parameter to control this behavior.\n",
      "  _warn_prf(average, modifier, msg_start, len(result))\n"
     ]
    }
   ],
   "source": [
    "computeAllScores(train_preds, dev_preds, test_preds)"
   ]
  },
  {
   "cell_type": "code",
   "execution_count": 15,
   "metadata": {},
   "outputs": [],
   "source": [
    "filename = 'adab_gt25.sav'\n",
    "pickle.dump(adaboost, open(filename, 'wb'))"
   ]
  },
  {
   "cell_type": "markdown",
   "metadata": {},
   "source": [
    "### FastText 300 "
   ]
  },
  {
   "cell_type": "code",
   "execution_count": 16,
   "metadata": {},
   "outputs": [],
   "source": [
    "ft300_train, ft300_dev, ft300_test = load_fasttext_300()"
   ]
  },
  {
   "cell_type": "code",
   "execution_count": 17,
   "metadata": {},
   "outputs": [],
   "source": [
    "# Set all NaN values to 0\n",
    "ft300_train = np.nan_to_num(ft300_train)\n",
    "ft300_dev = np.nan_to_num(ft300_dev)\n",
    "ft300_test = np.nan_to_num(ft300_test)"
   ]
  },
  {
   "cell_type": "code",
   "execution_count": 18,
   "metadata": {},
   "outputs": [
    {
     "data": {
      "text/plain": [
       "(22762, 300)"
      ]
     },
     "execution_count": 18,
     "metadata": {},
     "output_type": "execute_result"
    }
   ],
   "source": [
    "ft300_train.shape"
   ]
  },
  {
   "cell_type": "code",
   "execution_count": 19,
   "metadata": {},
   "outputs": [],
   "source": [
    "adaboost = AdaBoostClassifier(base_estimator = DecisionTreeClassifier(max_depth = 2)).fit(ft300_train, train_labels)"
   ]
  },
  {
   "cell_type": "code",
   "execution_count": 20,
   "metadata": {},
   "outputs": [],
   "source": [
    "train_preds = adaboost.predict(ft300_train)\n",
    "dev_preds = adaboost.predict(ft300_dev)\n",
    "test_preds = adaboost.predict(ft300_test)"
   ]
  },
  {
   "cell_type": "code",
   "execution_count": 21,
   "metadata": {},
   "outputs": [
    {
     "name": "stdout",
     "output_type": "stream",
     "text": [
      "Accuracy Train:  0.8152183463667516\n",
      "Accuracy Dev:  0.8030249736194162\n",
      "Accuracy Test:  0.8056921995783556\n",
      "F1 Train:  0.8392536332744309\n",
      "F1 Dev:  0.8241782535566733\n",
      "F1 Test:  0.8317152215447067\n",
      "Precision Train:  0.8707648989764\n",
      "Precision Dev:  0.8508081571312525\n",
      "Precision Test:  0.86658808212413\n",
      "Recall Train:  0.8152183463667516\n",
      "Recall Dev:  0.8030249736194162\n",
      "Recall Test:  0.8056921995783556\n",
      "Confusion Matrix Train: \n",
      "[[  718  1244     0]\n",
      " [ 2955 17821     2]\n",
      " [    0     5    17]]\n",
      "Confusion Matrix Dev: \n",
      "[[  87  185    0]\n",
      " [ 373 2196    0]\n",
      " [   0    2    0]]\n",
      "Confusion Matrix Test: \n",
      "[[  94  156    0]\n",
      " [ 394 2199    0]\n",
      " [   0    3    0]]\n"
     ]
    },
    {
     "name": "stderr",
     "output_type": "stream",
     "text": [
      "C:\\Users\\Raghav Sahni\\AppData\\Roaming\\Python\\Python39\\site-packages\\sklearn\\metrics\\_classification.py:1334: UndefinedMetricWarning: Precision is ill-defined and being set to 0.0 in labels with no predicted samples. Use `zero_division` parameter to control this behavior.\n",
      "  _warn_prf(average, modifier, msg_start, len(result))\n",
      "C:\\Users\\Raghav Sahni\\AppData\\Roaming\\Python\\Python39\\site-packages\\sklearn\\metrics\\_classification.py:1334: UndefinedMetricWarning: Precision is ill-defined and being set to 0.0 in labels with no predicted samples. Use `zero_division` parameter to control this behavior.\n",
      "  _warn_prf(average, modifier, msg_start, len(result))\n"
     ]
    }
   ],
   "source": [
    "computeAllScores(train_preds, dev_preds, test_preds)"
   ]
  },
  {
   "cell_type": "code",
   "execution_count": 22,
   "metadata": {},
   "outputs": [],
   "source": [
    "filename = 'adab_ft300.sav'\n",
    "pickle.dump(adaboost, open(filename, 'wb'))"
   ]
  },
  {
   "cell_type": "markdown",
   "metadata": {},
   "source": [
    "### Word2Vec 300"
   ]
  },
  {
   "cell_type": "code",
   "execution_count": 23,
   "metadata": {},
   "outputs": [],
   "source": [
    "w2v300_train, w2v300_dev, w2v300_test = load_word2vec_300()"
   ]
  },
  {
   "cell_type": "code",
   "execution_count": 24,
   "metadata": {},
   "outputs": [],
   "source": [
    "# Set all NaN values to 0\n",
    "w2v300_train = np.nan_to_num(w2v300_train)\n",
    "w2v300_dev = np.nan_to_num(w2v300_dev)\n",
    "w2v300_test = np.nan_to_num(w2v300_test)"
   ]
  },
  {
   "cell_type": "code",
   "execution_count": 25,
   "metadata": {},
   "outputs": [
    {
     "data": {
      "text/plain": [
       "(22762, 300)"
      ]
     },
     "execution_count": 25,
     "metadata": {},
     "output_type": "execute_result"
    }
   ],
   "source": [
    "w2v300_train.shape"
   ]
  },
  {
   "cell_type": "code",
   "execution_count": 26,
   "metadata": {},
   "outputs": [],
   "source": [
    "adaboost = AdaBoostClassifier(base_estimator = DecisionTreeClassifier(max_depth = 2)).fit(w2v300_train, train_labels)"
   ]
  },
  {
   "cell_type": "code",
   "execution_count": 27,
   "metadata": {},
   "outputs": [],
   "source": [
    "train_preds = adaboost.predict(w2v300_train)\n",
    "dev_preds = adaboost.predict(w2v300_dev)\n",
    "test_preds = adaboost.predict(w2v300_test)"
   ]
  },
  {
   "cell_type": "code",
   "execution_count": 28,
   "metadata": {},
   "outputs": [
    {
     "name": "stdout",
     "output_type": "stream",
     "text": [
      "Accuracy Train:  0.8242685177049468\n",
      "Accuracy Dev:  0.8195568061906436\n",
      "Accuracy Test:  0.82536893886156\n",
      "F1 Train:  0.8472376352180637\n",
      "F1 Dev:  0.8402267907520905\n",
      "F1 Test:  0.8478456111422413\n",
      "Precision Train:  0.8786065874502614\n",
      "Precision Dev:  0.8687258102343165\n",
      "Precision Test:  0.8794535266335024\n",
      "Recall Train:  0.8242685177049468\n",
      "Recall Dev:  0.8195568061906436\n",
      "Recall Test:  0.82536893886156\n",
      "Confusion Matrix Train: \n",
      "[[  831  1131     0]\n",
      " [ 2860 17918     0]\n",
      " [    0     9    13]]\n",
      "Confusion Matrix Dev: \n",
      "[[ 120  152    0]\n",
      " [ 359 2210    0]\n",
      " [   0    2    0]]\n",
      "Confusion Matrix Test: \n",
      "[[ 115  135    0]\n",
      " [ 358 2234    1]\n",
      " [   0    3    0]]\n"
     ]
    },
    {
     "name": "stderr",
     "output_type": "stream",
     "text": [
      "C:\\Users\\Raghav Sahni\\AppData\\Roaming\\Python\\Python39\\site-packages\\sklearn\\metrics\\_classification.py:1334: UndefinedMetricWarning: Precision is ill-defined and being set to 0.0 in labels with no predicted samples. Use `zero_division` parameter to control this behavior.\n",
      "  _warn_prf(average, modifier, msg_start, len(result))\n"
     ]
    }
   ],
   "source": [
    "computeAllScores(train_preds, dev_preds, test_preds)"
   ]
  },
  {
   "cell_type": "code",
   "execution_count": 29,
   "metadata": {},
   "outputs": [],
   "source": [
    "filename = 'adab_w2v300.sav'\n",
    "pickle.dump(adaboost, open(filename, 'wb'))"
   ]
  },
  {
   "cell_type": "markdown",
   "metadata": {},
   "source": [
    "### TF-IDF PCA (1000 Dims)"
   ]
  },
  {
   "cell_type": "code",
   "execution_count": 30,
   "metadata": {},
   "outputs": [],
   "source": [
    "tfidf_pca_train, tfidf_pca_dev, tfidf_pca_test = load_tfidf_pca()"
   ]
  },
  {
   "cell_type": "code",
   "execution_count": 31,
   "metadata": {},
   "outputs": [
    {
     "data": {
      "text/plain": [
       "(22762, 1000)"
      ]
     },
     "execution_count": 31,
     "metadata": {},
     "output_type": "execute_result"
    }
   ],
   "source": [
    "tfidf_pca_train.shape"
   ]
  },
  {
   "cell_type": "code",
   "execution_count": 32,
   "metadata": {},
   "outputs": [],
   "source": [
    "adaboost = AdaBoostClassifier(base_estimator = DecisionTreeClassifier(max_depth = 2)).fit(tfidf_pca_train, train_labels)"
   ]
  },
  {
   "cell_type": "code",
   "execution_count": 33,
   "metadata": {},
   "outputs": [],
   "source": [
    "features = np.array([f\"pc{i}\" for i in range(1, 1001)])"
   ]
  },
  {
   "cell_type": "code",
   "execution_count": 34,
   "metadata": {},
   "outputs": [
    {
     "data": {
      "image/png": "[encoded data removed]",
      "text/plain": [
       "<Figure size 2400x600 with 1 Axes>"
      ]
     },
     "metadata": {},
     "output_type": "display_data"
    }
   ],
   "source": [
    "X = features[np.flip(np.argsort(adaboost.feature_importances_))]\n",
    "fig, axs = plt.subplots(1,1, figsize=(24,6))\n",
    "models = {'adaboost': adaboost} \n",
    "num_features = 10 \n",
    "for i, (name, model) in enumerate(models.items()):\n",
    "    importances = model.feature_importances_\n",
    "    order = np.argsort(importances)[-num_features:]\n",
    "    axs.barh(range(num_features), importances[order], tick_label=X[order]);\n",
    "    axs.set_title(f\"Relative Variable Importance for {name}\")"
   ]
  },
  {
   "cell_type": "code",
   "execution_count": 35,
   "metadata": {},
   "outputs": [],
   "source": [
    "train_preds = adaboost.predict(tfidf_pca_train)\n",
    "dev_preds = adaboost.predict(tfidf_pca_dev)\n",
    "test_preds = adaboost.predict(tfidf_pca_test)"
   ]
  },
  {
   "cell_type": "code",
   "execution_count": 36,
   "metadata": {},
   "outputs": [
    {
     "name": "stdout",
     "output_type": "stream",
     "text": [
      "Accuracy Train:  0.8533081451542044\n",
      "Accuracy Dev:  0.8343299331691875\n",
      "Accuracy Test:  0.8468025298664793\n",
      "F1 Train:  0.8541267185407689\n",
      "F1 Dev:  0.8330478354756079\n",
      "F1 Test:  0.8503313459852502\n",
      "Precision Train:  0.8549552349961186\n",
      "Precision Dev:  0.8317748758398955\n",
      "Precision Test:  0.8540137383749841\n",
      "Recall Train:  0.8533081451542044\n",
      "Recall Dev:  0.8343299331691875\n",
      "Recall Test:  0.8468025298664793\n",
      "Confusion Matrix Train: \n",
      "[[  320  1642     0]\n",
      " [ 1691 19083     4]\n",
      " [    0     2    20]]\n",
      "Confusion Matrix Dev: \n",
      "[[  34  238    0]\n",
      " [ 231 2338    0]\n",
      " [   0    2    0]]\n",
      "Confusion Matrix Test: \n",
      "[[  49  201    0]\n",
      " [ 231 2361    1]\n",
      " [   0    3    0]]\n"
     ]
    },
    {
     "name": "stderr",
     "output_type": "stream",
     "text": [
      "C:\\Users\\Raghav Sahni\\AppData\\Roaming\\Python\\Python39\\site-packages\\sklearn\\metrics\\_classification.py:1334: UndefinedMetricWarning: Precision is ill-defined and being set to 0.0 in labels with no predicted samples. Use `zero_division` parameter to control this behavior.\n",
      "  _warn_prf(average, modifier, msg_start, len(result))\n"
     ]
    }
   ],
   "source": [
    "computeAllScores(train_preds, dev_preds, test_preds)"
   ]
  },
  {
   "cell_type": "code",
   "execution_count": 37,
   "metadata": {},
   "outputs": [],
   "source": [
    "filename = 'adab_tfidf_pca.sav'\n",
    "pickle.dump(adaboost, open(filename, 'wb'))"
   ]
  },
  {
   "cell_type": "markdown",
   "metadata": {},
   "source": [
    "### Sentence Transformer Faster No PCA"
   ]
  },
  {
   "cell_type": "code",
   "execution_count": 38,
   "metadata": {},
   "outputs": [],
   "source": [
    "train, dev, test = load_sent_trans_fast_no_pca()"
   ]
  },
  {
   "cell_type": "code",
   "execution_count": 39,
   "metadata": {},
   "outputs": [
    {
     "data": {
      "text/plain": [
       "(22762, 384)"
      ]
     },
     "execution_count": 39,
     "metadata": {},
     "output_type": "execute_result"
    }
   ],
   "source": [
    "train.shape"
   ]
  },
  {
   "cell_type": "code",
   "execution_count": 40,
   "metadata": {},
   "outputs": [],
   "source": [
    "adaboost = AdaBoostClassifier(base_estimator = DecisionTreeClassifier(max_depth = 2)).fit(train, train_labels)"
   ]
  },
  {
   "cell_type": "code",
   "execution_count": 41,
   "metadata": {},
   "outputs": [],
   "source": [
    "train_preds = adaboost.predict(train)\n",
    "dev_preds = adaboost.predict(dev)\n",
    "test_preds = adaboost.predict(test)"
   ]
  },
  {
   "cell_type": "code",
   "execution_count": 42,
   "metadata": {},
   "outputs": [
    {
     "name": "stdout",
     "output_type": "stream",
     "text": [
      "Accuracy Train:  0.8351638696072401\n",
      "Accuracy Dev:  0.8332747098135772\n",
      "Accuracy Test:  0.8295853829936753\n",
      "F1 Train:  0.8543501584684046\n",
      "F1 Dev:  0.8488467295133384\n",
      "F1 Test:  0.8490839437945465\n",
      "Precision Train:  0.8797658129759514\n",
      "Precision Dev:  0.8692387265494607\n",
      "Precision Test:  0.8750528456595645\n",
      "Recall Train:  0.8351638696072401\n",
      "Recall Dev:  0.8332747098135772\n",
      "Recall Test:  0.8295853829936753\n",
      "Confusion Matrix Train: \n",
      "[[  812  1150     0]\n",
      " [ 2596 18179     3]\n",
      " [    0     3    19]]\n",
      "Confusion Matrix Dev: \n",
      "[[ 114  158    0]\n",
      " [ 314 2255    0]\n",
      " [   0    2    0]]\n",
      "Confusion Matrix Test: \n",
      "[[ 103  147    0]\n",
      " [ 334 2258    1]\n",
      " [   0    3    0]]\n"
     ]
    },
    {
     "name": "stderr",
     "output_type": "stream",
     "text": [
      "C:\\Users\\Raghav Sahni\\AppData\\Roaming\\Python\\Python39\\site-packages\\sklearn\\metrics\\_classification.py:1334: UndefinedMetricWarning: Precision is ill-defined and being set to 0.0 in labels with no predicted samples. Use `zero_division` parameter to control this behavior.\n",
      "  _warn_prf(average, modifier, msg_start, len(result))\n"
     ]
    }
   ],
   "source": [
    "computeAllScores(train_preds, dev_preds, test_preds)"
   ]
  },
  {
   "cell_type": "code",
   "execution_count": 43,
   "metadata": {},
   "outputs": [],
   "source": [
    "filename = 'sen_t_fast_no_pca.sav'\n",
    "pickle.dump(adaboost, open(filename, 'wb'))"
   ]
  },
  {
   "cell_type": "markdown",
   "metadata": {},
   "source": [
    "### Sentence Transformer Faster PCA"
   ]
  },
  {
   "cell_type": "code",
   "execution_count": 44,
   "metadata": {},
   "outputs": [],
   "source": [
    "train, dev, test = load_sent_trans_fast_pca()"
   ]
  },
  {
   "cell_type": "code",
   "execution_count": 45,
   "metadata": {},
   "outputs": [
    {
     "data": {
      "text/plain": [
       "(22762, 251)"
      ]
     },
     "execution_count": 45,
     "metadata": {},
     "output_type": "execute_result"
    }
   ],
   "source": [
    "train.shape"
   ]
  },
  {
   "cell_type": "code",
   "execution_count": 46,
   "metadata": {},
   "outputs": [],
   "source": [
    "adaboost = AdaBoostClassifier(base_estimator = DecisionTreeClassifier(max_depth = 2)).fit(train, train_labels)"
   ]
  },
  {
   "cell_type": "code",
   "execution_count": 47,
   "metadata": {},
   "outputs": [],
   "source": [
    "train_preds = adaboost.predict(train)\n",
    "dev_preds = adaboost.predict(dev)\n",
    "test_preds = adaboost.predict(test)"
   ]
  },
  {
   "cell_type": "code",
   "execution_count": 48,
   "metadata": {},
   "outputs": [
    {
     "name": "stdout",
     "output_type": "stream",
     "text": [
      "Accuracy Train:  0.8199191635181443\n",
      "Accuracy Dev:  0.8132254660569821\n",
      "Accuracy Test:  0.8179901616303584\n",
      "F1 Train:  0.8431307325187549\n",
      "F1 Dev:  0.8349145646693291\n",
      "F1 Test:  0.8417736476850288\n",
      "Precision Train:  0.8739611920003589\n",
      "Precision Dev:  0.8643607315928905\n",
      "Precision Test:  0.8745686348020801\n",
      "Recall Train:  0.8199191635181443\n",
      "Recall Dev:  0.8132254660569821\n",
      "Recall Test:  0.8179901616303584\n",
      "Confusion Matrix Train: \n",
      "[[  760  1202     0]\n",
      " [ 2890 17888     0]\n",
      " [    0     7    15]]\n",
      "Confusion Matrix Dev: \n",
      "[[ 113  159    0]\n",
      " [ 370 2199    0]\n",
      " [   0    2    0]]\n",
      "Confusion Matrix Test: \n",
      "[[ 107  143    0]\n",
      " [ 371 2221    1]\n",
      " [   0    3    0]]\n"
     ]
    },
    {
     "name": "stderr",
     "output_type": "stream",
     "text": [
      "C:\\Users\\Raghav Sahni\\AppData\\Roaming\\Python\\Python39\\site-packages\\sklearn\\metrics\\_classification.py:1334: UndefinedMetricWarning: Precision is ill-defined and being set to 0.0 in labels with no predicted samples. Use `zero_division` parameter to control this behavior.\n",
      "  _warn_prf(average, modifier, msg_start, len(result))\n"
     ]
    }
   ],
   "source": [
    "computeAllScores(train_preds, dev_preds, test_preds)"
   ]
  },
  {
   "cell_type": "code",
   "execution_count": 49,
   "metadata": {},
   "outputs": [],
   "source": [
    "filename = 'sen_t_fast_pca.sav'\n",
    "pickle.dump(adaboost, open(filename, 'wb'))"
   ]
  },
  {
   "cell_type": "markdown",
   "metadata": {},
   "source": [
    "### Sentence Transformer Better No PCA"
   ]
  },
  {
   "cell_type": "code",
   "execution_count": 50,
   "metadata": {},
   "outputs": [],
   "source": [
    "train, dev, test = load_sent_trans_better_no_pca()"
   ]
  },
  {
   "cell_type": "code",
   "execution_count": 51,
   "metadata": {},
   "outputs": [
    {
     "data": {
      "text/plain": [
       "(22762, 768)"
      ]
     },
     "execution_count": 51,
     "metadata": {},
     "output_type": "execute_result"
    }
   ],
   "source": [
    "train.shape"
   ]
  },
  {
   "cell_type": "code",
   "execution_count": 52,
   "metadata": {},
   "outputs": [],
   "source": [
    "adaboost = AdaBoostClassifier(base_estimator = DecisionTreeClassifier(max_depth = 2)).fit(train, train_labels)"
   ]
  },
  {
   "cell_type": "code",
   "execution_count": 53,
   "metadata": {},
   "outputs": [],
   "source": [
    "train_preds = adaboost.predict(train)\n",
    "dev_preds = adaboost.predict(dev)\n",
    "test_preds = adaboost.predict(test)"
   ]
  },
  {
   "cell_type": "code",
   "execution_count": 54,
   "metadata": {},
   "outputs": [
    {
     "name": "stdout",
     "output_type": "stream",
     "text": [
      "Accuracy Train:  0.8825674369563308\n",
      "Accuracy Dev:  0.8730214562082308\n",
      "Accuracy Test:  0.8794799718903724\n",
      "F1 Train:  0.8823792876923818\n",
      "F1 Dev:  0.8725904884980649\n",
      "F1 Test:  0.8788271436818323\n",
      "Precision Train:  0.8822076514829829\n",
      "Precision Dev:  0.8721603128925309\n",
      "Precision Test:  0.8781779294270047\n",
      "Recall Train:  0.8825674369563308\n",
      "Recall Dev:  0.8730214562082308\n",
      "Recall Test:  0.8794799718903724\n",
      "Confusion Matrix Train: \n",
      "[[  623  1339     0]\n",
      " [ 1326 19450     2]\n",
      " [    0     6    16]]\n",
      "Confusion Matrix Dev: \n",
      "[[  92  180    0]\n",
      " [ 179 2390    0]\n",
      " [   0    2    0]]\n",
      "Confusion Matrix Test: \n",
      "[[  79  171    0]\n",
      " [ 168 2424    1]\n",
      " [   0    3    0]]\n"
     ]
    },
    {
     "name": "stderr",
     "output_type": "stream",
     "text": [
      "C:\\Users\\Raghav Sahni\\AppData\\Roaming\\Python\\Python39\\site-packages\\sklearn\\metrics\\_classification.py:1334: UndefinedMetricWarning: Precision is ill-defined and being set to 0.0 in labels with no predicted samples. Use `zero_division` parameter to control this behavior.\n",
      "  _warn_prf(average, modifier, msg_start, len(result))\n"
     ]
    }
   ],
   "source": [
    "computeAllScores(train_preds, dev_preds, test_preds)"
   ]
  },
  {
   "cell_type": "code",
   "execution_count": 55,
   "metadata": {},
   "outputs": [],
   "source": [
    "filename = 'sen_t_better_no_pca.sav'\n",
    "pickle.dump(adaboost, open(filename, 'wb'))"
   ]
  },
  {
   "cell_type": "markdown",
   "metadata": {},
   "source": [
    "### Sentence Transformer Better PCA"
   ]
  },
  {
   "cell_type": "code",
   "execution_count": 56,
   "metadata": {},
   "outputs": [],
   "source": [
    "train, dev, test = load_sent_trans_better_pca()"
   ]
  },
  {
   "cell_type": "code",
   "execution_count": 57,
   "metadata": {},
   "outputs": [],
   "source": [
    "adaboost = AdaBoostClassifier(base_estimator = DecisionTreeClassifier(max_depth = 2)).fit(train, train_labels)"
   ]
  },
  {
   "cell_type": "code",
   "execution_count": 58,
   "metadata": {},
   "outputs": [],
   "source": [
    "train_preds = adaboost.predict(train)\n",
    "dev_preds = adaboost.predict(dev)\n",
    "test_preds = adaboost.predict(test)"
   ]
  },
  {
   "cell_type": "code",
   "execution_count": 59,
   "metadata": {},
   "outputs": [
    {
     "name": "stdout",
     "output_type": "stream",
     "text": [
      "Accuracy Train:  0.8905192865301819\n",
      "Accuracy Dev:  0.8913119943721421\n",
      "Accuracy Test:  0.8952916373858046\n",
      "F1 Train:  0.8828159331500104\n",
      "F1 Dev:  0.8810802874064486\n",
      "F1 Test:  0.8869877813619165\n",
      "Precision Train:  0.8765196750575535\n",
      "Precision Dev:  0.8739795361397081\n",
      "Precision Test:  0.8806261343951665\n",
      "Recall Train:  0.8905192865301819\n",
      "Recall Dev:  0.8913119943721421\n",
      "Recall Test:  0.8952916373858046\n",
      "Confusion Matrix Train: \n",
      "[[  460  1502     0]\n",
      " [  980 19795     3]\n",
      " [    0     7    15]]\n",
      "Confusion Matrix Dev: \n",
      "[[  73  199    0]\n",
      " [ 108 2461    0]\n",
      " [   0    2    0]]\n",
      "Confusion Matrix Test: \n",
      "[[  67  183    0]\n",
      " [ 111 2481    1]\n",
      " [   0    3    0]]\n"
     ]
    },
    {
     "name": "stderr",
     "output_type": "stream",
     "text": [
      "C:\\Users\\Raghav Sahni\\AppData\\Roaming\\Python\\Python39\\site-packages\\sklearn\\metrics\\_classification.py:1334: UndefinedMetricWarning: Precision is ill-defined and being set to 0.0 in labels with no predicted samples. Use `zero_division` parameter to control this behavior.\n",
      "  _warn_prf(average, modifier, msg_start, len(result))\n"
     ]
    }
   ],
   "source": [
    "computeAllScores(train_preds, dev_preds, test_preds)"
   ]
  },
  {
   "cell_type": "code",
   "execution_count": 60,
   "metadata": {},
   "outputs": [],
   "source": [
    "filename = 'sen_t_better_pca.sav'\n",
    "pickle.dump(adaboost, open(filename, 'wb'))"
   ]
  }
 ],
 "metadata": {
  "kernelspec": {
   "display_name": "Python 3 (ipykernel)",
   "language": "python",
   "name": "python3"
  },
  "language_info": {
   "codemirror_mode": {
    "name": "ipython",
    "version": 3
   },
   "file_extension": ".py",
   "mimetype": "text/x-python",
   "name": "python",
   "nbconvert_exporter": "python",
   "pygments_lexer": "ipython3",
   "version": "3.9.1"
  },
  "vscode": {
   "interpreter": {
    "hash": "a5a87ee616be0254e3f1af9223138e3faeac65b2c9d91bc22a9fc5a4a8bd8eb0"
   }
  }
 },
 "nbformat": 4,
 "nbformat_minor": 2
}
