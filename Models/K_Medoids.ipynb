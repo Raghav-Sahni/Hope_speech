{
 "cells": [
  {
   "cell_type": "code",
   "execution_count": 22,
   "metadata": {},
   "outputs": [],
   "source": [
    "from embeddings_loader import *\n",
    "from sklearn_extra.cluster import KMedoids\n",
    "from sklearn.metrics import f1_score\n",
    "from sklearn.metrics import accuracy_score\n",
    "from sklearn.metrics import confusion_matrix\n",
    "from sklearn.metrics import classification_report\n",
    "from sklearn.metrics import recall_score\n",
    "from sklearn.metrics import precision_score\n",
    "from sklearn.metrics import roc_auc_score\n",
    "from utils import *\n"
   ]
  },
  {
   "cell_type": "code",
   "execution_count": 23,
   "metadata": {},
   "outputs": [],
   "source": [
    "train_labels, dev_labels, test_labels = load_labels()"
   ]
  },
  {
   "cell_type": "code",
   "execution_count": 24,
   "metadata": {},
   "outputs": [],
   "source": [
    "label_replacement = {\n",
    "    'Hope_speech': 0,\n",
    "    'Non_hope_speech': 1,\n",
    "    'not-English': 2,\n",
    "}"
   ]
  },
  {
   "cell_type": "code",
   "execution_count": 25,
   "metadata": {},
   "outputs": [],
   "source": [
    "# Replace labels with numbers\n",
    "train_labels = [label_replacement[label] for label in train_labels]\n",
    "dev_labels = [label_replacement[label] for label in dev_labels]\n",
    "test_labels = [label_replacement[label] for label in test_labels]"
   ]
  },
  {
   "cell_type": "markdown",
   "metadata": {},
   "source": [
    "### Glove Twitter 25"
   ]
  },
  {
   "cell_type": "code",
   "execution_count": 26,
   "metadata": {},
   "outputs": [],
   "source": [
    "gt25_train, gt25_dev, gt25_test = load_glove_twitter_25()"
   ]
  },
  {
   "cell_type": "code",
   "execution_count": 27,
   "metadata": {},
   "outputs": [],
   "source": [
    "# Set all NaN values to 0\n",
    "gt25_train = np.nan_to_num(gt25_train)\n",
    "gt25_dev = np.nan_to_num(gt25_dev)\n",
    "gt25_test = np.nan_to_num(gt25_test)"
   ]
  },
  {
   "cell_type": "code",
   "execution_count": 28,
   "metadata": {},
   "outputs": [],
   "source": [
    "k_medoids = KMedoids(n_clusters=3, random_state=0).fit(gt25_train, train_labels)\n",
    "save_model(k_medoids, \"k_medoids_gt25.joblib\")"
   ]
  },
  {
   "cell_type": "code",
   "execution_count": 29,
   "metadata": {},
   "outputs": [],
   "source": [
    "train_preds = k_medoids.predict(gt25_train)\n",
    "dev_preds = k_medoids.predict(gt25_dev)\n",
    "test_preds = k_medoids.predict(gt25_test)"
   ]
  },
  {
   "cell_type": "code",
   "execution_count": 30,
   "metadata": {},
   "outputs": [
    {
     "name": "stdout",
     "output_type": "stream",
     "text": [
      "Accuracy Train:  0.39056321940075567\n",
      "Accuracy Dev:  0.3939500527611678\n",
      "Accuracy Test:  0.3882642304989459\n",
      "Weighted F1 Train:  0.5223527450922112\n",
      "Weighted F1 Dev:  0.5195456233834906\n",
      "Weighted F1 Test:  0.5199517346530479\n",
      "Macro F1 Train:  0.23299111756158597\n",
      "Macro F1 Dev:  0.24149580109249755\n",
      "Macro F1 Test:  0.2308150733779275\n",
      "Micro F1 Train:  0.39056321940075567\n",
      "Micro F1 Dev:  0.3939500527611678\n",
      "Micro F1 Test:  0.3882642304989459\n",
      "Weighted Recall Train:  0.39056321940075567\n",
      "Weighted Recall Dev:  0.3939500527611678\n",
      "Weighted Recall Test:  0.3882642304989459\n",
      "Macro Recall Train:  0.2999336290008057\n",
      "Macro Recall Dev:  0.2527047603782657\n",
      "Macro Recall Test:  0.3445951064832669\n",
      "Micro Recall Train:  0.39056321940075567\n",
      "Micro Recall Dev:  0.3939500527611678\n",
      "Micro Recall Test:  0.3882642304989459\n",
      "Confusion Matrix Train: \n",
      "[[ 629  488  845]\n",
      " [6474 8257 6047]\n",
      " [   6   12    4]]\n",
      "Confusion Matrix Dev: \n",
      "[[  98   75   99]\n",
      " [ 802 1022  745]\n",
      " [   0    2    0]]\n",
      "Confusion Matrix Test: \n",
      "[[  76   63  111]\n",
      " [ 823 1028  742]\n",
      " [   1    1    1]]\n"
     ]
    }
   ],
   "source": [
    "computeAllScores(train_preds, dev_preds, test_preds)"
   ]
  },
  {
   "cell_type": "markdown",
   "metadata": {},
   "source": [
    "### FastText 300 "
   ]
  },
  {
   "cell_type": "code",
   "execution_count": 31,
   "metadata": {},
   "outputs": [],
   "source": [
    "ft300_train, ft300_dev, ft300_test = load_fasttext_300()"
   ]
  },
  {
   "cell_type": "code",
   "execution_count": 32,
   "metadata": {},
   "outputs": [],
   "source": [
    "# Set all NaN values to 0\n",
    "ft300_train = np.nan_to_num(ft300_train)\n",
    "ft300_dev = np.nan_to_num(ft300_dev)\n",
    "ft300_test = np.nan_to_num(ft300_test)"
   ]
  },
  {
   "cell_type": "code",
   "execution_count": 33,
   "metadata": {},
   "outputs": [],
   "source": [
    "k_medoids = KMedoids(n_clusters=3, random_state=0).fit(ft300_train, train_labels)\n",
    "save_model(k_medoids, \"k_medoids_ft300.joblib\")"
   ]
  },
  {
   "cell_type": "code",
   "execution_count": 34,
   "metadata": {},
   "outputs": [],
   "source": [
    "train_preds = k_medoids.predict(ft300_train)\n",
    "dev_preds = k_medoids.predict(ft300_dev)\n",
    "test_preds = k_medoids.predict(ft300_test)"
   ]
  },
  {
   "cell_type": "code",
   "execution_count": 35,
   "metadata": {},
   "outputs": [
    {
     "name": "stdout",
     "output_type": "stream",
     "text": [
      "Accuracy Train:  0.30151129074773747\n",
      "Accuracy Dev:  0.3119943721421034\n",
      "Accuracy Test:  0.3021784961349262\n",
      "Weighted F1 Train:  0.4109333008773261\n",
      "Weighted F1 Dev:  0.4200063542529816\n",
      "Weighted F1 Test:  0.408778787625074\n",
      "Macro F1 Train:  0.18952357012854415\n",
      "Macro F1 Dev:  0.19813893483270875\n",
      "Macro F1 Test:  0.19204232944421282\n",
      "Micro F1 Train:  0.30151129074773747\n",
      "Micro F1 Dev:  0.3119943721421034\n",
      "Micro F1 Test:  0.3021784961349262\n",
      "Weighted Recall Train:  0.30151129074773747\n",
      "Weighted Recall Dev:  0.3119943721421034\n",
      "Weighted Recall Test:  0.3021784961349262\n",
      "Macro Recall Train:  0.28628109207736036\n",
      "Macro Recall Dev:  0.40982844091315\n",
      "Macro Recall Test:  0.2527183442601877\n",
      "Micro Recall Train:  0.30151129074773747\n",
      "Micro Recall Dev:  0.3119943721421034\n",
      "Micro Recall Test:  0.3021784961349262\n",
      "Confusion Matrix Train: \n",
      "[[  850   651   461]\n",
      " [10313  6010  4455]\n",
      " [   12     7     3]]\n",
      "Confusion Matrix Dev: \n",
      "[[ 117   80   75]\n",
      " [1267  769  533]\n",
      " [   0    1    1]]\n",
      "Confusion Matrix Test: \n",
      "[[ 118   75   57]\n",
      " [1303  742  548]\n",
      " [   2    1    0]]\n"
     ]
    }
   ],
   "source": [
    "computeAllScores(train_preds, dev_preds, test_preds)"
   ]
  },
  {
   "cell_type": "markdown",
   "metadata": {},
   "source": [
    "### Word2Vec 300"
   ]
  },
  {
   "cell_type": "code",
   "execution_count": 36,
   "metadata": {},
   "outputs": [],
   "source": [
    "w2v300_train, w2v300_dev, w2v300_test = load_word2vec_300()"
   ]
  },
  {
   "cell_type": "code",
   "execution_count": 37,
   "metadata": {},
   "outputs": [],
   "source": [
    "# Set all NaN values to 0\n",
    "w2v300_train = np.nan_to_num(w2v300_train)\n",
    "w2v300_dev = np.nan_to_num(w2v300_dev)\n",
    "w2v300_test = np.nan_to_num(w2v300_test)"
   ]
  },
  {
   "cell_type": "code",
   "execution_count": 38,
   "metadata": {},
   "outputs": [],
   "source": [
    "k_medoids = KMedoids(n_clusters=3, random_state=0).fit(w2v300_train, train_labels)\n",
    "save_model(k_medoids, \"k_medoids_w2v300.joblib\")"
   ]
  },
  {
   "cell_type": "code",
   "execution_count": 39,
   "metadata": {},
   "outputs": [],
   "source": [
    "train_preds = k_medoids.predict(w2v300_train)\n",
    "dev_preds = k_medoids.predict(w2v300_dev)\n",
    "test_preds = k_medoids.predict(w2v300_test)"
   ]
  },
  {
   "cell_type": "code",
   "execution_count": 40,
   "metadata": {},
   "outputs": [
    {
     "name": "stdout",
     "output_type": "stream",
     "text": [
      "Accuracy Train:  0.3707494947719884\n",
      "Accuracy Dev:  0.38199085473091804\n",
      "Accuracy Test:  0.3713984539704849\n",
      "Weighted F1 Train:  0.49738475737975885\n",
      "Weighted F1 Dev:  0.5056663668221113\n",
      "Weighted F1 Test:  0.49969592051483397\n",
      "Macro F1 Train:  0.23889330096627073\n",
      "Macro F1 Dev:  0.2492302440397095\n",
      "Macro F1 Test:  0.23993587762796267\n",
      "Micro F1 Train:  0.3707494947719884\n",
      "Micro F1 Dev:  0.38199085473091804\n",
      "Micro F1 Test:  0.3713984539704849\n",
      "Weighted Recall Train:  0.3707494947719884\n",
      "Weighted Recall Dev:  0.38199085473091804\n",
      "Weighted Recall Test:  0.3713984539704849\n",
      "Macro Recall Train:  0.35835533026148364\n",
      "Macro Recall Dev:  0.442223551545959\n",
      "Macro Recall Test:  0.2659951150533488\n",
      "Micro Recall Train:  0.3707494947719884\n",
      "Micro Recall Dev:  0.38199085473091804\n",
      "Micro Recall Test:  0.3713984539704849\n",
      "Confusion Matrix Train: \n",
      "[[ 859  374  729]\n",
      " [6313 7574 6891]\n",
      " [   5   11    6]]\n",
      "Confusion Matrix Dev: \n",
      "[[123  47 102]\n",
      " [788 962 819]\n",
      " [  0   1   1]]\n",
      "Confusion Matrix Test: \n",
      "[[108  36 106]\n",
      " [780 949 864]\n",
      " [  1   2   0]]\n"
     ]
    }
   ],
   "source": [
    "computeAllScores(train_preds, dev_preds, test_preds)"
   ]
  },
  {
   "cell_type": "markdown",
   "metadata": {},
   "source": [
    "### TF-IDF PCA (1000 Dims)"
   ]
  },
  {
   "cell_type": "code",
   "execution_count": 41,
   "metadata": {},
   "outputs": [],
   "source": [
    "tfidf_pca_train, tfidf_pca_dev, tfidf_pca_test = load_tfidf_pca()"
   ]
  },
  {
   "cell_type": "code",
   "execution_count": 42,
   "metadata": {},
   "outputs": [],
   "source": [
    "k_medoids = KMedoids(n_clusters=3, random_state=0).fit(tfidf_pca_train, train_labels)\n",
    "save_model(k_medoids, \"k_medoids_tfidf_pca.joblib\")"
   ]
  },
  {
   "cell_type": "code",
   "execution_count": 43,
   "metadata": {},
   "outputs": [],
   "source": [
    "train_preds = k_medoids.predict(tfidf_pca_train)\n",
    "dev_preds = k_medoids.predict(tfidf_pca_dev)\n",
    "test_preds = k_medoids.predict(tfidf_pca_test)"
   ]
  },
  {
   "cell_type": "code",
   "execution_count": 44,
   "metadata": {},
   "outputs": [
    {
     "name": "stdout",
     "output_type": "stream",
     "text": [
      "Accuracy Train:  0.08619629206572357\n",
      "Accuracy Dev:  0.09567358424199789\n",
      "Accuracy Test:  0.08784258608573436\n",
      "Weighted F1 Train:  0.013680401636705197\n",
      "Weighted F1 Dev:  0.01670832418223013\n",
      "Weighted F1 Test:  0.014186464161132811\n",
      "Macro F1 Train:  0.05290406083158065\n",
      "Macro F1 Dev:  0.05821294810058855\n",
      "Macro F1 Test:  0.053832902670111975\n",
      "Micro F1 Train:  0.08619629206572357\n",
      "Micro F1 Dev:  0.09567358424199787\n",
      "Micro F1 Test:  0.08784258608573436\n",
      "Weighted Recall Train:  0.08619629206572357\n",
      "Weighted Recall Dev:  0.09567358424199789\n",
      "Weighted Recall Test:  0.08784258608573436\n",
      "Macro Recall Train:  0.3333333333333333\n",
      "Macro Recall Dev:  0.3333333333333333\n",
      "Macro Recall Test:  0.3333333333333333\n",
      "Micro Recall Train:  0.08619629206572357\n",
      "Micro Recall Dev:  0.09567358424199789\n",
      "Micro Recall Test:  0.08784258608573436\n",
      "Confusion Matrix Train: \n",
      "[[ 1962     0     0]\n",
      " [20778     0     0]\n",
      " [   22     0     0]]\n",
      "Confusion Matrix Dev: \n",
      "[[ 272    0    0]\n",
      " [2569    0    0]\n",
      " [   2    0    0]]\n",
      "Confusion Matrix Test: \n",
      "[[ 250    0    0]\n",
      " [2593    0    0]\n",
      " [   3    0    0]]\n"
     ]
    }
   ],
   "source": [
    "computeAllScores(train_preds, dev_preds, test_preds)"
   ]
  },
  {
   "cell_type": "markdown",
   "metadata": {},
   "source": [
    "### Sentence Transformer Faster No PCA"
   ]
  },
  {
   "cell_type": "code",
   "execution_count": 45,
   "metadata": {},
   "outputs": [],
   "source": [
    "train, dev, test = load_sent_trans_fast_no_pca()"
   ]
  },
  {
   "cell_type": "code",
   "execution_count": 46,
   "metadata": {},
   "outputs": [],
   "source": [
    "k_medoids = KMedoids(n_clusters=3, random_state=0).fit(train, train_labels)\n",
    "save_model(k_medoids, \"k_medoids_sent_trans_fast_no_pca.joblib\")"
   ]
  },
  {
   "cell_type": "code",
   "execution_count": 47,
   "metadata": {},
   "outputs": [],
   "source": [
    "train_preds = k_medoids.predict(train)\n",
    "dev_preds = k_medoids.predict(dev)\n",
    "test_preds = k_medoids.predict(test)"
   ]
  },
  {
   "cell_type": "code",
   "execution_count": 48,
   "metadata": {},
   "outputs": [
    {
     "name": "stdout",
     "output_type": "stream",
     "text": [
      "Accuracy Train:  0.31644846674281696\n",
      "Accuracy Dev:  0.31304959549771366\n",
      "Accuracy Test:  0.2965565706254392\n",
      "Weighted F1 Train:  0.44782182346252086\n",
      "Weighted F1 Dev:  0.44114286442094347\n",
      "Weighted F1 Test:  0.42876095687694726\n",
      "Macro F1 Train:  0.18298117848784165\n",
      "Macro F1 Dev:  0.18675427875503103\n",
      "Macro F1 Test:  0.17231103347803547\n",
      "Micro F1 Train:  0.31644846674281696\n",
      "Micro F1 Dev:  0.31304959549771366\n",
      "Micro F1 Test:  0.2965565706254392\n",
      "Weighted Recall Train:  0.31644846674281696\n",
      "Weighted Recall Dev:  0.31304959549771366\n",
      "Weighted Recall Test:  0.2965565706254392\n",
      "Macro Recall Train:  0.2571389276306527\n",
      "Macro Recall Dev:  0.33899472595577745\n",
      "Macro Recall Test:  0.14945982774135494\n",
      "Micro Recall Train:  0.31644846674281696\n",
      "Micro Recall Dev:  0.31304959549771366\n",
      "Micro Recall Test:  0.2965565706254392\n",
      "Confusion Matrix Train: \n",
      "[[ 330  682  950]\n",
      " [8270 6867 5641]\n",
      " [   7    9    6]]\n",
      "Confusion Matrix Dev: \n",
      "[[  52   81  139]\n",
      " [1009  837  723]\n",
      " [   0    1    1]]\n",
      "Confusion Matrix Test: \n",
      "[[  34   74  142]\n",
      " [1041  810  742]\n",
      " [   1    2    0]]\n"
     ]
    }
   ],
   "source": [
    "computeAllScores(train_preds, dev_preds, test_preds)"
   ]
  },
  {
   "cell_type": "markdown",
   "metadata": {},
   "source": [
    "### Sentence Transformer Faster PCA"
   ]
  },
  {
   "cell_type": "code",
   "execution_count": 49,
   "metadata": {},
   "outputs": [],
   "source": [
    "train, dev, test = load_sent_trans_fast_pca()"
   ]
  },
  {
   "cell_type": "code",
   "execution_count": 50,
   "metadata": {},
   "outputs": [],
   "source": [
    "k_medoids = KMedoids(n_clusters=3, random_state=0).fit(train, train_labels)\n",
    "save_model(k_medoids, \"k_medoids_sent_trans_fast_pca.joblib\")"
   ]
  },
  {
   "cell_type": "code",
   "execution_count": 51,
   "metadata": {},
   "outputs": [],
   "source": [
    "train_preds = k_medoids.predict(train)\n",
    "dev_preds = k_medoids.predict(dev)\n",
    "test_preds = k_medoids.predict(test)"
   ]
  },
  {
   "cell_type": "code",
   "execution_count": 52,
   "metadata": {},
   "outputs": [
    {
     "name": "stdout",
     "output_type": "stream",
     "text": [
      "Accuracy Train:  0.16448466742816975\n",
      "Accuracy Dev:  0.1691874780161801\n",
      "Accuracy Test:  0.15495432185523542\n",
      "Weighted F1 Train:  0.21459182406385943\n",
      "Weighted F1 Dev:  0.21653690891808933\n",
      "Weighted F1 Test:  0.20504840224103543\n",
      "Macro F1 Train:  0.12387080883797429\n",
      "Macro F1 Dev:  0.12881161428277996\n",
      "Macro F1 Test:  0.11678999339470407\n",
      "Micro F1 Train:  0.16448466742816975\n",
      "Micro F1 Dev:  0.1691874780161801\n",
      "Micro F1 Test:  0.15495432185523542\n",
      "Weighted Recall Train:  0.16448466742816975\n",
      "Weighted Recall Dev:  0.16918747801618012\n",
      "Weighted Recall Test:  0.15495432185523542\n",
      "Macro Recall Train:  0.3122091998338134\n",
      "Macro Recall Dev:  0.4009785794426762\n",
      "Macro Recall Test:  0.2169271114539144\n",
      "Micro Recall Train:  0.16448466742816975\n",
      "Micro Recall Dev:  0.1691874780161801\n",
      "Micro Recall Test:  0.15495432185523542\n",
      "Confusion Matrix Train: \n",
      "[[ 1147    86   729]\n",
      " [12259  2592  5927]\n",
      " [   16     1     5]]\n",
      "Confusion Matrix Dev: \n",
      "[[ 157   11  104]\n",
      " [1514  323  732]\n",
      " [   1    0    1]]\n",
      "Confusion Matrix Test: \n",
      "[[ 133    9  108]\n",
      " [1532  308  753]\n",
      " [   3    0    0]]\n"
     ]
    }
   ],
   "source": [
    "computeAllScores(train_preds, dev_preds, test_preds)"
   ]
  },
  {
   "cell_type": "markdown",
   "metadata": {},
   "source": [
    "### Sentence Transformer Better No PCA"
   ]
  },
  {
   "cell_type": "code",
   "execution_count": 53,
   "metadata": {},
   "outputs": [],
   "source": [
    "train, dev, test = load_sent_trans_better_no_pca()"
   ]
  },
  {
   "cell_type": "code",
   "execution_count": 54,
   "metadata": {},
   "outputs": [],
   "source": [
    "k_medoids = KMedoids(n_clusters=3, random_state=0).fit(train, train_labels)\n",
    "save_model(k_medoids, \"k_medoids_sent_trans_better_no_pca.joblib\")"
   ]
  },
  {
   "cell_type": "code",
   "execution_count": 55,
   "metadata": {},
   "outputs": [],
   "source": [
    "train_preds = k_medoids.predict(train)\n",
    "dev_preds = k_medoids.predict(dev)\n",
    "test_preds = k_medoids.predict(test)"
   ]
  },
  {
   "cell_type": "code",
   "execution_count": 56,
   "metadata": {},
   "outputs": [
    {
     "name": "stdout",
     "output_type": "stream",
     "text": [
      "Accuracy Train:  0.4275107635532906\n",
      "Accuracy Dev:  0.4175167077031305\n",
      "Accuracy Test:  0.42059030217849613\n",
      "Weighted F1 Train:  0.5512414039335068\n",
      "Weighted F1 Dev:  0.538153145434586\n",
      "Weighted F1 Test:  0.5446920148680607\n",
      "Macro F1 Train:  0.2492365853734491\n",
      "Macro F1 Dev:  0.2423202598313456\n",
      "Macro F1 Test:  0.24628309355788405\n",
      "Micro F1 Train:  0.42751076355329065\n",
      "Micro F1 Dev:  0.4175167077031305\n",
      "Micro F1 Test:  0.42059030217849613\n",
      "Weighted Recall Train:  0.4275107635532906\n",
      "Weighted Recall Dev:  0.4175167077031305\n",
      "Weighted Recall Test:  0.42059030217849613\n",
      "Macro Recall Train:  0.3985457724897199\n",
      "Macro Recall Dev:  0.23510044344713363\n",
      "Macro Recall Test:  0.24543925954492865\n",
      "Micro Recall Train:  0.4275107635532906\n",
      "Micro Recall Dev:  0.4175167077031305\n",
      "Micro Recall Test:  0.42059030217849613\n",
      "Confusion Matrix Train: \n",
      "[[ 592 1073  297]\n",
      " [5050 9129 6599]\n",
      " [   3    9   10]]\n",
      "Confusion Matrix Dev: \n",
      "[[  74  154   44]\n",
      " [ 661 1113  795]\n",
      " [   0    2    0]]\n",
      "Confusion Matrix Test: \n",
      "[[  76  131   43]\n",
      " [ 647 1121  825]\n",
      " [   1    2    0]]\n"
     ]
    }
   ],
   "source": [
    "computeAllScores(train_preds, dev_preds, test_preds)"
   ]
  },
  {
   "cell_type": "markdown",
   "metadata": {},
   "source": [
    "### Sentence Transformer Better PCA"
   ]
  },
  {
   "cell_type": "code",
   "execution_count": 57,
   "metadata": {},
   "outputs": [],
   "source": [
    "train, dev, test = load_sent_trans_better_pca()"
   ]
  },
  {
   "cell_type": "code",
   "execution_count": 58,
   "metadata": {},
   "outputs": [],
   "source": [
    "k_medoids = KMedoids(n_clusters=3, random_state=0).fit(train, train_labels)\n",
    "save_model(k_medoids, \"k_medoids_sent_trans_better_pca.joblib\")"
   ]
  },
  {
   "cell_type": "code",
   "execution_count": 59,
   "metadata": {},
   "outputs": [],
   "source": [
    "train_preds = k_medoids.predict(train)\n",
    "dev_preds = k_medoids.predict(dev)\n",
    "test_preds = k_medoids.predict(test)"
   ]
  },
  {
   "cell_type": "code",
   "execution_count": 60,
   "metadata": {},
   "outputs": [
    {
     "name": "stdout",
     "output_type": "stream",
     "text": [
      "Accuracy Train:  0.23890695018012478\n",
      "Accuracy Dev:  0.24164614843475202\n",
      "Accuracy Test:  0.2449051300070274\n",
      "Weighted F1 Train:  0.3522420681742569\n",
      "Weighted F1 Dev:  0.3507008494757182\n",
      "Weighted F1 Test:  0.35588937983269175\n",
      "Macro F1 Train:  0.19236199028107315\n",
      "Macro F1 Dev:  0.20010792196537044\n",
      "Macro F1 Test:  0.19843517429111945\n",
      "Micro F1 Train:  0.23890695018012478\n",
      "Micro F1 Dev:  0.24164614843475202\n",
      "Micro F1 Test:  0.2449051300070274\n",
      "Weighted Recall Train:  0.23890695018012478\n",
      "Weighted Recall Dev:  0.24164614843475202\n",
      "Weighted Recall Test:  0.2449051300070274\n",
      "Macro Recall Train:  0.40714046766761314\n",
      "Macro Recall Dev:  0.372920626016074\n",
      "Macro Recall Test:  0.4308387539100999\n",
      "Micro Recall Train:  0.23890695018012478\n",
      "Micro Recall Dev:  0.24164614843475202\n",
      "Micro Recall Test:  0.2449051300070274\n",
      "Confusion Matrix Train: \n",
      "[[  702   287   973]\n",
      " [ 4058  4722 11998]\n",
      " [    3     5    14]]\n",
      "Confusion Matrix Dev: \n",
      "[[ 107   41  124]\n",
      " [ 527  579 1463]\n",
      " [   1    0    1]]\n",
      "Confusion Matrix Test: \n",
      "[[  99   41  110]\n",
      " [ 535  596 1462]\n",
      " [   1    0    2]]\n"
     ]
    }
   ],
   "source": [
    "computeAllScores(train_preds, dev_preds, test_preds)"
   ]
  },
  {
   "cell_type": "code",
   "execution_count": null,
   "metadata": {},
   "outputs": [],
   "source": []
  }
 ],
 "metadata": {
  "kernelspec": {
   "display_name": "Python 3.9.13 64-bit (microsoft store)",
   "language": "python",
   "name": "python3"
  },
  "language_info": {
   "codemirror_mode": {
    "name": "ipython",
    "version": 3
   },
   "file_extension": ".py",
   "mimetype": "text/x-python",
   "name": "python",
   "nbconvert_exporter": "python",
   "pygments_lexer": "ipython3",
   "version": "3.9.13"
  },
  "orig_nbformat": 4,
  "vscode": {
   "interpreter": {
    "hash": "a5a87ee616be0254e3f1af9223138e3faeac65b2c9d91bc22a9fc5a4a8bd8eb0"
   }
  }
 },
 "nbformat": 4,
 "nbformat_minor": 2
}
