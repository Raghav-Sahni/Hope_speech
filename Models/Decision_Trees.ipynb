{
 "cells": [
  {
   "cell_type": "code",
   "execution_count": 1,
   "metadata": {},
   "outputs": [],
   "source": [
    "from embeddings_loader import *\n",
    "from sklearn.tree import DecisionTreeClassifier\n",
    "from sklearn.model_selection import GridSearchCV\n",
    "from sklearn.metrics import f1_score\n",
    "from sklearn.metrics import accuracy_score\n",
    "from sklearn.metrics import confusion_matrix\n",
    "from sklearn.metrics import classification_report\n",
    "from sklearn.metrics import recall_score\n",
    "from sklearn.metrics import precision_score\n",
    "from sklearn.metrics import roc_auc_score\n",
    "from utils import *\n"
   ]
  },
  {
   "cell_type": "code",
   "execution_count": 2,
   "metadata": {},
   "outputs": [],
   "source": [
    "train_labels, dev_labels, test_labels = load_labels()"
   ]
  },
  {
   "cell_type": "code",
   "execution_count": 3,
   "metadata": {},
   "outputs": [],
   "source": [
    "label_replacement = {\n",
    "    'Hope_speech': 0,\n",
    "    'Non_hope_speech': 1,\n",
    "    'not-English': 2,\n",
    "}"
   ]
  },
  {
   "cell_type": "code",
   "execution_count": 4,
   "metadata": {},
   "outputs": [],
   "source": [
    "# Replace labels with numbers\n",
    "train_labels = [label_replacement[label] for label in train_labels]\n",
    "dev_labels = [label_replacement[label] for label in dev_labels]\n",
    "test_labels = [label_replacement[label] for label in test_labels]"
   ]
  },
  {
   "cell_type": "code",
   "execution_count": 5,
   "metadata": {},
   "outputs": [],
   "source": [
    "decision_tree = DecisionTreeClassifier()\n",
    "gridsearch = GridSearchCV(decision_tree, param_grid = {\n",
    "    \"criterion\": [\"gini\", \"entropy\"],\n",
    "    \"max_depth\": [5, 10, 15, 20],\n",
    "    \"max_features\": [\"sqrt\", \"log2\", None],\n",
    "    \"splitter\": [\"best\", \"random\"],\n",
    "    \"min_samples_split\": [2, 5, 10],\n",
    "\n",
    "}, scoring = \"f1_micro\")"
   ]
  },
  {
   "cell_type": "markdown",
   "metadata": {},
   "source": [
    "### Glove Twitter 25"
   ]
  },
  {
   "cell_type": "code",
   "execution_count": 6,
   "metadata": {},
   "outputs": [],
   "source": [
    "gt25_train, gt25_dev, gt25_test = load_glove_twitter_25()"
   ]
  },
  {
   "cell_type": "code",
   "execution_count": 7,
   "metadata": {},
   "outputs": [],
   "source": [
    "# Set all NaN values to 0\n",
    "gt25_train = np.nan_to_num(gt25_train)\n",
    "gt25_dev = np.nan_to_num(gt25_dev)\n",
    "gt25_test = np.nan_to_num(gt25_test)"
   ]
  },
  {
   "cell_type": "code",
   "execution_count": 8,
   "metadata": {},
   "outputs": [
    {
     "name": "stdout",
     "output_type": "stream",
     "text": [
      "{'criterion': 'entropy', 'max_depth': 5, 'max_features': 'sqrt', 'min_samples_split': 2, 'splitter': 'best'}\n"
     ]
    }
   ],
   "source": [
    "grid_results = gridsearch.fit(gt25_train, train_labels)\n",
    "best_params = grid_results.best_params_\n",
    "decision_tree = grid_results.best_estimator_\n",
    "print(best_params)"
   ]
  },
  {
   "cell_type": "code",
   "execution_count": 9,
   "metadata": {},
   "outputs": [],
   "source": [
    "decision_tree = decision_tree.fit(gt25_train, train_labels)\n",
    "save_model(decision_tree, \"decision_tree_gt25.joblib\")"
   ]
  },
  {
   "cell_type": "code",
   "execution_count": 10,
   "metadata": {},
   "outputs": [],
   "source": [
    "train_preds = decision_tree.predict(gt25_train)\n",
    "dev_preds = decision_tree.predict(gt25_dev)\n",
    "test_preds = decision_tree.predict(gt25_test)"
   ]
  },
  {
   "cell_type": "code",
   "execution_count": 11,
   "metadata": {},
   "outputs": [
    {
     "name": "stdout",
     "output_type": "stream",
     "text": [
      "Accuracy Train:  0.91314471487567\n",
      "Accuracy Dev:  0.9036229335209286\n",
      "Accuracy Test:  0.9111033028812369\n",
      "Weighted F1 Train:  0.8719423440595522\n",
      "Weighted F1 Dev:  0.85787410059692\n",
      "Weighted F1 Test:  0.8687225094212346\n",
      "Macro F1 Train:  0.4217773062704073\n",
      "Macro F1 Dev:  0.31645725548164577\n",
      "Macro F1 Test:  0.31782803211374644\n",
      "Micro F1 Train:  0.91314471487567\n",
      "Micro F1 Dev:  0.9036229335209286\n",
      "Micro F1 Test:  0.9111033028812369\n",
      "Weighted Recall Train:  0.91314471487567\n",
      "Weighted Recall Dev:  0.9036229335209286\n",
      "Weighted Recall Test:  0.9111033028812369\n",
      "Macro Recall Train:  0.39444907793531647\n",
      "Macro Recall Dev:  0.3333333333333333\n",
      "Macro Recall Test:  0.3333333333333333\n",
      "Micro Recall Train:  0.91314471487567\n",
      "Micro Recall Dev:  0.9036229335209286\n",
      "Micro Recall Test:  0.9111033028812369\n",
      "Confusion Matrix Train: \n",
      "[[    3  1959     0]\n",
      " [    0 20778     0]\n",
      " [    0    18     4]]\n",
      "Confusion Matrix Dev: \n",
      "[[   0  272    0]\n",
      " [   0 2569    0]\n",
      " [   0    2    0]]\n",
      "Confusion Matrix Test: \n",
      "[[   0  250    0]\n",
      " [   0 2593    0]\n",
      " [   0    3    0]]\n"
     ]
    }
   ],
   "source": [
    "computeAllScores(train_preds, dev_preds, test_preds)"
   ]
  },
  {
   "cell_type": "markdown",
   "metadata": {},
   "source": [
    "### FastText 300 "
   ]
  },
  {
   "cell_type": "code",
   "execution_count": 12,
   "metadata": {},
   "outputs": [],
   "source": [
    "ft300_train, ft300_dev, ft300_test = load_fasttext_300()"
   ]
  },
  {
   "cell_type": "code",
   "execution_count": 13,
   "metadata": {},
   "outputs": [],
   "source": [
    "# Set all NaN values to 0\n",
    "ft300_train = np.nan_to_num(ft300_train)\n",
    "ft300_dev = np.nan_to_num(ft300_dev)\n",
    "ft300_test = np.nan_to_num(ft300_test)"
   ]
  },
  {
   "cell_type": "code",
   "execution_count": 14,
   "metadata": {},
   "outputs": [
    {
     "name": "stdout",
     "output_type": "stream",
     "text": [
      "{'criterion': 'entropy', 'max_depth': 5, 'max_features': 'sqrt', 'min_samples_split': 10, 'splitter': 'random'}\n"
     ]
    }
   ],
   "source": [
    "grid_results = gridsearch.fit(ft300_train, train_labels)\n",
    "best_params = grid_results.best_params_\n",
    "decision_tree = grid_results.best_estimator_\n",
    "print(best_params)"
   ]
  },
  {
   "cell_type": "code",
   "execution_count": 15,
   "metadata": {},
   "outputs": [],
   "source": [
    "decision_tree = decision_tree.fit(ft300_train, train_labels)\n",
    "save_model(decision_tree, \"decision_tree_ft300.joblib\")"
   ]
  },
  {
   "cell_type": "code",
   "execution_count": 16,
   "metadata": {},
   "outputs": [],
   "source": [
    "train_preds = decision_tree.predict(ft300_train)\n",
    "dev_preds = decision_tree.predict(ft300_dev)\n",
    "test_preds = decision_tree.predict(ft300_test)"
   ]
  },
  {
   "cell_type": "code",
   "execution_count": 17,
   "metadata": {},
   "outputs": [
    {
     "name": "stdout",
     "output_type": "stream",
     "text": [
      "Accuracy Train:  0.9130129162639486\n",
      "Accuracy Dev:  0.9032711924023918\n",
      "Accuracy Test:  0.9107519325368939\n",
      "Weighted F1 Train:  0.8716414984714669\n",
      "Weighted F1 Dev:  0.8576986484131379\n",
      "Weighted F1 Test:  0.8685471721471739\n",
      "Macro F1 Train:  0.3985130818712892\n",
      "Macro F1 Dev:  0.31639253372759196\n",
      "Macro F1 Test:  0.3177638837808018\n",
      "Micro F1 Train:  0.9130129162639486\n",
      "Micro F1 Dev:  0.9032711924023918\n",
      "Micro F1 Test:  0.9107519325368939\n",
      "Weighted Recall Train:  0.9130129162639486\n",
      "Weighted Recall Dev:  0.9032711924023918\n",
      "Weighted Recall Test:  0.9107519325368939\n",
      "Macro Recall Train:  0.3789577734531863\n",
      "Macro Recall Dev:  0.33320358115998444\n",
      "Macro Recall Test:  0.3332047821056691\n",
      "Micro Recall Train:  0.9130129162639486\n",
      "Micro Recall Dev:  0.9032711924023918\n",
      "Micro Recall Test:  0.9107519325368939\n",
      "Confusion Matrix Train: \n",
      "[[    1  1961     0]\n",
      " [    0 20778     0]\n",
      " [    0    19     3]]\n",
      "Confusion Matrix Dev: \n",
      "[[   0  272    0]\n",
      " [   1 2568    0]\n",
      " [   0    2    0]]\n",
      "Confusion Matrix Test: \n",
      "[[   0  250    0]\n",
      " [   1 2592    0]\n",
      " [   0    3    0]]\n"
     ]
    }
   ],
   "source": [
    "computeAllScores(train_preds, dev_preds, test_preds)"
   ]
  },
  {
   "cell_type": "markdown",
   "metadata": {},
   "source": [
    "### Word2Vec 300"
   ]
  },
  {
   "cell_type": "code",
   "execution_count": 18,
   "metadata": {},
   "outputs": [],
   "source": [
    "w2v300_train, w2v300_dev, w2v300_test = load_word2vec_300()"
   ]
  },
  {
   "cell_type": "code",
   "execution_count": 19,
   "metadata": {},
   "outputs": [],
   "source": [
    "# Set all NaN values to 0\n",
    "w2v300_train = np.nan_to_num(w2v300_train)\n",
    "w2v300_dev = np.nan_to_num(w2v300_dev)\n",
    "w2v300_test = np.nan_to_num(w2v300_test)"
   ]
  },
  {
   "cell_type": "code",
   "execution_count": 20,
   "metadata": {},
   "outputs": [
    {
     "name": "stdout",
     "output_type": "stream",
     "text": [
      "{'criterion': 'gini', 'max_depth': 5, 'max_features': None, 'min_samples_split': 5, 'splitter': 'random'}\n"
     ]
    }
   ],
   "source": [
    "grid_results = gridsearch.fit(w2v300_train, train_labels)\n",
    "best_params = grid_results.best_params_\n",
    "decision_tree = grid_results.best_estimator_\n",
    "print(best_params)"
   ]
  },
  {
   "cell_type": "code",
   "execution_count": 21,
   "metadata": {},
   "outputs": [],
   "source": [
    "decision_tree = decision_tree.fit(w2v300_train, train_labels)\n",
    "save_model(decision_tree, \"decision_tree_w2v300.joblib\")"
   ]
  },
  {
   "cell_type": "code",
   "execution_count": 22,
   "metadata": {},
   "outputs": [],
   "source": [
    "train_preds = decision_tree.predict(w2v300_train)\n",
    "dev_preds = decision_tree.predict(w2v300_dev)\n",
    "test_preds = decision_tree.predict(w2v300_test)"
   ]
  },
  {
   "cell_type": "code",
   "execution_count": 23,
   "metadata": {},
   "outputs": [
    {
     "name": "stdout",
     "output_type": "stream",
     "text": [
      "Accuracy Train:  0.91314471487567\n",
      "Accuracy Dev:  0.9036229335209286\n",
      "Accuracy Test:  0.9107519325368939\n",
      "Weighted F1 Train:  0.8721121056341143\n",
      "Weighted F1 Dev:  0.85787410059692\n",
      "Weighted F1 Test:  0.8685471721471739\n",
      "Macro F1 Train:  0.4151331732092756\n",
      "Macro F1 Dev:  0.31645725548164577\n",
      "Macro F1 Test:  0.3177638837808018\n",
      "Micro F1 Train:  0.91314471487567\n",
      "Micro F1 Dev:  0.9036229335209286\n",
      "Micro F1 Test:  0.9107519325368939\n",
      "Weighted Recall Train:  0.91314471487567\n",
      "Weighted Recall Dev:  0.9036229335209286\n",
      "Weighted Recall Test:  0.9107519325368939\n",
      "Macro Recall Train:  0.3947567820475916\n",
      "Macro Recall Dev:  0.3333333333333333\n",
      "Macro Recall Test:  0.3332047821056691\n",
      "Micro Recall Train:  0.91314471487567\n",
      "Micro Recall Dev:  0.9036229335209286\n",
      "Micro Recall Test:  0.9107519325368939\n",
      "Confusion Matrix Train: \n",
      "[[    5  1956     1]\n",
      " [    1 20776     1]\n",
      " [    0    18     4]]\n",
      "Confusion Matrix Dev: \n",
      "[[   0  272    0]\n",
      " [   0 2569    0]\n",
      " [   0    2    0]]\n",
      "Confusion Matrix Test: \n",
      "[[   0  250    0]\n",
      " [   0 2592    1]\n",
      " [   0    3    0]]\n"
     ]
    }
   ],
   "source": [
    "computeAllScores(train_preds, dev_preds, test_preds)"
   ]
  },
  {
   "cell_type": "markdown",
   "metadata": {},
   "source": [
    "### TF-IDF PCA (1000 Dims)"
   ]
  },
  {
   "cell_type": "code",
   "execution_count": 6,
   "metadata": {},
   "outputs": [],
   "source": [
    "tfidf_pca_train, tfidf_pca_dev, tfidf_pca_test = load_tfidf_pca()"
   ]
  },
  {
   "cell_type": "code",
   "execution_count": 7,
   "metadata": {},
   "outputs": [
    {
     "name": "stdout",
     "output_type": "stream",
     "text": [
      "{'criterion': 'gini', 'max_depth': 5, 'max_features': None, 'min_samples_split': 2, 'splitter': 'random'}\n"
     ]
    }
   ],
   "source": [
    "grid_results = gridsearch.fit(tfidf_pca_train, train_labels)\n",
    "best_params = grid_results.best_params_\n",
    "decision_tree = grid_results.best_estimator_\n",
    "print(best_params)"
   ]
  },
  {
   "cell_type": "code",
   "execution_count": 8,
   "metadata": {},
   "outputs": [],
   "source": [
    "decision_tree = decision_tree.fit(tfidf_pca_train, train_labels)\n",
    "save_model(decision_tree, \"decision_tree_tfidf_pca.joblib\")"
   ]
  },
  {
   "cell_type": "code",
   "execution_count": 9,
   "metadata": {},
   "outputs": [],
   "source": [
    "train_preds = decision_tree.predict(tfidf_pca_train)\n",
    "dev_preds = decision_tree.predict(tfidf_pca_dev)\n",
    "test_preds = decision_tree.predict(tfidf_pca_test)"
   ]
  },
  {
   "cell_type": "code",
   "execution_count": 10,
   "metadata": {},
   "outputs": [
    {
     "name": "stdout",
     "output_type": "stream",
     "text": [
      "Accuracy Train:  0.9150338283103417\n",
      "Accuracy Dev:  0.9036229335209286\n",
      "Accuracy Test:  0.9065354884047786\n",
      "Weighted F1 Train:  0.8818635178226591\n",
      "Weighted F1 Dev:  0.8676728921839489\n",
      "Weighted F1 Test:  0.8689652720449805\n",
      "Macro F1 Train:  0.35618493820601776\n",
      "Macro F1 Dev:  0.3514445966216657\n",
      "Macro F1 Test:  0.32680822932260334\n",
      "Micro F1 Train:  0.9150338283103419\n",
      "Micro F1 Dev:  0.9036229335209286\n",
      "Micro F1 Test:  0.9065354884047786\n",
      "Weighted Recall Train:  0.9150338283103417\n",
      "Weighted Recall Dev:  0.9036229335209286\n",
      "Weighted Recall Test:  0.9065354884047786\n",
      "Macro Recall Train:  0.3529054146406127\n",
      "Macro Recall Dev:  0.3508651416970057\n",
      "Macro Recall Test:  0.3364812957963748\n",
      "Micro Recall Train:  0.9150338283103417\n",
      "Micro Recall Dev:  0.9036229335209286\n",
      "Micro Recall Test:  0.9065354884047786\n",
      "Confusion Matrix Train: \n",
      "[[  122  1840     0]\n",
      " [   72 20706     0]\n",
      " [    0    22     0]]\n",
      "Confusion Matrix Dev: \n",
      "[[  16  256    0]\n",
      " [  16 2553    0]\n",
      " [   0    2    0]]\n",
      "Confusion Matrix Test: \n",
      "[[   4  246    0]\n",
      " [  17 2576    0]\n",
      " [   0    3    0]]\n"
     ]
    }
   ],
   "source": [
    "computeAllScores(train_preds, dev_preds, test_preds)"
   ]
  },
  {
   "cell_type": "markdown",
   "metadata": {},
   "source": [
    "### Sentence Transformer Faster No PCA"
   ]
  },
  {
   "cell_type": "code",
   "execution_count": 11,
   "metadata": {},
   "outputs": [],
   "source": [
    "train, dev, test = load_sent_trans_fast_no_pca()"
   ]
  },
  {
   "cell_type": "code",
   "execution_count": 12,
   "metadata": {},
   "outputs": [
    {
     "name": "stdout",
     "output_type": "stream",
     "text": [
      "{'criterion': 'entropy', 'max_depth': 5, 'max_features': None, 'min_samples_split': 2, 'splitter': 'best'}\n"
     ]
    }
   ],
   "source": [
    "grid_results = gridsearch.fit(train, train_labels)\n",
    "best_params = grid_results.best_params_\n",
    "decision_tree = grid_results.best_estimator_\n",
    "print(best_params)"
   ]
  },
  {
   "cell_type": "code",
   "execution_count": 13,
   "metadata": {},
   "outputs": [],
   "source": [
    "decision_tree = decision_tree.fit(train, train_labels)\n",
    "save_model(decision_tree, \"decision_tree_sent_trans_fast_no_pca.joblib\")"
   ]
  },
  {
   "cell_type": "code",
   "execution_count": 14,
   "metadata": {},
   "outputs": [],
   "source": [
    "train_preds = decision_tree.predict(train)\n",
    "dev_preds = decision_tree.predict(dev)\n",
    "test_preds = decision_tree.predict(test)"
   ]
  },
  {
   "cell_type": "code",
   "execution_count": 15,
   "metadata": {},
   "outputs": [
    {
     "name": "stdout",
     "output_type": "stream",
     "text": [
      "Accuracy Train:  0.9180212635093578\n",
      "Accuracy Dev:  0.9046781568765389\n",
      "Accuracy Test:  0.9139142656359803\n",
      "Weighted F1 Train:  0.8890880832043696\n",
      "Weighted F1 Dev:  0.8714789179030115\n",
      "Weighted F1 Test:  0.8812255415131175\n",
      "Macro F1 Train:  0.4808279140274286\n",
      "Macro F1 Dev:  0.36337297548523617\n",
      "Macro F1 Test:  0.36140608858320844\n",
      "Micro F1 Train:  0.9180212635093578\n",
      "Micro F1 Dev:  0.9046781568765389\n",
      "Micro F1 Test:  0.9139142656359803\n",
      "Weighted Recall Train:  0.9180212635093578\n",
      "Weighted Recall Dev:  0.9046781568765389\n",
      "Weighted Recall Test:  0.9139142656359803\n",
      "Macro Recall Train:  0.42653866261227963\n",
      "Macro Recall Dev:  0.35782882635342966\n",
      "Macro Recall Test:  0.3560478210566911\n",
      "Micro Recall Train:  0.9180212635093578\n",
      "Micro Recall Dev:  0.9046781568765389\n",
      "Micro Recall Test:  0.9139142656359803\n",
      "Confusion Matrix Train: \n",
      "[[  200  1762     0]\n",
      " [   86 20692     0]\n",
      " [    0    18     4]]\n",
      "Confusion Matrix Dev: \n",
      "[[  22  250    0]\n",
      " [  19 2550    0]\n",
      " [   0    2    0]]\n",
      "Confusion Matrix Test: \n",
      "[[  18  232    0]\n",
      " [  10 2583    0]\n",
      " [   0    3    0]]\n"
     ]
    }
   ],
   "source": [
    "computeAllScores(train_preds, dev_preds, test_preds)"
   ]
  },
  {
   "cell_type": "markdown",
   "metadata": {},
   "source": [
    "### Sentence Transformer Faster PCA"
   ]
  },
  {
   "cell_type": "code",
   "execution_count": 18,
   "metadata": {},
   "outputs": [],
   "source": [
    "train, dev, test = load_sent_trans_fast_pca()"
   ]
  },
  {
   "cell_type": "code",
   "execution_count": 19,
   "metadata": {},
   "outputs": [
    {
     "name": "stdout",
     "output_type": "stream",
     "text": [
      "{'criterion': 'gini', 'max_depth': 5, 'max_features': None, 'min_samples_split': 10, 'splitter': 'best'}\n"
     ]
    }
   ],
   "source": [
    "grid_results = gridsearch.fit(train, train_labels)\n",
    "best_params = grid_results.best_params_\n",
    "decision_tree = grid_results.best_estimator_\n",
    "print(best_params)"
   ]
  },
  {
   "cell_type": "code",
   "execution_count": 20,
   "metadata": {},
   "outputs": [],
   "source": [
    "decision_tree = decision_tree.fit(train, train_labels)\n",
    "save_model(decision_tree, \"decision_tree_sent_trans_fast_pca\")"
   ]
  },
  {
   "cell_type": "code",
   "execution_count": 21,
   "metadata": {},
   "outputs": [],
   "source": [
    "train_preds = decision_tree.predict(train)\n",
    "dev_preds = decision_tree.predict(dev)\n",
    "test_preds = decision_tree.predict(test)"
   ]
  },
  {
   "cell_type": "code",
   "execution_count": 22,
   "metadata": {},
   "outputs": [
    {
     "name": "stdout",
     "output_type": "stream",
     "text": [
      "Accuracy Train:  0.9266321061418153\n",
      "Accuracy Dev:  0.9120647203658108\n",
      "Accuracy Test:  0.9139142656359803\n",
      "Weighted F1 Train:  0.9087843865753925\n",
      "Weighted F1 Dev:  0.8898871410279732\n",
      "Weighted F1 Test:  0.8953871984700564\n",
      "Macro F1 Train:  0.4420849668118629\n",
      "Macro F1 Dev:  0.41751023768386314\n",
      "Macro F1 Test:  0.41689146561663804\n",
      "Micro F1 Train:  0.9266321061418153\n",
      "Micro F1 Dev:  0.9120647203658108\n",
      "Micro F1 Test:  0.9139142656359803\n",
      "Weighted Recall Train:  0.9266321061418153\n",
      "Weighted Recall Dev:  0.9120647203658108\n",
      "Weighted Recall Test:  0.9139142656359803\n",
      "Macro Recall Train:  0.4112965872218999\n",
      "Macro Recall Dev:  0.394521500698372\n",
      "Macro Recall Test:  0.39580563054377166\n",
      "Micro Recall Train:  0.9266321061418153\n",
      "Micro Recall Dev:  0.9120647203658108\n",
      "Micro Recall Test:  0.9139142656359803\n",
      "Confusion Matrix Train: \n",
      "[[  474  1488     0]\n",
      " [  160 20618     0]\n",
      " [    0    22     0]]\n",
      "Confusion Matrix Dev: \n",
      "[[  53  219    0]\n",
      " [  29 2540    0]\n",
      " [   0    2    0]]\n",
      "Confusion Matrix Test: \n",
      "[[  51  199    0]\n",
      " [  43 2550    0]\n",
      " [   0    3    0]]\n"
     ]
    }
   ],
   "source": [
    "computeAllScores(train_preds, dev_preds, test_preds)"
   ]
  },
  {
   "cell_type": "markdown",
   "metadata": {},
   "source": [
    "### Sentence Transformer Better No PCA"
   ]
  },
  {
   "cell_type": "code",
   "execution_count": 23,
   "metadata": {},
   "outputs": [],
   "source": [
    "train, dev, test = load_sent_trans_better_no_pca()"
   ]
  },
  {
   "cell_type": "code",
   "execution_count": 24,
   "metadata": {},
   "outputs": [
    {
     "name": "stdout",
     "output_type": "stream",
     "text": [
      "{'criterion': 'entropy', 'max_depth': 5, 'max_features': None, 'min_samples_split': 2, 'splitter': 'best'}\n"
     ]
    }
   ],
   "source": [
    "grid_results = gridsearch.fit(train, train_labels)\n",
    "best_params = grid_results.best_params_\n",
    "decision_tree = grid_results.best_estimator_\n",
    "print(best_params)"
   ]
  },
  {
   "cell_type": "code",
   "execution_count": 25,
   "metadata": {},
   "outputs": [],
   "source": [
    "decision_tree = decision_tree.fit(train, train_labels)\n",
    "save_model(decision_tree, \"decision_tree_sent_trans_better_no_pca.joblib\")"
   ]
  },
  {
   "cell_type": "code",
   "execution_count": 26,
   "metadata": {},
   "outputs": [],
   "source": [
    "train_preds = decision_tree.predict(train)\n",
    "dev_preds = decision_tree.predict(dev)\n",
    "test_preds = decision_tree.predict(test)"
   ]
  },
  {
   "cell_type": "code",
   "execution_count": 27,
   "metadata": {},
   "outputs": [
    {
     "name": "stdout",
     "output_type": "stream",
     "text": [
      "Accuracy Train:  0.9206133028732097\n",
      "Accuracy Dev:  0.9074920858248329\n",
      "Accuracy Test:  0.9205903021784961\n",
      "Weighted F1 Train:  0.8969380939532107\n",
      "Weighted F1 Dev:  0.8811736807096866\n",
      "Weighted F1 Test:  0.8980599647297248\n",
      "Macro F1 Train:  0.4059029302826489\n",
      "Macro F1 Dev:  0.3936278770720023\n",
      "Macro F1 Test:  0.4151670818753486\n",
      "Micro F1 Train:  0.9206133028732097\n",
      "Micro F1 Dev:  0.9074920858248328\n",
      "Micro F1 Test:  0.920590302178496\n",
      "Weighted Recall Train:  0.9206133028732097\n",
      "Weighted Recall Dev:  0.9074920858248329\n",
      "Weighted Recall Test:  0.9205903021784961\n",
      "Macro Recall Train:  0.38432856872746984\n",
      "Macro Recall Dev:  0.37749439012662284\n",
      "Macro Recall Test:  0.3910194112353773\n",
      "Micro Recall Train:  0.9206133028732097\n",
      "Micro Recall Dev:  0.9074920858248329\n",
      "Micro Recall Test:  0.9205903021784961\n",
      "Confusion Matrix Train: \n",
      "[[  313  1649     0]\n",
      " [  136 20642     0]\n",
      " [    0    22     0]]\n",
      "Confusion Matrix Dev: \n",
      "[[  39  233    0]\n",
      " [  28 2541    0]\n",
      " [   0    2    0]]\n",
      "Confusion Matrix Test: \n",
      "[[  45  205    0]\n",
      " [  18 2575    0]\n",
      " [   0    3    0]]\n"
     ]
    }
   ],
   "source": [
    "computeAllScores(train_preds, dev_preds, test_preds)"
   ]
  },
  {
   "cell_type": "markdown",
   "metadata": {},
   "source": [
    "### Sentence Transformer Better PCA"
   ]
  },
  {
   "cell_type": "code",
   "execution_count": 6,
   "metadata": {},
   "outputs": [],
   "source": [
    "train, dev, test = load_sent_trans_better_pca()"
   ]
  },
  {
   "cell_type": "code",
   "execution_count": 7,
   "metadata": {},
   "outputs": [
    {
     "name": "stdout",
     "output_type": "stream",
     "text": [
      "{'criterion': 'entropy', 'max_depth': 5, 'max_features': None, 'min_samples_split': 2, 'splitter': 'best'}\n"
     ]
    }
   ],
   "source": [
    "grid_results = gridsearch.fit(train, train_labels)\n",
    "best_params = grid_results.best_params_\n",
    "decision_tree = grid_results.best_estimator_\n",
    "print(best_params)"
   ]
  },
  {
   "cell_type": "code",
   "execution_count": 8,
   "metadata": {},
   "outputs": [],
   "source": [
    "decision_tree = decision_tree.fit(train, train_labels)\n",
    "save_model(decision_tree, \"decision_tree_sent_trans_better_pca.joblib\")"
   ]
  },
  {
   "cell_type": "code",
   "execution_count": 9,
   "metadata": {},
   "outputs": [],
   "source": [
    "train_preds = decision_tree.predict(train)\n",
    "dev_preds = decision_tree.predict(dev)\n",
    "test_preds = decision_tree.predict(test)"
   ]
  },
  {
   "cell_type": "code",
   "execution_count": 10,
   "metadata": {},
   "outputs": [
    {
     "name": "stdout",
     "output_type": "stream",
     "text": [
      "Accuracy Train:  0.9217994903787013\n",
      "Accuracy Dev:  0.9096025325360535\n",
      "Accuracy Test:  0.9198875614898102\n",
      "Weighted F1 Train:  0.907625929126145\n",
      "Weighted F1 Dev:  0.8927213373089214\n",
      "Weighted F1 Test:  0.9063360520664737\n",
      "Macro F1 Train:  0.44656542151917433\n",
      "Macro F1 Dev:  0.4319788842200489\n",
      "Macro F1 Test:  0.44912891986062714\n",
      "Micro F1 Train:  0.9217994903787015\n",
      "Micro F1 Dev:  0.9096025325360535\n",
      "Micro F1 Test:  0.9198875614898102\n",
      "Weighted Recall Train:  0.9217994903787013\n",
      "Weighted Recall Dev:  0.9096025325360535\n",
      "Weighted Recall Test:  0.9198875614898102\n",
      "Macro Recall Train:  0.4199938400305585\n",
      "Macro Recall Dev:  0.40895356780314307\n",
      "Macro Recall Test:  0.4232914256331148\n",
      "Micro Recall Train:  0.9217994903787013\n",
      "Micro Recall Dev:  0.9096025325360535\n",
      "Micro Recall Test:  0.9198875614898102\n",
      "Confusion Matrix Train: \n",
      "[[  542  1420     0]\n",
      " [  338 20440     0]\n",
      " [    0    22     0]]\n",
      "Confusion Matrix Dev: \n",
      "[[  67  205    0]\n",
      " [  50 2519    0]\n",
      " [   0    2    0]]\n",
      "Confusion Matrix Test: \n",
      "[[  72  178    0]\n",
      " [  47 2546    0]\n",
      " [   0    3    0]]\n"
     ]
    }
   ],
   "source": [
    "computeAllScores(train_preds, dev_preds, test_preds)"
   ]
  },
  {
   "cell_type": "code",
   "execution_count": null,
   "metadata": {},
   "outputs": [],
   "source": []
  }
 ],
 "metadata": {
  "kernelspec": {
   "display_name": "Python 3.9.13 64-bit (microsoft store)",
   "language": "python",
   "name": "python3"
  },
  "language_info": {
   "codemirror_mode": {
    "name": "ipython",
    "version": 3
   },
   "file_extension": ".py",
   "mimetype": "text/x-python",
   "name": "python",
   "nbconvert_exporter": "python",
   "pygments_lexer": "ipython3",
   "version": "3.9.13"
  },
  "orig_nbformat": 4,
  "vscode": {
   "interpreter": {
    "hash": "a5a87ee616be0254e3f1af9223138e3faeac65b2c9d91bc22a9fc5a4a8bd8eb0"
   }
  }
 },
 "nbformat": 4,
 "nbformat_minor": 2
}
