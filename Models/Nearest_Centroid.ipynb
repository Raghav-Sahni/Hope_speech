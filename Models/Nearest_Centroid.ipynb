{
 "cells": [
  {
   "cell_type": "code",
   "execution_count": 1,
   "metadata": {},
   "outputs": [],
   "source": [
    "from embeddings_loader import *\n",
    "from sklearn.neighbors import NearestCentroid\n",
    "from sklearn.metrics import f1_score\n",
    "from sklearn.metrics import accuracy_score\n",
    "from sklearn.metrics import confusion_matrix\n",
    "from sklearn.metrics import classification_report\n",
    "from sklearn.metrics import recall_score\n",
    "from sklearn.metrics import precision_score\n",
    "from sklearn.metrics import roc_auc_score\n",
    "from utils import *\n"
   ]
  },
  {
   "cell_type": "code",
   "execution_count": 2,
   "metadata": {},
   "outputs": [],
   "source": [
    "train_labels, dev_labels, test_labels = load_labels()"
   ]
  },
  {
   "cell_type": "code",
   "execution_count": 3,
   "metadata": {},
   "outputs": [],
   "source": [
    "label_replacement = {\n",
    "    'Hope_speech': 0,\n",
    "    'Non_hope_speech': 1,\n",
    "    'not-English': 2,\n",
    "}"
   ]
  },
  {
   "cell_type": "code",
   "execution_count": 4,
   "metadata": {},
   "outputs": [],
   "source": [
    "# Replace labels with numbers\n",
    "train_labels = [label_replacement[label] for label in train_labels]\n",
    "dev_labels = [label_replacement[label] for label in dev_labels]\n",
    "test_labels = [label_replacement[label] for label in test_labels]"
   ]
  },
  {
   "cell_type": "markdown",
   "metadata": {},
   "source": [
    "### Glove Twitter 25"
   ]
  },
  {
   "cell_type": "code",
   "execution_count": 5,
   "metadata": {},
   "outputs": [],
   "source": [
    "gt25_train, gt25_dev, gt25_test = load_glove_twitter_25()"
   ]
  },
  {
   "cell_type": "code",
   "execution_count": 6,
   "metadata": {},
   "outputs": [],
   "source": [
    "# Set all NaN values to 0\n",
    "gt25_train = np.nan_to_num(gt25_train)\n",
    "gt25_dev = np.nan_to_num(gt25_dev)\n",
    "gt25_test = np.nan_to_num(gt25_test)"
   ]
  },
  {
   "cell_type": "code",
   "execution_count": 7,
   "metadata": {},
   "outputs": [],
   "source": [
    "nearest_centroid = NearestCentroid().fit(gt25_train, train_labels)\n",
    "save_model(nearest_centroid, 'nearest_centroid_gt25.joblib')"
   ]
  },
  {
   "cell_type": "code",
   "execution_count": 8,
   "metadata": {},
   "outputs": [],
   "source": [
    "train_preds = nearest_centroid.predict(gt25_train)\n",
    "dev_preds = nearest_centroid.predict(gt25_dev)\n",
    "test_preds = nearest_centroid.predict(gt25_test)"
   ]
  },
  {
   "cell_type": "code",
   "execution_count": 9,
   "metadata": {},
   "outputs": [
    {
     "name": "stdout",
     "output_type": "stream",
     "text": [
      "Accuracy Train:  0.47970301379492136\n",
      "Accuracy Dev:  0.48997537812170244\n",
      "Accuracy Test:  0.4764581869290232\n",
      "Weighted F1 Train:  0.583247066494068\n",
      "Weighted F1 Dev:  0.5876366518381572\n",
      "Weighted F1 Test:  0.5783478786382882\n",
      "Macro F1 Train:  0.28734117594971553\n",
      "Macro F1 Dev:  0.2980994632664367\n",
      "Macro F1 Test:  0.28793564454140674\n",
      "Micro F1 Train:  0.47970301379492136\n",
      "Micro F1 Dev:  0.48997537812170244\n",
      "Micro F1 Test:  0.4764581869290232\n",
      "Weighted Recall Train:  0.47970301379492136\n",
      "Weighted Recall Dev:  0.48997537812170244\n",
      "Weighted Recall Test:  0.4764581869290232\n",
      "Macro Recall Train:  0.5636679644990306\n",
      "Macro Recall Dev:  0.7329662110075638\n",
      "Macro Recall Test:  0.5130018425675965\n",
      "Micro Recall Train:  0.47970301379492136\n",
      "Micro Recall Dev:  0.48997537812170244\n",
      "Micro Recall Test:  0.4764581869290232\n",
      "Confusion Matrix Train: \n",
      "[[1443  455   64]\n",
      " [8757 9465 2556]\n",
      " [   5    6   11]]\n",
      "Confusion Matrix Dev: \n",
      "[[ 200   64    8]\n",
      " [1074 1191  304]\n",
      " [   0    0    2]]\n",
      "Confusion Matrix Test: \n",
      "[[ 189   57    4]\n",
      " [1090 1166  337]\n",
      " [   1    1    1]]\n"
     ]
    }
   ],
   "source": [
    "computeAllScores(train_preds, dev_preds, test_preds)"
   ]
  },
  {
   "cell_type": "markdown",
   "metadata": {},
   "source": [
    "### FastText 300 "
   ]
  },
  {
   "cell_type": "code",
   "execution_count": 10,
   "metadata": {},
   "outputs": [],
   "source": [
    "ft300_train, ft300_dev, ft300_test = load_fasttext_300()"
   ]
  },
  {
   "cell_type": "code",
   "execution_count": 11,
   "metadata": {},
   "outputs": [],
   "source": [
    "# Set all NaN values to 0\n",
    "ft300_train = np.nan_to_num(ft300_train)\n",
    "ft300_dev = np.nan_to_num(ft300_dev)\n",
    "ft300_test = np.nan_to_num(ft300_test)"
   ]
  },
  {
   "cell_type": "code",
   "execution_count": 12,
   "metadata": {},
   "outputs": [],
   "source": [
    "nearest_centroid = NearestCentroid().fit(ft300_train, train_labels)\n",
    "save_model(nearest_centroid, 'nearest_centroid_ft300.joblib')"
   ]
  },
  {
   "cell_type": "code",
   "execution_count": 13,
   "metadata": {},
   "outputs": [],
   "source": [
    "train_preds = nearest_centroid.predict(ft300_train)\n",
    "dev_preds = nearest_centroid.predict(ft300_dev)\n",
    "test_preds = nearest_centroid.predict(ft300_test)"
   ]
  },
  {
   "cell_type": "code",
   "execution_count": 14,
   "metadata": {},
   "outputs": [
    {
     "name": "stdout",
     "output_type": "stream",
     "text": [
      "Accuracy Train:  0.6240664265003075\n",
      "Accuracy Dev:  0.6215265564544495\n",
      "Accuracy Test:  0.6289529163738581\n",
      "Weighted F1 Train:  0.7074486902121332\n",
      "Weighted F1 Dev:  0.7012000167438953\n",
      "Weighted F1 Test:  0.7107550586740382\n",
      "Macro F1 Train:  0.3472252050771638\n",
      "Macro F1 Dev:  0.35197322985265717\n",
      "Macro F1 Test:  0.35126624153239455\n",
      "Micro F1 Train:  0.6240664265003075\n",
      "Micro F1 Dev:  0.6215265564544495\n",
      "Micro F1 Test:  0.6289529163738581\n",
      "Weighted Recall Train:  0.6240664265003075\n",
      "Weighted Recall Dev:  0.6215265564544494\n",
      "Weighted Recall Test:  0.6289529163738581\n",
      "Macro Recall Train:  0.5981714645664077\n",
      "Macro Recall Dev:  0.6160523473694655\n",
      "Macro Recall Test:  0.5663835111625316\n",
      "Micro Recall Train:  0.6240664265003075\n",
      "Micro Recall Dev:  0.6215265564544495\n",
      "Micro Recall Test:  0.6289529163738581\n",
      "Confusion Matrix Train: \n",
      "[[ 1423   524    15]\n",
      " [ 7154 12772   852]\n",
      " [    4     8    10]]\n",
      "Confusion Matrix Dev: \n",
      "[[ 201   68    3]\n",
      " [ 895 1565  109]\n",
      " [   1    0    1]]\n",
      "Confusion Matrix Test: \n",
      "[[ 187   61    2]\n",
      " [ 876 1602  115]\n",
      " [   1    1    1]]\n"
     ]
    }
   ],
   "source": [
    "computeAllScores(train_preds, dev_preds, test_preds)"
   ]
  },
  {
   "cell_type": "markdown",
   "metadata": {},
   "source": [
    "### Word2Vec 300"
   ]
  },
  {
   "cell_type": "code",
   "execution_count": 15,
   "metadata": {},
   "outputs": [],
   "source": [
    "w2v300_train, w2v300_dev, w2v300_test = load_word2vec_300()"
   ]
  },
  {
   "cell_type": "code",
   "execution_count": 16,
   "metadata": {},
   "outputs": [],
   "source": [
    "# Set all NaN values to 0\n",
    "w2v300_train = np.nan_to_num(w2v300_train)\n",
    "w2v300_dev = np.nan_to_num(w2v300_dev)\n",
    "w2v300_test = np.nan_to_num(w2v300_test)"
   ]
  },
  {
   "cell_type": "code",
   "execution_count": 17,
   "metadata": {},
   "outputs": [],
   "source": [
    "nearest_centroid = NearestCentroid().fit(w2v300_train, train_labels)\n",
    "save_model(nearest_centroid, 'nearest_centroid_w2v300.joblib')"
   ]
  },
  {
   "cell_type": "code",
   "execution_count": 18,
   "metadata": {},
   "outputs": [],
   "source": [
    "train_preds = nearest_centroid.predict(w2v300_train)\n",
    "dev_preds = nearest_centroid.predict(w2v300_dev)\n",
    "test_preds = nearest_centroid.predict(w2v300_test)"
   ]
  },
  {
   "cell_type": "code",
   "execution_count": 19,
   "metadata": {},
   "outputs": [
    {
     "name": "stdout",
     "output_type": "stream",
     "text": [
      "Accuracy Train:  0.6600913803707934\n",
      "Accuracy Dev:  0.6630320084417869\n",
      "Accuracy Test:  0.6654954321855235\n",
      "Weighted F1 Train:  0.7359802599574455\n",
      "Weighted F1 Dev:  0.7340949852415108\n",
      "Weighted F1 Test:  0.7393737823335733\n",
      "Macro F1 Train:  0.36425988909189205\n",
      "Macro F1 Dev:  0.3729726712182186\n",
      "Macro F1 Test:  0.37511734210431696\n",
      "Micro F1 Train:  0.6600913803707934\n",
      "Micro F1 Dev:  0.6630320084417869\n",
      "Micro F1 Test:  0.6654954321855235\n",
      "Weighted Recall Train:  0.6600913803707934\n",
      "Weighted Recall Dev:  0.6630320084417869\n",
      "Weighted Recall Test:  0.6654954321855235\n",
      "Macro Recall Train:  0.5980371562170766\n",
      "Macro Recall Dev:  0.6335545798700952\n",
      "Macro Recall Test:  0.6026436988473239\n",
      "Micro Recall Train:  0.6600913803707934\n",
      "Micro Recall Dev:  0.6630320084417869\n",
      "Micro Recall Test:  0.6654954321855235\n",
      "Confusion Matrix Train: \n",
      "[[ 1435   511    16]\n",
      " [ 6446 13581   751]\n",
      " [    2    11     9]]\n",
      "Confusion Matrix Dev: \n",
      "[[ 203   68    1]\n",
      " [ 791 1681   97]\n",
      " [   0    1    1]]\n",
      "Confusion Matrix Test: \n",
      "[[ 206   44    0]\n",
      " [ 809 1687   97]\n",
      " [   1    1    1]]\n"
     ]
    }
   ],
   "source": [
    "computeAllScores(train_preds, dev_preds, test_preds)"
   ]
  },
  {
   "cell_type": "markdown",
   "metadata": {},
   "source": [
    "### TF-IDF PCA (1000 Dims)"
   ]
  },
  {
   "cell_type": "code",
   "execution_count": 20,
   "metadata": {},
   "outputs": [],
   "source": [
    "tfidf_pca_train, tfidf_pca_dev, tfidf_pca_test = load_tfidf_pca()"
   ]
  },
  {
   "cell_type": "code",
   "execution_count": 21,
   "metadata": {},
   "outputs": [],
   "source": [
    "nearest_centroid = NearestCentroid().fit(tfidf_pca_train, train_labels)\n",
    "save_model(nearest_centroid, 'nearest_centroid_tfidf_pca.joblib')"
   ]
  },
  {
   "cell_type": "code",
   "execution_count": 22,
   "metadata": {},
   "outputs": [],
   "source": [
    "train_preds = nearest_centroid.predict(tfidf_pca_train)\n",
    "dev_preds = nearest_centroid.predict(tfidf_pca_dev)\n",
    "test_preds = nearest_centroid.predict(tfidf_pca_test)"
   ]
  },
  {
   "cell_type": "code",
   "execution_count": 23,
   "metadata": {},
   "outputs": [
    {
     "name": "stdout",
     "output_type": "stream",
     "text": [
      "Accuracy Train:  0.7730867234865126\n",
      "Accuracy Dev:  0.7583538515652479\n",
      "Accuracy Test:  0.7614195361911454\n",
      "Weighted F1 Train:  0.8204982041442979\n",
      "Weighted F1 Dev:  0.807263960044715\n",
      "Weighted F1 Test:  0.8119314906718668\n",
      "Macro F1 Train:  0.42529839422773147\n",
      "Macro F1 Dev:  0.4121132839539076\n",
      "Macro F1 Test:  0.4092289643846722\n",
      "Micro F1 Train:  0.7730867234865126\n",
      "Micro F1 Dev:  0.758353851565248\n",
      "Micro F1 Test:  0.7614195361911453\n",
      "Weighted Recall Train:  0.7730867234865126\n",
      "Weighted Recall Dev:  0.7583538515652479\n",
      "Weighted Recall Test:  0.7614195361911454\n",
      "Macro Recall Train:  0.7393047956501185\n",
      "Macro Recall Dev:  0.4846486959906578\n",
      "Macro Recall Test:  0.48699781462912967\n",
      "Micro Recall Train:  0.7730867234865126\n",
      "Micro Recall Dev:  0.7583538515652479\n",
      "Micro Recall Test:  0.7614195361911454\n",
      "Confusion Matrix Train: \n",
      "[[ 1298   635    29]\n",
      " [ 3737 16282   759]\n",
      " [    0     5    17]]\n",
      "Confusion Matrix Dev: \n",
      "[[ 187   78    7]\n",
      " [ 516 1969   84]\n",
      " [   0    2    0]]\n",
      "Confusion Matrix Test: \n",
      "[[ 173   73    4]\n",
      " [ 506 1994   93]\n",
      " [   0    3    0]]\n"
     ]
    }
   ],
   "source": [
    "computeAllScores(train_preds, dev_preds, test_preds)"
   ]
  },
  {
   "cell_type": "markdown",
   "metadata": {},
   "source": [
    "### Sentence Transformer Faster No PCA"
   ]
  },
  {
   "cell_type": "code",
   "execution_count": 24,
   "metadata": {},
   "outputs": [],
   "source": [
    "train, dev, test = load_sent_trans_fast_no_pca()"
   ]
  },
  {
   "cell_type": "code",
   "execution_count": 25,
   "metadata": {},
   "outputs": [],
   "source": [
    "nearest_centroid = NearestCentroid().fit(train, train_labels)\n",
    "save_model(nearest_centroid, 'nearest_centroid_sent_trans_fast_no_pca.joblib')"
   ]
  },
  {
   "cell_type": "code",
   "execution_count": 26,
   "metadata": {},
   "outputs": [],
   "source": [
    "train_preds = nearest_centroid.predict(train)\n",
    "dev_preds = nearest_centroid.predict(dev)\n",
    "test_preds = nearest_centroid.predict(test)"
   ]
  },
  {
   "cell_type": "code",
   "execution_count": 27,
   "metadata": {},
   "outputs": [
    {
     "name": "stdout",
     "output_type": "stream",
     "text": [
      "Accuracy Train:  0.7556014409981548\n",
      "Accuracy Dev:  0.7530777347871966\n",
      "Accuracy Test:  0.7484188334504568\n",
      "Weighted F1 Train:  0.812075214434259\n",
      "Weighted F1 Dev:  0.807743227588967\n",
      "Weighted F1 Test:  0.8057508702566876\n",
      "Macro F1 Train:  0.43042788904055795\n",
      "Macro F1 Dev:  0.42970491901065877\n",
      "Macro F1 Test:  0.4228869061367528\n",
      "Micro F1 Train:  0.7556014409981548\n",
      "Micro F1 Dev:  0.7530777347871966\n",
      "Micro F1 Test:  0.7484188334504568\n",
      "Weighted Recall Train:  0.7556014409981548\n",
      "Weighted Recall Dev:  0.7530777347871966\n",
      "Weighted Recall Test:  0.7484188334504568\n",
      "Macro Recall Train:  0.7840566908790092\n",
      "Macro Recall Dev:  0.6667711362474145\n",
      "Macro Recall Test:  0.623343531730728\n",
      "Micro Recall Train:  0.7556014409981548\n",
      "Micro Recall Dev:  0.7530777347871966\n",
      "Micro Recall Test:  0.7484188334504568\n",
      "Confusion Matrix Train: \n",
      "[[ 1532   367    63]\n",
      " [ 3918 15649  1211]\n",
      " [    1     3    18]]\n",
      "Confusion Matrix Dev: \n",
      "[[ 203   59   10]\n",
      " [ 471 1937  161]\n",
      " [   0    1    1]]\n",
      "Confusion Matrix Test: \n",
      "[[ 198   46    6]\n",
      " [ 515 1931  147]\n",
      " [   0    2    1]]\n"
     ]
    }
   ],
   "source": [
    "computeAllScores(train_preds, dev_preds, test_preds)"
   ]
  },
  {
   "cell_type": "markdown",
   "metadata": {},
   "source": [
    "### Sentence Transformer Faster PCA"
   ]
  },
  {
   "cell_type": "code",
   "execution_count": 28,
   "metadata": {},
   "outputs": [],
   "source": [
    "train, dev, test = load_sent_trans_fast_pca()"
   ]
  },
  {
   "cell_type": "code",
   "execution_count": 29,
   "metadata": {},
   "outputs": [],
   "source": [
    "nearest_centroid = NearestCentroid().fit(train, train_labels)\n",
    "save_model(nearest_centroid, 'nearest_centroid_sent_trans_fast_pca')"
   ]
  },
  {
   "cell_type": "code",
   "execution_count": 30,
   "metadata": {},
   "outputs": [],
   "source": [
    "train_preds = nearest_centroid.predict(train)\n",
    "dev_preds = nearest_centroid.predict(dev)\n",
    "test_preds = nearest_centroid.predict(test)"
   ]
  },
  {
   "cell_type": "code",
   "execution_count": 31,
   "metadata": {},
   "outputs": [
    {
     "name": "stdout",
     "output_type": "stream",
     "text": [
      "Accuracy Train:  0.7510763553290573\n",
      "Accuracy Dev:  0.748153359127682\n",
      "Accuracy Test:  0.7452565003513704\n",
      "Weighted F1 Train:  0.809300439167791\n",
      "Weighted F1 Dev:  0.8046939212673693\n",
      "Weighted F1 Test:  0.8037866815469658\n",
      "Macro F1 Train:  0.42866522750059516\n",
      "Macro F1 Dev:  0.42754941404575364\n",
      "Macro F1 Test:  0.4222541821900796\n",
      "Micro F1 Train:  0.7510763553290573\n",
      "Micro F1 Dev:  0.748153359127682\n",
      "Micro F1 Test:  0.7452565003513704\n",
      "Weighted Recall Train:  0.7510763553290573\n",
      "Weighted Recall Dev:  0.748153359127682\n",
      "Weighted Recall Test:  0.7452565003513704\n",
      "Macro Recall Train:  0.781942745966091\n",
      "Macro Recall Dev:  0.6638588677978003\n",
      "Macro Recall Test:  0.62218657068175\n",
      "Micro Recall Train:  0.7510763553290573\n",
      "Micro Recall Dev:  0.748153359127682\n",
      "Micro Recall Test:  0.7452565003513704\n",
      "Confusion Matrix Train: \n",
      "[[ 1529   363    70]\n",
      " [ 3906 15549  1323]\n",
      " [    1     3    18]]\n",
      "Confusion Matrix Dev: \n",
      "[[ 202   58   12]\n",
      " [ 473 1924  172]\n",
      " [   0    1    1]]\n",
      "Confusion Matrix Test: \n",
      "[[ 198   46    6]\n",
      " [ 512 1922  159]\n",
      " [   0    2    1]]\n"
     ]
    }
   ],
   "source": [
    "computeAllScores(train_preds, dev_preds, test_preds)"
   ]
  },
  {
   "cell_type": "markdown",
   "metadata": {},
   "source": [
    "### Sentence Transformer Better No PCA"
   ]
  },
  {
   "cell_type": "code",
   "execution_count": 32,
   "metadata": {},
   "outputs": [],
   "source": [
    "train, dev, test = load_sent_trans_better_no_pca()"
   ]
  },
  {
   "cell_type": "code",
   "execution_count": 33,
   "metadata": {},
   "outputs": [],
   "source": [
    "nearest_centroid = NearestCentroid().fit(train, train_labels)\n",
    "save_model(nearest_centroid, 'nearest_centroid_sent_trans_better_no_pca')"
   ]
  },
  {
   "cell_type": "code",
   "execution_count": 34,
   "metadata": {},
   "outputs": [],
   "source": [
    "train_preds = nearest_centroid.predict(train)\n",
    "dev_preds = nearest_centroid.predict(dev)\n",
    "test_preds = nearest_centroid.predict(test)"
   ]
  },
  {
   "cell_type": "code",
   "execution_count": 35,
   "metadata": {},
   "outputs": [
    {
     "name": "stdout",
     "output_type": "stream",
     "text": [
      "Accuracy Train:  0.7425094455671734\n",
      "Accuracy Dev:  0.7463946535349982\n",
      "Accuracy Test:  0.7371749824314828\n",
      "Weighted F1 Train:  0.8064137240141829\n",
      "Weighted F1 Dev:  0.8063800598601126\n",
      "Weighted F1 Test:  0.8021729271164183\n",
      "Macro F1 Train:  0.43146778920882695\n",
      "Macro F1 Dev:  0.4350685830431395\n",
      "Macro F1 Test:  0.43059630707966057\n",
      "Micro F1 Train:  0.7425094455671735\n",
      "Micro F1 Dev:  0.7463946535349982\n",
      "Micro F1 Test:  0.7371749824314829\n",
      "Weighted Recall Train:  0.7425094455671734\n",
      "Weighted Recall Dev:  0.7463946535349982\n",
      "Weighted Recall Test:  0.7371749824314828\n",
      "Macro Recall Train:  0.7491589003178095\n",
      "Macro Recall Dev:  0.5098220487104924\n",
      "Macro Recall Test:  0.621639456656811\n",
      "Micro Recall Train:  0.7425094455671734\n",
      "Micro Recall Dev:  0.7463946535349982\n",
      "Micro Recall Test:  0.7371749824314828\n",
      "Confusion Matrix Train: \n",
      "[[ 1533   324   105]\n",
      " [ 3526 15352  1900]\n",
      " [    2     4    16]]\n",
      "Confusion Matrix Dev: \n",
      "[[ 214   45   13]\n",
      " [ 441 1908  220]\n",
      " [   0    2    0]]\n",
      "Confusion Matrix Test: \n",
      "[[ 200   39   11]\n",
      " [ 445 1897  251]\n",
      " [   0    2    1]]\n"
     ]
    }
   ],
   "source": [
    "computeAllScores(train_preds, dev_preds, test_preds)"
   ]
  },
  {
   "cell_type": "markdown",
   "metadata": {},
   "source": [
    "### Sentence Transformer Better PCA"
   ]
  },
  {
   "cell_type": "code",
   "execution_count": 36,
   "metadata": {},
   "outputs": [],
   "source": [
    "train, dev, test = load_sent_trans_better_pca()"
   ]
  },
  {
   "cell_type": "code",
   "execution_count": 37,
   "metadata": {},
   "outputs": [],
   "source": [
    "nearest_centroid = NearestCentroid().fit(train, train_labels)\n",
    "save_model(nearest_centroid, 'nearest_centroid_sent_trans_better_pca')"
   ]
  },
  {
   "cell_type": "code",
   "execution_count": 38,
   "metadata": {},
   "outputs": [],
   "source": [
    "train_preds = nearest_centroid.predict(train)\n",
    "dev_preds = nearest_centroid.predict(dev)\n",
    "test_preds = nearest_centroid.predict(test)"
   ]
  },
  {
   "cell_type": "code",
   "execution_count": 39,
   "metadata": {},
   "outputs": [
    {
     "name": "stdout",
     "output_type": "stream",
     "text": [
      "Accuracy Train:  0.7367981723925842\n",
      "Accuracy Dev:  0.7390080900457263\n",
      "Accuracy Test:  0.7340126493323963\n",
      "Weighted F1 Train:  0.8027191846367847\n",
      "Weighted F1 Dev:  0.80162821539565\n",
      "Weighted F1 Test:  0.8001902054828377\n",
      "Macro F1 Train:  0.42968197136857356\n",
      "Macro F1 Dev:  0.43296881250700076\n",
      "Macro F1 Test:  0.4294071270047755\n",
      "Micro F1 Train:  0.7367981723925843\n",
      "Micro F1 Dev:  0.7390080900457263\n",
      "Micro F1 Test:  0.7340126493323963\n",
      "Weighted Recall Train:  0.7367981723925842\n",
      "Weighted Recall Dev:  0.7390080900457263\n",
      "Weighted Recall Test:  0.7340126493323963\n",
      "Macro Recall Train:  0.7467656570134403\n",
      "Macro Recall Dev:  0.5060015150474358\n",
      "Macro Recall Test:  0.619277713502164\n",
      "Micro Recall Train:  0.7367981723925842\n",
      "Micro Recall Dev:  0.7390080900457263\n",
      "Micro Recall Test:  0.7340126493323963\n",
      "Confusion Matrix Train: \n",
      "[[ 1531   321   110]\n",
      " [ 3525 15224  2029]\n",
      " [    2     4    16]]\n",
      "Confusion Matrix Dev: \n",
      "[[ 213   45   14]\n",
      " [ 440 1888  241]\n",
      " [   0    2    0]]\n",
      "Confusion Matrix Test: \n",
      "[[ 199   39   12]\n",
      " [ 444 1889  260]\n",
      " [   0    2    1]]\n"
     ]
    }
   ],
   "source": [
    "computeAllScores(train_preds, dev_preds, test_preds)"
   ]
  }
 ],
 "metadata": {
  "kernelspec": {
   "display_name": "Python 3.9.13 64-bit (microsoft store)",
   "language": "python",
   "name": "python3"
  },
  "language_info": {
   "codemirror_mode": {
    "name": "ipython",
    "version": 3
   },
   "file_extension": ".py",
   "mimetype": "text/x-python",
   "name": "python",
   "nbconvert_exporter": "python",
   "pygments_lexer": "ipython3",
   "version": "3.9.13"
  },
  "orig_nbformat": 4,
  "vscode": {
   "interpreter": {
    "hash": "a5a87ee616be0254e3f1af9223138e3faeac65b2c9d91bc22a9fc5a4a8bd8eb0"
   }
  }
 },
 "nbformat": 4,
 "nbformat_minor": 2
}
