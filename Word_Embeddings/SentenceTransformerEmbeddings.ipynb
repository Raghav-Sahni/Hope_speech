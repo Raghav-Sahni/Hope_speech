{
 "cells": [
  {
   "cell_type": "code",
   "execution_count": 2,
   "metadata": {},
   "outputs": [
    {
     "name": "stderr",
     "output_type": "stream",
     "text": [
      "c:\\Kyode\\clg\\ml\\ML_Project\\venv\\lib\\site-packages\\tqdm\\auto.py:22: TqdmWarning: IProgress not found. Please update jupyter and ipywidgets. See https://ipywidgets.readthedocs.io/en/stable/user_install.html\n",
      "  from .autonotebook import tqdm as notebook_tqdm\n"
     ]
    }
   ],
   "source": [
    "from sentence_transformers import SentenceTransformer\n",
    "import pandas as pd\n",
    "import os\n",
    "from sklearn.model_selection import KFold\n",
    "import numpy as np\n",
    "from sklearn.decomposition import PCA\n",
    "from tqdm import tqdm, trange"
   ]
  },
  {
   "cell_type": "code",
   "execution_count": 3,
   "metadata": {},
   "outputs": [],
   "source": [
    "parent_dir = os.path.join(os.path.abspath(os.path.join(os.getcwd(), os.pardir)))\n",
    "file_path = 'Data Preprocessing\\PreprocessedData\\english_train_folds.npy'\n",
    "net_path = os.path.join(parent_dir, file_path)"
   ]
  },
  {
   "cell_type": "code",
   "execution_count": 4,
   "metadata": {},
   "outputs": [],
   "source": [
    "kfolds_english = np.load(net_path, allow_pickle=True)"
   ]
  },
  {
   "cell_type": "markdown",
   "metadata": {},
   "source": [
    "#### Model 1: `all-mpnet-base-v2`"
   ]
  },
  {
   "cell_type": "code",
   "execution_count": 5,
   "metadata": {},
   "outputs": [],
   "source": [
    "model_1 = SentenceTransformer(\"all-mpnet-base-v2\")"
   ]
  },
  {
   "cell_type": "code",
   "execution_count": 6,
   "metadata": {},
   "outputs": [],
   "source": [
    "sent_embeddings_model1 = []\n",
    "for train, test in kfolds_english:\n",
    "    train_encoded = model_1.encode(train[\"tokenized_text\"].map(lambda row: ' '.join(eval(row))).values)\n",
    "    test_encoded = model_1.encode(test[\"tokenized_text\"].map(lambda row: ' '.join(eval(row))).values)\n",
    "    sent_embeddings_model1.append((train_encoded, test_encoded))"
   ]
  },
  {
   "cell_type": "code",
   "execution_count": 16,
   "metadata": {},
   "outputs": [],
   "source": [
    "m1_embedding_dump_path = 'Word_Embeddings\\Pre Computed Word Embeddings\\english_train_folds_sentence_model1_prePCA.npy'\n",
    "net_path = os.path.join(parent_dir, m1_embedding_dump_path)"
   ]
  },
  {
   "cell_type": "code",
   "execution_count": 17,
   "metadata": {},
   "outputs": [],
   "source": [
    "np.save(net_path, sent_embeddings_model1)"
   ]
  },
  {
   "cell_type": "markdown",
   "metadata": {},
   "source": [
    "#### Model 2: `all-MiniLM-L6-v2`"
   ]
  },
  {
   "cell_type": "code",
   "execution_count": 18,
   "metadata": {},
   "outputs": [],
   "source": [
    "model_2 = SentenceTransformer(\"all-MiniLM-L6-v2\")"
   ]
  },
  {
   "cell_type": "code",
   "execution_count": 19,
   "metadata": {},
   "outputs": [],
   "source": [
    "sent_embeddings_model2 = []\n",
    "for train, test in kfolds_english:\n",
    "    train_encoded = model_2.encode(train[\"tokenized_text\"].map(lambda row: ' '.join(eval(row))).values)\n",
    "    test_encoded = model_2.encode(test[\"tokenized_text\"].map(lambda row: ' '.join(eval(row))).values)\n",
    "    sent_embeddings_model2.append((train_encoded, test_encoded))"
   ]
  },
  {
   "cell_type": "code",
   "execution_count": 20,
   "metadata": {},
   "outputs": [],
   "source": [
    "m2_embedding_dump_path = 'Word_Embeddings\\Pre Computed Word Embeddings\\english_train_folds_sentence_model2_prePCA.npy'\n",
    "net_path = os.path.join(parent_dir, m2_embedding_dump_path)"
   ]
  },
  {
   "cell_type": "code",
   "execution_count": 21,
   "metadata": {},
   "outputs": [],
   "source": [
    "np.save(net_path, sent_embeddings_model2)"
   ]
  },
  {
   "cell_type": "code",
   "execution_count": null,
   "metadata": {},
   "outputs": [],
   "source": []
  }
 ],
 "metadata": {
  "kernelspec": {
   "display_name": "Python 3.10.2 ('venv': venv)",
   "language": "python",
   "name": "python3"
  },
  "language_info": {
   "codemirror_mode": {
    "name": "ipython",
    "version": 3
   },
   "file_extension": ".py",
   "mimetype": "text/x-python",
   "name": "python",
   "nbconvert_exporter": "python",
   "pygments_lexer": "ipython3",
   "version": "3.10.2"
  },
  "orig_nbformat": 4,
  "vscode": {
   "interpreter": {
    "hash": "fd949ee6353ffa8da7adb473cc2810b4b5aee9c3c37e455af5c40ec8a7a1d86b"
   }
  }
 },
 "nbformat": 4,
 "nbformat_minor": 2
}
