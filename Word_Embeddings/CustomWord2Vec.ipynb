{
  "nbformat": 4,
  "nbformat_minor": 0,
  "metadata": {
    "colab": {
      "provenance": []
    },
    "kernelspec": {
      "name": "python3",
      "display_name": "Python 3"
    },
    "language_info": {
      "name": "python"
    },
    "accelerator": "GPU"
  },
  "cells": [
    {
      "cell_type": "markdown",
      "source": [
        "**Imports**"
      ],
      "metadata": {
        "id": "_yKJF587MV8f"
      }
    },
    {
      "cell_type": "code",
      "execution_count": null,
      "metadata": {
        "id": "bWsstoz5KnwW"
      },
      "outputs": [],
      "source": [
        "import requests\n",
        "import urllib\n",
        "import re\n",
        "import os\n",
        "import zipfile\n",
        "import collections\n",
        "import numpy as np\n",
        "import pandas as pd\n",
        "import urllib.request\n",
        "import matplotlib.pyplot as plt\n",
        "from collections import defaultdict\n",
        "%matplotlib inline\n",
        "from IPython.core.display import HTML\n",
        "\n",
        "import tensorflow as tf\n",
        "from tensorflow import keras\n",
        "from tensorflow.python.keras import backend as K\n",
        "from tensorflow.keras.models import Model\n",
        "from tensorflow.keras.models import Model, Sequential \n",
        "from tensorflow.keras.layers import Input, Dense, Reshape,Embedding,dot\n",
        "\n",
        "from sklearn.model_selection import train_test_split"
      ]
    },
    {
      "cell_type": "code",
      "source": [
        "token = \"token\"\n",
        "!git clone https://{token}@github.com/Raghav-Sahni/Hope_speech.git"
      ],
      "metadata": {
        "colab": {
          "base_uri": "https://localhost:8080/"
        },
        "id": "tptitLEmaHFz",
        "outputId": "06198b11-0901-41e8-80aa-9da1a4de749b"
      },
      "execution_count": null,
      "outputs": [
        {
          "output_type": "stream",
          "name": "stdout",
          "text": [
            "Cloning into 'Hope_speech'...\n",
            "remote: Enumerating objects: 700, done.\u001b[K\n",
            "remote: Counting objects: 100% (261/261), done.\u001b[K\n",
            "remote: Compressing objects: 100% (135/135), done.\u001b[K\n",
            "remote: Total 700 (delta 151), reused 228 (delta 125), pack-reused 439\u001b[K\n",
            "Receiving objects: 100% (700/700), 68.67 MiB | 21.63 MiB/s, done.\n",
            "Resolving deltas: 100% (411/411), done.\n"
          ]
        }
      ]
    },
    {
      "cell_type": "markdown",
      "source": [
        "**Verify Setup**"
      ],
      "metadata": {
        "id": "Q8-_T3SHxLru"
      }
    },
    {
      "cell_type": "code",
      "source": [
        "print(\"tensorflow version\", tf.__version__)\n",
        "print(\"keras version\", tf.keras.__version__)\n",
        "print(\"Eager Execution Enabled:\", tf.executing_eagerly())\n",
        "\n",
        "strategy = tf.distribute.MirroredStrategy()\n",
        "print(\"Number of replicas:\", strategy.num_replicas_in_sync)\n",
        "\n",
        "devices = tf.config.experimental.get_visible_devices()\n",
        "print(\"Devices:\", devices)\n",
        "print(tf.config.experimental.list_logical_devices('GPU'))\n",
        "\n",
        "print(\"GPU Available: \", tf.config.list_physical_devices('GPU'))\n",
        "print(\"All Physical Devices\", tf.config.list_physical_devices())\n",
        "\n",
        "AUTOTUNE = tf.data.experimental.AUTOTUNE"
      ],
      "metadata": {
        "id": "WOi7vvxnxMFJ",
        "colab": {
          "base_uri": "https://localhost:8080/"
        },
        "outputId": "7ca5541a-d8b7-4a1b-ba23-ba299ea6327e"
      },
      "execution_count": null,
      "outputs": [
        {
          "output_type": "stream",
          "name": "stdout",
          "text": [
            "tensorflow version 2.9.2\n",
            "keras version 2.9.0\n",
            "Eager Execution Enabled: True\n",
            "Number of replicas: 1\n",
            "Devices: [PhysicalDevice(name='/physical_device:CPU:0', device_type='CPU'), PhysicalDevice(name='/physical_device:GPU:0', device_type='GPU')]\n",
            "[LogicalDevice(name='/device:GPU:0', device_type='GPU')]\n",
            "GPU Available:  [PhysicalDevice(name='/physical_device:GPU:0', device_type='GPU')]\n",
            "All Physical Devices [PhysicalDevice(name='/physical_device:CPU:0', device_type='CPU'), PhysicalDevice(name='/physical_device:GPU:0', device_type='GPU')]\n"
          ]
        }
      ]
    },
    {
      "cell_type": "code",
      "source": [
        "from google.colab import drive\n",
        "drive.mount('/content/drive')"
      ],
      "metadata": {
        "colab": {
          "base_uri": "https://localhost:8080/"
        },
        "id": "G0qbWSDleqwW",
        "outputId": "e09218cc-9778-4839-faf1-c44e4a658c4d"
      },
      "execution_count": null,
      "outputs": [
        {
          "output_type": "stream",
          "name": "stdout",
          "text": [
            "Drive already mounted at /content/drive; to attempt to forcibly remount, call drive.mount(\"/content/drive\", force_remount=True).\n"
          ]
        }
      ]
    },
    {
      "cell_type": "code",
      "source": [
        "df_train = pd.read_csv(\"/content/Hope_speech/Data/PreprocessedData/english_train_preprocess.csv\")\n",
        "df_test = pd.read_csv(\"/content/Hope_speech/Data/PreprocessedData/english_test_preprocess.csv\")\n",
        "df_dev = pd.read_csv(\"/content/Hope_speech/Data/PreprocessedData/english_dev_preprocess.csv\")"
      ],
      "metadata": {
        "id": "iXnv1_PKes0k"
      },
      "execution_count": null,
      "outputs": []
    },
    {
      "cell_type": "code",
      "source": [
        "aug_df = pd.read_csv(\"/content/Hope_speech/Data/AugmentedData/english_train_augmented.csv\")"
      ],
      "metadata": {
        "id": "cga_75gMaMU2"
      },
      "execution_count": null,
      "outputs": []
    },
    {
      "cell_type": "code",
      "source": [
        "aug_df.head()"
      ],
      "metadata": {
        "colab": {
          "base_uri": "https://localhost:8080/",
          "height": 206
        },
        "id": "RmVZa6F4aSvI",
        "outputId": "22143489-8ae7-467a-a6af-69a7669f854c"
      },
      "execution_count": null,
      "outputs": [
        {
          "output_type": "execute_result",
          "data": {
            "text/plain": [
              "   Unnamed: 0                                     augmented_text        label\n",
              "0           0  engineer network here 23 presently working as ...  Hope_speech\n",
              "1           1  engineer network here 23 and presently instruc...  Hope_speech\n",
              "2           2  Still im hiding grammatical gender to my paren...  Hope_speech\n",
              "3           3  im hide still my gender to my parents and they...  Hope_speech\n",
              "4           4  all subject without lives that we never have p...  Hope_speech"
            ],
            "text/html": [
              "\n",
              "  <div id=\"df-7e395e3c-773f-4e41-9d8f-1aa48f550a31\">\n",
              "    <div class=\"colab-df-container\">\n",
              "      <div>\n",
              "<style scoped>\n",
              "    .dataframe tbody tr th:only-of-type {\n",
              "        vertical-align: middle;\n",
              "    }\n",
              "\n",
              "    .dataframe tbody tr th {\n",
              "        vertical-align: top;\n",
              "    }\n",
              "\n",
              "    .dataframe thead th {\n",
              "        text-align: right;\n",
              "    }\n",
              "</style>\n",
              "<table border=\"1\" class=\"dataframe\">\n",
              "  <thead>\n",
              "    <tr style=\"text-align: right;\">\n",
              "      <th></th>\n",
              "      <th>Unnamed: 0</th>\n",
              "      <th>augmented_text</th>\n",
              "      <th>label</th>\n",
              "    </tr>\n",
              "  </thead>\n",
              "  <tbody>\n",
              "    <tr>\n",
              "      <th>0</th>\n",
              "      <td>0</td>\n",
              "      <td>engineer network here 23 presently working as ...</td>\n",
              "      <td>Hope_speech</td>\n",
              "    </tr>\n",
              "    <tr>\n",
              "      <th>1</th>\n",
              "      <td>1</td>\n",
              "      <td>engineer network here 23 and presently instruc...</td>\n",
              "      <td>Hope_speech</td>\n",
              "    </tr>\n",
              "    <tr>\n",
              "      <th>2</th>\n",
              "      <td>2</td>\n",
              "      <td>Still im hiding grammatical gender to my paren...</td>\n",
              "      <td>Hope_speech</td>\n",
              "    </tr>\n",
              "    <tr>\n",
              "      <th>3</th>\n",
              "      <td>3</td>\n",
              "      <td>im hide still my gender to my parents and they...</td>\n",
              "      <td>Hope_speech</td>\n",
              "    </tr>\n",
              "    <tr>\n",
              "      <th>4</th>\n",
              "      <td>4</td>\n",
              "      <td>all subject without lives that we never have p...</td>\n",
              "      <td>Hope_speech</td>\n",
              "    </tr>\n",
              "  </tbody>\n",
              "</table>\n",
              "</div>\n",
              "      <button class=\"colab-df-convert\" onclick=\"convertToInteractive('df-7e395e3c-773f-4e41-9d8f-1aa48f550a31')\"\n",
              "              title=\"Convert this dataframe to an interactive table.\"\n",
              "              style=\"display:none;\">\n",
              "        \n",
              "  <svg xmlns=\"http://www.w3.org/2000/svg\" height=\"24px\"viewBox=\"0 0 24 24\"\n",
              "       width=\"24px\">\n",
              "    <path d=\"M0 0h24v24H0V0z\" fill=\"none\"/>\n",
              "    <path d=\"M18.56 5.44l.94 2.06.94-2.06 2.06-.94-2.06-.94-.94-2.06-.94 2.06-2.06.94zm-11 1L8.5 8.5l.94-2.06 2.06-.94-2.06-.94L8.5 2.5l-.94 2.06-2.06.94zm10 10l.94 2.06.94-2.06 2.06-.94-2.06-.94-.94-2.06-.94 2.06-2.06.94z\"/><path d=\"M17.41 7.96l-1.37-1.37c-.4-.4-.92-.59-1.43-.59-.52 0-1.04.2-1.43.59L10.3 9.45l-7.72 7.72c-.78.78-.78 2.05 0 2.83L4 21.41c.39.39.9.59 1.41.59.51 0 1.02-.2 1.41-.59l7.78-7.78 2.81-2.81c.8-.78.8-2.07 0-2.86zM5.41 20L4 18.59l7.72-7.72 1.47 1.35L5.41 20z\"/>\n",
              "  </svg>\n",
              "      </button>\n",
              "      \n",
              "  <style>\n",
              "    .colab-df-container {\n",
              "      display:flex;\n",
              "      flex-wrap:wrap;\n",
              "      gap: 12px;\n",
              "    }\n",
              "\n",
              "    .colab-df-convert {\n",
              "      background-color: #E8F0FE;\n",
              "      border: none;\n",
              "      border-radius: 50%;\n",
              "      cursor: pointer;\n",
              "      display: none;\n",
              "      fill: #1967D2;\n",
              "      height: 32px;\n",
              "      padding: 0 0 0 0;\n",
              "      width: 32px;\n",
              "    }\n",
              "\n",
              "    .colab-df-convert:hover {\n",
              "      background-color: #E2EBFA;\n",
              "      box-shadow: 0px 1px 2px rgba(60, 64, 67, 0.3), 0px 1px 3px 1px rgba(60, 64, 67, 0.15);\n",
              "      fill: #174EA6;\n",
              "    }\n",
              "\n",
              "    [theme=dark] .colab-df-convert {\n",
              "      background-color: #3B4455;\n",
              "      fill: #D2E3FC;\n",
              "    }\n",
              "\n",
              "    [theme=dark] .colab-df-convert:hover {\n",
              "      background-color: #434B5C;\n",
              "      box-shadow: 0px 1px 3px 1px rgba(0, 0, 0, 0.15);\n",
              "      filter: drop-shadow(0px 1px 2px rgba(0, 0, 0, 0.3));\n",
              "      fill: #FFFFFF;\n",
              "    }\n",
              "  </style>\n",
              "\n",
              "      <script>\n",
              "        const buttonEl =\n",
              "          document.querySelector('#df-7e395e3c-773f-4e41-9d8f-1aa48f550a31 button.colab-df-convert');\n",
              "        buttonEl.style.display =\n",
              "          google.colab.kernel.accessAllowed ? 'block' : 'none';\n",
              "\n",
              "        async function convertToInteractive(key) {\n",
              "          const element = document.querySelector('#df-7e395e3c-773f-4e41-9d8f-1aa48f550a31');\n",
              "          const dataTable =\n",
              "            await google.colab.kernel.invokeFunction('convertToInteractive',\n",
              "                                                     [key], {});\n",
              "          if (!dataTable) return;\n",
              "\n",
              "          const docLinkHtml = 'Like what you see? Visit the ' +\n",
              "            '<a target=\"_blank\" href=https://colab.research.google.com/notebooks/data_table.ipynb>data table notebook</a>'\n",
              "            + ' to learn more about interactive tables.';\n",
              "          element.innerHTML = '';\n",
              "          dataTable['output_type'] = 'display_data';\n",
              "          await google.colab.output.renderOutput(dataTable, element);\n",
              "          const docLink = document.createElement('div');\n",
              "          docLink.innerHTML = docLinkHtml;\n",
              "          element.appendChild(docLink);\n",
              "        }\n",
              "      </script>\n",
              "    </div>\n",
              "  </div>\n",
              "  "
            ]
          },
          "metadata": {},
          "execution_count": 5
        }
      ]
    },
    {
      "cell_type": "code",
      "source": [
        "df_test.head()"
      ],
      "metadata": {
        "colab": {
          "base_uri": "https://localhost:8080/",
          "height": 206
        },
        "id": "QEdhOAJA496l",
        "outputId": "ba8f6855-ace2-425b-bafb-cbf311c4064c"
      },
      "execution_count": null,
      "outputs": [
        {
          "output_type": "execute_result",
          "data": {
            "text/plain": [
              "   Unnamed: 0                                               text  \\\n",
              "0           0               What do you mean by the word sniped?   \n",
              "1           1  I love this video!! I’m bisexual and it’s just...   \n",
              "2           2  ya the irony but then i don't want to come off...   \n",
              "3           3             A PERSON'S CHARACTER MATTERS. PERIOD!!   \n",
              "4           4                                @Blaster of Gasters   \n",
              "\n",
              "             label                                  preprocessed_text  \n",
              "0  Non_hope_speech                what do you mean by the word sniped  \n",
              "1      Hope_speech  i love this video i ’ m bisexual and it ’ s ju...  \n",
              "2  Non_hope_speech  ya the irony but then i dont want to come off ...  \n",
              "3  Non_hope_speech                 a persons character matters period  \n",
              "4  Non_hope_speech                                  <user> of gasters  "
            ],
            "text/html": [
              "\n",
              "  <div id=\"df-50ecbe6f-1e45-4b6f-b1e0-cdf1a143acdb\">\n",
              "    <div class=\"colab-df-container\">\n",
              "      <div>\n",
              "<style scoped>\n",
              "    .dataframe tbody tr th:only-of-type {\n",
              "        vertical-align: middle;\n",
              "    }\n",
              "\n",
              "    .dataframe tbody tr th {\n",
              "        vertical-align: top;\n",
              "    }\n",
              "\n",
              "    .dataframe thead th {\n",
              "        text-align: right;\n",
              "    }\n",
              "</style>\n",
              "<table border=\"1\" class=\"dataframe\">\n",
              "  <thead>\n",
              "    <tr style=\"text-align: right;\">\n",
              "      <th></th>\n",
              "      <th>Unnamed: 0</th>\n",
              "      <th>text</th>\n",
              "      <th>label</th>\n",
              "      <th>preprocessed_text</th>\n",
              "    </tr>\n",
              "  </thead>\n",
              "  <tbody>\n",
              "    <tr>\n",
              "      <th>0</th>\n",
              "      <td>0</td>\n",
              "      <td>What do you mean by the word sniped?</td>\n",
              "      <td>Non_hope_speech</td>\n",
              "      <td>what do you mean by the word sniped</td>\n",
              "    </tr>\n",
              "    <tr>\n",
              "      <th>1</th>\n",
              "      <td>1</td>\n",
              "      <td>I love this video!! I’m bisexual and it’s just...</td>\n",
              "      <td>Hope_speech</td>\n",
              "      <td>i love this video i ’ m bisexual and it ’ s ju...</td>\n",
              "    </tr>\n",
              "    <tr>\n",
              "      <th>2</th>\n",
              "      <td>2</td>\n",
              "      <td>ya the irony but then i don't want to come off...</td>\n",
              "      <td>Non_hope_speech</td>\n",
              "      <td>ya the irony but then i dont want to come off ...</td>\n",
              "    </tr>\n",
              "    <tr>\n",
              "      <th>3</th>\n",
              "      <td>3</td>\n",
              "      <td>A PERSON'S CHARACTER MATTERS. PERIOD!!</td>\n",
              "      <td>Non_hope_speech</td>\n",
              "      <td>a persons character matters period</td>\n",
              "    </tr>\n",
              "    <tr>\n",
              "      <th>4</th>\n",
              "      <td>4</td>\n",
              "      <td>@Blaster of Gasters</td>\n",
              "      <td>Non_hope_speech</td>\n",
              "      <td>&lt;user&gt; of gasters</td>\n",
              "    </tr>\n",
              "  </tbody>\n",
              "</table>\n",
              "</div>\n",
              "      <button class=\"colab-df-convert\" onclick=\"convertToInteractive('df-50ecbe6f-1e45-4b6f-b1e0-cdf1a143acdb')\"\n",
              "              title=\"Convert this dataframe to an interactive table.\"\n",
              "              style=\"display:none;\">\n",
              "        \n",
              "  <svg xmlns=\"http://www.w3.org/2000/svg\" height=\"24px\"viewBox=\"0 0 24 24\"\n",
              "       width=\"24px\">\n",
              "    <path d=\"M0 0h24v24H0V0z\" fill=\"none\"/>\n",
              "    <path d=\"M18.56 5.44l.94 2.06.94-2.06 2.06-.94-2.06-.94-.94-2.06-.94 2.06-2.06.94zm-11 1L8.5 8.5l.94-2.06 2.06-.94-2.06-.94L8.5 2.5l-.94 2.06-2.06.94zm10 10l.94 2.06.94-2.06 2.06-.94-2.06-.94-.94-2.06-.94 2.06-2.06.94z\"/><path d=\"M17.41 7.96l-1.37-1.37c-.4-.4-.92-.59-1.43-.59-.52 0-1.04.2-1.43.59L10.3 9.45l-7.72 7.72c-.78.78-.78 2.05 0 2.83L4 21.41c.39.39.9.59 1.41.59.51 0 1.02-.2 1.41-.59l7.78-7.78 2.81-2.81c.8-.78.8-2.07 0-2.86zM5.41 20L4 18.59l7.72-7.72 1.47 1.35L5.41 20z\"/>\n",
              "  </svg>\n",
              "      </button>\n",
              "      \n",
              "  <style>\n",
              "    .colab-df-container {\n",
              "      display:flex;\n",
              "      flex-wrap:wrap;\n",
              "      gap: 12px;\n",
              "    }\n",
              "\n",
              "    .colab-df-convert {\n",
              "      background-color: #E8F0FE;\n",
              "      border: none;\n",
              "      border-radius: 50%;\n",
              "      cursor: pointer;\n",
              "      display: none;\n",
              "      fill: #1967D2;\n",
              "      height: 32px;\n",
              "      padding: 0 0 0 0;\n",
              "      width: 32px;\n",
              "    }\n",
              "\n",
              "    .colab-df-convert:hover {\n",
              "      background-color: #E2EBFA;\n",
              "      box-shadow: 0px 1px 2px rgba(60, 64, 67, 0.3), 0px 1px 3px 1px rgba(60, 64, 67, 0.15);\n",
              "      fill: #174EA6;\n",
              "    }\n",
              "\n",
              "    [theme=dark] .colab-df-convert {\n",
              "      background-color: #3B4455;\n",
              "      fill: #D2E3FC;\n",
              "    }\n",
              "\n",
              "    [theme=dark] .colab-df-convert:hover {\n",
              "      background-color: #434B5C;\n",
              "      box-shadow: 0px 1px 3px 1px rgba(0, 0, 0, 0.15);\n",
              "      filter: drop-shadow(0px 1px 2px rgba(0, 0, 0, 0.3));\n",
              "      fill: #FFFFFF;\n",
              "    }\n",
              "  </style>\n",
              "\n",
              "      <script>\n",
              "        const buttonEl =\n",
              "          document.querySelector('#df-50ecbe6f-1e45-4b6f-b1e0-cdf1a143acdb button.colab-df-convert');\n",
              "        buttonEl.style.display =\n",
              "          google.colab.kernel.accessAllowed ? 'block' : 'none';\n",
              "\n",
              "        async function convertToInteractive(key) {\n",
              "          const element = document.querySelector('#df-50ecbe6f-1e45-4b6f-b1e0-cdf1a143acdb');\n",
              "          const dataTable =\n",
              "            await google.colab.kernel.invokeFunction('convertToInteractive',\n",
              "                                                     [key], {});\n",
              "          if (!dataTable) return;\n",
              "\n",
              "          const docLinkHtml = 'Like what you see? Visit the ' +\n",
              "            '<a target=\"_blank\" href=https://colab.research.google.com/notebooks/data_table.ipynb>data table notebook</a>'\n",
              "            + ' to learn more about interactive tables.';\n",
              "          element.innerHTML = '';\n",
              "          dataTable['output_type'] = 'display_data';\n",
              "          await google.colab.output.renderOutput(dataTable, element);\n",
              "          const docLink = document.createElement('div');\n",
              "          docLink.innerHTML = docLinkHtml;\n",
              "          element.appendChild(docLink);\n",
              "        }\n",
              "      </script>\n",
              "    </div>\n",
              "  </div>\n",
              "  "
            ]
          },
          "metadata": {},
          "execution_count": 158
        }
      ]
    },
    {
      "cell_type": "code",
      "source": [
        "df_dev.head()"
      ],
      "metadata": {
        "colab": {
          "base_uri": "https://localhost:8080/",
          "height": 206
        },
        "id": "bqwOS2fS4_N8",
        "outputId": "d167621f-a7d9-460e-cff1-7067705e74cc"
      },
      "execution_count": null,
      "outputs": [
        {
          "output_type": "execute_result",
          "data": {
            "text/plain": [
              "   Unnamed: 0                                               text  \\\n",
              "0           0       Thats it.... like....I dont like that statue   \n",
              "1           1  @Generation X Counting money that she been giv...   \n",
              "2           2  @Paola Hernandez i never said to be intolerant...   \n",
              "3           3  @Firstlast300 Wow An opinion is that I don't l...   \n",
              "4           4  WOW!!!!!!!That was so so inspiring and incredi...   \n",
              "\n",
              "             label                                  preprocessed_text  \n",
              "0  Non_hope_speech               thats it likei dont like that statue  \n",
              "1  Non_hope_speech  <user> x counting money that she been given fo...  \n",
              "2  Non_hope_speech  <user> hernandez i never said to be intolerant...  \n",
              "3  Non_hope_speech  <user> wow an opinion is that i dont like a color  \n",
              "4      Hope_speech  wowthat was so so inspiring and incredible thi...  "
            ],
            "text/html": [
              "\n",
              "  <div id=\"df-dcd27ef0-1cfa-4865-a849-53e7fe9f2eb0\">\n",
              "    <div class=\"colab-df-container\">\n",
              "      <div>\n",
              "<style scoped>\n",
              "    .dataframe tbody tr th:only-of-type {\n",
              "        vertical-align: middle;\n",
              "    }\n",
              "\n",
              "    .dataframe tbody tr th {\n",
              "        vertical-align: top;\n",
              "    }\n",
              "\n",
              "    .dataframe thead th {\n",
              "        text-align: right;\n",
              "    }\n",
              "</style>\n",
              "<table border=\"1\" class=\"dataframe\">\n",
              "  <thead>\n",
              "    <tr style=\"text-align: right;\">\n",
              "      <th></th>\n",
              "      <th>Unnamed: 0</th>\n",
              "      <th>text</th>\n",
              "      <th>label</th>\n",
              "      <th>preprocessed_text</th>\n",
              "    </tr>\n",
              "  </thead>\n",
              "  <tbody>\n",
              "    <tr>\n",
              "      <th>0</th>\n",
              "      <td>0</td>\n",
              "      <td>Thats it.... like....I dont like that statue</td>\n",
              "      <td>Non_hope_speech</td>\n",
              "      <td>thats it likei dont like that statue</td>\n",
              "    </tr>\n",
              "    <tr>\n",
              "      <th>1</th>\n",
              "      <td>1</td>\n",
              "      <td>@Generation X Counting money that she been giv...</td>\n",
              "      <td>Non_hope_speech</td>\n",
              "      <td>&lt;user&gt; x counting money that she been given fo...</td>\n",
              "    </tr>\n",
              "    <tr>\n",
              "      <th>2</th>\n",
              "      <td>2</td>\n",
              "      <td>@Paola Hernandez i never said to be intolerant...</td>\n",
              "      <td>Non_hope_speech</td>\n",
              "      <td>&lt;user&gt; hernandez i never said to be intolerant...</td>\n",
              "    </tr>\n",
              "    <tr>\n",
              "      <th>3</th>\n",
              "      <td>3</td>\n",
              "      <td>@Firstlast300 Wow An opinion is that I don't l...</td>\n",
              "      <td>Non_hope_speech</td>\n",
              "      <td>&lt;user&gt; wow an opinion is that i dont like a color</td>\n",
              "    </tr>\n",
              "    <tr>\n",
              "      <th>4</th>\n",
              "      <td>4</td>\n",
              "      <td>WOW!!!!!!!That was so so inspiring and incredi...</td>\n",
              "      <td>Hope_speech</td>\n",
              "      <td>wowthat was so so inspiring and incredible thi...</td>\n",
              "    </tr>\n",
              "  </tbody>\n",
              "</table>\n",
              "</div>\n",
              "      <button class=\"colab-df-convert\" onclick=\"convertToInteractive('df-dcd27ef0-1cfa-4865-a849-53e7fe9f2eb0')\"\n",
              "              title=\"Convert this dataframe to an interactive table.\"\n",
              "              style=\"display:none;\">\n",
              "        \n",
              "  <svg xmlns=\"http://www.w3.org/2000/svg\" height=\"24px\"viewBox=\"0 0 24 24\"\n",
              "       width=\"24px\">\n",
              "    <path d=\"M0 0h24v24H0V0z\" fill=\"none\"/>\n",
              "    <path d=\"M18.56 5.44l.94 2.06.94-2.06 2.06-.94-2.06-.94-.94-2.06-.94 2.06-2.06.94zm-11 1L8.5 8.5l.94-2.06 2.06-.94-2.06-.94L8.5 2.5l-.94 2.06-2.06.94zm10 10l.94 2.06.94-2.06 2.06-.94-2.06-.94-.94-2.06-.94 2.06-2.06.94z\"/><path d=\"M17.41 7.96l-1.37-1.37c-.4-.4-.92-.59-1.43-.59-.52 0-1.04.2-1.43.59L10.3 9.45l-7.72 7.72c-.78.78-.78 2.05 0 2.83L4 21.41c.39.39.9.59 1.41.59.51 0 1.02-.2 1.41-.59l7.78-7.78 2.81-2.81c.8-.78.8-2.07 0-2.86zM5.41 20L4 18.59l7.72-7.72 1.47 1.35L5.41 20z\"/>\n",
              "  </svg>\n",
              "      </button>\n",
              "      \n",
              "  <style>\n",
              "    .colab-df-container {\n",
              "      display:flex;\n",
              "      flex-wrap:wrap;\n",
              "      gap: 12px;\n",
              "    }\n",
              "\n",
              "    .colab-df-convert {\n",
              "      background-color: #E8F0FE;\n",
              "      border: none;\n",
              "      border-radius: 50%;\n",
              "      cursor: pointer;\n",
              "      display: none;\n",
              "      fill: #1967D2;\n",
              "      height: 32px;\n",
              "      padding: 0 0 0 0;\n",
              "      width: 32px;\n",
              "    }\n",
              "\n",
              "    .colab-df-convert:hover {\n",
              "      background-color: #E2EBFA;\n",
              "      box-shadow: 0px 1px 2px rgba(60, 64, 67, 0.3), 0px 1px 3px 1px rgba(60, 64, 67, 0.15);\n",
              "      fill: #174EA6;\n",
              "    }\n",
              "\n",
              "    [theme=dark] .colab-df-convert {\n",
              "      background-color: #3B4455;\n",
              "      fill: #D2E3FC;\n",
              "    }\n",
              "\n",
              "    [theme=dark] .colab-df-convert:hover {\n",
              "      background-color: #434B5C;\n",
              "      box-shadow: 0px 1px 3px 1px rgba(0, 0, 0, 0.15);\n",
              "      filter: drop-shadow(0px 1px 2px rgba(0, 0, 0, 0.3));\n",
              "      fill: #FFFFFF;\n",
              "    }\n",
              "  </style>\n",
              "\n",
              "      <script>\n",
              "        const buttonEl =\n",
              "          document.querySelector('#df-dcd27ef0-1cfa-4865-a849-53e7fe9f2eb0 button.colab-df-convert');\n",
              "        buttonEl.style.display =\n",
              "          google.colab.kernel.accessAllowed ? 'block' : 'none';\n",
              "\n",
              "        async function convertToInteractive(key) {\n",
              "          const element = document.querySelector('#df-dcd27ef0-1cfa-4865-a849-53e7fe9f2eb0');\n",
              "          const dataTable =\n",
              "            await google.colab.kernel.invokeFunction('convertToInteractive',\n",
              "                                                     [key], {});\n",
              "          if (!dataTable) return;\n",
              "\n",
              "          const docLinkHtml = 'Like what you see? Visit the ' +\n",
              "            '<a target=\"_blank\" href=https://colab.research.google.com/notebooks/data_table.ipynb>data table notebook</a>'\n",
              "            + ' to learn more about interactive tables.';\n",
              "          element.innerHTML = '';\n",
              "          dataTable['output_type'] = 'display_data';\n",
              "          await google.colab.output.renderOutput(dataTable, element);\n",
              "          const docLink = document.createElement('div');\n",
              "          docLink.innerHTML = docLinkHtml;\n",
              "          element.appendChild(docLink);\n",
              "        }\n",
              "      </script>\n",
              "    </div>\n",
              "  </div>\n",
              "  "
            ]
          },
          "metadata": {},
          "execution_count": 159
        }
      ]
    },
    {
      "cell_type": "code",
      "source": [
        "df_train.head()"
      ],
      "metadata": {
        "colab": {
          "base_uri": "https://localhost:8080/",
          "height": 206
        },
        "id": "IayaH0rBe2AY",
        "outputId": "b659e3bf-874f-455c-cda5-ea14e84447ad"
      },
      "execution_count": null,
      "outputs": [
        {
          "output_type": "execute_result",
          "data": {
            "text/plain": [
              "   Unnamed: 0                                               text  \\\n",
              "0           0  these tiktoks radiate gay chaotic energy and i...   \n",
              "1           1  @Champions Again He got killed for using false...   \n",
              "2           2               It's not that all lives don't matter   \n",
              "3           3  Is it really that difficult to understand? Bla...   \n",
              "4           4  Whenever we say black isn't that racists?  Why...   \n",
              "\n",
              "             label                                  preprocessed_text  \n",
              "0  Non_hope_speech  these tiktoks radiate gay chaotic energy and i...  \n",
              "1  Non_hope_speech   <user> again he got killed for using false money  \n",
              "2  Non_hope_speech                 its not that all lives dont matter  \n",
              "3  Non_hope_speech  is it really that difficult to understand blac...  \n",
              "4  Non_hope_speech  whenever we say black isnt that racists why do...  "
            ],
            "text/html": [
              "\n",
              "  <div id=\"df-855e806d-4a57-4220-989f-e7d9a0465098\">\n",
              "    <div class=\"colab-df-container\">\n",
              "      <div>\n",
              "<style scoped>\n",
              "    .dataframe tbody tr th:only-of-type {\n",
              "        vertical-align: middle;\n",
              "    }\n",
              "\n",
              "    .dataframe tbody tr th {\n",
              "        vertical-align: top;\n",
              "    }\n",
              "\n",
              "    .dataframe thead th {\n",
              "        text-align: right;\n",
              "    }\n",
              "</style>\n",
              "<table border=\"1\" class=\"dataframe\">\n",
              "  <thead>\n",
              "    <tr style=\"text-align: right;\">\n",
              "      <th></th>\n",
              "      <th>Unnamed: 0</th>\n",
              "      <th>text</th>\n",
              "      <th>label</th>\n",
              "      <th>preprocessed_text</th>\n",
              "    </tr>\n",
              "  </thead>\n",
              "  <tbody>\n",
              "    <tr>\n",
              "      <th>0</th>\n",
              "      <td>0</td>\n",
              "      <td>these tiktoks radiate gay chaotic energy and i...</td>\n",
              "      <td>Non_hope_speech</td>\n",
              "      <td>these tiktoks radiate gay chaotic energy and i...</td>\n",
              "    </tr>\n",
              "    <tr>\n",
              "      <th>1</th>\n",
              "      <td>1</td>\n",
              "      <td>@Champions Again He got killed for using false...</td>\n",
              "      <td>Non_hope_speech</td>\n",
              "      <td>&lt;user&gt; again he got killed for using false money</td>\n",
              "    </tr>\n",
              "    <tr>\n",
              "      <th>2</th>\n",
              "      <td>2</td>\n",
              "      <td>It's not that all lives don't matter</td>\n",
              "      <td>Non_hope_speech</td>\n",
              "      <td>its not that all lives dont matter</td>\n",
              "    </tr>\n",
              "    <tr>\n",
              "      <th>3</th>\n",
              "      <td>3</td>\n",
              "      <td>Is it really that difficult to understand? Bla...</td>\n",
              "      <td>Non_hope_speech</td>\n",
              "      <td>is it really that difficult to understand blac...</td>\n",
              "    </tr>\n",
              "    <tr>\n",
              "      <th>4</th>\n",
              "      <td>4</td>\n",
              "      <td>Whenever we say black isn't that racists?  Why...</td>\n",
              "      <td>Non_hope_speech</td>\n",
              "      <td>whenever we say black isnt that racists why do...</td>\n",
              "    </tr>\n",
              "  </tbody>\n",
              "</table>\n",
              "</div>\n",
              "      <button class=\"colab-df-convert\" onclick=\"convertToInteractive('df-855e806d-4a57-4220-989f-e7d9a0465098')\"\n",
              "              title=\"Convert this dataframe to an interactive table.\"\n",
              "              style=\"display:none;\">\n",
              "        \n",
              "  <svg xmlns=\"http://www.w3.org/2000/svg\" height=\"24px\"viewBox=\"0 0 24 24\"\n",
              "       width=\"24px\">\n",
              "    <path d=\"M0 0h24v24H0V0z\" fill=\"none\"/>\n",
              "    <path d=\"M18.56 5.44l.94 2.06.94-2.06 2.06-.94-2.06-.94-.94-2.06-.94 2.06-2.06.94zm-11 1L8.5 8.5l.94-2.06 2.06-.94-2.06-.94L8.5 2.5l-.94 2.06-2.06.94zm10 10l.94 2.06.94-2.06 2.06-.94-2.06-.94-.94-2.06-.94 2.06-2.06.94z\"/><path d=\"M17.41 7.96l-1.37-1.37c-.4-.4-.92-.59-1.43-.59-.52 0-1.04.2-1.43.59L10.3 9.45l-7.72 7.72c-.78.78-.78 2.05 0 2.83L4 21.41c.39.39.9.59 1.41.59.51 0 1.02-.2 1.41-.59l7.78-7.78 2.81-2.81c.8-.78.8-2.07 0-2.86zM5.41 20L4 18.59l7.72-7.72 1.47 1.35L5.41 20z\"/>\n",
              "  </svg>\n",
              "      </button>\n",
              "      \n",
              "  <style>\n",
              "    .colab-df-container {\n",
              "      display:flex;\n",
              "      flex-wrap:wrap;\n",
              "      gap: 12px;\n",
              "    }\n",
              "\n",
              "    .colab-df-convert {\n",
              "      background-color: #E8F0FE;\n",
              "      border: none;\n",
              "      border-radius: 50%;\n",
              "      cursor: pointer;\n",
              "      display: none;\n",
              "      fill: #1967D2;\n",
              "      height: 32px;\n",
              "      padding: 0 0 0 0;\n",
              "      width: 32px;\n",
              "    }\n",
              "\n",
              "    .colab-df-convert:hover {\n",
              "      background-color: #E2EBFA;\n",
              "      box-shadow: 0px 1px 2px rgba(60, 64, 67, 0.3), 0px 1px 3px 1px rgba(60, 64, 67, 0.15);\n",
              "      fill: #174EA6;\n",
              "    }\n",
              "\n",
              "    [theme=dark] .colab-df-convert {\n",
              "      background-color: #3B4455;\n",
              "      fill: #D2E3FC;\n",
              "    }\n",
              "\n",
              "    [theme=dark] .colab-df-convert:hover {\n",
              "      background-color: #434B5C;\n",
              "      box-shadow: 0px 1px 3px 1px rgba(0, 0, 0, 0.15);\n",
              "      filter: drop-shadow(0px 1px 2px rgba(0, 0, 0, 0.3));\n",
              "      fill: #FFFFFF;\n",
              "    }\n",
              "  </style>\n",
              "\n",
              "      <script>\n",
              "        const buttonEl =\n",
              "          document.querySelector('#df-855e806d-4a57-4220-989f-e7d9a0465098 button.colab-df-convert');\n",
              "        buttonEl.style.display =\n",
              "          google.colab.kernel.accessAllowed ? 'block' : 'none';\n",
              "\n",
              "        async function convertToInteractive(key) {\n",
              "          const element = document.querySelector('#df-855e806d-4a57-4220-989f-e7d9a0465098');\n",
              "          const dataTable =\n",
              "            await google.colab.kernel.invokeFunction('convertToInteractive',\n",
              "                                                     [key], {});\n",
              "          if (!dataTable) return;\n",
              "\n",
              "          const docLinkHtml = 'Like what you see? Visit the ' +\n",
              "            '<a target=\"_blank\" href=https://colab.research.google.com/notebooks/data_table.ipynb>data table notebook</a>'\n",
              "            + ' to learn more about interactive tables.';\n",
              "          element.innerHTML = '';\n",
              "          dataTable['output_type'] = 'display_data';\n",
              "          await google.colab.output.renderOutput(dataTable, element);\n",
              "          const docLink = document.createElement('div');\n",
              "          docLink.innerHTML = docLinkHtml;\n",
              "          element.appendChild(docLink);\n",
              "        }\n",
              "      </script>\n",
              "    </div>\n",
              "  </div>\n",
              "  "
            ]
          },
          "metadata": {},
          "execution_count": 160
        }
      ]
    },
    {
      "cell_type": "code",
      "execution_count": null,
      "metadata": {
        "id": "QJcFVJIDHXka"
      },
      "outputs": [],
      "source": [
        "def build_dataset(words, n_words):\n",
        "    \"\"\"Process raw inputs into a dataset.\"\"\" \n",
        "    count = [['UNK', -1]]\n",
        "    count.extend(collections.Counter(words).most_common(n_words - 1))\n",
        "    dictionary = dict()\n",
        "    for word, _ in count:\n",
        "        dictionary[word] = len(dictionary)\n",
        "    data = list()\n",
        "    unk_count = 0\n",
        "    for word in words:\n",
        "        if word in dictionary:\n",
        "            index = dictionary[word]\n",
        "        else:\n",
        "            index = 0  # dictionary['UNK']\n",
        "            unk_count += 1\n",
        "        data.append(index)\n",
        "    count[0][1] = unk_count\n",
        "    reversed_dictionary = dict(zip(dictionary.values(), dictionary.keys()))\n",
        "    return data, count, dictionary, reversed_dictionary"
      ]
    },
    {
      "cell_type": "code",
      "source": [
        "vocab_size = 20047"
      ],
      "metadata": {
        "id": "awW0CIWpf7Tt"
      },
      "execution_count": null,
      "outputs": []
    },
    {
      "cell_type": "code",
      "source": [
        "vector_dim = 300\n",
        "\n",
        "word_model = Sequential() \n",
        "word_model.add(Embedding(vocab_size, vector_dim, \n",
        "               input_length=1,name='embedding')) \n",
        "word_model.add(Reshape((vector_dim, ))) \n",
        "\n",
        "\n",
        "context_model = Sequential() \n",
        "context_model.add(Embedding(vocab_size, vector_dim, \n",
        "                  input_length=1,name='context')) \n",
        "context_model.add(Reshape((vector_dim,))) \n",
        "\n",
        "\n",
        "dot_product = dot([word_model.output, context_model.output], axes=1,\n",
        "                  normalize=False,name='dotproduct') \n",
        "dot_product = Dense(1,activation=\"sigmoid\")(dot_product) \n",
        "\n",
        "\n",
        "model = Model(inputs=[word_model.input, context_model.input], \n",
        "              outputs=dot_product,name='SGNS') \n",
        "model.summary()"
      ],
      "metadata": {
        "colab": {
          "base_uri": "https://localhost:8080/"
        },
        "id": "W-8WaJJ3wgGx",
        "outputId": "768248d3-c41f-448e-b32c-3914f7b28ed9"
      },
      "execution_count": null,
      "outputs": [
        {
          "output_type": "stream",
          "name": "stdout",
          "text": [
            "Model: \"SGNS\"\n",
            "__________________________________________________________________________________________________\n",
            " Layer (type)                   Output Shape         Param #     Connected to                     \n",
            "==================================================================================================\n",
            " embedding_input (InputLayer)   [(None, 1)]          0           []                               \n",
            "                                                                                                  \n",
            " context_input (InputLayer)     [(None, 1)]          0           []                               \n",
            "                                                                                                  \n",
            " embedding (Embedding)          (None, 1, 300)       6014100     ['embedding_input[0][0]']        \n",
            "                                                                                                  \n",
            " context (Embedding)            (None, 1, 300)       6014100     ['context_input[0][0]']          \n",
            "                                                                                                  \n",
            " reshape (Reshape)              (None, 300)          0           ['embedding[0][0]']              \n",
            "                                                                                                  \n",
            " reshape_1 (Reshape)            (None, 300)          0           ['context[0][0]']                \n",
            "                                                                                                  \n",
            " dotproduct (Dot)               (None, 1)            0           ['reshape[0][0]',                \n",
            "                                                                  'reshape_1[0][0]']              \n",
            "                                                                                                  \n",
            " dense (Dense)                  (None, 1)            2           ['dotproduct[0][0]']             \n",
            "                                                                                                  \n",
            "==================================================================================================\n",
            "Total params: 12,028,202\n",
            "Trainable params: 12,028,202\n",
            "Non-trainable params: 0\n",
            "__________________________________________________________________________________________________\n"
          ]
        }
      ]
    },
    {
      "cell_type": "code",
      "source": [
        "model.compile(loss=\"binary_crossentropy\", optimizer=\"rmsprop\") "
      ],
      "metadata": {
        "id": "d4-oaVeoxGwR"
      },
      "execution_count": null,
      "outputs": []
    },
    {
      "cell_type": "code",
      "source": [
        "keras.utils.plot_model(model)"
      ],
      "metadata": {
        "id": "GDViTLpnyXp1",
        "colab": {
          "base_uri": "https://localhost:8080/",
          "height": 466
        },
        "outputId": "2c8fe432-3c41-4172-b5e9-5fbc2fc98eb3"
      },
      "execution_count": null,
      "outputs": [
        {
          "output_type": "execute_result",
          "data": {
            "image/png": "[encoded data removed]",
            "text/plain": [
              "<IPython.core.display.Image object>"
            ]
          },
          "metadata": {},
          "execution_count": 10
        }
      ]
    },
    {
      "cell_type": "code",
      "source": [
        "df = pd.concat([df_train, df_test, df_dev])"
      ],
      "metadata": {
        "id": "Bl78SLxE584l"
      },
      "execution_count": null,
      "outputs": []
    },
    {
      "cell_type": "code",
      "source": [
        "df.shape"
      ],
      "metadata": {
        "colab": {
          "base_uri": "https://localhost:8080/"
        },
        "id": "6vYGkQX86CEt",
        "outputId": "c51f8576-df1b-48ba-eb99-b44e3bba81ab"
      },
      "execution_count": null,
      "outputs": [
        {
          "output_type": "execute_result",
          "data": {
            "text/plain": [
              "(28451, 4)"
            ]
          },
          "metadata": {},
          "execution_count": 167
        }
      ]
    },
    {
      "cell_type": "code",
      "source": [
        "vocabulary = []\n",
        "for i in aug_df[\"augmented_text\"].values:\n",
        "  vocabulary += i.split()\n",
        "vocabulary = set(vocabulary)\n",
        "print(len(vocabulary))\n",
        "data, count, dictionary, reverse_dictionary = build_dataset(vocabulary,vocab_size)\n",
        "del vocabulary\n",
        "stable = tf.keras.preprocessing.sequence.make_sampling_table(vocab_size)\n",
        "#print(stable)\n",
        "couples, labels = tf.keras.preprocessing.sequence.skipgrams(data, vocab_size, window_size=2, sampling_table = stable)\n",
        "word_target, word_context = zip(*couples)\n",
        "\n",
        "\n",
        "model.fit([np.array(word_target,dtype='float32'), np.array(word_context,dtype='float32')],  np.array(labels,dtype='float32'), epochs = 5)"
      ],
      "metadata": {
        "colab": {
          "base_uri": "https://localhost:8080/"
        },
        "id": "ALPwmmuhfQbF",
        "outputId": "af776d93-1523-435d-c036-025441a70a9a"
      },
      "execution_count": null,
      "outputs": [
        {
          "output_type": "stream",
          "name": "stdout",
          "text": [
            "22500\n",
            "Epoch 1/5\n",
            "4105/4105 [==============================] - 22s 5ms/step - loss: 0.6932\n",
            "Epoch 2/5\n",
            "4105/4105 [==============================] - 18s 4ms/step - loss: 0.6308\n",
            "Epoch 3/5\n",
            "4105/4105 [==============================] - 18s 4ms/step - loss: 0.3853\n",
            "Epoch 4/5\n",
            "4105/4105 [==============================] - 20s 5ms/step - loss: 0.1146\n",
            "Epoch 5/5\n",
            "4105/4105 [==============================] - 18s 4ms/step - loss: 0.0116\n"
          ]
        },
        {
          "output_type": "execute_result",
          "data": {
            "text/plain": [
              "<keras.callbacks.History at 0x7fb10b2e2700>"
            ]
          },
          "metadata": {},
          "execution_count": 11
        }
      ]
    },
    {
      "cell_type": "code",
      "source": [
        "model.save_weights(\"/content/drive/MyDrive/word2vec_weights_augmented_df\")"
      ],
      "metadata": {
        "id": "MssAJchYygoH"
      },
      "execution_count": null,
      "outputs": []
    },
    {
      "cell_type": "code",
      "source": [
        "def cosine_similarity(vectorA,vectorB):\n",
        "    return np.dot(vectorA, vectorB)/(np.linalg.norm(vectorA)*np.linalg.norm(vectorB))"
      ],
      "metadata": {
        "id": "8TXpUIT9FuBw"
      },
      "execution_count": null,
      "outputs": []
    },
    {
      "cell_type": "code",
      "source": [
        "from keras import backend as K\n",
        "\n",
        "inp = word_model.input                                           # input placeholder\n",
        "outputs = word_model.layers[-2].output          # all layer outputs\n",
        "functors = K.function([inp], [outputs])    # evaluation functions\n",
        "\n",
        "embeddings = {i: functors(dictionary[i]) for i in list(dictionary.keys())}"
      ],
      "metadata": {
        "id": "HgAazSCtTjWT"
      },
      "execution_count": null,
      "outputs": []
    },
    {
      "cell_type": "code",
      "source": [
        "len(functors(dictionary[list(dictionary.keys())[0]])[0]) "
      ],
      "metadata": {
        "colab": {
          "base_uri": "https://localhost:8080/"
        },
        "id": "LDBZx_CswHJf",
        "outputId": "47887ef7-6ea4-47f0-888d-31a29fcb7293"
      },
      "execution_count": null,
      "outputs": [
        {
          "output_type": "execute_result",
          "data": {
            "text/plain": [
              "300"
            ]
          },
          "metadata": {},
          "execution_count": 19
        }
      ]
    },
    {
      "cell_type": "code",
      "source": [
        "x = list(embeddings.values())"
      ],
      "metadata": {
        "id": "nTp3P7Pah7dU"
      },
      "execution_count": null,
      "outputs": []
    },
    {
      "cell_type": "code",
      "source": [
        "import pickle\n",
        "\n",
        "with open('/content/drive/MyDrive/custom_w2v_embeddings_augmented.pickle', 'wb') as handle:\n",
        "    pickle.dump(embeddings, handle, protocol=pickle.HIGHEST_PROTOCOL)"
      ],
      "metadata": {
        "id": "Bq_zWAlCjrtF"
      },
      "execution_count": null,
      "outputs": []
    },
    {
      "cell_type": "code",
      "source": [
        "import pickle\n",
        "with open('/content/drive/MyDrive/custom_w2v_embeddings.pickle', 'rb') as handle:\n",
        "    embeddings = pickle.load(handle)"
      ],
      "metadata": {
        "id": "gqqV1cEkkqTA"
      },
      "execution_count": null,
      "outputs": []
    },
    {
      "cell_type": "code",
      "source": [
        "import warnings"
      ],
      "metadata": {
        "id": "7FoTH1wp4Q3O"
      },
      "execution_count": null,
      "outputs": []
    },
    {
      "cell_type": "code",
      "source": [
        "x_train = []\n",
        "for i in aug_df[\"augmented_text\"].values:\n",
        "  x = []\n",
        "  for j in i.split():\n",
        "    if (j in embeddings.keys()):\n",
        "      x.append(embeddings[j][0])\n",
        "      #print(len(embeddings[j][0]))\n",
        "  x = np.array(x)\n",
        "  #print(x)\n",
        "  with warnings.catch_warnings():\n",
        "    warnings.filterwarnings('error')\n",
        "    try:\n",
        "        x_train.append(np.nanmean(x, axis=0))\n",
        "    except RuntimeWarning:\n",
        "        x_train.append(np.zeros(300))"
      ],
      "metadata": {
        "id": "TgovnkqQpNRK"
      },
      "execution_count": null,
      "outputs": []
    },
    {
      "cell_type": "code",
      "source": [
        "len(x_train)"
      ],
      "metadata": {
        "id": "VdTX5zSvbgew",
        "outputId": "bb26188f-3e2b-4e2c-9a31-6b0dbc473a87",
        "colab": {
          "base_uri": "https://localhost:8080/"
        }
      },
      "execution_count": null,
      "outputs": [
        {
          "output_type": "execute_result",
          "data": {
            "text/plain": [
              "42382"
            ]
          },
          "metadata": {},
          "execution_count": 21
        }
      ]
    },
    {
      "cell_type": "code",
      "source": [
        "with open('/content/drive/MyDrive/custom_w2v_augmented_train.pickle', 'wb') as handle:\n",
        "    pickle.dump(x_train, handle, protocol=pickle.HIGHEST_PROTOCOL)"
      ],
      "metadata": {
        "id": "q62i9Bl0bJxf"
      },
      "execution_count": null,
      "outputs": []
    },
    {
      "cell_type": "code",
      "source": [
        "x_test = []\n",
        "for i in df_test[\"preprocessed_text\"].values:\n",
        "  x = []\n",
        "  for j in i.split():\n",
        "    if (j in embeddings.keys()):\n",
        "      x.append(embeddings[j][0])\n",
        "      #print(len(embeddings[j][0]))\n",
        "  x = np.array(x)\n",
        "  x_test.append(np.mean(x, axis = 0))"
      ],
      "metadata": {
        "id": "s05zmoIW4f62"
      },
      "execution_count": null,
      "outputs": []
    },
    {
      "cell_type": "code",
      "source": [
        "x_dev = []\n",
        "for i in df_dev[\"preprocessed_text\"].values:\n",
        "  x = []\n",
        "  for j in i.split():\n",
        "    if (j in embeddings.keys()):\n",
        "      x.append(embeddings[j][0])\n",
        "      #print(len(embeddings[j][0]))\n",
        "  x = np.array(x)\n",
        "  with warnings.catch_warnings():\n",
        "    warnings.filterwarnings('error')\n",
        "    try:\n",
        "        x_dev.append(np.nanmean(x, axis=0))\n",
        "    except RuntimeWarning:\n",
        "        x_dev.append(np.zeros(300))  "
      ],
      "metadata": {
        "id": "gZtoZRn34prB"
      },
      "execution_count": null,
      "outputs": []
    },
    {
      "cell_type": "code",
      "source": [
        "with open('/content/drive/MyDrive/custom_w2v_train.pickle', 'wb') as handle:\n",
        "    pickle.dump(x_train, handle, protocol=pickle.HIGHEST_PROTOCOL)\n",
        "with open('/content/drive/MyDrive/custom_w2v_test.pickle', 'wb') as handle:\n",
        "    pickle.dump(x_test, handle, protocol=pickle.HIGHEST_PROTOCOL)\n",
        "with open('/content/drive/MyDrive/custom_w2v_dev.pickle', 'wb') as handle:\n",
        "    pickle.dump(x_dev, handle, protocol=pickle.HIGHEST_PROTOCOL)"
      ],
      "metadata": {
        "id": "iLMDnytl9lW7"
      },
      "execution_count": null,
      "outputs": []
    },
    {
      "cell_type": "code",
      "source": [
        "from xgboost import XGBClassifier\n",
        "from sklearn.tree import DecisionTreeClassifier"
      ],
      "metadata": {
        "id": "t8uh5zf0qqpH"
      },
      "execution_count": null,
      "outputs": []
    },
    {
      "cell_type": "code",
      "source": [
        "path = \"/content/drive/MyDrive/word_embeddings/computed_embeddings\""
      ],
      "metadata": {
        "id": "d65SZqofqz5Q"
      },
      "execution_count": null,
      "outputs": []
    },
    {
      "cell_type": "code",
      "source": [
        "import os \n",
        "os.chdir(\"/content/Hope_speech/Models\")"
      ],
      "metadata": {
        "id": "v45fsHKMq-2b"
      },
      "execution_count": null,
      "outputs": []
    },
    {
      "cell_type": "code",
      "source": [
        "from embeddings_loader import *"
      ],
      "metadata": {
        "id": "tJw3ovaJq89n"
      },
      "execution_count": null,
      "outputs": []
    },
    {
      "cell_type": "code",
      "source": [
        "train_labels, dev_labels, test_labels = load_labels(path)\n",
        "label_replacement = {\n",
        "    'Hope_speech': 0,\n",
        "    'Non_hope_speech': 1,\n",
        "    'not-English': 2,\n",
        "}\n",
        "# Replace labels with numbers\n",
        "train_labels = [label_replacement[label] for label in train_labels]\n",
        "dev_labels = [label_replacement[label] for label in dev_labels]\n",
        "test_labels = [label_replacement[label] for label in test_labels]"
      ],
      "metadata": {
        "id": "oPoH15yOq1FO"
      },
      "execution_count": null,
      "outputs": []
    },
    {
      "cell_type": "code",
      "source": [
        "xgboost = XGBClassifier(base_estimator = DecisionTreeClassifier(max_depth = 2), n_estimators = 100)"
      ],
      "metadata": {
        "id": "HqLm-5hCqtCA"
      },
      "execution_count": null,
      "outputs": []
    },
    {
      "cell_type": "code",
      "source": [
        "xgboost.fit(x_train, train_labels)"
      ],
      "metadata": {
        "colab": {
          "base_uri": "https://localhost:8080/"
        },
        "id": "gRT0-eG7qvPT",
        "outputId": "0a7cd49b-12e1-4a8a-c8c1-614f6f85ddf5"
      },
      "execution_count": null,
      "outputs": [
        {
          "output_type": "execute_result",
          "data": {
            "text/plain": [
              "XGBClassifier(base_estimator=DecisionTreeClassifier(max_depth=2),\n",
              "              objective='multi:softprob')"
            ]
          },
          "metadata": {},
          "execution_count": 235
        }
      ]
    },
    {
      "cell_type": "code",
      "source": [
        "train_preds = xgboost.predict(x_train)\n",
        "dev_preds = xgboost.predict(x_dev)\n",
        "test_preds = xgboost.predict(x_test)"
      ],
      "metadata": {
        "id": "Ri8Co40XxtJI"
      },
      "execution_count": null,
      "outputs": []
    },
    {
      "cell_type": "code",
      "source": [
        "import json, os\n",
        "from venv import create\n",
        "import pandas as pd\n",
        "from joblib import dump, load\n",
        "from embeddings_loader import *\n",
        "from sklearn.metrics import f1_score\n",
        "from sklearn.metrics import accuracy_score\n",
        "from sklearn.metrics import confusion_matrix\n",
        "from sklearn.metrics import classification_report\n",
        "from sklearn.metrics import recall_score\n",
        "from sklearn.metrics import precision_score\n",
        "from sklearn.metrics import roc_auc_score"
      ],
      "metadata": {
        "id": "V-g4e-3cxps2"
      },
      "execution_count": null,
      "outputs": []
    },
    {
      "cell_type": "code",
      "source": [
        "def computeAllScores(y_pred_train, y_pred_dev, y_pred_test):\n",
        "    print(\"Accuracy Train: \", accuracy_score(train_labels, y_pred_train))\n",
        "    print(\"Accuracy Dev: \", accuracy_score(dev_labels, y_pred_dev))\n",
        "    print(\"Accuracy Test: \", accuracy_score(test_labels, y_pred_test))\n",
        "    print(\"Weighted F1 Train: \", f1_score(train_labels, y_pred_train, average='weighted'))\n",
        "    print(\"Weighted F1 Dev: \", f1_score(dev_labels, y_pred_dev, average='weighted'))\n",
        "    print(\"Weighted F1 Test: \", f1_score(test_labels, y_pred_test, average='weighted'))\n",
        "    print(\"Macro F1 Train: \", f1_score(train_labels, y_pred_train, average='macro'))\n",
        "    print(\"Macro F1 Dev: \", f1_score(dev_labels, y_pred_dev, average='macro'))\n",
        "    print(\"Macro F1 Test: \", f1_score(test_labels, y_pred_test, average='macro'))\n",
        "    print(\"Micro F1 Train: \", f1_score(train_labels, y_pred_train, average='micro'))\n",
        "    print(\"Micro F1 Dev: \", f1_score(dev_labels, y_pred_dev, average='micro'))\n",
        "    print(\"Micro F1 Test: \", f1_score(test_labels, y_pred_test, average='micro'))\n",
        "    print(\"Weighted Recall Train: \", recall_score(train_labels, y_pred_train, average='weighted'))\n",
        "    print(\"Weighted Recall Dev: \", recall_score(dev_labels, y_pred_dev, average='weighted'))\n",
        "    print(\"Weighted Recall Test: \", recall_score(test_labels, y_pred_test, average='weighted'))\n",
        "    print(\"Macro Recall Train: \", recall_score(train_labels, y_pred_train, average='macro'))\n",
        "    print(\"Macro Recall Dev: \", recall_score(dev_labels, y_pred_dev, average='macro'))\n",
        "    print(\"Macro Recall Test: \", recall_score(test_labels, y_pred_test, average='macro'))\n",
        "    print(\"Micro Recall Train: \", recall_score(train_labels, y_pred_train, average='micro'))\n",
        "    print(\"Micro Recall Dev: \", recall_score(dev_labels, y_pred_dev, average='micro'))\n",
        "    print(\"Micro Recall Test: \", recall_score(test_labels, y_pred_test, average='micro'))\n",
        "    # Confusion Matrix\n",
        "    print(\"Confusion Matrix Train: \")\n",
        "    print(confusion_matrix(train_labels, y_pred_train))\n",
        "    print(\"Confusion Matrix Dev: \")\n",
        "    print(confusion_matrix(dev_labels, y_pred_dev))\n",
        "    print(\"Confusion Matrix Test: \")\n",
        "    print(confusion_matrix(test_labels, y_pred_test))"
      ],
      "metadata": {
        "id": "xFCzAPnX5RTP"
      },
      "execution_count": null,
      "outputs": []
    },
    {
      "cell_type": "code",
      "source": [
        "computeAllScores(train_preds, dev_preds, test_preds)"
      ],
      "metadata": {
        "colab": {
          "base_uri": "https://localhost:8080/"
        },
        "id": "MWY1Th9kxSAa",
        "outputId": "8a7b9865-73ef-44fb-99b7-d2ea83d929f4"
      },
      "execution_count": null,
      "outputs": [
        {
          "output_type": "stream",
          "name": "stdout",
          "text": [
            "Accuracy Train:  0.9160882172041122\n",
            "Accuracy Dev:  0.9081955680619065\n",
            "Accuracy Test:  0.9146170063246662\n",
            "Weighted F1 Train:  0.8793754142946132\n",
            "Weighted F1 Dev:  0.869838861608269\n",
            "Weighted F1 Test:  0.8770797834068701\n",
            "Macro F1 Train:  0.485698288242386\n",
            "Macro F1 Dev:  0.351809366825834\n",
            "Macro F1 Test:  0.34405448422762847\n",
            "Micro F1 Train:  0.9160882172041122\n",
            "Micro F1 Dev:  0.9081955680619064\n",
            "Micro F1 Test:  0.9146170063246662\n",
            "Weighted Recall Train:  0.9160882172041122\n",
            "Weighted Recall Dev:  0.9081955680619065\n",
            "Weighted Recall Test:  0.9146170063246662\n",
            "Macro Recall Train:  0.43671837382016016\n",
            "Macro Recall Dev:  0.351456181927812\n",
            "Macro Recall Test:  0.3466666666666667\n",
            "Micro Recall Train:  0.9160882172041122\n",
            "Micro Recall Dev:  0.9081955680619065\n",
            "Micro Recall Test:  0.9146170063246662\n",
            "Confusion Matrix Train: \n",
            "[[   74  1888     0]\n",
            " [    6 20772     0]\n",
            " [    0    16     6]]\n",
            "Confusion Matrix Dev: \n",
            "[[  15  257    0]\n",
            " [   2 2567    0]\n",
            " [   0    2    0]]\n",
            "Confusion Matrix Test: \n",
            "[[  10  240    0]\n",
            " [   0 2593    0]\n",
            " [   0    3    0]]\n"
          ]
        }
      ]
    }
  ]
}