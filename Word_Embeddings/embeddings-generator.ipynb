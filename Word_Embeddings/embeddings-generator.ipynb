{
 "cells": [
  {
   "cell_type": "code",
   "execution_count": 47,
   "id": "8a71469c",
   "metadata": {},
   "outputs": [],
   "source": [
    "import numpy as np\n",
    "import os"
   ]
  },
  {
   "cell_type": "code",
   "execution_count": 45,
   "id": "659e0e1d",
   "metadata": {},
   "outputs": [],
   "source": [
    "def save_to_file(BASE_PATH, fileName, objectToWrite):\n",
    "    with open(os.path.join(BASE_PATH, fileName), 'wb') as f:\n",
    "        np.save(f, objectToWrite)"
   ]
  },
  {
   "cell_type": "code",
   "execution_count": 49,
   "id": "8d613998",
   "metadata": {},
   "outputs": [],
   "source": [
    "def load_from_file(BASE_PATH, fileName):\n",
    "    with open(os.path.join(BASE_PATH, fileName), 'rb') as f:\n",
    "        file = np.load(f)\n",
    "    return file"
   ]
  },
  {
   "cell_type": "markdown",
   "id": "9045626c",
   "metadata": {},
   "source": [
    "## spacy_universal_sentence_encoder\n",
    "\n",
    "Resources Consulted: https://spacy.io/universe/project/spacy-universal-sentence-encoder"
   ]
  },
  {
   "cell_type": "code",
   "execution_count": 1,
   "id": "71c10c5d",
   "metadata": {},
   "outputs": [],
   "source": [
    "import spacy_universal_sentence_encoder\n",
    "import pandas as pd"
   ]
  },
  {
   "cell_type": "code",
   "execution_count": 4,
   "id": "bc9f4cad",
   "metadata": {},
   "outputs": [],
   "source": [
    "english_train = pd.read_csv('D:\\Desktop\\ML Group Project\\Data\\english_train.csv')\n",
    "english_validation = pd.read_csv('D:\\Desktop\\ML Group Project\\Data\\english_validation.csv')"
   ]
  },
  {
   "cell_type": "code",
   "execution_count": 7,
   "id": "e13d5677",
   "metadata": {},
   "outputs": [],
   "source": [
    "ls_english_train = english_train['text'].to_list()\n",
    "ls_english_validation = english_validation['text'].to_list()"
   ]
  },
  {
   "cell_type": "code",
   "execution_count": 11,
   "id": "ae7ad9ff",
   "metadata": {},
   "outputs": [],
   "source": [
    "nlp = spacy_universal_sentence_encoder.load_model('en_use_lg')\n",
    "def get_spacy_universal_sentence_encoder_embedding(sentence):\n",
    "    doc = nlp(sentence)\n",
    "    return doc.vector"
   ]
  },
  {
   "cell_type": "code",
   "execution_count": 18,
   "id": "8c24df64",
   "metadata": {},
   "outputs": [],
   "source": [
    "# ls_english_train_spacy_universal_sentence_encoder_embedding = []\n",
    "# for i, sentence in enumerate(ls_english_train):\n",
    "#     ls_english_train_spacy_universal_sentence_encoder_embedding.append(get_spacy_universal_sentence_encoder_embedding(sentence))"
   ]
  },
  {
   "cell_type": "code",
   "execution_count": 54,
   "id": "462293a8",
   "metadata": {},
   "outputs": [],
   "source": [
    "# save_to_file('D:\\Desktop\\ML Group Project\\Word_Embeddings\\Pre Computed Word Embeddings', 'ls_english_train_spacy_universal_sentence_encoder_embedding', ls_english_train_spacy_universal_sentence_encoder_embedding)"
   ]
  },
  {
   "cell_type": "code",
   "execution_count": 52,
   "id": "f64dc9b7",
   "metadata": {},
   "outputs": [],
   "source": [
    "ls_english_train_spacy_universal_sentence_encoder_embedding = load_from_file('D:\\Desktop\\ML Group Project\\Word_Embeddings\\Pre Computed Word Embeddings', 'ls_english_train_spacy_universal_sentence_encoder_embedding')"
   ]
  },
  {
   "cell_type": "code",
   "execution_count": null,
   "id": "b3daebaa",
   "metadata": {},
   "outputs": [],
   "source": []
  }
 ],
 "metadata": {
  "kernelspec": {
   "display_name": "Python 3 (ipykernel)",
   "language": "python",
   "name": "python3"
  },
  "language_info": {
   "codemirror_mode": {
    "name": "ipython",
    "version": 3
   },
   "file_extension": ".py",
   "mimetype": "text/x-python",
   "name": "python",
   "nbconvert_exporter": "python",
   "pygments_lexer": "ipython3",
   "version": "3.9.13"
  }
 },
 "nbformat": 4,
 "nbformat_minor": 5
}
