{
 "cells": [
  {
   "cell_type": "code",
   "execution_count": 1,
   "id": "8a71469c",
   "metadata": {},
   "outputs": [],
   "source": [
    "import numpy as np\n",
    "import os"
   ]
  },
  {
   "cell_type": "code",
   "execution_count": 2,
   "id": "659e0e1d",
   "metadata": {},
   "outputs": [],
   "source": [
    "def save_to_file(BASE_PATH, fileName, objectToWrite):\n",
    "    with open(os.path.join(BASE_PATH, fileName), 'wb') as f:\n",
    "        np.save(f, objectToWrite)"
   ]
  },
  {
   "cell_type": "code",
   "execution_count": 3,
   "id": "8d613998",
   "metadata": {},
   "outputs": [],
   "source": [
    "def load_from_file(BASE_PATH, fileName):\n",
    "    with open(os.path.join(BASE_PATH, fileName), 'rb') as f:\n",
    "        file = np.load(f)\n",
    "    return file"
   ]
  },
  {
   "cell_type": "markdown",
   "id": "9045626c",
   "metadata": {},
   "source": [
    "## spacy_universal_sentence_encoder\n",
    "\n",
    "Resources Consulted: https://spacy.io/universe/project/spacy-universal-sentence-encoder"
   ]
  },
  {
   "cell_type": "code",
   "execution_count": 1,
   "id": "71c10c5d",
   "metadata": {},
   "outputs": [],
   "source": [
    "import spacy_universal_sentence_encoder\n",
    "import pandas as pd"
   ]
  },
  {
   "cell_type": "code",
   "execution_count": 3,
   "id": "bc9f4cad",
   "metadata": {},
   "outputs": [],
   "source": [
    "english_train = pd.read_csv(os.path.join(os.path.abspath(os.path.join(os.getcwd(), os.pardir)), 'Data\\english_train.csv'))\n",
    "english_validation = pd.read_csv(os.path.join(os.path.abspath(os.path.join(os.getcwd(), os.pardir)), 'Data\\english_validation.csv'))"
   ]
  },
  {
   "cell_type": "code",
   "execution_count": 7,
   "id": "e13d5677",
   "metadata": {},
   "outputs": [],
   "source": [
    "ls_english_train = english_train['text'].to_list()\n",
    "ls_english_validation = english_validation['text'].to_list()"
   ]
  },
  {
   "cell_type": "code",
   "execution_count": 11,
   "id": "ae7ad9ff",
   "metadata": {},
   "outputs": [],
   "source": [
    "nlp = spacy_universal_sentence_encoder.load_model('en_use_lg')\n",
    "def get_spacy_universal_sentence_encoder_embedding(sentence):\n",
    "    doc = nlp(sentence)\n",
    "    return doc.vector"
   ]
  },
  {
   "cell_type": "code",
   "execution_count": 18,
   "id": "8c24df64",
   "metadata": {},
   "outputs": [],
   "source": [
    "# ls_english_train_spacy_universal_sentence_encoder_embedding = []\n",
    "# for i, sentence in enumerate(ls_english_train):\n",
    "#     ls_english_train_spacy_universal_sentence_encoder_embedding.append(get_spacy_universal_sentence_encoder_embedding(sentence))"
   ]
  },
  {
   "cell_type": "code",
   "execution_count": 54,
   "id": "462293a8",
   "metadata": {},
   "outputs": [],
   "source": [
    "# save_to_file(os.path.join(os.getcwd(),'Pre Computed Word Embeddings'), 'ls_english_train_spacy_universal_sentence_encoder_embedding', ls_english_train_spacy_universal_sentence_encoder_embedding)"
   ]
  },
  {
   "cell_type": "code",
   "execution_count": 5,
   "id": "f64dc9b7",
   "metadata": {},
   "outputs": [],
   "source": [
    "ls_english_train_spacy_universal_sentence_encoder_embedding = load_from_file(os.path.join(os.getcwd(),'Pre Computed Word Embeddings'), 'ls_english_train_spacy_universal_sentence_encoder_embedding')"
   ]
  },
  {
   "cell_type": "code",
   "execution_count": null,
   "id": "355cfd8f",
   "metadata": {},
   "outputs": [],
   "source": [
    "import tensorflow as tf\n",
    "from tensorflow.keras.models import Model, Sequential \n",
    "from tensorflow.keras.layers import Input, Dense, Reshape,Embedding,dot\n",
    "from tensorflow.keras.preprocessing.sequence import skipgrams\n",
    "from tensorflow.keras.utils import to_categorical\n",
    "from tensorflow.keras.preprocessing import sequence\n",
    "from helper import build_dataset\n",
    "import numpy as np"
   ]
  },
  {
   "cell_type": "code",
   "execution_count": null,
   "id": "52548c70",
   "metadata": {},
   "outputs": [],
   "source": [
    "raw_data = #add the data\n",
    "\n",
    "corpus = raw_data.split()"
   ]
  },
  {
   "cell_type": "code",
   "execution_count": null,
   "id": "39feca75",
   "metadata": {},
   "outputs": [],
   "source": [
    "window_size = 2\n",
    "vector_dim = 300\n",
    "vocab_size = len(corpus)\n",
    "\n",
    "data, count, dictionary, reverse_dictionary = build_dataset(corpus,vocab_size)"
   ]
  },
  {
   "cell_type": "code",
   "execution_count": null,
   "id": "79801b38",
   "metadata": {},
   "outputs": [],
   "source": [
    "couples, labels = skipgrams(data, vocab_size, window_size=window_size)\n",
    "word_target, word_context = zip(*couples)\n",
    "# word_target = np.array(word_target, dtype=\"int32\")\n",
    "# word_context = np.array(word_context, dtype=\"int32\")\n",
    "print(couples[:5], labels[:5])"
   ]
  },
  {
   "cell_type": "code",
   "execution_count": null,
   "id": "6c9710a7",
   "metadata": {},
   "outputs": [],
   "source": [
    "word_model = Sequential() \n",
    "word_model.add(Embedding(vocab_size, vector_dim, \n",
    "               input_length=1,name='embedding')) \n",
    "word_model.add(Reshape((vector_dim, ))) \n",
    "\n",
    "context_model = Sequential() \n",
    "context_model.add(Embedding(vocab_size, vector_dim, \n",
    "                  input_length=1,name='context')) \n",
    "context_model.add(Reshape((vector_dim,))) \n",
    "\n",
    "dot_product = dot([word_model.output, context_model.output], axes=1,\n",
    "                  normalize=False,name='dotproduct') \n",
    "dot_product = Dense(1,activation=\"sigmoid\")(dot_product) \n",
    "\n",
    "model = Model(inputs=[word_model.input, context_model.input], \n",
    "              outputs=dot_product,name='SGNS') \n",
    "\n",
    "model.summary()"
   ]
  },
  {
   "cell_type": "code",
   "execution_count": null,
   "id": "cfbcdccd",
   "metadata": {},
   "outputs": [],
   "source": [
    "model.compile(loss=\"binary_crossentropy\", optimizer=\"rmsprop\") "
   ]
  },
  {
   "cell_type": "code",
   "execution_count": null,
   "id": "bd59b797",
   "metadata": {},
   "outputs": [],
   "source": [
    "idx = np.random.randint(0, len(labels)-1)\n",
    "\n",
    "target_input = np.array(word_target[idx],dtype='float32').reshape(1,)\n",
    "context_input = np.array(word_context[idx],dtype='float32').reshape(1,)\n",
    "training_label = np.array(labels[idx],dtype='float32').reshape(1,)\n",
    "\n",
    "loss = model.train_on_batch([target_input, context_input], training_label)\n",
    "print(f'Loss after one epoch is {loss:.2f}')"
   ]
  },
  {
   "cell_type": "code",
   "execution_count": null,
   "id": "c368b11d",
   "metadata": {},
   "outputs": [],
   "source": [
    "word_model = Sequential()\n",
    "word_model.add(Input(vocab_size))\n",
    "word_model.add(Dense(vector_dim, activation = \"linear\")) \n",
    "word_model.add(Reshape((vector_dim, ))) \n",
    "\n",
    "context_model = Sequential()\n",
    "context_model.add(Input(vocab_size))\n",
    "context_model.add(Dense(vector_dim, activation = \"linear\")) \n",
    "context_model.add(Reshape((vector_dim,))) \n",
    "\n",
    "dot_product = dot([word_model.output, context_model.output], axes=1,\n",
    "                  normalize=False,name='dotproduct') \n",
    "\n",
    "dot_product = Dense(3,activation=\"softmax\")(dot_product)\n",
    "model = Model(inputs=[word_model.input, context_model.input], \n",
    "              outputs=dot_product,name='Custom') \n",
    "\n",
    "model.summary()"
   ]
  },
  {
   "cell_type": "code",
   "execution_count": null,
   "id": "1c4bd8f4",
   "metadata": {},
   "outputs": [],
   "source": [
    "tf.keras.utils.plot_model(model)"
   ]
  },
  {
   "cell_type": "code",
   "execution_count": null,
   "id": "60649339",
   "metadata": {},
   "outputs": [],
   "source": [
    "model.compile(loss=\"categorical_crossentropy\", optimizer=\"rmsprop\") "
   ]
  },
  {
   "cell_type": "code",
   "execution_count": null,
   "id": "f6820d51",
   "metadata": {},
   "outputs": [],
   "source": [
    "idx = np.random.randint(0, len(labels)-1)\n",
    "\n",
    "a = to_categorical(word_target,num_classes = (len(list(set(word_target)))+1))\n",
    "b = to_categorical(word_context,num_classes = (len(list(set(word_target)))+1))\n",
    "onehot_target = np.expand_dims(a[idx], axis = 0)\n",
    "onehot_context = np.expand_dims(b[idx], axis = 0)\n",
    "training_label = np.array(labels[idx],dtype='float32').reshape(1,)\n",
    "\n",
    "loss = model.train_on_batch([onehot_target, onehot_context], training_label)\n",
    "print(f'Loss after one epoch is {loss:.2f}')"
   ]
  }
 ],
 "metadata": {
  "kernelspec": {
   "display_name": "Python 3 (ipykernel)",
   "language": "python",
   "name": "python3"
  },
  "language_info": {
   "codemirror_mode": {
    "name": "ipython",
    "version": 3
   },
   "file_extension": ".py",
   "mimetype": "text/x-python",
   "name": "python",
   "nbconvert_exporter": "python",
   "pygments_lexer": "ipython3",
   "version": "3.9.1"
  },
  "vscode": {
   "interpreter": {
    "hash": "a5a87ee616be0254e3f1af9223138e3faeac65b2c9d91bc22a9fc5a4a8bd8eb0"
   }
  }
 },
 "nbformat": 4,
 "nbformat_minor": 5
}
